{
 "cells": [
  {
   "cell_type": "markdown",
   "metadata": {},
   "source": [
    "# Проект \"Принятие решений в бизнесе на основе данных\""
   ]
  },
  {
   "cell_type": "markdown",
   "metadata": {},
   "source": [
    "**Описание и задачи проекта: Вы — аналитик крупного интернет-магазина. Вместе с отделом маркетинга вы подготовили список гипотез для увеличения выручки.\n",
    "Приоритизируйте гипотезы, запустите A/B-тест и проанализируйте результаты.**"
   ]
  },
  {
   "cell_type": "markdown",
   "metadata": {},
   "source": [
    "## Приоритизация гипотез"
   ]
  },
  {
   "cell_type": "markdown",
   "metadata": {},
   "source": [
    "**В файле /datasets/hypothesis.csv 9 гипотез по увеличению выручки интернет-магазина с указанными параметрами Reach, Impact, Confidence, Effort. Требуется выбрать из них наиболее приоритетные методами ICE и RICE для того, чтобы эффект от их реализации, а именно: выручка компании была максимальной.**"
   ]
  },
  {
   "cell_type": "markdown",
   "metadata": {},
   "source": [
    "### Импортируем необходимые библиотеки: "
   ]
  },
  {
   "cell_type": "code",
   "execution_count": 1,
   "metadata": {},
   "outputs": [],
   "source": [
    "import pandas as pd\n",
    "import numpy as np\n",
    "import datetime as dt\n",
    "from datetime import datetime, timedelta"
   ]
  },
  {
   "cell_type": "code",
   "execution_count": 2,
   "metadata": {
    "scrolled": true
   },
   "outputs": [
    {
     "data": {
      "text/html": [
       "<div>\n",
       "<style scoped>\n",
       "    .dataframe tbody tr th:only-of-type {\n",
       "        vertical-align: middle;\n",
       "    }\n",
       "\n",
       "    .dataframe tbody tr th {\n",
       "        vertical-align: top;\n",
       "    }\n",
       "\n",
       "    .dataframe thead th {\n",
       "        text-align: right;\n",
       "    }\n",
       "</style>\n",
       "<table border=\"1\" class=\"dataframe\">\n",
       "  <thead>\n",
       "    <tr style=\"text-align: right;\">\n",
       "      <th></th>\n",
       "      <th>Hypothesis</th>\n",
       "      <th>Reach</th>\n",
       "      <th>Impact</th>\n",
       "      <th>Confidence</th>\n",
       "      <th>Efforts</th>\n",
       "    </tr>\n",
       "  </thead>\n",
       "  <tbody>\n",
       "    <tr>\n",
       "      <th>0</th>\n",
       "      <td>Добавить два новых канала привлечения трафика,...</td>\n",
       "      <td>3</td>\n",
       "      <td>10</td>\n",
       "      <td>8</td>\n",
       "      <td>6</td>\n",
       "    </tr>\n",
       "    <tr>\n",
       "      <th>1</th>\n",
       "      <td>Запустить собственную службу доставки, что сок...</td>\n",
       "      <td>2</td>\n",
       "      <td>5</td>\n",
       "      <td>4</td>\n",
       "      <td>10</td>\n",
       "    </tr>\n",
       "    <tr>\n",
       "      <th>2</th>\n",
       "      <td>Добавить блоки рекомендаций товаров на сайт ин...</td>\n",
       "      <td>8</td>\n",
       "      <td>3</td>\n",
       "      <td>7</td>\n",
       "      <td>3</td>\n",
       "    </tr>\n",
       "    <tr>\n",
       "      <th>3</th>\n",
       "      <td>Изменить структура категорий, что увеличит кон...</td>\n",
       "      <td>8</td>\n",
       "      <td>3</td>\n",
       "      <td>3</td>\n",
       "      <td>8</td>\n",
       "    </tr>\n",
       "    <tr>\n",
       "      <th>4</th>\n",
       "      <td>Изменить цвет фона главной страницы, чтобы уве...</td>\n",
       "      <td>3</td>\n",
       "      <td>1</td>\n",
       "      <td>1</td>\n",
       "      <td>1</td>\n",
       "    </tr>\n",
       "    <tr>\n",
       "      <th>5</th>\n",
       "      <td>Добавить страницу отзывов клиентов о магазине,...</td>\n",
       "      <td>3</td>\n",
       "      <td>2</td>\n",
       "      <td>2</td>\n",
       "      <td>3</td>\n",
       "    </tr>\n",
       "    <tr>\n",
       "      <th>6</th>\n",
       "      <td>Показать на главной странице баннеры с актуаль...</td>\n",
       "      <td>5</td>\n",
       "      <td>3</td>\n",
       "      <td>8</td>\n",
       "      <td>3</td>\n",
       "    </tr>\n",
       "    <tr>\n",
       "      <th>7</th>\n",
       "      <td>Добавить форму подписки на все основные страни...</td>\n",
       "      <td>10</td>\n",
       "      <td>7</td>\n",
       "      <td>8</td>\n",
       "      <td>5</td>\n",
       "    </tr>\n",
       "    <tr>\n",
       "      <th>8</th>\n",
       "      <td>Запустить акцию, дающую скидку на товар в день...</td>\n",
       "      <td>1</td>\n",
       "      <td>9</td>\n",
       "      <td>9</td>\n",
       "      <td>5</td>\n",
       "    </tr>\n",
       "  </tbody>\n",
       "</table>\n",
       "</div>"
      ],
      "text/plain": [
       "                                          Hypothesis  Reach  Impact  \\\n",
       "0  Добавить два новых канала привлечения трафика,...      3      10   \n",
       "1  Запустить собственную службу доставки, что сок...      2       5   \n",
       "2  Добавить блоки рекомендаций товаров на сайт ин...      8       3   \n",
       "3  Изменить структура категорий, что увеличит кон...      8       3   \n",
       "4  Изменить цвет фона главной страницы, чтобы уве...      3       1   \n",
       "5  Добавить страницу отзывов клиентов о магазине,...      3       2   \n",
       "6  Показать на главной странице баннеры с актуаль...      5       3   \n",
       "7  Добавить форму подписки на все основные страни...     10       7   \n",
       "8  Запустить акцию, дающую скидку на товар в день...      1       9   \n",
       "\n",
       "   Confidence  Efforts  \n",
       "0           8        6  \n",
       "1           4       10  \n",
       "2           7        3  \n",
       "3           3        8  \n",
       "4           1        1  \n",
       "5           2        3  \n",
       "6           8        3  \n",
       "7           8        5  \n",
       "8           9        5  "
      ]
     },
     "execution_count": 2,
     "metadata": {},
     "output_type": "execute_result"
    }
   ],
   "source": [
    "hyp_data = pd.read_csv('/datasets/hypothesis.csv')\n",
    "hyp_data"
   ]
  },
  {
   "cell_type": "markdown",
   "metadata": {},
   "source": [
    "### Примените фреймворк ICE для приоритизации гипотез. Отсортируйте их по убыванию приоритета."
   ]
  },
  {
   "cell_type": "code",
   "execution_count": 3,
   "metadata": {
    "scrolled": true
   },
   "outputs": [
    {
     "data": {
      "text/html": [
       "<div>\n",
       "<style scoped>\n",
       "    .dataframe tbody tr th:only-of-type {\n",
       "        vertical-align: middle;\n",
       "    }\n",
       "\n",
       "    .dataframe tbody tr th {\n",
       "        vertical-align: top;\n",
       "    }\n",
       "\n",
       "    .dataframe thead th {\n",
       "        text-align: right;\n",
       "    }\n",
       "</style>\n",
       "<table border=\"1\" class=\"dataframe\">\n",
       "  <thead>\n",
       "    <tr style=\"text-align: right;\">\n",
       "      <th></th>\n",
       "      <th>Hypothesis</th>\n",
       "      <th>ICE</th>\n",
       "    </tr>\n",
       "  </thead>\n",
       "  <tbody>\n",
       "    <tr>\n",
       "      <th>8</th>\n",
       "      <td>Запустить акцию, дающую скидку на товар в день...</td>\n",
       "      <td>16.200000</td>\n",
       "    </tr>\n",
       "    <tr>\n",
       "      <th>0</th>\n",
       "      <td>Добавить два новых канала привлечения трафика,...</td>\n",
       "      <td>13.333333</td>\n",
       "    </tr>\n",
       "    <tr>\n",
       "      <th>7</th>\n",
       "      <td>Добавить форму подписки на все основные страни...</td>\n",
       "      <td>11.200000</td>\n",
       "    </tr>\n",
       "    <tr>\n",
       "      <th>6</th>\n",
       "      <td>Показать на главной странице баннеры с актуаль...</td>\n",
       "      <td>8.000000</td>\n",
       "    </tr>\n",
       "    <tr>\n",
       "      <th>2</th>\n",
       "      <td>Добавить блоки рекомендаций товаров на сайт ин...</td>\n",
       "      <td>7.000000</td>\n",
       "    </tr>\n",
       "    <tr>\n",
       "      <th>1</th>\n",
       "      <td>Запустить собственную службу доставки, что сок...</td>\n",
       "      <td>2.000000</td>\n",
       "    </tr>\n",
       "    <tr>\n",
       "      <th>5</th>\n",
       "      <td>Добавить страницу отзывов клиентов о магазине,...</td>\n",
       "      <td>1.333333</td>\n",
       "    </tr>\n",
       "    <tr>\n",
       "      <th>3</th>\n",
       "      <td>Изменить структура категорий, что увеличит кон...</td>\n",
       "      <td>1.125000</td>\n",
       "    </tr>\n",
       "    <tr>\n",
       "      <th>4</th>\n",
       "      <td>Изменить цвет фона главной страницы, чтобы уве...</td>\n",
       "      <td>1.000000</td>\n",
       "    </tr>\n",
       "  </tbody>\n",
       "</table>\n",
       "</div>"
      ],
      "text/plain": [
       "                                          Hypothesis        ICE\n",
       "8  Запустить акцию, дающую скидку на товар в день...  16.200000\n",
       "0  Добавить два новых канала привлечения трафика,...  13.333333\n",
       "7  Добавить форму подписки на все основные страни...  11.200000\n",
       "6  Показать на главной странице баннеры с актуаль...   8.000000\n",
       "2  Добавить блоки рекомендаций товаров на сайт ин...   7.000000\n",
       "1  Запустить собственную службу доставки, что сок...   2.000000\n",
       "5  Добавить страницу отзывов клиентов о магазине,...   1.333333\n",
       "3  Изменить структура категорий, что увеличит кон...   1.125000\n",
       "4  Изменить цвет фона главной страницы, чтобы уве...   1.000000"
      ]
     },
     "execution_count": 3,
     "metadata": {},
     "output_type": "execute_result"
    }
   ],
   "source": [
    "hyp_data['ICE'] =(hyp_data['Impact']*hyp_data['Confidence'])/hyp_data['Efforts']\n",
    "\n",
    "hyp_data[['Hypothesis', 'ICE']].sort_values(by='ICE', ascending=False)"
   ]
  },
  {
   "cell_type": "markdown",
   "metadata": {},
   "source": [
    "**Вывод: Наиболее перспективные гипотезы по ICE: 8, 0, 7,6**"
   ]
  },
  {
   "cell_type": "markdown",
   "metadata": {},
   "source": [
    "### Примените фреймворк RICE для приоритизации гипотез. Отсортируйте их по убыванию приоритета."
   ]
  },
  {
   "cell_type": "code",
   "execution_count": 4,
   "metadata": {},
   "outputs": [
    {
     "data": {
      "text/html": [
       "<div>\n",
       "<style scoped>\n",
       "    .dataframe tbody tr th:only-of-type {\n",
       "        vertical-align: middle;\n",
       "    }\n",
       "\n",
       "    .dataframe tbody tr th {\n",
       "        vertical-align: top;\n",
       "    }\n",
       "\n",
       "    .dataframe thead th {\n",
       "        text-align: right;\n",
       "    }\n",
       "</style>\n",
       "<table border=\"1\" class=\"dataframe\">\n",
       "  <thead>\n",
       "    <tr style=\"text-align: right;\">\n",
       "      <th></th>\n",
       "      <th>Hypothesis</th>\n",
       "      <th>RICE</th>\n",
       "    </tr>\n",
       "  </thead>\n",
       "  <tbody>\n",
       "    <tr>\n",
       "      <th>7</th>\n",
       "      <td>Добавить форму подписки на все основные страни...</td>\n",
       "      <td>112.0</td>\n",
       "    </tr>\n",
       "    <tr>\n",
       "      <th>2</th>\n",
       "      <td>Добавить блоки рекомендаций товаров на сайт ин...</td>\n",
       "      <td>56.0</td>\n",
       "    </tr>\n",
       "    <tr>\n",
       "      <th>0</th>\n",
       "      <td>Добавить два новых канала привлечения трафика,...</td>\n",
       "      <td>40.0</td>\n",
       "    </tr>\n",
       "    <tr>\n",
       "      <th>6</th>\n",
       "      <td>Показать на главной странице баннеры с актуаль...</td>\n",
       "      <td>40.0</td>\n",
       "    </tr>\n",
       "    <tr>\n",
       "      <th>8</th>\n",
       "      <td>Запустить акцию, дающую скидку на товар в день...</td>\n",
       "      <td>16.2</td>\n",
       "    </tr>\n",
       "    <tr>\n",
       "      <th>3</th>\n",
       "      <td>Изменить структура категорий, что увеличит кон...</td>\n",
       "      <td>9.0</td>\n",
       "    </tr>\n",
       "    <tr>\n",
       "      <th>1</th>\n",
       "      <td>Запустить собственную службу доставки, что сок...</td>\n",
       "      <td>4.0</td>\n",
       "    </tr>\n",
       "    <tr>\n",
       "      <th>5</th>\n",
       "      <td>Добавить страницу отзывов клиентов о магазине,...</td>\n",
       "      <td>4.0</td>\n",
       "    </tr>\n",
       "    <tr>\n",
       "      <th>4</th>\n",
       "      <td>Изменить цвет фона главной страницы, чтобы уве...</td>\n",
       "      <td>3.0</td>\n",
       "    </tr>\n",
       "  </tbody>\n",
       "</table>\n",
       "</div>"
      ],
      "text/plain": [
       "                                          Hypothesis   RICE\n",
       "7  Добавить форму подписки на все основные страни...  112.0\n",
       "2  Добавить блоки рекомендаций товаров на сайт ин...   56.0\n",
       "0  Добавить два новых канала привлечения трафика,...   40.0\n",
       "6  Показать на главной странице баннеры с актуаль...   40.0\n",
       "8  Запустить акцию, дающую скидку на товар в день...   16.2\n",
       "3  Изменить структура категорий, что увеличит кон...    9.0\n",
       "1  Запустить собственную службу доставки, что сок...    4.0\n",
       "5  Добавить страницу отзывов клиентов о магазине,...    4.0\n",
       "4  Изменить цвет фона главной страницы, чтобы уве...    3.0"
      ]
     },
     "execution_count": 4,
     "metadata": {},
     "output_type": "execute_result"
    }
   ],
   "source": [
    "hyp_data['RICE'] =(hyp_data['Reach']*hyp_data['Impact']*hyp_data['Confidence'])/hyp_data['Efforts']\n",
    "\n",
    "hyp_data[['Hypothesis', 'RICE']].sort_values(by='RICE', ascending=False)"
   ]
  },
  {
   "cell_type": "markdown",
   "metadata": {},
   "source": [
    "**Вывод: наиболее перспективные гипотезы по RICE: 7,2, 0, 6. На первом месте уже гипотеза №7. Так получилось потому, что ее параметр Reach равен 10. Важно учитывать, сколько пользователей затронет гипотеза.**"
   ]
  },
  {
   "cell_type": "markdown",
   "metadata": {},
   "source": [
    "### Укажите, как изменилась приоритизация гипотез при применении RICE вместо ICE. Объясните, почему так произошло."
   ]
  },
  {
   "cell_type": "markdown",
   "metadata": {},
   "source": [
    "При применении обеих методов самыми приоритетными являются гипотезы 0, 6, 7:\n",
    "- 'Добавить два новых канала привлечения трафика, что позволит привлекать на 30% больше пользователей', \n",
    "- 'Показать на главной странице баннеры с актуальными акциями и распродажами, чтобы увеличить конверсию', \n",
    "- 'Добавить форму подписки на все основные страницы, чтобы собрать базу клиентов для email-рассылок'. \n",
    "\n",
    "При применении RICE вместо ICE уходит гипотеза 'Запустить акцию, дающую скидку на товар в день рождения', у данной гипотезы большое влияние (impact=9) и уверенность (confidence=9), но охват небольшой (reach=1), т.к. у каждого посетителя день рождения 1 раз в году, соответственно, эта акция охватит слишком узкую категорию пользователей. \n",
    "\n",
    "При применении RICH в приоритетных появляется гипотеза 2: 'Добавить блоки рекомендаций товаров на сайт интернет магазина, чтобы повысить конверсию и средний чек заказа', она с большой долей уверенности (confidenct=7) охватит много пользователей (reach=8) при невысоких  затратах (efforts=3). "
   ]
  },
  {
   "cell_type": "markdown",
   "metadata": {},
   "source": [
    "# Часть 2. Анализ A/B-теста"
   ]
  },
  {
   "cell_type": "markdown",
   "metadata": {},
   "source": [
    "**Вы провели A/B-тест и получили результаты, которые описаны в файлах /datasets/orders.csv и /datasets/visitors.csv.**"
   ]
  },
  {
   "cell_type": "code",
   "execution_count": 5,
   "metadata": {
    "scrolled": false
   },
   "outputs": [
    {
     "name": "stdout",
     "output_type": "stream",
     "text": [
      "   transactionId   visitorId       date  revenue group\n",
      "0     3667963787  3312258926 2019-08-15     1650     B\n",
      "1     2804400009  3642806036 2019-08-15      730     B\n",
      "2     2961555356  4069496402 2019-08-15      400     A\n",
      "3     3797467345  1196621759 2019-08-15     9759     B\n",
      "4     2282983706  2322279887 2019-08-15     2308     B\n",
      "\n",
      "        date group  visitors\n",
      "0 2019-08-01     A       719\n",
      "1 2019-08-02     A       619\n",
      "2 2019-08-03     A       507\n",
      "3 2019-08-04     A       717\n",
      "4 2019-08-05     A       756\n"
     ]
    }
   ],
   "source": [
    "#откроем файлы orders и  visitors и приведем дату к формату datetime:\n",
    "\n",
    "orders = pd.read_csv('/datasets/orders.csv')\n",
    "orders['date'] = orders['date'].map(\n",
    "    lambda x: dt.datetime.strptime(x, '%Y-%m-%d')\n",
    ")\n",
    "\n",
    "visitors = pd.read_csv('/datasets/visitors.csv')\n",
    "visitors['date'] = visitors['date'].map(\n",
    "    lambda x: dt.datetime.strptime(x, '%Y-%m-%d')\n",
    ")\n",
    "\n",
    "print(orders.head(5))\n",
    "print()\n",
    "print(visitors.head(5))"
   ]
  },
  {
   "cell_type": "markdown",
   "metadata": {},
   "source": [
    "**Посмотрим, сколько времени длился эксперимент:**"
   ]
  },
  {
   "cell_type": "code",
   "execution_count": 6,
   "metadata": {
    "scrolled": true
   },
   "outputs": [
    {
     "name": "stdout",
     "output_type": "stream",
     "text": [
      "Дата начала теста: 2019-08-01 00:00:00\n",
      "Дата окончания теста: 2019-08-31 00:00:00\n"
     ]
    }
   ],
   "source": [
    "print('Дата начала теста:', orders['date'].min())\n",
    "print('Дата окончания теста:', orders['date'].max())"
   ]
  },
  {
   "cell_type": "code",
   "execution_count": 7,
   "metadata": {
    "scrolled": true
   },
   "outputs": [
    {
     "name": "stdout",
     "output_type": "stream",
     "text": [
      "Дата начала теста: 2019-08-01 00:00:00\n",
      "Дата окончания теста: 2019-08-31 00:00:00\n"
     ]
    }
   ],
   "source": [
    "print('Дата начала теста:', visitors['date'].min())\n",
    "print('Дата окончания теста:', visitors['date'].max())"
   ]
  },
  {
   "cell_type": "markdown",
   "metadata": {},
   "source": [
    "**Вывод: А/В тест проводили в течение одного месяца: с 1 по 31 августа 2019 года.**"
   ]
  },
  {
   "cell_type": "code",
   "execution_count": 8,
   "metadata": {
    "scrolled": true
   },
   "outputs": [
    {
     "name": "stdout",
     "output_type": "stream",
     "text": [
      "<class 'pandas.core.frame.DataFrame'>\n",
      "RangeIndex: 1197 entries, 0 to 1196\n",
      "Data columns (total 5 columns):\n",
      " #   Column         Non-Null Count  Dtype         \n",
      "---  ------         --------------  -----         \n",
      " 0   transactionId  1197 non-null   int64         \n",
      " 1   visitorId      1197 non-null   int64         \n",
      " 2   date           1197 non-null   datetime64[ns]\n",
      " 3   revenue        1197 non-null   int64         \n",
      " 4   group          1197 non-null   object        \n",
      "dtypes: datetime64[ns](1), int64(3), object(1)\n",
      "memory usage: 46.9+ KB\n",
      "None\n",
      "\n",
      "<class 'pandas.core.frame.DataFrame'>\n",
      "RangeIndex: 62 entries, 0 to 61\n",
      "Data columns (total 3 columns):\n",
      " #   Column    Non-Null Count  Dtype         \n",
      "---  ------    --------------  -----         \n",
      " 0   date      62 non-null     datetime64[ns]\n",
      " 1   group     62 non-null     object        \n",
      " 2   visitors  62 non-null     int64         \n",
      "dtypes: datetime64[ns](1), int64(1), object(1)\n",
      "memory usage: 1.6+ KB\n",
      "None\n",
      "\n",
      "Дубликатов в датафрейме orders: 0\n",
      "\n",
      "Дубликатов в датафрейме visitors: 0\n"
     ]
    }
   ],
   "source": [
    "#выведем на экран информацию о датафреймах, убедимся в отсуствии пропусков и дубликатов в них:\n",
    "\n",
    "print(orders.info())\n",
    "print()\n",
    "print(visitors.info())\n",
    "print()\n",
    "print('Дубликатов в датафрейме orders:', orders.duplicated().sum()) #проверим датасет на наличие дубликатов\n",
    "print()\n",
    "print('Дубликатов в датафрейме visitors:', visitors.duplicated().sum()) #проверим датасет на наличие дубликатов\n"
   ]
  },
  {
   "cell_type": "markdown",
   "metadata": {},
   "source": [
    "<div class=\"alert alert-block alert-info\">\n",
    "  \n",
    "Исследуем пересечение групп:\n",
    "</div>"
   ]
  },
  {
   "cell_type": "code",
   "execution_count": 9,
   "metadata": {
    "scrolled": true
   },
   "outputs": [
    {
     "data": {
      "text/html": [
       "<div>\n",
       "<style scoped>\n",
       "    .dataframe tbody tr th:only-of-type {\n",
       "        vertical-align: middle;\n",
       "    }\n",
       "\n",
       "    .dataframe tbody tr th {\n",
       "        vertical-align: top;\n",
       "    }\n",
       "\n",
       "    .dataframe thead th {\n",
       "        text-align: right;\n",
       "    }\n",
       "</style>\n",
       "<table border=\"1\" class=\"dataframe\">\n",
       "  <thead>\n",
       "    <tr style=\"text-align: right;\">\n",
       "      <th></th>\n",
       "      <th>transactionId</th>\n",
       "      <th>visitorId</th>\n",
       "      <th>date</th>\n",
       "      <th>revenue</th>\n",
       "      <th>group</th>\n",
       "    </tr>\n",
       "  </thead>\n",
       "  <tbody>\n",
       "    <tr>\n",
       "      <th>703</th>\n",
       "      <td>4293855558</td>\n",
       "      <td>8300375</td>\n",
       "      <td>2019-08-07</td>\n",
       "      <td>1790</td>\n",
       "      <td>A</td>\n",
       "    </tr>\n",
       "    <tr>\n",
       "      <th>823</th>\n",
       "      <td>2971973105</td>\n",
       "      <td>199603092</td>\n",
       "      <td>2019-08-27</td>\n",
       "      <td>2790</td>\n",
       "      <td>A</td>\n",
       "    </tr>\n",
       "    <tr>\n",
       "      <th>246</th>\n",
       "      <td>437656952</td>\n",
       "      <td>199603092</td>\n",
       "      <td>2019-08-02</td>\n",
       "      <td>3488</td>\n",
       "      <td>B</td>\n",
       "    </tr>\n",
       "    <tr>\n",
       "      <th>1102</th>\n",
       "      <td>1941707234</td>\n",
       "      <td>199603092</td>\n",
       "      <td>2019-08-12</td>\n",
       "      <td>6438</td>\n",
       "      <td>A</td>\n",
       "    </tr>\n",
       "    <tr>\n",
       "      <th>134</th>\n",
       "      <td>62794304</td>\n",
       "      <td>199603092</td>\n",
       "      <td>2019-08-22</td>\n",
       "      <td>6976</td>\n",
       "      <td>A</td>\n",
       "    </tr>\n",
       "    <tr>\n",
       "      <th>...</th>\n",
       "      <td>...</td>\n",
       "      <td>...</td>\n",
       "      <td>...</td>\n",
       "      <td>...</td>\n",
       "      <td>...</td>\n",
       "    </tr>\n",
       "    <tr>\n",
       "      <th>873</th>\n",
       "      <td>2519737434</td>\n",
       "      <td>4256040402</td>\n",
       "      <td>2019-08-08</td>\n",
       "      <td>58220</td>\n",
       "      <td>B</td>\n",
       "    </tr>\n",
       "    <tr>\n",
       "      <th>901</th>\n",
       "      <td>3402467119</td>\n",
       "      <td>4256040402</td>\n",
       "      <td>2019-08-27</td>\n",
       "      <td>1630</td>\n",
       "      <td>A</td>\n",
       "    </tr>\n",
       "    <tr>\n",
       "      <th>187</th>\n",
       "      <td>2048878902</td>\n",
       "      <td>4256040402</td>\n",
       "      <td>2019-08-17</td>\n",
       "      <td>1550</td>\n",
       "      <td>A</td>\n",
       "    </tr>\n",
       "    <tr>\n",
       "      <th>114</th>\n",
       "      <td>1120327437</td>\n",
       "      <td>4256040402</td>\n",
       "      <td>2019-08-01</td>\n",
       "      <td>5800</td>\n",
       "      <td>A</td>\n",
       "    </tr>\n",
       "    <tr>\n",
       "      <th>682</th>\n",
       "      <td>1216533772</td>\n",
       "      <td>4266935830</td>\n",
       "      <td>2019-08-29</td>\n",
       "      <td>78990</td>\n",
       "      <td>B</td>\n",
       "    </tr>\n",
       "  </tbody>\n",
       "</table>\n",
       "<p>166 rows × 5 columns</p>\n",
       "</div>"
      ],
      "text/plain": [
       "      transactionId   visitorId       date  revenue group\n",
       "703      4293855558     8300375 2019-08-07     1790     A\n",
       "823      2971973105   199603092 2019-08-27     2790     A\n",
       "246       437656952   199603092 2019-08-02     3488     B\n",
       "1102     1941707234   199603092 2019-08-12     6438     A\n",
       "134        62794304   199603092 2019-08-22     6976     A\n",
       "...             ...         ...        ...      ...   ...\n",
       "873      2519737434  4256040402 2019-08-08    58220     B\n",
       "901      3402467119  4256040402 2019-08-27     1630     A\n",
       "187      2048878902  4256040402 2019-08-17     1550     A\n",
       "114      1120327437  4256040402 2019-08-01     5800     A\n",
       "682      1216533772  4266935830 2019-08-29    78990     B\n",
       "\n",
       "[166 rows x 5 columns]"
      ]
     },
     "execution_count": 9,
     "metadata": {},
     "output_type": "execute_result"
    }
   ],
   "source": [
    "#выведем на экран дубликаты по столбцу visitorId\n",
    "duplicateRows = orders[orders.duplicated(['visitorId'])]\n",
    "duplicateRows.sort_values(by='visitorId')"
   ]
  },
  {
   "cell_type": "markdown",
   "metadata": {},
   "source": [
    "**В датафрейме видим, что некоротые пользователи совершили несколько заказов в одной группе, но есть и такие, где заказы одного и того же visitorId попали в группы А и В.**"
   ]
  },
  {
   "cell_type": "code",
   "execution_count": 10,
   "metadata": {},
   "outputs": [
    {
     "data": {
      "text/html": [
       "<div>\n",
       "<style scoped>\n",
       "    .dataframe tbody tr th:only-of-type {\n",
       "        vertical-align: middle;\n",
       "    }\n",
       "\n",
       "    .dataframe tbody tr th {\n",
       "        vertical-align: top;\n",
       "    }\n",
       "\n",
       "    .dataframe thead th {\n",
       "        text-align: right;\n",
       "    }\n",
       "</style>\n",
       "<table border=\"1\" class=\"dataframe\">\n",
       "  <thead>\n",
       "    <tr style=\"text-align: right;\">\n",
       "      <th>group</th>\n",
       "      <th>A</th>\n",
       "      <th>B</th>\n",
       "    </tr>\n",
       "    <tr>\n",
       "      <th>visitorId</th>\n",
       "      <th></th>\n",
       "      <th></th>\n",
       "    </tr>\n",
       "  </thead>\n",
       "  <tbody>\n",
       "    <tr>\n",
       "      <th>199603092</th>\n",
       "      <td>3.0</td>\n",
       "      <td>1.0</td>\n",
       "    </tr>\n",
       "    <tr>\n",
       "      <th>457167155</th>\n",
       "      <td>1.0</td>\n",
       "      <td>2.0</td>\n",
       "    </tr>\n",
       "    <tr>\n",
       "      <th>1230306981</th>\n",
       "      <td>2.0</td>\n",
       "      <td>2.0</td>\n",
       "    </tr>\n",
       "    <tr>\n",
       "      <th>1404934699</th>\n",
       "      <td>1.0</td>\n",
       "      <td>1.0</td>\n",
       "    </tr>\n",
       "    <tr>\n",
       "      <th>1668030113</th>\n",
       "      <td>1.0</td>\n",
       "      <td>1.0</td>\n",
       "    </tr>\n",
       "    <tr>\n",
       "      <th>2038680547</th>\n",
       "      <td>5.0</td>\n",
       "      <td>2.0</td>\n",
       "    </tr>\n",
       "    <tr>\n",
       "      <th>2378935119</th>\n",
       "      <td>3.0</td>\n",
       "      <td>5.0</td>\n",
       "    </tr>\n",
       "    <tr>\n",
       "      <th>2458001652</th>\n",
       "      <td>4.0</td>\n",
       "      <td>6.0</td>\n",
       "    </tr>\n",
       "    <tr>\n",
       "      <th>2587333274</th>\n",
       "      <td>1.0</td>\n",
       "      <td>2.0</td>\n",
       "    </tr>\n",
       "    <tr>\n",
       "      <th>2780786433</th>\n",
       "      <td>1.0</td>\n",
       "      <td>1.0</td>\n",
       "    </tr>\n",
       "    <tr>\n",
       "      <th>3062433592</th>\n",
       "      <td>1.0</td>\n",
       "      <td>3.0</td>\n",
       "    </tr>\n",
       "    <tr>\n",
       "      <th>3717692402</th>\n",
       "      <td>1.0</td>\n",
       "      <td>3.0</td>\n",
       "    </tr>\n",
       "    <tr>\n",
       "      <th>3891541246</th>\n",
       "      <td>1.0</td>\n",
       "      <td>1.0</td>\n",
       "    </tr>\n",
       "    <tr>\n",
       "      <th>4186807279</th>\n",
       "      <td>1.0</td>\n",
       "      <td>1.0</td>\n",
       "    </tr>\n",
       "    <tr>\n",
       "      <th>4256040402</th>\n",
       "      <td>7.0</td>\n",
       "      <td>3.0</td>\n",
       "    </tr>\n",
       "  </tbody>\n",
       "</table>\n",
       "</div>"
      ],
      "text/plain": [
       "group         A    B\n",
       "visitorId           \n",
       "199603092   3.0  1.0\n",
       "457167155   1.0  2.0\n",
       "1230306981  2.0  2.0\n",
       "1404934699  1.0  1.0\n",
       "1668030113  1.0  1.0\n",
       "2038680547  5.0  2.0\n",
       "2378935119  3.0  5.0\n",
       "2458001652  4.0  6.0\n",
       "2587333274  1.0  2.0\n",
       "2780786433  1.0  1.0\n",
       "3062433592  1.0  3.0\n",
       "3717692402  1.0  3.0\n",
       "3891541246  1.0  1.0\n",
       "4186807279  1.0  1.0\n",
       "4256040402  7.0  3.0"
      ]
     },
     "execution_count": 10,
     "metadata": {},
     "output_type": "execute_result"
    }
   ],
   "source": [
    "#создадим сводную таблицу дубликатов со столбцами А и В. Если в одном из столбцов NaN - все в порядке, такой \n",
    "#пользователь сделал несколько заказов в одной группе\n",
    "dup_pivot=duplicateRows.pivot_table(index='visitorId', columns='group', values='transactionId', aggfunc='count')\n",
    "\n",
    "#нас интересуют visitorId, заказы которых попали в обе группы. Их следует удалить.\n",
    "dup_pivot=dup_pivot.dropna()\n",
    "dup_pivot.sort_values(by='visitorId')"
   ]
  },
  {
   "cell_type": "code",
   "execution_count": 11,
   "metadata": {
    "scrolled": true
   },
   "outputs": [
    {
     "data": {
      "text/html": [
       "<div>\n",
       "<style scoped>\n",
       "    .dataframe tbody tr th:only-of-type {\n",
       "        vertical-align: middle;\n",
       "    }\n",
       "\n",
       "    .dataframe tbody tr th {\n",
       "        vertical-align: top;\n",
       "    }\n",
       "\n",
       "    .dataframe thead th {\n",
       "        text-align: right;\n",
       "    }\n",
       "</style>\n",
       "<table border=\"1\" class=\"dataframe\">\n",
       "  <thead>\n",
       "    <tr style=\"text-align: right;\">\n",
       "      <th></th>\n",
       "      <th>transactionId</th>\n",
       "      <th>visitorId</th>\n",
       "      <th>date</th>\n",
       "      <th>revenue</th>\n",
       "      <th>group</th>\n",
       "    </tr>\n",
       "  </thead>\n",
       "  <tbody>\n",
       "    <tr>\n",
       "      <th>0</th>\n",
       "      <td>3667963787</td>\n",
       "      <td>3312258926</td>\n",
       "      <td>2019-08-15</td>\n",
       "      <td>1650</td>\n",
       "      <td>B</td>\n",
       "    </tr>\n",
       "    <tr>\n",
       "      <th>1</th>\n",
       "      <td>2804400009</td>\n",
       "      <td>3642806036</td>\n",
       "      <td>2019-08-15</td>\n",
       "      <td>730</td>\n",
       "      <td>B</td>\n",
       "    </tr>\n",
       "    <tr>\n",
       "      <th>2</th>\n",
       "      <td>2961555356</td>\n",
       "      <td>4069496402</td>\n",
       "      <td>2019-08-15</td>\n",
       "      <td>400</td>\n",
       "      <td>A</td>\n",
       "    </tr>\n",
       "    <tr>\n",
       "      <th>3</th>\n",
       "      <td>3797467345</td>\n",
       "      <td>1196621759</td>\n",
       "      <td>2019-08-15</td>\n",
       "      <td>9759</td>\n",
       "      <td>B</td>\n",
       "    </tr>\n",
       "    <tr>\n",
       "      <th>4</th>\n",
       "      <td>2282983706</td>\n",
       "      <td>2322279887</td>\n",
       "      <td>2019-08-15</td>\n",
       "      <td>2308</td>\n",
       "      <td>B</td>\n",
       "    </tr>\n",
       "    <tr>\n",
       "      <th>...</th>\n",
       "      <td>...</td>\n",
       "      <td>...</td>\n",
       "      <td>...</td>\n",
       "      <td>...</td>\n",
       "      <td>...</td>\n",
       "    </tr>\n",
       "    <tr>\n",
       "      <th>1192</th>\n",
       "      <td>2662137336</td>\n",
       "      <td>3733762160</td>\n",
       "      <td>2019-08-14</td>\n",
       "      <td>6490</td>\n",
       "      <td>B</td>\n",
       "    </tr>\n",
       "    <tr>\n",
       "      <th>1193</th>\n",
       "      <td>2203539145</td>\n",
       "      <td>370388673</td>\n",
       "      <td>2019-08-14</td>\n",
       "      <td>3190</td>\n",
       "      <td>A</td>\n",
       "    </tr>\n",
       "    <tr>\n",
       "      <th>1194</th>\n",
       "      <td>1807773912</td>\n",
       "      <td>573423106</td>\n",
       "      <td>2019-08-14</td>\n",
       "      <td>10550</td>\n",
       "      <td>A</td>\n",
       "    </tr>\n",
       "    <tr>\n",
       "      <th>1195</th>\n",
       "      <td>1947021204</td>\n",
       "      <td>1614305549</td>\n",
       "      <td>2019-08-14</td>\n",
       "      <td>100</td>\n",
       "      <td>A</td>\n",
       "    </tr>\n",
       "    <tr>\n",
       "      <th>1196</th>\n",
       "      <td>3936777065</td>\n",
       "      <td>2108080724</td>\n",
       "      <td>2019-08-15</td>\n",
       "      <td>202740</td>\n",
       "      <td>B</td>\n",
       "    </tr>\n",
       "  </tbody>\n",
       "</table>\n",
       "<p>1115 rows × 5 columns</p>\n",
       "</div>"
      ],
      "text/plain": [
       "      transactionId   visitorId       date  revenue group\n",
       "0        3667963787  3312258926 2019-08-15     1650     B\n",
       "1        2804400009  3642806036 2019-08-15      730     B\n",
       "2        2961555356  4069496402 2019-08-15      400     A\n",
       "3        3797467345  1196621759 2019-08-15     9759     B\n",
       "4        2282983706  2322279887 2019-08-15     2308     B\n",
       "...             ...         ...        ...      ...   ...\n",
       "1192     2662137336  3733762160 2019-08-14     6490     B\n",
       "1193     2203539145   370388673 2019-08-14     3190     A\n",
       "1194     1807773912   573423106 2019-08-14    10550     A\n",
       "1195     1947021204  1614305549 2019-08-14      100     A\n",
       "1196     3936777065  2108080724 2019-08-15   202740     B\n",
       "\n",
       "[1115 rows x 5 columns]"
      ]
     },
     "execution_count": 11,
     "metadata": {},
     "output_type": "execute_result"
    }
   ],
   "source": [
    "#удалим из датафрейма orders строки с visitorId, которые попали в обе группы, и перезапишем датафрейм\n",
    "orders=orders.query('visitorId not in (199603092, 457167155, 1230306981, 1404934699, 1668030113, 2038680547, \\\n",
    "2378935119, 2458001652, 2587333274, 2780786433, 3062433592, 3717692402, 3891541246, 4186807279, 4256040402)')\n",
    "orders"
   ]
  },
  {
   "cell_type": "markdown",
   "metadata": {},
   "source": [
    "<div class=\"alert alert-block alert-info\">\n",
    "  \n",
    "Дубликаты id, которые попали в обе группы удалила, перезаписала датафрейм orders, теперь в нем осталась 1115 строк вместо 1197  изначальных.\n",
    "</div> "
   ]
  },
  {
   "cell_type": "markdown",
   "metadata": {},
   "source": [
    "## Анализ результатов A/B-теста:"
   ]
  },
  {
   "cell_type": "markdown",
   "metadata": {},
   "source": [
    "### Постройте график кумулятивной выручки по группам. Сделайте выводы и предположения."
   ]
  },
  {
   "cell_type": "code",
   "execution_count": 12,
   "metadata": {},
   "outputs": [
    {
     "data": {
      "image/png": "[encoded data removed]",
      "text/plain": [
       "<Figure size 432x288 with 1 Axes>"
      ]
     },
     "metadata": {
      "needs_background": "light"
     },
     "output_type": "display_data"
    }
   ],
   "source": [
    "import matplotlib.pyplot as plt\n",
    "from pandas.plotting import register_matplotlib_converters\n",
    "import warnings\n",
    "# конвертеры, которые позволяют использовать типы pandas в matplotlib  \n",
    "register_matplotlib_converters()\n",
    "\n",
    "\n",
    "datesGroups = orders[['date', 'group']].drop_duplicates()\n",
    "\n",
    "ordersAggregated = datesGroups.apply(\n",
    "    lambda x: orders[\n",
    "        np.logical_and(\n",
    "            orders['date'] <= x['date'], orders['group'] == x['group']\n",
    "        )\n",
    "    ].agg(\n",
    "        {\n",
    "            'date': 'max',\n",
    "            'group': 'max',\n",
    "            'transactionId': 'nunique',\n",
    "            'visitorId': 'nunique',\n",
    "            'revenue': 'sum',\n",
    "        }\n",
    "    ),\n",
    "    axis=1,\n",
    ").sort_values(by=['date', 'group'])\n",
    "\n",
    "visitorsAggregated = datesGroups.apply(\n",
    "    lambda x: visitors[\n",
    "        np.logical_and(\n",
    "            visitors['date'] <= x['date'], visitors['group'] == x['group']\n",
    "        )\n",
    "    ].agg({'date': 'max', 'group': 'max', 'visitors': 'sum'}),\n",
    "    axis=1,\n",
    ").sort_values(by=['date', 'group'])\n",
    "\n",
    "cumulativeData = ordersAggregated.merge(\n",
    "    visitorsAggregated, left_on=['date', 'group'], right_on=['date', 'group']\n",
    ")\n",
    "cumulativeData.columns = [\n",
    "    'date',\n",
    "    'group',\n",
    "    'orders',\n",
    "    'buyers',\n",
    "    'revenue',\n",
    "    'visitors',\n",
    "]\n",
    "\n",
    "# датафрейм с кумулятивным количеством заказов и кумулятивной выручкой по дням в группе А\n",
    "cumulativeRevenueA = cumulativeData[cumulativeData['group']=='A'][['date','revenue', 'orders']]\n",
    "\n",
    "# датафрейм с кумулятивным количеством заказов и кумулятивной выручкой по дням в группе B\n",
    "cumulativeRevenueB = cumulativeData[cumulativeData['group']=='B'][['date','revenue', 'orders']]\n",
    "\n",
    "# Строим график выручки для групп А и В\n",
    "plt.plot(cumulativeRevenueA['date'], cumulativeRevenueA['revenue'], label='A')\n",
    "\n",
    "plt.plot(cumulativeRevenueB['date'], cumulativeRevenueB['revenue'], label='B')\n",
    "\n",
    "plt.legend()\n",
    "plt.xticks(rotation=90) # здесь можно установить угол поворота подписей по оси X\n",
    "plt.ylabel('Кумулятивная выручка')\n",
    "plt.xlabel('Дата')\n",
    "plt.title('График кумулятивной выручки по группам А и В')\n",
    "plt.show()"
   ]
  },
  {
   "cell_type": "markdown",
   "metadata": {},
   "source": [
    "**Вывод: по графику видим, что накопительная выручка в сегменте В до середины теста чуть выше, чем в сегменте А, а с середины теста сегмент В уверенно лидирует. (Возможно, на результат повлияли аномально крупные заказы, это следует проанализировать ниже).**"
   ]
  },
  {
   "cell_type": "markdown",
   "metadata": {},
   "source": [
    "### Постройте график кумулятивного среднего чека по группам. Сделайте выводы и предположения."
   ]
  },
  {
   "cell_type": "code",
   "execution_count": 13,
   "metadata": {
    "scrolled": true
   },
   "outputs": [
    {
     "data": {
      "image/png": "[encoded data removed]",
      "text/plain": [
       "<Figure size 432x288 with 1 Axes>"
      ]
     },
     "metadata": {
      "needs_background": "light"
     },
     "output_type": "display_data"
    }
   ],
   "source": [
    "cumulativeRevenueA = cumulativeData[cumulativeData['group'] == 'A'][\n",
    "    ['date', 'revenue', 'orders']\n",
    "]\n",
    "cumulativeRevenueB = cumulativeData[cumulativeData['group'] == 'B'][\n",
    "    ['date', 'revenue', 'orders']\n",
    "]\n",
    "\n",
    "plt.plot(cumulativeRevenueA['date'], cumulativeRevenueA['revenue']/cumulativeRevenueA['orders'], label='A')\n",
    "plt.plot(cumulativeRevenueB['date'], cumulativeRevenueB['revenue']/cumulativeRevenueB['orders'], label='B')\n",
    "plt.legend() \n",
    "plt.xticks(rotation=90) # здесь можно установить угол поворота подписей по оси X\n",
    "plt.ylabel('Кумулятивный средний чек')\n",
    "plt.xlabel('Дата')\n",
    "plt.title('График кумулятивного среднего чека по группам А и В')\n",
    "plt.show()"
   ]
  },
  {
   "cell_type": "markdown",
   "metadata": {},
   "source": [
    "**Вывод: кумулятивное значение среднего чека по сегментам А и В не стабильно. Также заметен сильный скачок в сегменте В с 6500 до 10000 ед. во второй половине теста (если быть точнее, то 18.08.2019), который, возможно вызван аномально большим заказом в этой группе. Требуется далее дополнительно провести анализ выбросов.**"
   ]
  },
  {
   "cell_type": "markdown",
   "metadata": {},
   "source": [
    "### Постройте график относительного изменения кумулятивного среднего чека группы B к группе A. Сделайте выводы и предположения."
   ]
  },
  {
   "cell_type": "code",
   "execution_count": 14,
   "metadata": {},
   "outputs": [
    {
     "data": {
      "image/png": "[encoded data removed]",
      "text/plain": [
       "<Figure size 432x288 with 1 Axes>"
      ]
     },
     "metadata": {
      "needs_background": "light"
     },
     "output_type": "display_data"
    }
   ],
   "source": [
    "# собираем данные в одном датафрейме\n",
    "mergedCumulativeRevenue = cumulativeRevenueA.merge(cumulativeRevenueB, left_on='date', right_on='date', how='left',\\\n",
    "                                                   suffixes=['A', 'B'])\n",
    "\n",
    "# cтроим отношение средних чеков\n",
    "plt.plot(mergedCumulativeRevenue['date'], (mergedCumulativeRevenue['revenueB']/mergedCumulativeRevenue['ordersB'])/\\\n",
    "         (mergedCumulativeRevenue['revenueA']/mergedCumulativeRevenue['ordersA'])-1)\n",
    "\n",
    "# добавляем ось X\n",
    "plt.axhline(y=0, color='black', linestyle='--')\n",
    "plt.xticks(rotation=90) # здесь можно установить угол поворота подписей по оси X\n",
    "plt.ylabel('Прирост кумул. среднего чека гр. B к A')\n",
    "plt.xlabel('Дата')\n",
    "plt.title('График относительного изменения кумулятивного среднего чека гр. B к гр. A')\n",
    "plt.show()"
   ]
  },
  {
   "cell_type": "markdown",
   "metadata": {},
   "source": [
    "**Вывод: По графику видим, что в начале исследования средний чек в группе А был выше, чем в группе В. Далее видим, увеличение среднего чека в сегменте В по отношению к сегменту А. В середине теста (13.08.2019) сначала наблюдаем падение кумулятивного чека группы В относительно А, а затем резкий скачок вверх 18.08.2019. Резкие пики в нескольких датах дают нам право предположить, что  именно тогда были совершены аномальные заказы.** "
   ]
  },
  {
   "cell_type": "markdown",
   "metadata": {},
   "source": [
    "### Постройте график кумулятивного среднего количества заказов на посетителя по группам. Сделайте выводы и предположения."
   ]
  },
  {
   "cell_type": "code",
   "execution_count": 15,
   "metadata": {},
   "outputs": [
    {
     "data": {
      "image/png": "[encoded data removed]",
      "text/plain": [
       "<Figure size 432x288 with 1 Axes>"
      ]
     },
     "metadata": {
      "needs_background": "light"
     },
     "output_type": "display_data"
    }
   ],
   "source": [
    "# считаем кумулятивное срденее количество заказов на посетителя по группам (конверсию):\n",
    "cumulativeData['conversion'] = cumulativeData['orders']/cumulativeData['visitors']\n",
    "\n",
    "# отделяем данные по группе A\n",
    "cumulativeDataA = cumulativeData[cumulativeData['group']=='A']\n",
    "\n",
    "# отделяем данные по группе B\n",
    "cumulativeDataB = cumulativeData[cumulativeData['group']=='B']\n",
    "\n",
    "# строим графики\n",
    "plt.plot(cumulativeDataA['date'], cumulativeDataA['conversion'], label='A')\n",
    "plt.plot(cumulativeDataB['date'], cumulativeDataB['conversion'], label='B')\n",
    "plt.legend()\n",
    "plt.xticks(rotation=90) # здесь можно установить угол поворота подписей по оси X\n",
    "plt.ylabel('Кумул. среднее кол-во заказов на посетителя')\n",
    "plt.xlabel('Дата')\n",
    "plt.title('График кумулятивного среднего кол-ва заказов на посетителя')\n",
    "\n",
    "plt.show()"
   ]
  },
  {
   "cell_type": "markdown",
   "metadata": {},
   "source": [
    "**Вывод: В начале исследования среднее количество заказов на пользователя (конверсия) было лучше в группе А, но 6.08.2019 конверсия группы В пошла в заметный рост относительно гр.А, затем немного замедлилась и пошла на небольшой спад, но все равно была выше конвесии группа А, которая после спада  6.08.2019 так и держалась на постоянном низком уровне.** "
   ]
  },
  {
   "cell_type": "markdown",
   "metadata": {},
   "source": [
    "### Постройте график относительного изменения кумулятивного среднего количества заказов на посетителя группы B к группе A. Сделайте выводы и предположения."
   ]
  },
  {
   "cell_type": "code",
   "execution_count": 16,
   "metadata": {},
   "outputs": [
    {
     "data": {
      "image/png": "[encoded data removed]",
      "text/plain": [
       "<Figure size 432x288 with 1 Axes>"
      ]
     },
     "metadata": {
      "needs_background": "light"
     },
     "output_type": "display_data"
    }
   ],
   "source": [
    "mergedCumulativeConversions = cumulativeDataA[['date','conversion']].merge(cumulativeDataB[['date','conversion']], left_on='date', right_on='date', how='left', suffixes=['A', 'B'])\n",
    "\n",
    "plt.plot(mergedCumulativeConversions['date'], mergedCumulativeConversions['conversionB']/mergedCumulativeConversions['conversionA']-1, label=\"Относительный прирост конверсии группы B относительно группы A\")\n",
    "plt.legend()\n",
    "\n",
    "plt.axhline(y=0, color='black', linestyle='--')\n",
    "plt.axhline(y=-0.1, color='grey', linestyle='--')\n",
    "\n",
    "plt.xticks(rotation=90) # здесь можно установить угол поворота подписей по оси X\n",
    "plt.ylabel('Прирост кумул. сред. кол-ва заказов B к A')\n",
    "plt.xlabel('Дата')\n",
    "plt.title('График относительного изменения кумулятивного среднего кол-ва заказов гр. B к A')\n",
    "plt.show()\n"
   ]
  },
  {
   "cell_type": "markdown",
   "metadata": {},
   "source": [
    "**Вывод: в первые несколько дней исследования группа B то проигрывала, то выигрывала у группы A, затем 6.08.2019 вырвалась вперёд. Потом её конверсия колебалась с тенденцией к легкому падению, но к концу месяца видим небольшой рост. Чтобы сделать выводы следует также проанализировать аномалии, возможно, они изменят картину.**   "
   ]
  },
  {
   "cell_type": "markdown",
   "metadata": {},
   "source": [
    "### Постройте точечный график количества заказов по пользователям. Сделайте выводы и предположения. Посчитайте 95-й и 99-й перцентили. Выберите границу для определения аномальных пользователей."
   ]
  },
  {
   "cell_type": "code",
   "execution_count": 17,
   "metadata": {},
   "outputs": [
    {
     "name": "stdout",
     "output_type": "stream",
     "text": [
      "      visitorId  orders\n",
      "905  3803269165       5\n",
      "54    237748145       5\n",
      "389  1614305549       4\n",
      "308  1294878855       3\n",
      "58    249864742       3\n",
      "924  3908431265       3\n",
      "498  2108163459       3\n",
      "716  2988190573       3\n",
      "950  3984495233       3\n",
      "96    393266494       3\n"
     ]
    }
   ],
   "source": [
    "#сгруппируем пользователей по количеству заказов и отсортируем от большего к меньшему\n",
    "ordersByUsers = (\n",
    "    orders.groupby('visitorId', as_index=False)\n",
    "    .agg({'transactionId': 'nunique'})\n",
    ")\n",
    "\n",
    "ordersByUsers.columns = ['visitorId', 'orders']\n",
    "\n",
    "print(ordersByUsers.sort_values(by='orders', ascending=False).head(10))\n"
   ]
  },
  {
   "cell_type": "code",
   "execution_count": 18,
   "metadata": {
    "scrolled": true
   },
   "outputs": [
    {
     "data": {
      "text/plain": [
       "Text(0.5, 1.0, 'Точечный график количества заказов по пользователям')"
      ]
     },
     "execution_count": 18,
     "metadata": {},
     "output_type": "execute_result"
    },
    {
     "data": {
      "image/png": "[encoded data removed]",
      "text/plain": [
       "<Figure size 432x288 with 1 Axes>"
      ]
     },
     "metadata": {
      "needs_background": "light"
     },
     "output_type": "display_data"
    }
   ],
   "source": [
    "# построим точечный график количества заказов по пользователям\n",
    "x_values = pd.Series(range(0, len(ordersByUsers)))\n",
    "plt.scatter(x_values, ordersByUsers['orders'])\n",
    "plt.ylabel('Количество заказов')\n",
    "plt.xlabel('Количество пользователей')\n",
    "plt.title('Точечный график количества заказов по пользователям')"
   ]
  },
  {
   "cell_type": "markdown",
   "metadata": {},
   "source": [
    "**Вывод: на точечном графике видим, что большая часть пользователей сделала 1 заказ, чуть меньше 2 заказа. Далее количество заказов на пользователя убывает. Наблюдаем достаточное количество выбросов: пользователей, которые сделали 3 заказа и больше.** "
   ]
  },
  {
   "cell_type": "code",
   "execution_count": 19,
   "metadata": {},
   "outputs": [
    {
     "data": {
      "text/plain": [
       "array([1., 2., 3.])"
      ]
     },
     "execution_count": 19,
     "metadata": {},
     "output_type": "execute_result"
    }
   ],
   "source": [
    "#посчитаем 95-й и 99-й перцентили количества заказов на пользователя, выберем границу для определения аномальных заказов.\n",
    "np.percentile(ordersByUsers['orders'], [90, 95, 99])"
   ]
  },
  {
   "cell_type": "markdown",
   "metadata": {},
   "source": [
    "**Вывод:не более 5% пользователей совершали более 2 заказов и не более 1% пользователей более 3 заказов. В качестве границы для определения аномального количества заказов выберем значение 3.**"
   ]
  },
  {
   "cell_type": "markdown",
   "metadata": {},
   "source": [
    "### Постройте точечный график стоимостей заказов. Сделайте выводы и предположения. Посчитайте 95-й и 99-й перцентили стоимости заказов. Выберите границу для определения аномальных заказов."
   ]
  },
  {
   "cell_type": "code",
   "execution_count": 20,
   "metadata": {},
   "outputs": [
    {
     "name": "stdout",
     "output_type": "stream",
     "text": [
      "       visitorId  revenue\n",
      "458   1920142716  1294500\n",
      "497   2108080724   202740\n",
      "1011  4266935830   157980\n",
      "313   1316129916    94770\n",
      "311   1307669133    92550\n",
      "211    888512513    86620\n",
      "184    759473111    72000\n",
      "980   4133034833    67990\n",
      "716   2988190573    67190\n",
      "277   1164614297    66350\n"
     ]
    }
   ],
   "source": [
    "#сгруппируем пользователей по сумме заказа и отсортируем от большего к меньшему\n",
    "ordersByUsers = (\n",
    "    orders.groupby('visitorId', as_index=False)\n",
    "    .agg({'revenue': 'sum'})\n",
    ")\n",
    "\n",
    "ordersByUsers.columns = ['visitorId', 'revenue']\n",
    "\n",
    "print(ordersByUsers.sort_values(by='revenue', ascending=False).head(10))"
   ]
  },
  {
   "cell_type": "code",
   "execution_count": 21,
   "metadata": {
    "scrolled": true
   },
   "outputs": [
    {
     "data": {
      "text/plain": [
       "Text(0.5, 1.0, 'Точечный график стоимости заказов по пользователям')"
      ]
     },
     "execution_count": 21,
     "metadata": {},
     "output_type": "execute_result"
    },
    {
     "data": {
      "image/png": "[encoded data removed]",
      "text/plain": [
       "<Figure size 432x288 with 1 Axes>"
      ]
     },
     "metadata": {
      "needs_background": "light"
     },
     "output_type": "display_data"
    }
   ],
   "source": [
    "# построим точечный график стоимостей заказов\n",
    "x_values = pd.Series(range(0, len(orders['revenue'])))\n",
    "\n",
    "plt.scatter(x_values, orders['revenue'])\n",
    "\n",
    "plt.ylabel('Стоимость заказов')\n",
    "plt.xlabel('Количество пользователей')\n",
    "plt.title('Точечный график стоимости заказов по пользователям')"
   ]
  },
  {
   "cell_type": "markdown",
   "metadata": {},
   "source": [
    "**Вывод: наблюдаем два явных выброса: аномально крупные заказы в группе В: на 1 294 500 р. и 202 740 р.**"
   ]
  },
  {
   "cell_type": "code",
   "execution_count": 22,
   "metadata": {},
   "outputs": [
    {
     "data": {
      "text/plain": [
       "array([18945.  , 30746.75, 64921.  ])"
      ]
     },
     "execution_count": 22,
     "metadata": {},
     "output_type": "execute_result"
    }
   ],
   "source": [
    "# посчитаем 95-й и 99-й перцентили стоимости заказов, выберем границу для определения аномальных заказов.\n",
    "np.percentile(ordersByUsers['revenue'], [90, 95, 99])"
   ]
  },
  {
   "cell_type": "markdown",
   "metadata": {},
   "source": [
    "**Вывод: Не более 5% пользователей сделали заказы свыше 31 000р и не более 1% пользователей свыше 65000 р. Примем за аномальный заказ стоимостью более 50 000.**"
   ]
  },
  {
   "cell_type": "markdown",
   "metadata": {},
   "source": [
    "### Посчитайте статистическую значимость различий в среднем количестве заказов на посетителя между группами по «сырым» данным. Сделайте выводы и предположения."
   ]
  },
  {
   "cell_type": "markdown",
   "metadata": {},
   "source": [
    "**Выдвинем нулевую и альтернативную гипотезы:**\n",
    "- Н0: различий в среднем количестве заказов на посетителя между группами А и В нет.\n",
    "- Н1: различия в среднем количестве заказов на посетителя между группами А и В есть.\n",
    "\n",
    "*Значение статистической значимости примем 0.05.*"
   ]
  },
  {
   "cell_type": "code",
   "execution_count": 23,
   "metadata": {},
   "outputs": [
    {
     "data": {
      "text/html": [
       "<div>\n",
       "<style scoped>\n",
       "    .dataframe tbody tr th:only-of-type {\n",
       "        vertical-align: middle;\n",
       "    }\n",
       "\n",
       "    .dataframe tbody tr th {\n",
       "        vertical-align: top;\n",
       "    }\n",
       "\n",
       "    .dataframe thead th {\n",
       "        text-align: right;\n",
       "    }\n",
       "</style>\n",
       "<table border=\"1\" class=\"dataframe\">\n",
       "  <thead>\n",
       "    <tr style=\"text-align: right;\">\n",
       "      <th></th>\n",
       "      <th>date</th>\n",
       "      <th>ordersPerDateA</th>\n",
       "      <th>revenuePerDateA</th>\n",
       "      <th>ordersPerDateB</th>\n",
       "      <th>revenuePerDateB</th>\n",
       "      <th>ordersCummulativeA</th>\n",
       "      <th>revenueCummulativeA</th>\n",
       "      <th>ordersCummulativeB</th>\n",
       "      <th>revenueCummulativeB</th>\n",
       "      <th>visitorsPerDateA</th>\n",
       "      <th>visitorsPerDateB</th>\n",
       "      <th>visitorsCummulativeA</th>\n",
       "      <th>visitorsCummulativeB</th>\n",
       "    </tr>\n",
       "  </thead>\n",
       "  <tbody>\n",
       "    <tr>\n",
       "      <th>0</th>\n",
       "      <td>2019-08-01</td>\n",
       "      <td>19</td>\n",
       "      <td>142779</td>\n",
       "      <td>19</td>\n",
       "      <td>78258</td>\n",
       "      <td>19</td>\n",
       "      <td>142779</td>\n",
       "      <td>19</td>\n",
       "      <td>78258</td>\n",
       "      <td>719</td>\n",
       "      <td>713</td>\n",
       "      <td>719</td>\n",
       "      <td>713</td>\n",
       "    </tr>\n",
       "    <tr>\n",
       "      <th>1</th>\n",
       "      <td>2019-08-02</td>\n",
       "      <td>19</td>\n",
       "      <td>93822</td>\n",
       "      <td>23</td>\n",
       "      <td>162043</td>\n",
       "      <td>38</td>\n",
       "      <td>236601</td>\n",
       "      <td>42</td>\n",
       "      <td>240301</td>\n",
       "      <td>619</td>\n",
       "      <td>581</td>\n",
       "      <td>1338</td>\n",
       "      <td>1294</td>\n",
       "    </tr>\n",
       "    <tr>\n",
       "      <th>2</th>\n",
       "      <td>2019-08-03</td>\n",
       "      <td>24</td>\n",
       "      <td>112473</td>\n",
       "      <td>15</td>\n",
       "      <td>87268</td>\n",
       "      <td>62</td>\n",
       "      <td>349074</td>\n",
       "      <td>57</td>\n",
       "      <td>327569</td>\n",
       "      <td>507</td>\n",
       "      <td>509</td>\n",
       "      <td>1845</td>\n",
       "      <td>1803</td>\n",
       "    </tr>\n",
       "    <tr>\n",
       "      <th>3</th>\n",
       "      <td>2019-08-04</td>\n",
       "      <td>12</td>\n",
       "      <td>61395</td>\n",
       "      <td>15</td>\n",
       "      <td>105291</td>\n",
       "      <td>74</td>\n",
       "      <td>410469</td>\n",
       "      <td>72</td>\n",
       "      <td>432860</td>\n",
       "      <td>717</td>\n",
       "      <td>770</td>\n",
       "      <td>2562</td>\n",
       "      <td>2573</td>\n",
       "    </tr>\n",
       "    <tr>\n",
       "      <th>4</th>\n",
       "      <td>2019-08-05</td>\n",
       "      <td>25</td>\n",
       "      <td>124218</td>\n",
       "      <td>22</td>\n",
       "      <td>90008</td>\n",
       "      <td>99</td>\n",
       "      <td>534687</td>\n",
       "      <td>94</td>\n",
       "      <td>522868</td>\n",
       "      <td>756</td>\n",
       "      <td>707</td>\n",
       "      <td>3318</td>\n",
       "      <td>3280</td>\n",
       "    </tr>\n",
       "  </tbody>\n",
       "</table>\n",
       "</div>"
      ],
      "text/plain": [
       "        date  ordersPerDateA  revenuePerDateA  ordersPerDateB  \\\n",
       "0 2019-08-01              19           142779              19   \n",
       "1 2019-08-02              19            93822              23   \n",
       "2 2019-08-03              24           112473              15   \n",
       "3 2019-08-04              12            61395              15   \n",
       "4 2019-08-05              25           124218              22   \n",
       "\n",
       "   revenuePerDateB  ordersCummulativeA  revenueCummulativeA  \\\n",
       "0            78258                  19               142779   \n",
       "1           162043                  38               236601   \n",
       "2            87268                  62               349074   \n",
       "3           105291                  74               410469   \n",
       "4            90008                  99               534687   \n",
       "\n",
       "   ordersCummulativeB  revenueCummulativeB  visitorsPerDateA  \\\n",
       "0                  19                78258               719   \n",
       "1                  42               240301               619   \n",
       "2                  57               327569               507   \n",
       "3                  72               432860               717   \n",
       "4                  94               522868               756   \n",
       "\n",
       "   visitorsPerDateB  visitorsCummulativeA  visitorsCummulativeB  \n",
       "0               713                   719                   713  \n",
       "1               581                  1338                  1294  \n",
       "2               509                  1845                  1803  \n",
       "3               770                  2562                  2573  \n",
       "4               707                  3318                  3280  "
      ]
     },
     "metadata": {},
     "output_type": "display_data"
    },
    {
     "name": "stdout",
     "output_type": "stream",
     "text": [
      "\n",
      "p_value сыр.: 0.01526\n",
      "Относительный прирост среднего количества заказов группы В к группе А: 0.142\n"
     ]
    }
   ],
   "source": [
    "import scipy.stats as stats\n",
    "visitorsADaily = visitors[visitors['group'] == 'A'][['date', 'visitors']]\n",
    "visitorsADaily.columns = ['date', 'visitorsPerDateA']\n",
    "\n",
    "#количество пользователей до выбранной даты включительно в группе A\n",
    "visitorsACummulative = visitorsADaily.apply(\n",
    "    lambda x: visitorsADaily[visitorsADaily['date'] <= x['date']].agg(\n",
    "        {'date': 'max', 'visitorsPerDateA': 'sum'}\n",
    "    ),\n",
    "    axis=1,\n",
    ")\n",
    "visitorsACummulative.columns = ['date', 'visitorsCummulativeA']\n",
    "\n",
    "visitorsBDaily = visitors[visitors['group'] == 'B'][['date', 'visitors']]\n",
    "visitorsBDaily.columns = ['date', 'visitorsPerDateB']\n",
    "\n",
    "#количество пользователей до выбранной даты включительно в группе B\n",
    "visitorsBCummulative = visitorsBDaily.apply(\n",
    "    lambda x: visitorsBDaily[visitorsBDaily['date'] <= x['date']].agg(\n",
    "        {'date': 'max', 'visitorsPerDateB': 'sum'}\n",
    "    ),\n",
    "    axis=1,\n",
    ")\n",
    "visitorsBCummulative.columns = ['date', 'visitorsCummulativeB']\n",
    "\n",
    "ordersADaily = (\n",
    "    orders[orders['group'] == 'A'][['date', 'transactionId', 'visitorId', 'revenue']]\n",
    "    .groupby('date', as_index=False)\n",
    "    .agg({'visitorId': pd.Series.nunique, 'revenue': 'sum'})\n",
    ")\n",
    "ordersADaily.columns = ['date', 'ordersPerDateA', 'revenuePerDateA']\n",
    "\n",
    "ordersACummulative = ordersADaily.apply(\n",
    "    lambda x: ordersADaily[ordersADaily['date'] <= x['date']].agg(\n",
    "        {'date': 'max', 'ordersPerDateA': 'sum', 'revenuePerDateA': 'sum'}\n",
    "    ),\n",
    "    axis=1,\n",
    ").sort_values(by=['date'])\n",
    "ordersACummulative.columns = [\n",
    "    'date',\n",
    "    'ordersCummulativeA',\n",
    "    'revenueCummulativeA',\n",
    "]\n",
    "\n",
    "ordersBDaily = (\n",
    "    orders[orders['group'] == 'B'][['date', 'transactionId', 'visitorId', 'revenue']]\n",
    "    .groupby('date', as_index=False)\n",
    "    .agg({'transactionId': pd.Series.nunique, 'revenue': 'sum'})\n",
    ")\n",
    "ordersBDaily.columns = ['date', 'ordersPerDateB', 'revenuePerDateB']\n",
    "\n",
    "ordersBCummulative = ordersBDaily.apply(\n",
    "    lambda x: ordersBDaily[ordersBDaily['date'] <= x['date']].agg(\n",
    "        {'date': 'max', 'ordersPerDateB': 'sum', 'revenuePerDateB': 'sum'}\n",
    "    ),\n",
    "    axis=1,\n",
    ").sort_values(by=['date'])\n",
    "ordersBCummulative.columns = [\n",
    "    'date',\n",
    "    'ordersCummulativeB',\n",
    "    'revenueCummulativeB',\n",
    "]\n",
    "\n",
    "#объединим таблицы в одну\n",
    "data = (\n",
    "    ordersADaily.merge(\n",
    "        ordersBDaily, left_on='date', right_on='date', how='left'\n",
    "    )\n",
    "    .merge(ordersACummulative, left_on='date', right_on='date', how='left')\n",
    "    .merge(ordersBCummulative, left_on='date', right_on='date', how='left')\n",
    "    .merge(visitorsADaily, left_on='date', right_on='date', how='left')\n",
    "    .merge(visitorsBDaily, left_on='date', right_on='date', how='left')\n",
    "    .merge(visitorsACummulative, left_on='date', right_on='date', how='left')\n",
    "    .merge(visitorsBCummulative, left_on='date', right_on='date', how='left')\n",
    ")\n",
    "\n",
    "display(data.head())\n",
    "\n",
    "#cоздадим переменные ordersByUsersA и ordersByUsersB со столбцами ['userId', 'orders']. В них для пользователей, \n",
    "#которые заказывали хотя бы 1 раз, укажем число совершённых заказов\n",
    "ordersByUsersA = (\n",
    "    orders[orders['group'] == 'A']\n",
    "    .groupby('visitorId', as_index=False)\n",
    "    .agg({'transactionId': pd.Series.nunique})\n",
    ")\n",
    "ordersByUsersA.columns = ['userId', 'orders']\n",
    "\n",
    "ordersByUsersB = (\n",
    "    orders[orders['group'] == 'B']\n",
    "    .groupby('visitorId', as_index=False)\n",
    "    .agg({'transactionId': pd.Series.nunique})\n",
    ")\n",
    "ordersByUsersB.columns = ['userId', 'orders']\n",
    "\n",
    "#объявим переменные sampleA и sampleB, в которых пользователям из разных групп будет соответствовать количество заказов. \n",
    "#тем, кто ничего не заказал, будут соответствовать нули\n",
    "sampleA = pd.concat([ordersByUsersA['orders'],pd.Series(0, index=np.arange(data['visitorsPerDateA'].sum() - len(ordersByUsersA['orders'])), name='orders')],axis=0)\n",
    "\n",
    "sampleB = pd.concat([ordersByUsersB['orders'],pd.Series(0, index=np.arange(data['visitorsPerDateB'].sum() - len(ordersByUsersB['orders'])), name='orders')],axis=0)\n",
    "\n",
    "ordersByUsersA = (\n",
    "    orders[orders['group'] == 'A']\n",
    "    .groupby('visitorId', as_index=False)\n",
    "    .agg({'transactionId': pd.Series.nunique})\n",
    ")\n",
    "ordersByUsersA.columns = ['userId', 'orders']\n",
    "\n",
    "ordersByUsersB = (\n",
    "    orders[orders['group'] == 'B']\n",
    "    .groupby('visitorId', as_index=False)\n",
    "    .agg({'transactionId': pd.Series.nunique})\n",
    ")\n",
    "ordersByUsersB.columns = ['userId', 'orders']\n",
    "\n",
    "sampleA = pd.concat(\n",
    "    [\n",
    "        ordersByUsersA['orders'],\n",
    "        pd.Series(\n",
    "            0,\n",
    "            index=np.arange(\n",
    "                data['visitorsPerDateA'].sum() - len(ordersByUsersA['orders'])\n",
    "            ),\n",
    "            name='orders',\n",
    "        ),\n",
    "    ],\n",
    "    axis=0,\n",
    ")\n",
    "\n",
    "sampleB = pd.concat(\n",
    "    [\n",
    "        ordersByUsersB['orders'],\n",
    "        pd.Series(\n",
    "            0,\n",
    "            index=np.arange(\n",
    "                data['visitorsPerDateB'].sum() - len(ordersByUsersB['orders'])\n",
    "            ),\n",
    "            name='orders',\n",
    "        ),\n",
    "    ],\n",
    "    axis=0,\n",
    ")\n",
    "print()\n",
    "print('p_value сыр.:', \"{0:.5f}\".format(stats.mannwhitneyu(sampleA, sampleB)[1]))\n",
    "\n",
    "print('Относительный прирост среднего количества заказов группы В к группе А:', \"{0:.3f}\".format(sampleB.mean() / sampleA.mean() - 1))"
   ]
  },
  {
   "cell_type": "markdown",
   "metadata": {},
   "source": [
    "**Вывод: p-value меньше 0.05, предварительно по сырым данным нулевую гипотезу отвергаем. Среднее количество заказов в группах А и Б не равны. Относительный прирост среднего количества заказов на пользователя группы В к группе А 14.2%. Также следует сравнить средние чеки, а затем обе метрики еще раз после удаления выбросов.** "
   ]
  },
  {
   "cell_type": "markdown",
   "metadata": {},
   "source": [
    "### Посчитайте статистическую значимость различий в среднем чеке заказа между группами по «сырым» данным. Сделайте выводы и предположения."
   ]
  },
  {
   "cell_type": "markdown",
   "metadata": {},
   "source": [
    "**Выдвинем нулевую и альтернативную гипотезы:**\n",
    "- Н0: различий в среднем чеке между группами А и В нет.\n",
    "- Н1: различия в среднем чеке между группами А и В есть.\n",
    "\n",
    "*Значение статистической значимости примем 0.05.*"
   ]
  },
  {
   "cell_type": "code",
   "execution_count": 24,
   "metadata": {
    "scrolled": false
   },
   "outputs": [
    {
     "name": "stdout",
     "output_type": "stream",
     "text": [
      "p-value сыр: 0.940\n",
      "Относительный прирост среднего чека группы В к группе А: 0.237\n"
     ]
    }
   ],
   "source": [
    "print('p-value сыр:', '{0:.3f}'.format(stats.mannwhitneyu(orders[orders['group']=='A']['revenue'], orders[orders['group']=='B']['revenue'])[1]))\n",
    "print('Относительный прирост среднего чека группы В к группе А:', '{0:.3f}'.format(orders[orders['group']=='B']['revenue'].mean()/orders[orders['group']=='A']['revenue'].mean()-1))"
   ]
  },
  {
   "cell_type": "markdown",
   "metadata": {},
   "source": [
    "Вывод: По «сырым» данным различий в среднем чеке групп A и B нет. p-value = 0.940, больше 0.05. Значит, нулевую гипотезу о том, что статистически значимых различий в среднем чеке между группами нет, не отвергаем. Однако видим, что относительное различие среднего чека 24% в пользу категории В, это может быть обусловлено заказами аномальных пользователей, выводы по относительному различию в среднем чеке будем делать после очистки данных.\n",
    "\n",
    "    \n",
    "Тут все просто. Раз теcт показал, что нет стат значимой разницы между группами - то каково бы различие чека не было, оно не будет являться стат. значимым (у нас тут выбросы дают большое различие чеков, но их всего несколько и на общее различие среднего чека по группам они не влияют)"
   ]
  },
  {
   "cell_type": "markdown",
   "metadata": {},
   "source": [
    "**ОЧИСТКА ДАННЫХ**\n",
    "\n",
    "**Для начала  проведем очистку данных от аномалий: согласно п.2.6, 2.8 аномальными будем считать пользователей, которые совершили покупку свыше 50 000 р и более 3 заказов.**"
   ]
  },
  {
   "cell_type": "code",
   "execution_count": 25,
   "metadata": {
    "scrolled": true
   },
   "outputs": [
    {
     "name": "stdout",
     "output_type": "stream",
     "text": [
      "1099    148427295\n",
      "22      237748145\n",
      "1137    759473111\n",
      "949     887908475\n",
      "744     888512513\n",
      "Name: visitorId, dtype: int64\n",
      "\n",
      "Количество аномальных пользователей: 19\n"
     ]
    }
   ],
   "source": [
    "ordersByUsersA = (\n",
    "    orders[orders['group'] == 'A']\n",
    "    .groupby('visitorId', as_index=False)\n",
    "    .agg({'transactionId': pd.Series.nunique})\n",
    ")\n",
    "ordersByUsersA.columns = ['visitorId', 'orders']\n",
    "\n",
    "ordersByUsersB = (\n",
    "    orders[orders['group'] == 'B']\n",
    "    .groupby('visitorId', as_index=False)\n",
    "    .agg({'transactionId': pd.Series.nunique})\n",
    ")\n",
    "ordersByUsersB.columns = ['visitorId', 'orders']\n",
    "\n",
    "#пользователи с множеством заказов\n",
    "usersWithManyOrders = pd.concat(\n",
    "    [\n",
    "        ordersByUsersA[ordersByUsersA['orders'] > 3]['visitorId'],\n",
    "        ordersByUsersB[ordersByUsersB['orders'] > 3]['visitorId'],\n",
    "    ],\n",
    "    axis=0,\n",
    ")\n",
    "#пользователи с дорогими заказами\n",
    "usersWithExpensiveOrders = orders[orders['revenue'] > 50000]['visitorId']\n",
    "\n",
    "#объединим пользователей с множеством заказов с пользователями с дорогими заказами\n",
    "abnormalUsers = (\n",
    "    pd.concat([usersWithManyOrders, usersWithExpensiveOrders], axis=0)\n",
    "    .drop_duplicates()\n",
    "    .sort_values()\n",
    ")\n",
    "\n",
    "print(abnormalUsers.head(5))\n",
    "print()\n",
    "print('Количество аномальных пользователей:', abnormalUsers.shape[0]) #узнаем количество аномальных пользователей"
   ]
  },
  {
   "cell_type": "markdown",
   "metadata": {},
   "source": [
    "**Вывод: отфильтруем ниже 19 аномальных пользователей, которые либо сделали больше 3 заказов, либо сумма заказов которых превысила 50 000р.**"
   ]
  },
  {
   "cell_type": "markdown",
   "metadata": {},
   "source": [
    "### Посчитайте статистическую значимость различий в среднем количестве заказов на посетителя между группами по «очищенным» данным. Сделайте выводы и предположения."
   ]
  },
  {
   "cell_type": "markdown",
   "metadata": {},
   "source": [
    "**Выдвинем нулевую и альтернативную гипотезы:**\n",
    "- Н0: различий в среднем количестве заказов на посетителя между группами А и В нет.\n",
    "- Н1: различия в среднем количестве заказов на посетителя между группами А и В есть.\n",
    "\n",
    "*Значение статистической значимости примем 0.05.*"
   ]
  },
  {
   "cell_type": "code",
   "execution_count": 26,
   "metadata": {},
   "outputs": [
    {
     "name": "stdout",
     "output_type": "stream",
     "text": [
      "p-value очищ.: 0.011\n",
      "Относительный прирост среднего количества заказов группы В к группе А: 0.154\n"
     ]
    }
   ],
   "source": [
    "sampleAFiltered = pd.concat(\n",
    "    [\n",
    "        ordersByUsersA[\n",
    "            np.logical_not(ordersByUsersA['visitorId'].isin(abnormalUsers))\n",
    "        ]['orders'],\n",
    "        pd.Series(\n",
    "            0,\n",
    "            index=np.arange(\n",
    "                data['visitorsPerDateA'].sum() - len(ordersByUsersA['orders'])\n",
    "            ),\n",
    "            name='orders',\n",
    "        ),\n",
    "    ],\n",
    "    axis=0,\n",
    ")\n",
    "\n",
    "sampleBFiltered = pd.concat(\n",
    "    [\n",
    "        ordersByUsersB[\n",
    "            np.logical_not(ordersByUsersB['visitorId'].isin(abnormalUsers))\n",
    "        ]['orders'],\n",
    "        pd.Series(\n",
    "            0,\n",
    "            index=np.arange(\n",
    "                data['visitorsPerDateB'].sum() - len(ordersByUsersB['orders'])\n",
    "            ),\n",
    "            name='orders',\n",
    "        ),\n",
    "    ],\n",
    "    axis=0,\n",
    ")\n",
    "\n",
    "print('p-value очищ.:', '{0:.3f}'.format(stats.mannwhitneyu(sampleAFiltered, sampleBFiltered)[1]))\n",
    "print('Относительный прирост среднего количества заказов группы В к группе А:', '{0:.3f}'.format(sampleBFiltered.mean()/sampleAFiltered.mean()-1))"
   ]
  },
  {
   "cell_type": "markdown",
   "metadata": {},
   "source": [
    "**Вывод: по очищенным данным отвергаем нулевую гипотезу: среднее количество заказов в группах А и В разное. Прирост количества заказов группы В к группе А 15.4%.**"
   ]
  },
  {
   "cell_type": "markdown",
   "metadata": {},
   "source": [
    "### Посчитайте статистическую значимость различий в среднем чеке заказа между группами по «очищенным» данным. Сделайте выводы и предположения. "
   ]
  },
  {
   "cell_type": "markdown",
   "metadata": {},
   "source": [
    "**Выдвинем нулевую и альтернативную гипотезы:**\n",
    "- Н0: различий в среднем чеке между группами А и В нет.\n",
    "- Н1: различия в среднем чеке между группами А и В есть.\n",
    "\n",
    "*Значение статистической значимости примем 0.05.*"
   ]
  },
  {
   "cell_type": "code",
   "execution_count": 27,
   "metadata": {},
   "outputs": [
    {
     "name": "stdout",
     "output_type": "stream",
     "text": [
      "p-value очищ. 0.907\n",
      "Прирост среднего чека группы В относительно группы А: 0.011\n"
     ]
    }
   ],
   "source": [
    "print('p-value очищ.',\n",
    "    '{0:.3f}'.format(\n",
    "        stats.mannwhitneyu(\n",
    "            orders[\n",
    "                np.logical_and(\n",
    "                    orders['group'] == 'A',\n",
    "                    np.logical_not(orders['visitorId'].isin(abnormalUsers)),\n",
    "                )\n",
    "            ]['revenue'],\n",
    "            orders[\n",
    "                np.logical_and(\n",
    "                    orders['group'] == 'B',\n",
    "                    np.logical_not(orders['visitorId'].isin(abnormalUsers)),\n",
    "                )\n",
    "            ]['revenue'],\n",
    "        )[1]\n",
    "    )\n",
    ")\n",
    "\n",
    "print('Прирост среднего чека группы В относительно группы А:',\n",
    "    \"{0:.3f}\".format(\n",
    "        orders[\n",
    "            np.logical_and(\n",
    "                orders['group'] == 'B',\n",
    "                np.logical_not(orders['visitorId'].isin(abnormalUsers)),\n",
    "            )\n",
    "        ]['revenue'].mean()\n",
    "        / orders[\n",
    "            np.logical_and(\n",
    "                orders['group'] == 'A',\n",
    "                np.logical_not(orders['visitorId'].isin(abnormalUsers)),\n",
    "            )\n",
    "        ]['revenue'].mean()\n",
    "        - 1\n",
    "    )\n",
    ")"
   ]
  },
  {
   "cell_type": "markdown",
   "metadata": {},
   "source": [
    "**Вывод: По очищенным данным различий в среднем чеке между группами А и В нет: p-value 0.907, больше 0.05. Значит, гипотезу о равенcтве среднего чека в группах А и Б не отвергаем. Прирост среднего чека 1,1% (сравним с приростом 24% по \"сырым\"данным! - они точно были обусловлены заказами аномальных пользователей). Средние чеки в группах А и В равны.**"
   ]
  },
  {
   "cell_type": "markdown",
   "metadata": {},
   "source": [
    "### Примите решение по результатам теста и объясните его. \n",
    "\n",
    "1. Останавливаем тест, фиксируем победу группы В: несмотря на равенство средних чеков в группах, в сегменте В пользователи стали делать больше заказов, конверсия увеличилась на 15% .\n"
   ]
  },
  {
   "cell_type": "markdown",
   "metadata": {},
   "source": [
    "## Общий вывод по проекту"
   ]
  },
  {
   "cell_type": "markdown",
   "metadata": {},
   "source": [
    "**Часть 1. Приоритизация гипотез.**\n",
    "\n",
    "**Примените фреймворк ICE для приоритизации гипотез. Отсортируйте их по убыванию приоритета.**\n",
    "\n",
    "*Наиболее перспективные гипотезы по ICE: 8, 0, 7,6*\n",
    "\n",
    "**Примените фреймворк RICE для приоритизации гипотез. Отсортируйте их по убыванию приоритета.**\n",
    "\n",
    "*Вывод: наиболее перспективные гипотезы по RICE: 7,2, 0, 6. На первом месте уже гипотеза №7. Так получилось потому, что ее параметр Reach равен 10. Важно учитывать, сколько пользователей затронет гипотеза.*\n",
    "\n",
    "\n",
    "**Укажите, как изменилась приоритизация гипотез при применении RICE вместо ICE. Объясните, почему так произошло.**\n",
    "\n",
    "*При применении обеих методов самыми приоритетными являются гипотезы 0, 6, 7:*\n",
    "- 'Добавить два новых канала привлечения трафика, что позволит привлекать на 30% больше пользователей', \n",
    "- 'Показать на главной странице баннеры с актуальными акциями и распродажами, чтобы увеличить конверсию', \n",
    "- 'Добавить форму подписки на все основные страницы, чтобы собрать базу клиентов для email-рассылок'. \n",
    "\n",
    "При применении RICE вместо ICE уходит гипотеза 'Запустить акцию, дающую скидку на товар в день рождения', у данной гипотезы большое влияние (impact=9) и уверенность (confidence=9), но охват небольшой (reach=1), т.к. у каждого посетителя день рождения 1 раз в году, соответственно, эта акция охватит слишком узкую категорию пользователей. \n",
    "\n",
    "При применении RICH в приоритетных появляется гипотеза 2: 'Добавить блоки рекомендаций товаров на сайт интернет магазина, чтобы повысить конверсию и средний чек заказа', она с большой долей уверенности (confidenct=7) охватит много пользователей (reach=8) при невысоких  затратах (efforts=3).\n",
    "\n",
    "**Часть 2. Анализ A/B-теста**\n",
    "\n",
    "**Постройте график кумулятивной выручки по группам. Сделайте выводы и предположения.**\n",
    "\n",
    "*По графику кумулятивной выручки видим, что накопительная выручка в сегменте В до середины теста чуть выше, чем в сегменте А, а с середины теста сегмент В уверенно лидирует. (Возможно, на результат повлияли аномально крупные заказы, это следует проанализировать дополнительно).*\n",
    "\n",
    "**Постройте график кумулятивного среднего чека по группам. Сделайте выводы и предположения.**\n",
    "\n",
    "*Кумулятивное значение среднего чека по сегментам А и В не стабильно. Также заметен сильный скачок в сегменте В с 6500 до 10000 ед. во второй половине теста (если быть точнее, то 18.08.2019), который, возможно вызван аномально большим заказом в этой группе. Требуется далее дополнительно провести анализ выбросов.*\n",
    "\n",
    "**Постройте график относительного изменения кумулятивного среднего чека группы B к группе A. Сделайте выводы и предположения.**\n",
    "\n",
    "*По графику видим, что в начале исследования средний чек в группе А был выше, чем в группе В. Далее видим, увеличение среднего чека в сегменте В по отношению к сегменту А. В середине теста (13.08.2019) сначала наблюдаем падение кумулятивного чека группы В относительно А, а затем резкий скачок вверх 18.08.2019. Резкие пики в нескольких датах дают нам право предположить, что  именно тогда были совершены аномальные заказы.*\n",
    "\n",
    "**Постройте график кумулятивного среднего количества заказов на посетителя по группам. Сделайте выводы и предположения.**\n",
    "\n",
    "*В начале исследования среднее количество заказов на пользователя (конверсия) было лучше в группе А, но 6.08.2019 конверсия группы В пошла в заметный рост относительно гр.А, затем немного замедлилась и пошла на небольшой спад, но все равно была выше конвесии группа А, которая после спада  6.08.2019 так и держалась на постоянном низком уровне.*\n",
    "\n",
    "**Постройте график относительного изменения кумулятивного среднего количества заказов на посетителя группы B к группе A. Сделайте выводы и предположения.**\n",
    "\n",
    "*В первые несколько дней исследования группа B то проигрывала, то выигрывала у группы A, затем 6.08.2019 вырвалась вперёд. Потом её конверсия колебалась с тенденцией к легкому падению, но к концу месяца видим небольшой рост. Чтобы сделать выводы следует также проанализировать аномалии, возможно, они изменят картину.*\n",
    "\n",
    "**Постройте точечный график количества заказов по пользователям. Сделайте выводы и предположения.**\n",
    "\n",
    "*На точечном графике видим, что большая часть пользователей сделала 1 заказ, чуть меньше 2 заказа. Далее количество заказов на пользователя убывает. Наблюдаем достаточное количество выбросов: пользователей, которые сделали 3 заказа и больше.*\n",
    "\n",
    "**Посчитайте 95-й и 99-й перцентили количества заказов на пользователя. Выберите границу для определения аномальных пользователей.**\n",
    "\n",
    "*Не более 5% пользователей совершали более 2 заказов и не более 1% пользователей более 3 заказов. В качестве границы для определения аномального количества заказов выберем значение 3.*\n",
    "\n",
    "**Постройте точечный график стоимостей заказов. Сделайте выводы и предположения.**\n",
    "\n",
    "*Наблюдаем два явных выброса: аномально крупные заказы в группе В: на 1 294 500 р. и 202 740 р.*\n",
    "\n",
    "**Посчитайте 95-й и 99-й перцентили стоимости заказов. Выберите границу для определения аномальных заказов.**\n",
    "\n",
    "*Вывод: Не более 5% пользователей сделали заказы свыше 31 000р и не более 1% пользователей свыше 65000 р. Примем за аномальный заказ стоимостью более 50 000.*\n",
    "\n",
    "**Посчитайте статистическую значимость различий в среднем количестве заказов на посетителя между группами по «сырым» данным. \n",
    "Сделайте выводы и предположения.**\n",
    "\n",
    "*Выдвинем нулевая гипотезу: различий в среднем количестве заказов на посетителя между группами А и В нет. Значение статистической значимости примем 0.05. По расчету p-value меньше 0.05, предварительно по сырым данным нулевую гипотезу отвергаем. Среднее количество заказов в группах А и Б не равны. Относительный прирост среднего количества заказов на пользователя группы В к группе А 14.2%. Также следует сравнить средние чеки, а затем обе метрики еще раз после удаления выбросов.*\n",
    "\n",
    "**Посчитайте статистическую значимость различий в среднем чеке заказа между группами по «сырым» данным. Сделайте выводы и предположения.**\n",
    "\n",
    "*Нулевая гипотеза: различий в среднем чеке между группами А и В нет. Значение статистической значимости примем 0.05. По «сырым» данным различий в среднем чеке групп A и B нет. p-value = 0.940, больше 0.05. Значит, предварительно нулевую гипотезу о том, что статистически значимых различий в среднем чеке между группами нет, не отвергаем. Относительное различие среднего чека 24% в пользу категории В. Вернемся к среднему чеку после очистки данных.*\n",
    "\n",
    "**Посчитайте статистическую значимость различий в среднем количестве заказов на посетителя между группами по «очищенным» данным. Сделайте выводы и предположения.**\n",
    "\n",
    "*По очищенным данным отвергаем нулевую гипотезу: среднее количество заказов в группах А и В разное. Прирост количества заказов группы В к группе А 15.4%.*\n",
    "\n",
    "**Посчитайте статистическую значимость различий в среднем чеке заказа между группами по «очищенным» данным. Сделайте выводы и предположения.**\n",
    "\n",
    "*По очищенным данным различий в среднем чеке между группами А и В нет: p-value 0.907, больше 0.05. Значит, гипотезу о равенcтве среднего чека в группах А и Б не отвергаем. Прирост среднего чека 1,1% (сравним с приростом 24% по \"сырым\"данным! - они точно были обусловлены заказами аномальных пользователей). Средние чеки в группах А и В равны.*\n",
    "\n",
    "**Примите решение по результатам теста и объясните его.**\n",
    "\n",
    "*1. Останавливаем тест, фиксируем победу группы В: несмотря на равенство средних чеков в группах, в сегменте В пользователи стали делать больше заказов, конверсия увеличилась на 15%.*"
   ]
  }
 ],
 "metadata": {
  "ExecuteTimeLog": [
   {
    "duration": 66,
    "start_time": "2023-05-13T18:04:44.408Z"
   },
   {
    "duration": 9,
    "start_time": "2023-05-13T18:05:48.348Z"
   },
   {
    "duration": 859,
    "start_time": "2023-05-13T18:06:13.979Z"
   },
   {
    "duration": 87,
    "start_time": "2023-05-13T18:06:15.494Z"
   },
   {
    "duration": 43,
    "start_time": "2023-05-13T18:06:45.770Z"
   },
   {
    "duration": 4,
    "start_time": "2023-05-13T18:13:19.752Z"
   },
   {
    "duration": 4,
    "start_time": "2023-05-13T18:13:25.527Z"
   },
   {
    "duration": 25,
    "start_time": "2023-05-13T18:13:28.894Z"
   },
   {
    "duration": 34,
    "start_time": "2023-05-13T18:17:27.827Z"
   },
   {
    "duration": 12,
    "start_time": "2023-05-13T18:17:54.897Z"
   },
   {
    "duration": 11,
    "start_time": "2023-05-13T18:18:49.555Z"
   },
   {
    "duration": 32,
    "start_time": "2023-05-13T18:39:02.210Z"
   },
   {
    "duration": 176,
    "start_time": "2023-05-13T18:40:23.158Z"
   },
   {
    "duration": 9,
    "start_time": "2023-05-13T18:40:29.780Z"
   },
   {
    "duration": 56,
    "start_time": "2023-05-15T07:09:48.706Z"
   },
   {
    "duration": 1278,
    "start_time": "2023-05-15T07:09:54.319Z"
   },
   {
    "duration": 109,
    "start_time": "2023-05-15T07:09:55.604Z"
   },
   {
    "duration": 15,
    "start_time": "2023-05-15T07:09:55.714Z"
   },
   {
    "duration": 71,
    "start_time": "2023-05-15T07:09:55.732Z"
   },
   {
    "duration": 204,
    "start_time": "2023-05-15T07:09:55.805Z"
   },
   {
    "duration": 21,
    "start_time": "2023-05-15T07:09:56.012Z"
   },
   {
    "duration": 25,
    "start_time": "2023-05-15T07:09:56.036Z"
   },
   {
    "duration": 755,
    "start_time": "2023-05-15T07:09:56.064Z"
   },
   {
    "duration": 16,
    "start_time": "2023-05-15T07:10:43.091Z"
   },
   {
    "duration": 10,
    "start_time": "2023-05-15T07:12:57.635Z"
   },
   {
    "duration": 12,
    "start_time": "2023-05-15T07:13:17.598Z"
   },
   {
    "duration": 17,
    "start_time": "2023-05-15T07:45:00.531Z"
   },
   {
    "duration": 13,
    "start_time": "2023-05-15T07:45:24.359Z"
   },
   {
    "duration": 78,
    "start_time": "2023-05-15T07:46:15.652Z"
   },
   {
    "duration": 19,
    "start_time": "2023-05-15T07:46:28.311Z"
   },
   {
    "duration": 22,
    "start_time": "2023-05-15T07:47:04.103Z"
   },
   {
    "duration": 13,
    "start_time": "2023-05-15T07:47:24.031Z"
   },
   {
    "duration": 16,
    "start_time": "2023-05-15T07:47:43.820Z"
   },
   {
    "duration": 18,
    "start_time": "2023-05-15T07:47:51.678Z"
   },
   {
    "duration": 224,
    "start_time": "2023-05-15T10:15:18.155Z"
   },
   {
    "duration": 14,
    "start_time": "2023-05-15T10:17:10.110Z"
   },
   {
    "duration": 7,
    "start_time": "2023-05-15T10:19:35.086Z"
   },
   {
    "duration": 16,
    "start_time": "2023-05-15T10:20:03.133Z"
   },
   {
    "duration": 25,
    "start_time": "2023-05-15T10:20:35.379Z"
   },
   {
    "duration": 167,
    "start_time": "2023-05-15T10:21:40.836Z"
   },
   {
    "duration": 173,
    "start_time": "2023-05-15T10:21:49.556Z"
   },
   {
    "duration": 25,
    "start_time": "2023-05-15T10:21:59.144Z"
   },
   {
    "duration": 114,
    "start_time": "2023-05-15T10:22:47.278Z"
   },
   {
    "duration": 6,
    "start_time": "2023-05-15T10:23:10.969Z"
   },
   {
    "duration": 70,
    "start_time": "2023-05-15T10:23:10.994Z"
   },
   {
    "duration": 15,
    "start_time": "2023-05-15T10:23:11.066Z"
   },
   {
    "duration": 32,
    "start_time": "2023-05-15T10:23:11.083Z"
   },
   {
    "duration": 99,
    "start_time": "2023-05-15T10:23:11.117Z"
   },
   {
    "duration": 26,
    "start_time": "2023-05-15T10:23:11.218Z"
   },
   {
    "duration": 9,
    "start_time": "2023-05-15T10:23:11.246Z"
   },
   {
    "duration": 21,
    "start_time": "2023-05-15T10:23:11.257Z"
   },
   {
    "duration": 966,
    "start_time": "2023-05-15T10:27:05.259Z"
   },
   {
    "duration": 820,
    "start_time": "2023-05-15T10:29:34.231Z"
   },
   {
    "duration": 719,
    "start_time": "2023-05-15T10:31:26.057Z"
   },
   {
    "duration": 3,
    "start_time": "2023-05-15T10:31:34.010Z"
   },
   {
    "duration": 52,
    "start_time": "2023-05-15T10:31:34.017Z"
   },
   {
    "duration": 12,
    "start_time": "2023-05-15T10:31:34.072Z"
   },
   {
    "duration": 40,
    "start_time": "2023-05-15T10:31:34.086Z"
   },
   {
    "duration": 92,
    "start_time": "2023-05-15T10:31:34.128Z"
   },
   {
    "duration": 25,
    "start_time": "2023-05-15T10:31:34.222Z"
   },
   {
    "duration": 11,
    "start_time": "2023-05-15T10:31:34.249Z"
   },
   {
    "duration": 14,
    "start_time": "2023-05-15T10:31:34.262Z"
   },
   {
    "duration": 733,
    "start_time": "2023-05-15T10:31:34.278Z"
   },
   {
    "duration": 1940,
    "start_time": "2023-05-15T10:34:29.761Z"
   },
   {
    "duration": 1203,
    "start_time": "2023-05-15T10:35:15.046Z"
   },
   {
    "duration": 50,
    "start_time": "2023-05-15T10:35:42.174Z"
   },
   {
    "duration": 56,
    "start_time": "2023-05-15T10:35:54.513Z"
   },
   {
    "duration": 1723,
    "start_time": "2023-05-15T10:36:16.632Z"
   },
   {
    "duration": 1866,
    "start_time": "2023-05-15T10:36:32.291Z"
   },
   {
    "duration": 84,
    "start_time": "2023-05-15T10:37:23.061Z"
   },
   {
    "duration": 26,
    "start_time": "2023-05-15T10:37:39.769Z"
   },
   {
    "duration": 2,
    "start_time": "2023-05-15T10:38:17.852Z"
   },
   {
    "duration": 3,
    "start_time": "2023-05-15T10:38:48.268Z"
   },
   {
    "duration": 33,
    "start_time": "2023-05-15T10:38:57.960Z"
   },
   {
    "duration": 30,
    "start_time": "2023-05-15T10:40:58.203Z"
   },
   {
    "duration": 534,
    "start_time": "2023-05-15T10:42:57.764Z"
   },
   {
    "duration": 202,
    "start_time": "2023-05-15T11:10:12.196Z"
   },
   {
    "duration": 380,
    "start_time": "2023-05-15T11:20:16.420Z"
   },
   {
    "duration": 51,
    "start_time": "2023-05-16T07:22:11.926Z"
   },
   {
    "duration": 879,
    "start_time": "2023-05-16T07:22:18.830Z"
   },
   {
    "duration": 85,
    "start_time": "2023-05-16T07:22:19.711Z"
   },
   {
    "duration": 13,
    "start_time": "2023-05-16T07:22:19.798Z"
   },
   {
    "duration": 12,
    "start_time": "2023-05-16T07:22:19.813Z"
   },
   {
    "duration": 87,
    "start_time": "2023-05-16T07:22:19.826Z"
   },
   {
    "duration": 82,
    "start_time": "2023-05-16T07:22:19.915Z"
   },
   {
    "duration": 34,
    "start_time": "2023-05-16T07:22:19.999Z"
   },
   {
    "duration": 3,
    "start_time": "2023-05-16T07:22:20.036Z"
   },
   {
    "duration": 5,
    "start_time": "2023-05-16T07:22:20.041Z"
   },
   {
    "duration": 620,
    "start_time": "2023-05-16T07:22:20.049Z"
   },
   {
    "duration": 214,
    "start_time": "2023-05-16T07:22:20.671Z"
   },
   {
    "duration": 315,
    "start_time": "2023-05-16T07:22:20.887Z"
   },
   {
    "duration": 281,
    "start_time": "2023-05-16T07:22:21.204Z"
   },
   {
    "duration": 164,
    "start_time": "2023-05-16T07:24:23.788Z"
   },
   {
    "duration": 209,
    "start_time": "2023-05-16T07:24:40.034Z"
   },
   {
    "duration": 322,
    "start_time": "2023-05-16T07:25:29.939Z"
   },
   {
    "duration": 303,
    "start_time": "2023-05-16T07:25:36.716Z"
   },
   {
    "duration": 52,
    "start_time": "2023-05-16T07:29:57.095Z"
   },
   {
    "duration": 9,
    "start_time": "2023-05-16T07:31:33.912Z"
   },
   {
    "duration": 14,
    "start_time": "2023-05-16T07:31:51.366Z"
   },
   {
    "duration": 15,
    "start_time": "2023-05-16T07:37:45.346Z"
   },
   {
    "duration": 117,
    "start_time": "2023-05-16T07:39:13.293Z"
   },
   {
    "duration": 119,
    "start_time": "2023-05-16T07:41:20.889Z"
   },
   {
    "duration": 11,
    "start_time": "2023-05-16T07:42:07.266Z"
   },
   {
    "duration": 6,
    "start_time": "2023-05-16T07:44:16.420Z"
   },
   {
    "duration": 8,
    "start_time": "2023-05-16T07:58:48.924Z"
   },
   {
    "duration": 10,
    "start_time": "2023-05-16T07:59:18.884Z"
   },
   {
    "duration": 169,
    "start_time": "2023-05-16T07:59:58.733Z"
   },
   {
    "duration": 155,
    "start_time": "2023-05-16T08:03:22.643Z"
   },
   {
    "duration": 13,
    "start_time": "2023-05-16T08:03:51.243Z"
   },
   {
    "duration": 11,
    "start_time": "2023-05-16T08:04:08.314Z"
   },
   {
    "duration": 179,
    "start_time": "2023-05-16T08:04:17.723Z"
   },
   {
    "duration": 22,
    "start_time": "2023-05-16T08:05:00.090Z"
   },
   {
    "duration": 16,
    "start_time": "2023-05-16T08:05:17.494Z"
   },
   {
    "duration": 7,
    "start_time": "2023-05-16T08:05:41.721Z"
   },
   {
    "duration": 172,
    "start_time": "2023-05-16T08:05:53.109Z"
   },
   {
    "duration": 20,
    "start_time": "2023-05-16T10:32:19.559Z"
   },
   {
    "duration": 15,
    "start_time": "2023-05-16T10:32:59.860Z"
   },
   {
    "duration": 21,
    "start_time": "2023-05-16T10:33:02.694Z"
   },
   {
    "duration": 26,
    "start_time": "2023-05-16T10:33:59.792Z"
   },
   {
    "duration": 166,
    "start_time": "2023-05-16T10:34:42.901Z"
   },
   {
    "duration": 1370,
    "start_time": "2023-05-16T10:35:15.919Z"
   },
   {
    "duration": 171,
    "start_time": "2023-05-16T10:55:02.472Z"
   },
   {
    "duration": 567,
    "start_time": "2023-05-16T11:23:19.199Z"
   },
   {
    "duration": 921,
    "start_time": "2023-05-16T11:25:57.065Z"
   },
   {
    "duration": 4,
    "start_time": "2023-05-16T18:13:10.884Z"
   },
   {
    "duration": 38,
    "start_time": "2023-05-16T18:13:10.890Z"
   },
   {
    "duration": 11,
    "start_time": "2023-05-16T18:13:10.929Z"
   },
   {
    "duration": 12,
    "start_time": "2023-05-16T18:13:10.942Z"
   },
   {
    "duration": 40,
    "start_time": "2023-05-16T18:13:10.957Z"
   },
   {
    "duration": 32,
    "start_time": "2023-05-16T18:13:10.998Z"
   },
   {
    "duration": 21,
    "start_time": "2023-05-16T18:13:11.031Z"
   },
   {
    "duration": 2,
    "start_time": "2023-05-16T18:13:11.054Z"
   },
   {
    "duration": 7,
    "start_time": "2023-05-16T18:13:11.058Z"
   },
   {
    "duration": 483,
    "start_time": "2023-05-16T18:13:11.067Z"
   },
   {
    "duration": 180,
    "start_time": "2023-05-16T18:13:11.551Z"
   },
   {
    "duration": 285,
    "start_time": "2023-05-16T18:13:11.732Z"
   },
   {
    "duration": 188,
    "start_time": "2023-05-16T18:13:12.019Z"
   },
   {
    "duration": 390,
    "start_time": "2023-05-16T18:13:12.209Z"
   },
   {
    "duration": 9,
    "start_time": "2023-05-16T18:13:12.600Z"
   },
   {
    "duration": 118,
    "start_time": "2023-05-16T18:13:12.611Z"
   },
   {
    "duration": 20,
    "start_time": "2023-05-16T18:13:12.730Z"
   },
   {
    "duration": 14,
    "start_time": "2023-05-16T18:13:12.752Z"
   },
   {
    "duration": 138,
    "start_time": "2023-05-16T18:13:12.768Z"
   },
   {
    "duration": 475,
    "start_time": "2023-05-16T18:13:12.908Z"
   },
   {
    "duration": 11,
    "start_time": "2023-05-16T18:13:13.385Z"
   },
   {
    "duration": 1171,
    "start_time": "2023-05-16T18:30:49.190Z"
   },
   {
    "duration": 1148,
    "start_time": "2023-05-16T18:31:22.622Z"
   },
   {
    "duration": 1320,
    "start_time": "2023-05-16T18:34:00.620Z"
   },
   {
    "duration": 3,
    "start_time": "2023-05-16T18:34:22.663Z"
   },
   {
    "duration": 30,
    "start_time": "2023-05-16T18:34:22.706Z"
   },
   {
    "duration": 10,
    "start_time": "2023-05-16T18:34:22.738Z"
   },
   {
    "duration": 19,
    "start_time": "2023-05-16T18:34:22.750Z"
   },
   {
    "duration": 52,
    "start_time": "2023-05-16T18:34:22.771Z"
   },
   {
    "duration": 32,
    "start_time": "2023-05-16T18:34:22.825Z"
   },
   {
    "duration": 20,
    "start_time": "2023-05-16T18:34:22.858Z"
   },
   {
    "duration": 2,
    "start_time": "2023-05-16T18:34:22.880Z"
   },
   {
    "duration": 7,
    "start_time": "2023-05-16T18:34:22.884Z"
   },
   {
    "duration": 460,
    "start_time": "2023-05-16T18:34:22.893Z"
   },
   {
    "duration": 179,
    "start_time": "2023-05-16T18:34:23.355Z"
   },
   {
    "duration": 287,
    "start_time": "2023-05-16T18:34:23.535Z"
   },
   {
    "duration": 198,
    "start_time": "2023-05-16T18:34:23.823Z"
   },
   {
    "duration": 356,
    "start_time": "2023-05-16T18:34:24.023Z"
   },
   {
    "duration": 9,
    "start_time": "2023-05-16T18:34:24.381Z"
   },
   {
    "duration": 134,
    "start_time": "2023-05-16T18:34:24.392Z"
   },
   {
    "duration": 6,
    "start_time": "2023-05-16T18:34:24.528Z"
   },
   {
    "duration": 13,
    "start_time": "2023-05-16T18:34:24.551Z"
   },
   {
    "duration": 135,
    "start_time": "2023-05-16T18:34:24.566Z"
   },
   {
    "duration": 471,
    "start_time": "2023-05-16T18:34:24.703Z"
   },
   {
    "duration": 9,
    "start_time": "2023-05-16T18:34:25.176Z"
   },
   {
    "duration": 1251,
    "start_time": "2023-05-16T18:34:25.186Z"
   },
   {
    "duration": 1352,
    "start_time": "2023-05-16T18:35:01.111Z"
   },
   {
    "duration": 126,
    "start_time": "2023-05-16T18:35:26.706Z"
   },
   {
    "duration": 123,
    "start_time": "2023-05-16T18:35:44.908Z"
   },
   {
    "duration": 132,
    "start_time": "2023-05-16T18:36:00.058Z"
   },
   {
    "duration": 210,
    "start_time": "2023-05-16T18:36:14.014Z"
   },
   {
    "duration": 24,
    "start_time": "2023-05-16T18:38:39.250Z"
   },
   {
    "duration": 145,
    "start_time": "2023-05-16T18:41:25.120Z"
   },
   {
    "duration": 27,
    "start_time": "2023-05-16T18:41:29.820Z"
   },
   {
    "duration": 1179,
    "start_time": "2023-05-16T18:42:51.200Z"
   },
   {
    "duration": 9,
    "start_time": "2023-05-16T18:43:57.492Z"
   },
   {
    "duration": 110,
    "start_time": "2023-05-16T18:43:58.619Z"
   },
   {
    "duration": 10,
    "start_time": "2023-05-16T18:44:54.751Z"
   },
   {
    "duration": 1509,
    "start_time": "2023-05-16T18:45:04.745Z"
   },
   {
    "duration": 15,
    "start_time": "2023-05-16T18:45:36.592Z"
   },
   {
    "duration": 9,
    "start_time": "2023-05-16T18:45:48.902Z"
   },
   {
    "duration": 6,
    "start_time": "2023-05-16T18:45:54.219Z"
   },
   {
    "duration": 148,
    "start_time": "2023-05-16T18:46:11.842Z"
   },
   {
    "duration": 24,
    "start_time": "2023-05-16T18:46:18.093Z"
   },
   {
    "duration": 140,
    "start_time": "2023-05-16T18:46:42.026Z"
   },
   {
    "duration": 24,
    "start_time": "2023-05-16T18:46:45.696Z"
   },
   {
    "duration": 122,
    "start_time": "2023-05-16T18:47:17.213Z"
   },
   {
    "duration": 140,
    "start_time": "2023-05-16T18:47:34.700Z"
   },
   {
    "duration": 142,
    "start_time": "2023-05-16T18:47:44.345Z"
   },
   {
    "duration": 383,
    "start_time": "2023-05-17T05:45:01.012Z"
   },
   {
    "duration": 99,
    "start_time": "2023-05-17T05:45:01.398Z"
   },
   {
    "duration": 13,
    "start_time": "2023-05-17T05:45:01.499Z"
   },
   {
    "duration": 32,
    "start_time": "2023-05-17T05:45:01.514Z"
   },
   {
    "duration": 117,
    "start_time": "2023-05-17T05:45:01.548Z"
   },
   {
    "duration": 92,
    "start_time": "2023-05-17T05:45:01.668Z"
   },
   {
    "duration": 32,
    "start_time": "2023-05-17T05:45:01.770Z"
   },
   {
    "duration": 33,
    "start_time": "2023-05-17T05:45:01.804Z"
   },
   {
    "duration": 65,
    "start_time": "2023-05-17T05:45:01.840Z"
   },
   {
    "duration": 1113,
    "start_time": "2023-05-17T05:45:01.908Z"
   },
   {
    "duration": 210,
    "start_time": "2023-05-17T05:45:03.024Z"
   },
   {
    "duration": 368,
    "start_time": "2023-05-17T05:45:03.235Z"
   },
   {
    "duration": 238,
    "start_time": "2023-05-17T05:45:03.605Z"
   },
   {
    "duration": 343,
    "start_time": "2023-05-17T05:45:03.845Z"
   },
   {
    "duration": 15,
    "start_time": "2023-05-17T05:45:04.190Z"
   },
   {
    "duration": 147,
    "start_time": "2023-05-17T05:45:04.212Z"
   },
   {
    "duration": 14,
    "start_time": "2023-05-17T05:45:04.366Z"
   },
   {
    "duration": 11,
    "start_time": "2023-05-17T05:45:04.382Z"
   },
   {
    "duration": 12,
    "start_time": "2023-05-17T05:45:04.395Z"
   },
   {
    "duration": 187,
    "start_time": "2023-05-17T05:45:04.409Z"
   },
   {
    "duration": 5,
    "start_time": "2023-05-17T05:45:04.598Z"
   },
   {
    "duration": 999,
    "start_time": "2023-05-17T05:45:04.605Z"
   },
   {
    "duration": 15,
    "start_time": "2023-05-17T05:45:05.605Z"
   },
   {
    "duration": 204,
    "start_time": "2023-05-17T05:45:05.622Z"
   },
   {
    "duration": 45,
    "start_time": "2023-05-17T05:45:05.828Z"
   },
   {
    "duration": 19,
    "start_time": "2023-05-17T05:53:52.372Z"
   },
   {
    "duration": 252,
    "start_time": "2023-05-17T06:02:00.101Z"
   },
   {
    "duration": 293,
    "start_time": "2023-05-17T06:02:18.150Z"
   },
   {
    "duration": 7,
    "start_time": "2023-05-17T06:08:34.469Z"
   },
   {
    "duration": 7,
    "start_time": "2023-05-17T06:08:38.086Z"
   },
   {
    "duration": 10,
    "start_time": "2023-05-17T06:08:49.915Z"
   },
   {
    "duration": 71,
    "start_time": "2023-05-17T06:09:03.804Z"
   },
   {
    "duration": 6,
    "start_time": "2023-05-17T06:09:09.809Z"
   },
   {
    "duration": 12,
    "start_time": "2023-05-17T06:09:20.830Z"
   },
   {
    "duration": 13,
    "start_time": "2023-05-17T06:09:45.884Z"
   },
   {
    "duration": 19,
    "start_time": "2023-05-17T06:09:52.459Z"
   },
   {
    "duration": 16,
    "start_time": "2023-05-17T06:10:40.043Z"
   },
   {
    "duration": 112,
    "start_time": "2023-05-17T06:11:40.320Z"
   },
   {
    "duration": 10,
    "start_time": "2023-05-17T06:12:09.968Z"
   },
   {
    "duration": 11,
    "start_time": "2023-05-17T06:12:27.591Z"
   },
   {
    "duration": 199,
    "start_time": "2023-05-17T06:15:07.858Z"
   },
   {
    "duration": 262,
    "start_time": "2023-05-17T06:22:29.984Z"
   },
   {
    "duration": 313,
    "start_time": "2023-05-17T06:24:33.892Z"
   },
   {
    "duration": 5,
    "start_time": "2023-05-17T06:31:04.093Z"
   },
   {
    "duration": 5,
    "start_time": "2023-05-17T06:31:25.870Z"
   },
   {
    "duration": 5,
    "start_time": "2023-05-17T06:32:44.516Z"
   },
   {
    "duration": 4,
    "start_time": "2023-05-17T06:33:25.669Z"
   },
   {
    "duration": 236,
    "start_time": "2023-05-17T06:46:52.699Z"
   },
   {
    "duration": 72,
    "start_time": "2023-05-17T06:51:55.021Z"
   },
   {
    "duration": 278,
    "start_time": "2023-05-17T06:52:06.746Z"
   },
   {
    "duration": 318,
    "start_time": "2023-05-17T06:52:14.074Z"
   },
   {
    "duration": 234,
    "start_time": "2023-05-17T06:52:37.088Z"
   },
   {
    "duration": 278,
    "start_time": "2023-05-17T06:52:47.527Z"
   },
   {
    "duration": 76,
    "start_time": "2023-05-17T06:55:37.842Z"
   },
   {
    "duration": 311,
    "start_time": "2023-05-17T06:55:49.063Z"
   },
   {
    "duration": 317,
    "start_time": "2023-05-17T06:56:24.124Z"
   },
   {
    "duration": 315,
    "start_time": "2023-05-17T06:56:43.047Z"
   },
   {
    "duration": 293,
    "start_time": "2023-05-17T06:58:18.072Z"
   },
   {
    "duration": 310,
    "start_time": "2023-05-17T06:58:30.519Z"
   },
   {
    "duration": 212,
    "start_time": "2023-05-17T06:59:49.984Z"
   },
   {
    "duration": 436,
    "start_time": "2023-05-17T07:00:03.719Z"
   },
   {
    "duration": 236,
    "start_time": "2023-05-17T07:01:16.579Z"
   },
   {
    "duration": 586,
    "start_time": "2023-05-17T07:02:00.950Z"
   },
   {
    "duration": 580,
    "start_time": "2023-05-17T07:19:05.374Z"
   },
   {
    "duration": 579,
    "start_time": "2023-05-17T07:19:28.241Z"
   },
   {
    "duration": 538,
    "start_time": "2023-05-17T07:20:29.412Z"
   },
   {
    "duration": 17,
    "start_time": "2023-05-17T07:30:26.739Z"
   },
   {
    "duration": 49,
    "start_time": "2023-05-17T18:45:12.513Z"
   },
   {
    "duration": 442,
    "start_time": "2023-05-17T18:45:19.233Z"
   },
   {
    "duration": 79,
    "start_time": "2023-05-17T18:45:19.677Z"
   },
   {
    "duration": 5,
    "start_time": "2023-05-17T18:45:19.757Z"
   },
   {
    "duration": 16,
    "start_time": "2023-05-17T18:45:19.765Z"
   },
   {
    "duration": 11,
    "start_time": "2023-05-17T18:45:19.782Z"
   },
   {
    "duration": 178,
    "start_time": "2023-05-17T18:45:19.795Z"
   },
   {
    "duration": 4,
    "start_time": "2023-05-17T18:45:19.976Z"
   },
   {
    "duration": 5,
    "start_time": "2023-05-17T18:45:19.982Z"
   },
   {
    "duration": 24,
    "start_time": "2023-05-17T18:45:19.989Z"
   },
   {
    "duration": 14,
    "start_time": "2023-05-17T18:45:20.015Z"
   },
   {
    "duration": 34,
    "start_time": "2023-05-17T18:45:20.031Z"
   },
   {
    "duration": 939,
    "start_time": "2023-05-17T18:45:20.067Z"
   },
   {
    "duration": 192,
    "start_time": "2023-05-17T18:45:21.008Z"
   },
   {
    "duration": 380,
    "start_time": "2023-05-17T18:45:21.202Z"
   },
   {
    "duration": 184,
    "start_time": "2023-05-17T18:45:21.584Z"
   },
   {
    "duration": 189,
    "start_time": "2023-05-17T18:45:21.770Z"
   },
   {
    "duration": 260,
    "start_time": "2023-05-17T18:45:21.961Z"
   },
   {
    "duration": 10,
    "start_time": "2023-05-17T18:45:22.222Z"
   },
   {
    "duration": 127,
    "start_time": "2023-05-17T18:45:22.233Z"
   },
   {
    "duration": 5,
    "start_time": "2023-05-17T18:45:22.361Z"
   },
   {
    "duration": 19,
    "start_time": "2023-05-17T18:45:22.368Z"
   },
   {
    "duration": 148,
    "start_time": "2023-05-17T18:45:22.388Z"
   },
   {
    "duration": 13,
    "start_time": "2023-05-17T18:45:22.538Z"
   },
   {
    "duration": 953,
    "start_time": "2023-05-17T18:45:22.553Z"
   },
   {
    "duration": 13,
    "start_time": "2023-05-17T18:45:23.509Z"
   },
   {
    "duration": 174,
    "start_time": "2023-05-17T18:45:23.523Z"
   },
   {
    "duration": 25,
    "start_time": "2023-05-17T18:45:23.699Z"
   },
   {
    "duration": 160,
    "start_time": "2023-05-17T18:50:49.487Z"
   },
   {
    "duration": 191,
    "start_time": "2023-05-17T18:51:00.816Z"
   },
   {
    "duration": 188,
    "start_time": "2023-05-17T18:57:45.311Z"
   },
   {
    "duration": 305,
    "start_time": "2023-05-17T19:03:59.716Z"
   },
   {
    "duration": 520,
    "start_time": "2023-05-17T19:21:08.003Z"
   },
   {
    "duration": 478,
    "start_time": "2023-05-17T19:21:35.474Z"
   },
   {
    "duration": 173,
    "start_time": "2023-05-17T19:39:01.892Z"
   },
   {
    "duration": 320,
    "start_time": "2023-05-17T19:42:15.386Z"
   },
   {
    "duration": 50,
    "start_time": "2023-05-18T06:06:55.813Z"
   },
   {
    "duration": 380,
    "start_time": "2023-05-18T06:07:01.017Z"
   },
   {
    "duration": 83,
    "start_time": "2023-05-18T06:07:01.399Z"
   },
   {
    "duration": 8,
    "start_time": "2023-05-18T06:07:01.485Z"
   },
   {
    "duration": 53,
    "start_time": "2023-05-18T06:07:01.495Z"
   },
   {
    "duration": 55,
    "start_time": "2023-05-18T06:07:01.549Z"
   },
   {
    "duration": 198,
    "start_time": "2023-05-18T06:07:01.605Z"
   },
   {
    "duration": 5,
    "start_time": "2023-05-18T06:07:01.805Z"
   },
   {
    "duration": 24,
    "start_time": "2023-05-18T06:07:01.813Z"
   },
   {
    "duration": 75,
    "start_time": "2023-05-18T06:07:01.839Z"
   },
   {
    "duration": 46,
    "start_time": "2023-05-18T06:07:01.917Z"
   },
   {
    "duration": 54,
    "start_time": "2023-05-18T06:07:01.966Z"
   },
   {
    "duration": 978,
    "start_time": "2023-05-18T06:07:02.022Z"
   },
   {
    "duration": 179,
    "start_time": "2023-05-18T06:07:03.002Z"
   },
   {
    "duration": 337,
    "start_time": "2023-05-18T06:07:03.188Z"
   },
   {
    "duration": 238,
    "start_time": "2023-05-18T06:07:03.527Z"
   },
   {
    "duration": 348,
    "start_time": "2023-05-18T06:07:03.775Z"
   },
   {
    "duration": 11,
    "start_time": "2023-05-18T06:07:04.127Z"
   },
   {
    "duration": 179,
    "start_time": "2023-05-18T06:07:04.140Z"
   },
   {
    "duration": 6,
    "start_time": "2023-05-18T06:07:04.321Z"
   },
   {
    "duration": 11,
    "start_time": "2023-05-18T06:07:04.330Z"
   },
   {
    "duration": 160,
    "start_time": "2023-05-18T06:07:04.343Z"
   },
   {
    "duration": 5,
    "start_time": "2023-05-18T06:07:04.505Z"
   },
   {
    "duration": 987,
    "start_time": "2023-05-18T06:07:04.512Z"
   },
   {
    "duration": 12,
    "start_time": "2023-05-18T06:07:05.501Z"
   },
   {
    "duration": 182,
    "start_time": "2023-05-18T06:07:05.514Z"
   },
   {
    "duration": 1797,
    "start_time": "2023-05-18T06:07:05.699Z"
   },
   {
    "duration": 0,
    "start_time": "2023-05-18T06:07:07.498Z"
   },
   {
    "duration": 1637,
    "start_time": "2023-05-18T06:07:51.497Z"
   },
   {
    "duration": 45,
    "start_time": "2023-05-18T06:08:07.048Z"
   },
   {
    "duration": 44,
    "start_time": "2023-05-18T06:08:19.068Z"
   },
   {
    "duration": 227,
    "start_time": "2023-05-18T06:09:49.796Z"
   },
   {
    "duration": 293,
    "start_time": "2023-05-18T06:10:05.619Z"
   },
   {
    "duration": 14,
    "start_time": "2023-05-18T06:14:38.111Z"
   },
   {
    "duration": 41,
    "start_time": "2023-05-18T06:16:25.101Z"
   },
   {
    "duration": 48,
    "start_time": "2023-05-18T06:16:53.669Z"
   },
   {
    "duration": 26,
    "start_time": "2023-05-18T06:17:06.635Z"
   },
   {
    "duration": 502,
    "start_time": "2023-05-18T06:18:58.592Z"
   },
   {
    "duration": 1319,
    "start_time": "2023-05-18T06:22:22.537Z"
   },
   {
    "duration": 1257,
    "start_time": "2023-05-18T06:22:42.395Z"
   },
   {
    "duration": 5,
    "start_time": "2023-05-18T06:22:57.452Z"
   },
   {
    "duration": 46,
    "start_time": "2023-05-18T06:22:57.579Z"
   },
   {
    "duration": 5,
    "start_time": "2023-05-18T06:22:57.628Z"
   },
   {
    "duration": 12,
    "start_time": "2023-05-18T06:22:57.635Z"
   },
   {
    "duration": 11,
    "start_time": "2023-05-18T06:22:57.649Z"
   },
   {
    "duration": 81,
    "start_time": "2023-05-18T06:22:57.663Z"
   },
   {
    "duration": 5,
    "start_time": "2023-05-18T06:22:57.746Z"
   },
   {
    "duration": 6,
    "start_time": "2023-05-18T06:22:57.752Z"
   },
   {
    "duration": 31,
    "start_time": "2023-05-18T06:22:57.759Z"
   },
   {
    "duration": 22,
    "start_time": "2023-05-18T06:22:57.791Z"
   },
   {
    "duration": 32,
    "start_time": "2023-05-18T06:22:57.815Z"
   },
   {
    "duration": 662,
    "start_time": "2023-05-18T06:22:57.850Z"
   },
   {
    "duration": 214,
    "start_time": "2023-05-18T06:22:58.514Z"
   },
   {
    "duration": 334,
    "start_time": "2023-05-18T06:22:58.730Z"
   },
   {
    "duration": 248,
    "start_time": "2023-05-18T06:22:59.074Z"
   },
   {
    "duration": 330,
    "start_time": "2023-05-18T06:22:59.324Z"
   },
   {
    "duration": 27,
    "start_time": "2023-05-18T06:22:59.656Z"
   },
   {
    "duration": 120,
    "start_time": "2023-05-18T06:22:59.687Z"
   },
   {
    "duration": 6,
    "start_time": "2023-05-18T06:22:59.809Z"
   },
   {
    "duration": 17,
    "start_time": "2023-05-18T06:22:59.816Z"
   },
   {
    "duration": 167,
    "start_time": "2023-05-18T06:22:59.835Z"
   },
   {
    "duration": 5,
    "start_time": "2023-05-18T06:23:00.004Z"
   },
   {
    "duration": 617,
    "start_time": "2023-05-18T06:23:00.011Z"
   },
   {
    "duration": 10,
    "start_time": "2023-05-18T06:23:00.630Z"
   },
   {
    "duration": 254,
    "start_time": "2023-05-18T06:23:00.642Z"
   },
   {
    "duration": 32,
    "start_time": "2023-05-18T06:23:00.900Z"
   },
   {
    "duration": 75,
    "start_time": "2023-05-18T06:23:00.934Z"
   },
   {
    "duration": 41,
    "start_time": "2023-05-18T06:27:16.210Z"
   },
   {
    "duration": 495,
    "start_time": "2023-05-18T06:28:46.974Z"
   },
   {
    "duration": 16,
    "start_time": "2023-05-18T06:30:54.307Z"
   },
   {
    "duration": 17,
    "start_time": "2023-05-18T06:50:50.565Z"
   },
   {
    "duration": 29,
    "start_time": "2023-05-18T06:53:22.170Z"
   },
   {
    "duration": 14,
    "start_time": "2023-05-18T06:56:32.117Z"
   },
   {
    "duration": 13,
    "start_time": "2023-05-18T06:56:43.116Z"
   },
   {
    "duration": 3,
    "start_time": "2023-05-18T06:59:21.107Z"
   },
   {
    "duration": 40,
    "start_time": "2023-05-18T06:59:21.140Z"
   },
   {
    "duration": 8,
    "start_time": "2023-05-18T06:59:21.183Z"
   },
   {
    "duration": 25,
    "start_time": "2023-05-18T06:59:21.193Z"
   },
   {
    "duration": 19,
    "start_time": "2023-05-18T06:59:21.364Z"
   },
   {
    "duration": 63,
    "start_time": "2023-05-18T06:59:21.385Z"
   },
   {
    "duration": 5,
    "start_time": "2023-05-18T06:59:21.449Z"
   },
   {
    "duration": 9,
    "start_time": "2023-05-18T06:59:21.456Z"
   },
   {
    "duration": 25,
    "start_time": "2023-05-18T06:59:21.466Z"
   },
   {
    "duration": 10,
    "start_time": "2023-05-18T06:59:21.493Z"
   },
   {
    "duration": 10,
    "start_time": "2023-05-18T06:59:21.505Z"
   },
   {
    "duration": 473,
    "start_time": "2023-05-18T06:59:21.516Z"
   },
   {
    "duration": 171,
    "start_time": "2023-05-18T06:59:21.991Z"
   },
   {
    "duration": 382,
    "start_time": "2023-05-18T06:59:22.164Z"
   },
   {
    "duration": 193,
    "start_time": "2023-05-18T06:59:22.548Z"
   },
   {
    "duration": 327,
    "start_time": "2023-05-18T06:59:22.743Z"
   },
   {
    "duration": 10,
    "start_time": "2023-05-18T06:59:23.082Z"
   },
   {
    "duration": 117,
    "start_time": "2023-05-18T06:59:23.094Z"
   },
   {
    "duration": 5,
    "start_time": "2023-05-18T06:59:23.212Z"
   },
   {
    "duration": 16,
    "start_time": "2023-05-18T06:59:23.218Z"
   },
   {
    "duration": 138,
    "start_time": "2023-05-18T06:59:23.235Z"
   },
   {
    "duration": 13,
    "start_time": "2023-05-18T06:59:23.374Z"
   },
   {
    "duration": 517,
    "start_time": "2023-05-18T06:59:23.389Z"
   },
   {
    "duration": 11,
    "start_time": "2023-05-18T06:59:23.907Z"
   },
   {
    "duration": 229,
    "start_time": "2023-05-18T06:59:23.919Z"
   },
   {
    "duration": 49,
    "start_time": "2023-05-18T06:59:24.150Z"
   },
   {
    "duration": 17,
    "start_time": "2023-05-18T06:59:24.201Z"
   },
   {
    "duration": 10,
    "start_time": "2023-05-18T07:02:25.798Z"
   },
   {
    "duration": 128,
    "start_time": "2023-05-18T07:05:02.672Z"
   },
   {
    "duration": 81,
    "start_time": "2023-05-18T07:08:50.773Z"
   },
   {
    "duration": 179,
    "start_time": "2023-05-18T07:12:11.214Z"
   },
   {
    "duration": 2,
    "start_time": "2023-05-18T17:35:35.258Z"
   },
   {
    "duration": 75,
    "start_time": "2023-05-18T17:35:35.274Z"
   },
   {
    "duration": 4,
    "start_time": "2023-05-18T17:35:35.351Z"
   },
   {
    "duration": 12,
    "start_time": "2023-05-18T17:35:35.356Z"
   },
   {
    "duration": 22,
    "start_time": "2023-05-18T17:35:35.369Z"
   },
   {
    "duration": 153,
    "start_time": "2023-05-18T17:35:35.392Z"
   },
   {
    "duration": 5,
    "start_time": "2023-05-18T17:35:35.547Z"
   },
   {
    "duration": 14,
    "start_time": "2023-05-18T17:35:35.554Z"
   },
   {
    "duration": 35,
    "start_time": "2023-05-18T17:35:35.570Z"
   },
   {
    "duration": 12,
    "start_time": "2023-05-18T17:35:35.607Z"
   },
   {
    "duration": 11,
    "start_time": "2023-05-18T17:35:35.621Z"
   },
   {
    "duration": 474,
    "start_time": "2023-05-18T17:35:35.634Z"
   },
   {
    "duration": 186,
    "start_time": "2023-05-18T17:35:36.110Z"
   },
   {
    "duration": 271,
    "start_time": "2023-05-18T17:35:36.298Z"
   },
   {
    "duration": 199,
    "start_time": "2023-05-18T17:35:36.571Z"
   },
   {
    "duration": 311,
    "start_time": "2023-05-18T17:35:36.774Z"
   },
   {
    "duration": 9,
    "start_time": "2023-05-18T17:35:37.087Z"
   },
   {
    "duration": 216,
    "start_time": "2023-05-18T17:35:37.097Z"
   },
   {
    "duration": 5,
    "start_time": "2023-05-18T17:35:37.315Z"
   },
   {
    "duration": 11,
    "start_time": "2023-05-18T17:35:37.321Z"
   },
   {
    "duration": 155,
    "start_time": "2023-05-18T17:35:37.333Z"
   },
   {
    "duration": 4,
    "start_time": "2023-05-18T17:35:37.490Z"
   },
   {
    "duration": 494,
    "start_time": "2023-05-18T17:35:37.496Z"
   },
   {
    "duration": 10,
    "start_time": "2023-05-18T17:35:37.991Z"
   },
   {
    "duration": 155,
    "start_time": "2023-05-18T17:35:38.003Z"
   },
   {
    "duration": 33,
    "start_time": "2023-05-18T17:35:38.159Z"
   },
   {
    "duration": 15,
    "start_time": "2023-05-18T17:35:38.194Z"
   },
   {
    "duration": 444,
    "start_time": "2023-05-19T10:18:52.764Z"
   },
   {
    "duration": 36,
    "start_time": "2023-05-19T10:18:53.210Z"
   },
   {
    "duration": 6,
    "start_time": "2023-05-19T10:18:53.248Z"
   },
   {
    "duration": 26,
    "start_time": "2023-05-19T10:18:53.257Z"
   },
   {
    "duration": 18,
    "start_time": "2023-05-19T10:18:53.285Z"
   },
   {
    "duration": 64,
    "start_time": "2023-05-19T10:18:53.304Z"
   },
   {
    "duration": 6,
    "start_time": "2023-05-19T10:18:53.370Z"
   },
   {
    "duration": 21,
    "start_time": "2023-05-19T10:18:53.381Z"
   },
   {
    "duration": 32,
    "start_time": "2023-05-19T10:18:53.405Z"
   },
   {
    "duration": 1022,
    "start_time": "2023-05-19T10:18:53.440Z"
   },
   {
    "duration": 279,
    "start_time": "2023-05-19T10:18:54.464Z"
   },
   {
    "duration": 370,
    "start_time": "2023-05-19T10:18:54.745Z"
   },
   {
    "duration": 271,
    "start_time": "2023-05-19T10:18:55.116Z"
   },
   {
    "duration": 320,
    "start_time": "2023-05-19T10:18:55.390Z"
   },
   {
    "duration": 10,
    "start_time": "2023-05-19T10:18:55.712Z"
   },
   {
    "duration": 164,
    "start_time": "2023-05-19T10:18:55.725Z"
   },
   {
    "duration": 9,
    "start_time": "2023-05-19T10:18:55.890Z"
   },
   {
    "duration": 10,
    "start_time": "2023-05-19T10:18:55.904Z"
   },
   {
    "duration": 179,
    "start_time": "2023-05-19T10:18:55.916Z"
   },
   {
    "duration": 9,
    "start_time": "2023-05-19T10:18:56.100Z"
   },
   {
    "duration": 961,
    "start_time": "2023-05-19T10:18:56.110Z"
   },
   {
    "duration": 22,
    "start_time": "2023-05-19T10:18:57.077Z"
   },
   {
    "duration": 259,
    "start_time": "2023-05-19T10:18:57.102Z"
   },
   {
    "duration": 52,
    "start_time": "2023-05-19T10:18:57.362Z"
   },
   {
    "duration": 22,
    "start_time": "2023-05-19T10:18:57.416Z"
   },
   {
    "duration": 109,
    "start_time": "2023-05-19T10:19:38.296Z"
   },
   {
    "duration": 149,
    "start_time": "2023-05-19T10:19:39.153Z"
   },
   {
    "duration": 150,
    "start_time": "2023-05-19T10:23:02.162Z"
   },
   {
    "duration": 427,
    "start_time": "2023-05-19T18:06:37.227Z"
   },
   {
    "duration": 85,
    "start_time": "2023-05-19T18:06:37.656Z"
   },
   {
    "duration": 5,
    "start_time": "2023-05-19T18:06:37.742Z"
   },
   {
    "duration": 17,
    "start_time": "2023-05-19T18:06:37.749Z"
   },
   {
    "duration": 15,
    "start_time": "2023-05-19T18:06:37.768Z"
   },
   {
    "duration": 169,
    "start_time": "2023-05-19T18:06:37.785Z"
   },
   {
    "duration": 5,
    "start_time": "2023-05-19T18:06:37.955Z"
   },
   {
    "duration": 14,
    "start_time": "2023-05-19T18:06:37.962Z"
   },
   {
    "duration": 27,
    "start_time": "2023-05-19T18:06:37.978Z"
   },
   {
    "duration": 895,
    "start_time": "2023-05-19T18:06:38.009Z"
   },
   {
    "duration": 194,
    "start_time": "2023-05-19T18:06:38.906Z"
   },
   {
    "duration": 376,
    "start_time": "2023-05-19T18:06:39.102Z"
   },
   {
    "duration": 211,
    "start_time": "2023-05-19T18:06:39.480Z"
   },
   {
    "duration": 289,
    "start_time": "2023-05-19T18:06:39.693Z"
   },
   {
    "duration": 11,
    "start_time": "2023-05-19T18:06:39.984Z"
   },
   {
    "duration": 138,
    "start_time": "2023-05-19T18:06:39.996Z"
   },
   {
    "duration": 5,
    "start_time": "2023-05-19T18:06:40.136Z"
   },
   {
    "duration": 20,
    "start_time": "2023-05-19T18:06:40.142Z"
   },
   {
    "duration": 173,
    "start_time": "2023-05-19T18:06:40.164Z"
   },
   {
    "duration": 5,
    "start_time": "2023-05-19T18:06:40.339Z"
   },
   {
    "duration": 1028,
    "start_time": "2023-05-19T18:06:40.346Z"
   },
   {
    "duration": 12,
    "start_time": "2023-05-19T18:06:41.375Z"
   },
   {
    "duration": 153,
    "start_time": "2023-05-19T18:06:41.388Z"
   },
   {
    "duration": 35,
    "start_time": "2023-05-19T18:06:41.543Z"
   },
   {
    "duration": 16,
    "start_time": "2023-05-19T18:06:41.580Z"
   },
   {
    "duration": 34,
    "start_time": "2023-05-19T18:13:30.593Z"
   },
   {
    "duration": 42,
    "start_time": "2023-05-19T18:13:39.972Z"
   },
   {
    "duration": 13,
    "start_time": "2023-05-19T18:13:55.530Z"
   },
   {
    "duration": 13,
    "start_time": "2023-05-19T18:14:01.161Z"
   },
   {
    "duration": 1237,
    "start_time": "2023-05-19T18:18:37.945Z"
   },
   {
    "duration": 1210,
    "start_time": "2023-05-19T18:19:40.618Z"
   },
   {
    "duration": 3,
    "start_time": "2023-05-19T18:19:54.368Z"
   },
   {
    "duration": 44,
    "start_time": "2023-05-19T18:19:54.373Z"
   },
   {
    "duration": 12,
    "start_time": "2023-05-19T18:19:54.418Z"
   },
   {
    "duration": 13,
    "start_time": "2023-05-19T18:19:54.432Z"
   },
   {
    "duration": 68,
    "start_time": "2023-05-19T18:19:54.447Z"
   },
   {
    "duration": 5,
    "start_time": "2023-05-19T18:19:54.516Z"
   },
   {
    "duration": 8,
    "start_time": "2023-05-19T18:19:54.523Z"
   },
   {
    "duration": 22,
    "start_time": "2023-05-19T18:19:54.532Z"
   },
   {
    "duration": 1142,
    "start_time": "2023-05-19T18:19:54.556Z"
   },
   {
    "duration": 0,
    "start_time": "2023-05-19T18:19:55.700Z"
   },
   {
    "duration": 0,
    "start_time": "2023-05-19T18:19:55.701Z"
   },
   {
    "duration": 0,
    "start_time": "2023-05-19T18:19:55.702Z"
   },
   {
    "duration": 0,
    "start_time": "2023-05-19T18:19:55.703Z"
   },
   {
    "duration": 0,
    "start_time": "2023-05-19T18:19:55.704Z"
   },
   {
    "duration": 0,
    "start_time": "2023-05-19T18:19:55.706Z"
   },
   {
    "duration": 0,
    "start_time": "2023-05-19T18:19:55.706Z"
   },
   {
    "duration": 0,
    "start_time": "2023-05-19T18:19:55.707Z"
   },
   {
    "duration": 0,
    "start_time": "2023-05-19T18:19:55.708Z"
   },
   {
    "duration": 0,
    "start_time": "2023-05-19T18:19:55.710Z"
   },
   {
    "duration": 0,
    "start_time": "2023-05-19T18:19:55.711Z"
   },
   {
    "duration": 0,
    "start_time": "2023-05-19T18:19:55.712Z"
   },
   {
    "duration": 0,
    "start_time": "2023-05-19T18:19:55.713Z"
   },
   {
    "duration": 0,
    "start_time": "2023-05-19T18:19:55.714Z"
   },
   {
    "duration": 0,
    "start_time": "2023-05-19T18:19:55.716Z"
   },
   {
    "duration": 0,
    "start_time": "2023-05-19T18:19:55.717Z"
   },
   {
    "duration": 1163,
    "start_time": "2023-05-19T18:20:47.127Z"
   },
   {
    "duration": 1188,
    "start_time": "2023-05-19T18:21:19.140Z"
   },
   {
    "duration": 1242,
    "start_time": "2023-05-19T18:21:24.785Z"
   },
   {
    "duration": 10,
    "start_time": "2023-05-19T18:21:40.720Z"
   },
   {
    "duration": 4,
    "start_time": "2023-05-19T18:22:09.073Z"
   },
   {
    "duration": 5,
    "start_time": "2023-05-19T18:22:14.239Z"
   },
   {
    "duration": 5,
    "start_time": "2023-05-19T18:23:42.959Z"
   },
   {
    "duration": 6,
    "start_time": "2023-05-19T18:26:12.515Z"
   },
   {
    "duration": 6,
    "start_time": "2023-05-19T18:26:16.567Z"
   },
   {
    "duration": 8,
    "start_time": "2023-05-19T18:26:23.263Z"
   },
   {
    "duration": 18,
    "start_time": "2023-05-19T18:27:17.830Z"
   },
   {
    "duration": 14,
    "start_time": "2023-05-19T18:35:06.743Z"
   },
   {
    "duration": 6,
    "start_time": "2023-05-19T18:35:51.839Z"
   },
   {
    "duration": 6,
    "start_time": "2023-05-19T18:35:55.073Z"
   },
   {
    "duration": 16,
    "start_time": "2023-05-19T18:35:59.958Z"
   },
   {
    "duration": 11,
    "start_time": "2023-05-19T18:45:44.822Z"
   },
   {
    "duration": 4,
    "start_time": "2023-05-19T18:46:15.079Z"
   },
   {
    "duration": 8,
    "start_time": "2023-05-19T18:46:30.181Z"
   },
   {
    "duration": 3,
    "start_time": "2023-05-19T18:46:34.606Z"
   },
   {
    "duration": 35,
    "start_time": "2023-05-19T18:46:34.611Z"
   },
   {
    "duration": 11,
    "start_time": "2023-05-19T18:46:34.647Z"
   },
   {
    "duration": 15,
    "start_time": "2023-05-19T18:46:34.660Z"
   },
   {
    "duration": 69,
    "start_time": "2023-05-19T18:46:34.678Z"
   },
   {
    "duration": 4,
    "start_time": "2023-05-19T18:46:34.749Z"
   },
   {
    "duration": 6,
    "start_time": "2023-05-19T18:46:34.754Z"
   },
   {
    "duration": 26,
    "start_time": "2023-05-19T18:46:34.761Z"
   },
   {
    "duration": 11,
    "start_time": "2023-05-19T18:46:34.789Z"
   },
   {
    "duration": 18,
    "start_time": "2023-05-19T18:46:34.802Z"
   },
   {
    "duration": 14,
    "start_time": "2023-05-19T18:46:34.822Z"
   },
   {
    "duration": 466,
    "start_time": "2023-05-19T18:46:34.837Z"
   },
   {
    "duration": 185,
    "start_time": "2023-05-19T18:46:35.304Z"
   },
   {
    "duration": 241,
    "start_time": "2023-05-19T18:46:35.491Z"
   },
   {
    "duration": 199,
    "start_time": "2023-05-19T18:46:35.734Z"
   },
   {
    "duration": 347,
    "start_time": "2023-05-19T18:46:35.935Z"
   },
   {
    "duration": 10,
    "start_time": "2023-05-19T18:46:36.285Z"
   },
   {
    "duration": 140,
    "start_time": "2023-05-19T18:46:36.296Z"
   },
   {
    "duration": 5,
    "start_time": "2023-05-19T18:46:36.438Z"
   },
   {
    "duration": 21,
    "start_time": "2023-05-19T18:46:36.445Z"
   },
   {
    "duration": 153,
    "start_time": "2023-05-19T18:46:36.467Z"
   },
   {
    "duration": 6,
    "start_time": "2023-05-19T18:46:36.622Z"
   },
   {
    "duration": 501,
    "start_time": "2023-05-19T18:46:36.629Z"
   },
   {
    "duration": 10,
    "start_time": "2023-05-19T18:46:37.132Z"
   },
   {
    "duration": 161,
    "start_time": "2023-05-19T18:46:37.143Z"
   },
   {
    "duration": 26,
    "start_time": "2023-05-19T18:46:37.306Z"
   },
   {
    "duration": 32,
    "start_time": "2023-05-19T18:46:37.334Z"
   },
   {
    "duration": 9,
    "start_time": "2023-05-19T18:47:34.864Z"
   },
   {
    "duration": 3,
    "start_time": "2023-05-19T18:47:38.469Z"
   },
   {
    "duration": 44,
    "start_time": "2023-05-19T18:47:38.473Z"
   },
   {
    "duration": 11,
    "start_time": "2023-05-19T18:47:38.518Z"
   },
   {
    "duration": 19,
    "start_time": "2023-05-19T18:47:38.531Z"
   },
   {
    "duration": 83,
    "start_time": "2023-05-19T18:47:38.552Z"
   },
   {
    "duration": 4,
    "start_time": "2023-05-19T18:47:38.637Z"
   },
   {
    "duration": 9,
    "start_time": "2023-05-19T18:47:38.642Z"
   },
   {
    "duration": 42,
    "start_time": "2023-05-19T18:47:38.653Z"
   },
   {
    "duration": 5,
    "start_time": "2023-05-19T18:47:38.698Z"
   },
   {
    "duration": 16,
    "start_time": "2023-05-19T18:47:38.705Z"
   },
   {
    "duration": 14,
    "start_time": "2023-05-19T18:47:38.725Z"
   },
   {
    "duration": 430,
    "start_time": "2023-05-19T18:47:38.741Z"
   },
   {
    "duration": 174,
    "start_time": "2023-05-19T18:47:39.172Z"
   },
   {
    "duration": 359,
    "start_time": "2023-05-19T18:47:39.348Z"
   },
   {
    "duration": 182,
    "start_time": "2023-05-19T18:47:39.709Z"
   },
   {
    "duration": 297,
    "start_time": "2023-05-19T18:47:39.892Z"
   },
   {
    "duration": 11,
    "start_time": "2023-05-19T18:47:40.190Z"
   },
   {
    "duration": 134,
    "start_time": "2023-05-19T18:47:40.204Z"
   },
   {
    "duration": 5,
    "start_time": "2023-05-19T18:47:40.340Z"
   },
   {
    "duration": 10,
    "start_time": "2023-05-19T18:47:40.356Z"
   },
   {
    "duration": 135,
    "start_time": "2023-05-19T18:47:40.367Z"
   },
   {
    "duration": 5,
    "start_time": "2023-05-19T18:47:40.503Z"
   },
   {
    "duration": 483,
    "start_time": "2023-05-19T18:47:40.509Z"
   },
   {
    "duration": 10,
    "start_time": "2023-05-19T18:47:40.994Z"
   },
   {
    "duration": 146,
    "start_time": "2023-05-19T18:47:41.005Z"
   },
   {
    "duration": 29,
    "start_time": "2023-05-19T18:47:41.153Z"
   },
   {
    "duration": 14,
    "start_time": "2023-05-19T18:47:41.184Z"
   },
   {
    "duration": 9,
    "start_time": "2023-05-19T18:49:51.797Z"
   },
   {
    "duration": 3,
    "start_time": "2023-05-19T18:50:00.073Z"
   },
   {
    "duration": 36,
    "start_time": "2023-05-19T18:50:00.078Z"
   },
   {
    "duration": 13,
    "start_time": "2023-05-19T18:50:00.115Z"
   },
   {
    "duration": 12,
    "start_time": "2023-05-19T18:50:00.130Z"
   },
   {
    "duration": 70,
    "start_time": "2023-05-19T18:50:00.145Z"
   },
   {
    "duration": 5,
    "start_time": "2023-05-19T18:50:00.217Z"
   },
   {
    "duration": 11,
    "start_time": "2023-05-19T18:50:00.224Z"
   },
   {
    "duration": 53,
    "start_time": "2023-05-19T18:50:00.237Z"
   },
   {
    "duration": 7,
    "start_time": "2023-05-19T18:50:00.293Z"
   },
   {
    "duration": 34,
    "start_time": "2023-05-19T18:50:00.302Z"
   },
   {
    "duration": 35,
    "start_time": "2023-05-19T18:50:00.339Z"
   },
   {
    "duration": 473,
    "start_time": "2023-05-19T18:50:00.376Z"
   },
   {
    "duration": 200,
    "start_time": "2023-05-19T18:50:00.851Z"
   },
   {
    "duration": 305,
    "start_time": "2023-05-19T18:50:01.052Z"
   },
   {
    "duration": 207,
    "start_time": "2023-05-19T18:50:01.360Z"
   },
   {
    "duration": 354,
    "start_time": "2023-05-19T18:50:01.569Z"
   },
   {
    "duration": 12,
    "start_time": "2023-05-19T18:50:01.925Z"
   },
   {
    "duration": 141,
    "start_time": "2023-05-19T18:50:01.939Z"
   },
   {
    "duration": 13,
    "start_time": "2023-05-19T18:50:02.082Z"
   },
   {
    "duration": 51,
    "start_time": "2023-05-19T18:50:02.097Z"
   },
   {
    "duration": 271,
    "start_time": "2023-05-19T18:50:02.150Z"
   },
   {
    "duration": 6,
    "start_time": "2023-05-19T18:50:02.423Z"
   },
   {
    "duration": 530,
    "start_time": "2023-05-19T18:50:02.432Z"
   },
   {
    "duration": 11,
    "start_time": "2023-05-19T18:50:02.963Z"
   },
   {
    "duration": 175,
    "start_time": "2023-05-19T18:50:02.976Z"
   },
   {
    "duration": 29,
    "start_time": "2023-05-19T18:50:03.152Z"
   },
   {
    "duration": 23,
    "start_time": "2023-05-19T18:50:03.183Z"
   },
   {
    "duration": 6,
    "start_time": "2023-05-19T18:56:18.492Z"
   },
   {
    "duration": 10,
    "start_time": "2023-05-19T18:56:31.548Z"
   },
   {
    "duration": 12,
    "start_time": "2023-05-19T18:57:01.724Z"
   },
   {
    "duration": 460,
    "start_time": "2023-05-19T18:57:34.868Z"
   },
   {
    "duration": 233,
    "start_time": "2023-05-19T18:57:42.124Z"
   },
   {
    "duration": 264,
    "start_time": "2023-05-19T18:57:47.124Z"
   },
   {
    "duration": 169,
    "start_time": "2023-05-19T18:57:50.948Z"
   },
   {
    "duration": 330,
    "start_time": "2023-05-19T18:57:55.347Z"
   },
   {
    "duration": 1098,
    "start_time": "2023-05-19T18:58:05.739Z"
   },
   {
    "duration": 1133,
    "start_time": "2023-05-19T18:58:22.458Z"
   },
   {
    "duration": 2,
    "start_time": "2023-05-19T18:58:28.348Z"
   },
   {
    "duration": 52,
    "start_time": "2023-05-19T18:58:28.352Z"
   },
   {
    "duration": 10,
    "start_time": "2023-05-19T18:58:28.406Z"
   },
   {
    "duration": 11,
    "start_time": "2023-05-19T18:58:28.418Z"
   },
   {
    "duration": 69,
    "start_time": "2023-05-19T18:58:28.431Z"
   },
   {
    "duration": 4,
    "start_time": "2023-05-19T18:58:28.502Z"
   },
   {
    "duration": 6,
    "start_time": "2023-05-19T18:58:28.508Z"
   },
   {
    "duration": 21,
    "start_time": "2023-05-19T18:58:28.515Z"
   },
   {
    "duration": 16,
    "start_time": "2023-05-19T18:58:28.537Z"
   },
   {
    "duration": 37,
    "start_time": "2023-05-19T18:58:28.554Z"
   },
   {
    "duration": 12,
    "start_time": "2023-05-19T18:58:28.593Z"
   },
   {
    "duration": 424,
    "start_time": "2023-05-19T18:58:28.607Z"
   },
   {
    "duration": 175,
    "start_time": "2023-05-19T18:58:29.033Z"
   },
   {
    "duration": 226,
    "start_time": "2023-05-19T18:58:29.209Z"
   },
   {
    "duration": 197,
    "start_time": "2023-05-19T18:58:29.436Z"
   },
   {
    "duration": 326,
    "start_time": "2023-05-19T18:58:29.635Z"
   },
   {
    "duration": 9,
    "start_time": "2023-05-19T18:58:29.963Z"
   },
   {
    "duration": 227,
    "start_time": "2023-05-19T18:58:29.973Z"
   },
   {
    "duration": 6,
    "start_time": "2023-05-19T18:58:30.201Z"
   },
   {
    "duration": 30,
    "start_time": "2023-05-19T18:58:30.209Z"
   },
   {
    "duration": 150,
    "start_time": "2023-05-19T18:58:30.241Z"
   },
   {
    "duration": 6,
    "start_time": "2023-05-19T18:58:30.393Z"
   },
   {
    "duration": 512,
    "start_time": "2023-05-19T18:58:30.402Z"
   },
   {
    "duration": 12,
    "start_time": "2023-05-19T18:58:30.916Z"
   },
   {
    "duration": 182,
    "start_time": "2023-05-19T18:58:30.930Z"
   },
   {
    "duration": 26,
    "start_time": "2023-05-19T18:58:31.113Z"
   },
   {
    "duration": 25,
    "start_time": "2023-05-19T18:58:31.140Z"
   },
   {
    "duration": 1247,
    "start_time": "2023-05-19T19:39:29.746Z"
   },
   {
    "duration": 10,
    "start_time": "2023-05-19T20:01:15.921Z"
   },
   {
    "duration": 3,
    "start_time": "2023-05-19T20:01:19.239Z"
   },
   {
    "duration": 46,
    "start_time": "2023-05-19T20:01:19.243Z"
   },
   {
    "duration": 13,
    "start_time": "2023-05-19T20:01:19.291Z"
   },
   {
    "duration": 12,
    "start_time": "2023-05-19T20:01:19.306Z"
   },
   {
    "duration": 73,
    "start_time": "2023-05-19T20:01:19.320Z"
   },
   {
    "duration": 4,
    "start_time": "2023-05-19T20:01:19.395Z"
   },
   {
    "duration": 18,
    "start_time": "2023-05-19T20:01:19.401Z"
   },
   {
    "duration": 31,
    "start_time": "2023-05-19T20:01:19.421Z"
   },
   {
    "duration": 7,
    "start_time": "2023-05-19T20:01:19.454Z"
   },
   {
    "duration": 19,
    "start_time": "2023-05-19T20:01:19.463Z"
   },
   {
    "duration": 15,
    "start_time": "2023-05-19T20:01:19.485Z"
   },
   {
    "duration": 459,
    "start_time": "2023-05-19T20:01:19.502Z"
   },
   {
    "duration": 189,
    "start_time": "2023-05-19T20:01:19.963Z"
   },
   {
    "duration": 275,
    "start_time": "2023-05-19T20:01:20.156Z"
   },
   {
    "duration": 181,
    "start_time": "2023-05-19T20:01:20.433Z"
   },
   {
    "duration": 351,
    "start_time": "2023-05-19T20:01:20.616Z"
   },
   {
    "duration": 11,
    "start_time": "2023-05-19T20:01:20.969Z"
   },
   {
    "duration": 137,
    "start_time": "2023-05-19T20:01:20.982Z"
   },
   {
    "duration": 5,
    "start_time": "2023-05-19T20:01:21.121Z"
   },
   {
    "duration": 12,
    "start_time": "2023-05-19T20:01:21.127Z"
   },
   {
    "duration": 162,
    "start_time": "2023-05-19T20:01:21.141Z"
   },
   {
    "duration": 6,
    "start_time": "2023-05-19T20:01:21.305Z"
   },
   {
    "duration": 486,
    "start_time": "2023-05-19T20:01:21.313Z"
   },
   {
    "duration": 12,
    "start_time": "2023-05-19T20:01:21.801Z"
   },
   {
    "duration": 166,
    "start_time": "2023-05-19T20:01:21.816Z"
   },
   {
    "duration": 26,
    "start_time": "2023-05-19T20:01:21.984Z"
   },
   {
    "duration": 15,
    "start_time": "2023-05-19T20:01:22.011Z"
   },
   {
    "duration": 97,
    "start_time": "2023-05-19T20:02:45.255Z"
   },
   {
    "duration": 3,
    "start_time": "2023-05-19T20:02:57.547Z"
   },
   {
    "duration": 44,
    "start_time": "2023-05-19T20:02:57.552Z"
   },
   {
    "duration": 15,
    "start_time": "2023-05-19T20:02:57.598Z"
   },
   {
    "duration": 14,
    "start_time": "2023-05-19T20:02:57.616Z"
   },
   {
    "duration": 71,
    "start_time": "2023-05-19T20:02:57.632Z"
   },
   {
    "duration": 5,
    "start_time": "2023-05-19T20:02:57.705Z"
   },
   {
    "duration": 7,
    "start_time": "2023-05-19T20:02:57.711Z"
   },
   {
    "duration": 27,
    "start_time": "2023-05-19T20:02:57.719Z"
   },
   {
    "duration": 5,
    "start_time": "2023-05-19T20:02:57.748Z"
   },
   {
    "duration": 114,
    "start_time": "2023-05-19T20:02:57.755Z"
   },
   {
    "duration": 0,
    "start_time": "2023-05-19T20:02:57.872Z"
   },
   {
    "duration": 0,
    "start_time": "2023-05-19T20:02:57.874Z"
   },
   {
    "duration": 0,
    "start_time": "2023-05-19T20:02:57.876Z"
   },
   {
    "duration": 0,
    "start_time": "2023-05-19T20:02:57.878Z"
   },
   {
    "duration": 0,
    "start_time": "2023-05-19T20:02:57.880Z"
   },
   {
    "duration": 0,
    "start_time": "2023-05-19T20:02:57.882Z"
   },
   {
    "duration": 0,
    "start_time": "2023-05-19T20:02:57.883Z"
   },
   {
    "duration": 0,
    "start_time": "2023-05-19T20:02:57.885Z"
   },
   {
    "duration": 0,
    "start_time": "2023-05-19T20:02:57.886Z"
   },
   {
    "duration": 0,
    "start_time": "2023-05-19T20:02:57.887Z"
   },
   {
    "duration": 0,
    "start_time": "2023-05-19T20:02:57.889Z"
   },
   {
    "duration": 0,
    "start_time": "2023-05-19T20:02:57.890Z"
   },
   {
    "duration": 0,
    "start_time": "2023-05-19T20:02:57.891Z"
   },
   {
    "duration": 0,
    "start_time": "2023-05-19T20:02:57.892Z"
   },
   {
    "duration": 0,
    "start_time": "2023-05-19T20:02:57.894Z"
   },
   {
    "duration": 0,
    "start_time": "2023-05-19T20:02:57.895Z"
   },
   {
    "duration": 0,
    "start_time": "2023-05-19T20:02:57.896Z"
   },
   {
    "duration": 36,
    "start_time": "2023-05-19T20:04:05.824Z"
   },
   {
    "duration": 49,
    "start_time": "2023-05-19T20:06:33.621Z"
   },
   {
    "duration": 40,
    "start_time": "2023-05-19T20:06:38.095Z"
   },
   {
    "duration": 43,
    "start_time": "2023-05-19T20:07:05.590Z"
   },
   {
    "duration": 45,
    "start_time": "2023-05-19T20:07:17.951Z"
   },
   {
    "duration": 9,
    "start_time": "2023-05-19T20:08:06.743Z"
   },
   {
    "duration": 12,
    "start_time": "2023-05-19T20:08:13.477Z"
   },
   {
    "duration": 14,
    "start_time": "2023-05-19T20:08:17.047Z"
   },
   {
    "duration": 3,
    "start_time": "2023-05-19T20:08:19.170Z"
   },
   {
    "duration": 36,
    "start_time": "2023-05-19T20:08:19.175Z"
   },
   {
    "duration": 10,
    "start_time": "2023-05-19T20:08:19.213Z"
   },
   {
    "duration": 11,
    "start_time": "2023-05-19T20:08:19.226Z"
   },
   {
    "duration": 71,
    "start_time": "2023-05-19T20:08:19.239Z"
   },
   {
    "duration": 4,
    "start_time": "2023-05-19T20:08:19.312Z"
   },
   {
    "duration": 23,
    "start_time": "2023-05-19T20:08:19.318Z"
   },
   {
    "duration": 27,
    "start_time": "2023-05-19T20:08:19.344Z"
   },
   {
    "duration": 5,
    "start_time": "2023-05-19T20:08:19.374Z"
   },
   {
    "duration": 17,
    "start_time": "2023-05-19T20:08:19.381Z"
   },
   {
    "duration": 23,
    "start_time": "2023-05-19T20:08:19.401Z"
   },
   {
    "duration": 522,
    "start_time": "2023-05-19T20:08:19.426Z"
   },
   {
    "duration": 218,
    "start_time": "2023-05-19T20:08:19.950Z"
   },
   {
    "duration": 376,
    "start_time": "2023-05-19T20:08:20.170Z"
   },
   {
    "duration": 204,
    "start_time": "2023-05-19T20:08:20.548Z"
   },
   {
    "duration": 322,
    "start_time": "2023-05-19T20:08:20.756Z"
   },
   {
    "duration": 10,
    "start_time": "2023-05-19T20:08:21.079Z"
   },
   {
    "duration": 132,
    "start_time": "2023-05-19T20:08:21.091Z"
   },
   {
    "duration": 5,
    "start_time": "2023-05-19T20:08:21.225Z"
   },
   {
    "duration": 25,
    "start_time": "2023-05-19T20:08:21.232Z"
   },
   {
    "duration": 150,
    "start_time": "2023-05-19T20:08:21.259Z"
   },
   {
    "duration": 4,
    "start_time": "2023-05-19T20:08:21.411Z"
   },
   {
    "duration": 479,
    "start_time": "2023-05-19T20:08:21.417Z"
   },
   {
    "duration": 10,
    "start_time": "2023-05-19T20:08:21.899Z"
   },
   {
    "duration": 141,
    "start_time": "2023-05-19T20:08:21.910Z"
   },
   {
    "duration": 29,
    "start_time": "2023-05-19T20:08:22.056Z"
   },
   {
    "duration": 17,
    "start_time": "2023-05-19T20:08:22.087Z"
   },
   {
    "duration": 15,
    "start_time": "2023-05-19T20:08:40.343Z"
   },
   {
    "duration": 12,
    "start_time": "2023-05-19T20:08:58.661Z"
   },
   {
    "duration": 3,
    "start_time": "2023-05-19T20:09:02.835Z"
   },
   {
    "duration": 86,
    "start_time": "2023-05-19T20:09:02.840Z"
   },
   {
    "duration": 13,
    "start_time": "2023-05-19T20:09:02.928Z"
   },
   {
    "duration": 42,
    "start_time": "2023-05-19T20:09:02.943Z"
   },
   {
    "duration": 82,
    "start_time": "2023-05-19T20:09:02.987Z"
   },
   {
    "duration": 4,
    "start_time": "2023-05-19T20:09:03.071Z"
   },
   {
    "duration": 49,
    "start_time": "2023-05-19T20:09:03.076Z"
   },
   {
    "duration": 31,
    "start_time": "2023-05-19T20:09:03.127Z"
   },
   {
    "duration": 6,
    "start_time": "2023-05-19T20:09:03.160Z"
   },
   {
    "duration": 31,
    "start_time": "2023-05-19T20:09:03.167Z"
   },
   {
    "duration": 30,
    "start_time": "2023-05-19T20:09:03.200Z"
   },
   {
    "duration": 472,
    "start_time": "2023-05-19T20:09:03.232Z"
   },
   {
    "duration": 190,
    "start_time": "2023-05-19T20:09:03.706Z"
   },
   {
    "duration": 317,
    "start_time": "2023-05-19T20:09:03.898Z"
   },
   {
    "duration": 188,
    "start_time": "2023-05-19T20:09:04.217Z"
   },
   {
    "duration": 304,
    "start_time": "2023-05-19T20:09:04.407Z"
   },
   {
    "duration": 10,
    "start_time": "2023-05-19T20:09:04.712Z"
   },
   {
    "duration": 122,
    "start_time": "2023-05-19T20:09:04.724Z"
   },
   {
    "duration": 6,
    "start_time": "2023-05-19T20:09:04.857Z"
   },
   {
    "duration": 14,
    "start_time": "2023-05-19T20:09:04.865Z"
   },
   {
    "duration": 137,
    "start_time": "2023-05-19T20:09:04.880Z"
   },
   {
    "duration": 5,
    "start_time": "2023-05-19T20:09:05.019Z"
   },
   {
    "duration": 500,
    "start_time": "2023-05-19T20:09:05.026Z"
   },
   {
    "duration": 29,
    "start_time": "2023-05-19T20:09:05.529Z"
   },
   {
    "duration": 145,
    "start_time": "2023-05-19T20:09:05.560Z"
   },
   {
    "duration": 26,
    "start_time": "2023-05-19T20:09:05.707Z"
   },
   {
    "duration": 30,
    "start_time": "2023-05-19T20:09:05.734Z"
   },
   {
    "duration": 12,
    "start_time": "2023-05-19T20:10:13.583Z"
   },
   {
    "duration": 13,
    "start_time": "2023-05-19T20:10:17.064Z"
   },
   {
    "duration": 10,
    "start_time": "2023-05-19T20:10:33.302Z"
   },
   {
    "duration": 3,
    "start_time": "2023-05-19T20:10:36.301Z"
   },
   {
    "duration": 42,
    "start_time": "2023-05-19T20:10:36.307Z"
   },
   {
    "duration": 11,
    "start_time": "2023-05-19T20:10:36.351Z"
   },
   {
    "duration": 23,
    "start_time": "2023-05-19T20:10:36.364Z"
   },
   {
    "duration": 75,
    "start_time": "2023-05-19T20:10:36.390Z"
   },
   {
    "duration": 5,
    "start_time": "2023-05-19T20:10:36.467Z"
   },
   {
    "duration": 7,
    "start_time": "2023-05-19T20:10:36.473Z"
   },
   {
    "duration": 26,
    "start_time": "2023-05-19T20:10:36.483Z"
   },
   {
    "duration": 5,
    "start_time": "2023-05-19T20:10:36.511Z"
   },
   {
    "duration": 50,
    "start_time": "2023-05-19T20:10:36.518Z"
   },
   {
    "duration": 16,
    "start_time": "2023-05-19T20:10:36.571Z"
   },
   {
    "duration": 556,
    "start_time": "2023-05-19T20:10:36.588Z"
   },
   {
    "duration": 193,
    "start_time": "2023-05-19T20:10:37.146Z"
   },
   {
    "duration": 289,
    "start_time": "2023-05-19T20:10:37.341Z"
   },
   {
    "duration": 188,
    "start_time": "2023-05-19T20:10:37.632Z"
   },
   {
    "duration": 345,
    "start_time": "2023-05-19T20:10:37.822Z"
   },
   {
    "duration": 11,
    "start_time": "2023-05-19T20:10:38.169Z"
   },
   {
    "duration": 140,
    "start_time": "2023-05-19T20:10:38.181Z"
   },
   {
    "duration": 5,
    "start_time": "2023-05-19T20:10:38.322Z"
   },
   {
    "duration": 11,
    "start_time": "2023-05-19T20:10:38.329Z"
   },
   {
    "duration": 154,
    "start_time": "2023-05-19T20:10:38.342Z"
   },
   {
    "duration": 6,
    "start_time": "2023-05-19T20:10:38.497Z"
   },
   {
    "duration": 555,
    "start_time": "2023-05-19T20:10:38.504Z"
   },
   {
    "duration": 12,
    "start_time": "2023-05-19T20:10:39.061Z"
   },
   {
    "duration": 160,
    "start_time": "2023-05-19T20:10:39.076Z"
   },
   {
    "duration": 39,
    "start_time": "2023-05-19T20:10:39.238Z"
   },
   {
    "duration": 14,
    "start_time": "2023-05-19T20:10:39.279Z"
   },
   {
    "duration": 4,
    "start_time": "2023-05-19T20:19:23.978Z"
   },
   {
    "duration": 16,
    "start_time": "2023-05-19T20:19:31.440Z"
   },
   {
    "duration": 3,
    "start_time": "2023-05-19T20:19:52.875Z"
   },
   {
    "duration": 43,
    "start_time": "2023-05-19T20:19:52.880Z"
   },
   {
    "duration": 12,
    "start_time": "2023-05-19T20:19:52.925Z"
   },
   {
    "duration": 34,
    "start_time": "2023-05-19T20:19:52.940Z"
   },
   {
    "duration": 76,
    "start_time": "2023-05-19T20:19:52.975Z"
   },
   {
    "duration": 5,
    "start_time": "2023-05-19T20:19:53.053Z"
   },
   {
    "duration": 6,
    "start_time": "2023-05-19T20:19:53.060Z"
   },
   {
    "duration": 29,
    "start_time": "2023-05-19T20:19:53.069Z"
   },
   {
    "duration": 12,
    "start_time": "2023-05-19T20:19:53.100Z"
   },
   {
    "duration": 62,
    "start_time": "2023-05-19T20:19:53.113Z"
   },
   {
    "duration": 17,
    "start_time": "2023-05-19T20:19:53.177Z"
   },
   {
    "duration": 483,
    "start_time": "2023-05-19T20:19:53.196Z"
   },
   {
    "duration": 255,
    "start_time": "2023-05-19T20:19:53.681Z"
   },
   {
    "duration": 347,
    "start_time": "2023-05-19T20:19:53.939Z"
   },
   {
    "duration": 209,
    "start_time": "2023-05-19T20:19:54.288Z"
   },
   {
    "duration": 331,
    "start_time": "2023-05-19T20:19:54.499Z"
   },
   {
    "duration": 11,
    "start_time": "2023-05-19T20:19:54.832Z"
   },
   {
    "duration": 160,
    "start_time": "2023-05-19T20:19:54.845Z"
   },
   {
    "duration": 7,
    "start_time": "2023-05-19T20:19:55.006Z"
   },
   {
    "duration": 12,
    "start_time": "2023-05-19T20:19:55.015Z"
   },
   {
    "duration": 180,
    "start_time": "2023-05-19T20:19:55.029Z"
   },
   {
    "duration": 7,
    "start_time": "2023-05-19T20:19:55.210Z"
   },
   {
    "duration": 724,
    "start_time": "2023-05-19T20:19:55.219Z"
   },
   {
    "duration": 21,
    "start_time": "2023-05-19T20:19:55.947Z"
   },
   {
    "duration": 175,
    "start_time": "2023-05-19T20:19:55.970Z"
   },
   {
    "duration": 40,
    "start_time": "2023-05-19T20:19:56.147Z"
   },
   {
    "duration": 17,
    "start_time": "2023-05-19T20:19:56.189Z"
   },
   {
    "duration": 16,
    "start_time": "2023-05-19T20:23:20.104Z"
   },
   {
    "duration": 39,
    "start_time": "2023-05-19T20:29:56.102Z"
   },
   {
    "duration": 27,
    "start_time": "2023-05-19T20:31:02.510Z"
   },
   {
    "duration": 27,
    "start_time": "2023-05-19T20:33:04.118Z"
   },
   {
    "duration": 22,
    "start_time": "2023-05-19T20:33:11.113Z"
   },
   {
    "duration": 1200,
    "start_time": "2023-05-19T20:35:14.909Z"
   },
   {
    "duration": 14,
    "start_time": "2023-05-19T20:35:36.773Z"
   },
   {
    "duration": 22,
    "start_time": "2023-05-19T20:35:45.133Z"
   },
   {
    "duration": 4,
    "start_time": "2023-05-19T20:36:46.597Z"
   },
   {
    "duration": 15,
    "start_time": "2023-05-19T20:37:03.029Z"
   },
   {
    "duration": 21,
    "start_time": "2023-05-19T20:38:47.262Z"
   },
   {
    "duration": 20,
    "start_time": "2023-05-19T20:39:06.820Z"
   },
   {
    "duration": 78,
    "start_time": "2023-05-19T20:39:15.775Z"
   },
   {
    "duration": 18,
    "start_time": "2023-05-19T20:39:20.362Z"
   },
   {
    "duration": 29,
    "start_time": "2023-05-19T20:39:31.940Z"
   },
   {
    "duration": 19,
    "start_time": "2023-05-19T20:39:46.102Z"
   },
   {
    "duration": 26,
    "start_time": "2023-05-19T20:39:50.031Z"
   },
   {
    "duration": 20,
    "start_time": "2023-05-19T20:40:04.510Z"
   },
   {
    "duration": 20,
    "start_time": "2023-05-19T20:40:10.196Z"
   },
   {
    "duration": 18,
    "start_time": "2023-05-19T20:40:16.045Z"
   },
   {
    "duration": 22,
    "start_time": "2023-05-19T20:40:24.084Z"
   },
   {
    "duration": 24,
    "start_time": "2023-05-19T20:40:32.152Z"
   },
   {
    "duration": 13,
    "start_time": "2023-05-19T20:42:30.081Z"
   },
   {
    "duration": 32,
    "start_time": "2023-05-19T20:42:46.302Z"
   },
   {
    "duration": 23,
    "start_time": "2023-05-19T20:43:06.007Z"
   },
   {
    "duration": 22,
    "start_time": "2023-05-19T20:43:22.389Z"
   },
   {
    "duration": 94,
    "start_time": "2023-05-19T20:43:39.020Z"
   },
   {
    "duration": 17,
    "start_time": "2023-05-19T20:43:44.782Z"
   },
   {
    "duration": 20,
    "start_time": "2023-05-19T20:43:57.531Z"
   },
   {
    "duration": 18,
    "start_time": "2023-05-19T20:44:58.302Z"
   },
   {
    "duration": 16,
    "start_time": "2023-05-19T20:45:05.262Z"
   },
   {
    "duration": 6,
    "start_time": "2023-05-19T20:46:04.974Z"
   },
   {
    "duration": 24,
    "start_time": "2023-05-19T20:46:31.140Z"
   },
   {
    "duration": 18,
    "start_time": "2023-05-19T20:48:45.636Z"
   },
   {
    "duration": 3,
    "start_time": "2023-05-19T20:49:00.422Z"
   },
   {
    "duration": 79,
    "start_time": "2023-05-19T20:49:00.431Z"
   },
   {
    "duration": 28,
    "start_time": "2023-05-19T20:49:00.511Z"
   },
   {
    "duration": 64,
    "start_time": "2023-05-19T20:49:00.541Z"
   },
   {
    "duration": 149,
    "start_time": "2023-05-19T20:49:00.607Z"
   },
   {
    "duration": 5,
    "start_time": "2023-05-19T20:49:00.758Z"
   },
   {
    "duration": 64,
    "start_time": "2023-05-19T20:49:00.765Z"
   },
   {
    "duration": 62,
    "start_time": "2023-05-19T20:49:00.831Z"
   },
   {
    "duration": 48,
    "start_time": "2023-05-19T20:49:00.895Z"
   },
   {
    "duration": 65,
    "start_time": "2023-05-19T20:49:00.945Z"
   },
   {
    "duration": 30,
    "start_time": "2023-05-19T20:49:01.011Z"
   },
   {
    "duration": 54,
    "start_time": "2023-05-19T20:49:01.043Z"
   },
   {
    "duration": 501,
    "start_time": "2023-05-19T20:49:01.099Z"
   },
   {
    "duration": 216,
    "start_time": "2023-05-19T20:49:01.602Z"
   },
   {
    "duration": 291,
    "start_time": "2023-05-19T20:49:01.821Z"
   },
   {
    "duration": 203,
    "start_time": "2023-05-19T20:49:02.114Z"
   },
   {
    "duration": 344,
    "start_time": "2023-05-19T20:49:02.319Z"
   },
   {
    "duration": 10,
    "start_time": "2023-05-19T20:49:02.665Z"
   },
   {
    "duration": 161,
    "start_time": "2023-05-19T20:49:02.677Z"
   },
   {
    "duration": 6,
    "start_time": "2023-05-19T20:49:02.840Z"
   },
   {
    "duration": 31,
    "start_time": "2023-05-19T20:49:02.847Z"
   },
   {
    "duration": 125,
    "start_time": "2023-05-19T20:49:02.880Z"
   },
   {
    "duration": 6,
    "start_time": "2023-05-19T20:49:03.006Z"
   },
   {
    "duration": 505,
    "start_time": "2023-05-19T20:49:03.014Z"
   },
   {
    "duration": 12,
    "start_time": "2023-05-19T20:49:03.521Z"
   },
   {
    "duration": 170,
    "start_time": "2023-05-19T20:49:03.535Z"
   },
   {
    "duration": 27,
    "start_time": "2023-05-19T20:49:03.707Z"
   },
   {
    "duration": 31,
    "start_time": "2023-05-19T20:49:03.736Z"
   },
   {
    "duration": 17,
    "start_time": "2023-05-19T20:49:27.526Z"
   },
   {
    "duration": 153,
    "start_time": "2023-05-19T20:51:50.125Z"
   },
   {
    "duration": 26,
    "start_time": "2023-05-19T20:52:08.950Z"
   },
   {
    "duration": 14,
    "start_time": "2023-05-19T20:52:18.877Z"
   },
   {
    "duration": 47,
    "start_time": "2023-05-20T13:38:45.745Z"
   },
   {
    "duration": 7,
    "start_time": "2023-05-20T13:38:47.902Z"
   },
   {
    "duration": 382,
    "start_time": "2023-05-20T13:39:17.993Z"
   },
   {
    "duration": 83,
    "start_time": "2023-05-20T13:39:18.377Z"
   },
   {
    "duration": 10,
    "start_time": "2023-05-20T13:39:18.462Z"
   },
   {
    "duration": 11,
    "start_time": "2023-05-20T13:39:18.474Z"
   },
   {
    "duration": 143,
    "start_time": "2023-05-20T13:39:18.486Z"
   },
   {
    "duration": 5,
    "start_time": "2023-05-20T13:39:18.630Z"
   },
   {
    "duration": 10,
    "start_time": "2023-05-20T13:39:18.636Z"
   },
   {
    "duration": 27,
    "start_time": "2023-05-20T13:39:18.647Z"
   },
   {
    "duration": 14,
    "start_time": "2023-05-20T13:39:18.675Z"
   },
   {
    "duration": 22,
    "start_time": "2023-05-20T13:39:18.692Z"
   },
   {
    "duration": 16,
    "start_time": "2023-05-20T13:39:18.716Z"
   },
   {
    "duration": 1016,
    "start_time": "2023-05-20T13:39:18.756Z"
   },
   {
    "duration": 200,
    "start_time": "2023-05-20T13:39:19.774Z"
   },
   {
    "duration": 394,
    "start_time": "2023-05-20T13:39:19.976Z"
   },
   {
    "duration": 180,
    "start_time": "2023-05-20T13:39:20.371Z"
   },
   {
    "duration": 329,
    "start_time": "2023-05-20T13:39:20.555Z"
   },
   {
    "duration": 11,
    "start_time": "2023-05-20T13:39:20.885Z"
   },
   {
    "duration": 151,
    "start_time": "2023-05-20T13:39:20.897Z"
   },
   {
    "duration": 9,
    "start_time": "2023-05-20T13:39:21.050Z"
   },
   {
    "duration": 14,
    "start_time": "2023-05-20T13:39:21.061Z"
   },
   {
    "duration": 149,
    "start_time": "2023-05-20T13:39:21.076Z"
   },
   {
    "duration": 5,
    "start_time": "2023-05-20T13:39:21.227Z"
   },
   {
    "duration": 981,
    "start_time": "2023-05-20T13:39:21.234Z"
   },
   {
    "duration": 12,
    "start_time": "2023-05-20T13:39:22.217Z"
   },
   {
    "duration": 155,
    "start_time": "2023-05-20T13:39:22.231Z"
   },
   {
    "duration": 26,
    "start_time": "2023-05-20T13:39:22.388Z"
   },
   {
    "duration": 15,
    "start_time": "2023-05-20T13:39:22.416Z"
   },
   {
    "duration": 23,
    "start_time": "2023-05-20T13:42:13.444Z"
   },
   {
    "duration": 19,
    "start_time": "2023-05-20T13:43:12.684Z"
   },
   {
    "duration": 498,
    "start_time": "2023-05-20T13:47:10.952Z"
   },
   {
    "duration": 481,
    "start_time": "2023-05-20T13:47:46.713Z"
   },
   {
    "duration": 465,
    "start_time": "2023-05-20T13:47:59.314Z"
   },
   {
    "duration": 216,
    "start_time": "2023-05-20T13:49:06.756Z"
   },
   {
    "duration": 210,
    "start_time": "2023-05-20T13:49:20.166Z"
   },
   {
    "duration": 309,
    "start_time": "2023-05-20T13:54:42.156Z"
   },
   {
    "duration": 284,
    "start_time": "2023-05-20T13:55:02.892Z"
   },
   {
    "duration": 305,
    "start_time": "2023-05-20T13:55:29.755Z"
   },
   {
    "duration": 307,
    "start_time": "2023-05-20T13:55:51.132Z"
   },
   {
    "duration": 215,
    "start_time": "2023-05-20T13:57:48.109Z"
   },
   {
    "duration": 328,
    "start_time": "2023-05-20T13:58:02.473Z"
   },
   {
    "duration": 205,
    "start_time": "2023-05-20T13:58:19.220Z"
   },
   {
    "duration": 359,
    "start_time": "2023-05-20T14:00:41.454Z"
   },
   {
    "duration": 338,
    "start_time": "2023-05-20T14:01:16.969Z"
   },
   {
    "duration": 347,
    "start_time": "2023-05-20T14:01:29.259Z"
   },
   {
    "duration": 313,
    "start_time": "2023-05-20T14:01:43.489Z"
   },
   {
    "duration": 346,
    "start_time": "2023-05-20T14:01:57.862Z"
   },
   {
    "duration": 1348,
    "start_time": "2023-05-20T14:03:44.813Z"
   },
   {
    "duration": 3,
    "start_time": "2023-05-20T14:04:10.818Z"
   },
   {
    "duration": 34,
    "start_time": "2023-05-20T14:04:10.824Z"
   },
   {
    "duration": 12,
    "start_time": "2023-05-20T14:04:10.860Z"
   },
   {
    "duration": 18,
    "start_time": "2023-05-20T14:04:10.875Z"
   },
   {
    "duration": 73,
    "start_time": "2023-05-20T14:04:10.895Z"
   },
   {
    "duration": 5,
    "start_time": "2023-05-20T14:04:10.970Z"
   },
   {
    "duration": 6,
    "start_time": "2023-05-20T14:04:10.977Z"
   },
   {
    "duration": 23,
    "start_time": "2023-05-20T14:04:10.985Z"
   },
   {
    "duration": 20,
    "start_time": "2023-05-20T14:04:11.010Z"
   },
   {
    "duration": 46,
    "start_time": "2023-05-20T14:04:11.033Z"
   },
   {
    "duration": 16,
    "start_time": "2023-05-20T14:04:11.080Z"
   },
   {
    "duration": 502,
    "start_time": "2023-05-20T14:04:11.098Z"
   },
   {
    "duration": 220,
    "start_time": "2023-05-20T14:04:11.601Z"
   },
   {
    "duration": 318,
    "start_time": "2023-05-20T14:04:11.823Z"
   },
   {
    "duration": 316,
    "start_time": "2023-05-20T14:04:12.142Z"
   },
   {
    "duration": 345,
    "start_time": "2023-05-20T14:04:12.460Z"
   },
   {
    "duration": 10,
    "start_time": "2023-05-20T14:04:12.807Z"
   },
   {
    "duration": 176,
    "start_time": "2023-05-20T14:04:12.819Z"
   },
   {
    "duration": 5,
    "start_time": "2023-05-20T14:04:12.997Z"
   },
   {
    "duration": 13,
    "start_time": "2023-05-20T14:04:13.004Z"
   },
   {
    "duration": 146,
    "start_time": "2023-05-20T14:04:13.018Z"
   },
   {
    "duration": 6,
    "start_time": "2023-05-20T14:04:13.166Z"
   },
   {
    "duration": 524,
    "start_time": "2023-05-20T14:04:13.173Z"
   },
   {
    "duration": 12,
    "start_time": "2023-05-20T14:04:13.699Z"
   },
   {
    "duration": 152,
    "start_time": "2023-05-20T14:04:13.713Z"
   },
   {
    "duration": 28,
    "start_time": "2023-05-20T14:04:13.867Z"
   },
   {
    "duration": 15,
    "start_time": "2023-05-20T14:04:13.897Z"
   },
   {
    "duration": 1205,
    "start_time": "2023-05-20T14:04:53.251Z"
   },
   {
    "duration": 4,
    "start_time": "2023-05-20T14:05:36.971Z"
   },
   {
    "duration": 50,
    "start_time": "2023-05-20T14:05:36.977Z"
   },
   {
    "duration": 12,
    "start_time": "2023-05-20T14:05:37.029Z"
   },
   {
    "duration": 20,
    "start_time": "2023-05-20T14:05:37.042Z"
   },
   {
    "duration": 111,
    "start_time": "2023-05-20T14:05:37.064Z"
   },
   {
    "duration": 5,
    "start_time": "2023-05-20T14:05:37.177Z"
   },
   {
    "duration": 7,
    "start_time": "2023-05-20T14:05:37.184Z"
   },
   {
    "duration": 26,
    "start_time": "2023-05-20T14:05:37.193Z"
   },
   {
    "duration": 18,
    "start_time": "2023-05-20T14:05:37.221Z"
   },
   {
    "duration": 24,
    "start_time": "2023-05-20T14:05:37.260Z"
   },
   {
    "duration": 24,
    "start_time": "2023-05-20T14:05:37.286Z"
   },
   {
    "duration": 544,
    "start_time": "2023-05-20T14:05:37.312Z"
   },
   {
    "duration": 239,
    "start_time": "2023-05-20T14:05:37.859Z"
   },
   {
    "duration": 333,
    "start_time": "2023-05-20T14:05:38.102Z"
   },
   {
    "duration": 253,
    "start_time": "2023-05-20T14:05:38.437Z"
   },
   {
    "duration": 431,
    "start_time": "2023-05-20T14:05:38.692Z"
   },
   {
    "duration": 13,
    "start_time": "2023-05-20T14:05:39.126Z"
   },
   {
    "duration": 199,
    "start_time": "2023-05-20T14:05:39.158Z"
   },
   {
    "duration": 6,
    "start_time": "2023-05-20T14:05:39.359Z"
   },
   {
    "duration": 45,
    "start_time": "2023-05-20T14:05:39.368Z"
   },
   {
    "duration": 262,
    "start_time": "2023-05-20T14:05:39.415Z"
   },
   {
    "duration": 5,
    "start_time": "2023-05-20T14:05:39.678Z"
   },
   {
    "duration": 575,
    "start_time": "2023-05-20T14:05:39.685Z"
   },
   {
    "duration": 15,
    "start_time": "2023-05-20T14:05:40.262Z"
   },
   {
    "duration": 157,
    "start_time": "2023-05-20T14:05:40.279Z"
   },
   {
    "duration": 39,
    "start_time": "2023-05-20T14:05:40.438Z"
   },
   {
    "duration": 15,
    "start_time": "2023-05-20T14:05:40.479Z"
   },
   {
    "duration": 473,
    "start_time": "2023-05-20T14:18:06.401Z"
   },
   {
    "duration": 223,
    "start_time": "2023-05-20T14:19:51.258Z"
   },
   {
    "duration": 92,
    "start_time": "2023-05-20T14:24:35.370Z"
   },
   {
    "duration": 143,
    "start_time": "2023-05-20T14:27:11.381Z"
   },
   {
    "duration": 3,
    "start_time": "2023-05-20T14:27:13.221Z"
   },
   {
    "duration": 35,
    "start_time": "2023-05-20T14:27:13.226Z"
   },
   {
    "duration": 11,
    "start_time": "2023-05-20T14:27:13.263Z"
   },
   {
    "duration": 15,
    "start_time": "2023-05-20T14:27:13.276Z"
   },
   {
    "duration": 67,
    "start_time": "2023-05-20T14:27:13.293Z"
   },
   {
    "duration": 4,
    "start_time": "2023-05-20T14:27:13.362Z"
   },
   {
    "duration": 9,
    "start_time": "2023-05-20T14:27:13.368Z"
   },
   {
    "duration": 22,
    "start_time": "2023-05-20T14:27:13.379Z"
   },
   {
    "duration": 16,
    "start_time": "2023-05-20T14:27:13.403Z"
   },
   {
    "duration": 52,
    "start_time": "2023-05-20T14:27:13.421Z"
   },
   {
    "duration": 16,
    "start_time": "2023-05-20T14:27:13.474Z"
   },
   {
    "duration": 503,
    "start_time": "2023-05-20T14:27:13.492Z"
   },
   {
    "duration": 216,
    "start_time": "2023-05-20T14:27:13.997Z"
   },
   {
    "duration": 313,
    "start_time": "2023-05-20T14:27:14.215Z"
   },
   {
    "duration": 210,
    "start_time": "2023-05-20T14:27:14.529Z"
   },
   {
    "duration": 362,
    "start_time": "2023-05-20T14:27:14.741Z"
   },
   {
    "duration": 9,
    "start_time": "2023-05-20T14:27:15.105Z"
   },
   {
    "duration": 184,
    "start_time": "2023-05-20T14:27:15.116Z"
   },
   {
    "duration": 5,
    "start_time": "2023-05-20T14:27:15.301Z"
   },
   {
    "duration": 11,
    "start_time": "2023-05-20T14:27:15.308Z"
   },
   {
    "duration": 162,
    "start_time": "2023-05-20T14:27:15.321Z"
   },
   {
    "duration": 5,
    "start_time": "2023-05-20T14:27:15.485Z"
   },
   {
    "duration": 489,
    "start_time": "2023-05-20T14:27:15.491Z"
   },
   {
    "duration": 25,
    "start_time": "2023-05-20T14:27:15.982Z"
   },
   {
    "duration": 147,
    "start_time": "2023-05-20T14:27:16.011Z"
   },
   {
    "duration": 25,
    "start_time": "2023-05-20T14:27:16.160Z"
   },
   {
    "duration": 14,
    "start_time": "2023-05-20T14:27:16.187Z"
   },
   {
    "duration": 27,
    "start_time": "2023-05-20T14:28:40.972Z"
   },
   {
    "duration": 509,
    "start_time": "2023-05-20T15:05:31.535Z"
   },
   {
    "duration": 357,
    "start_time": "2023-05-21T07:33:05.449Z"
   },
   {
    "duration": 72,
    "start_time": "2023-05-21T07:33:05.807Z"
   },
   {
    "duration": 13,
    "start_time": "2023-05-21T07:33:05.881Z"
   },
   {
    "duration": 54,
    "start_time": "2023-05-21T07:33:05.896Z"
   },
   {
    "duration": 182,
    "start_time": "2023-05-21T07:33:05.952Z"
   },
   {
    "duration": 4,
    "start_time": "2023-05-21T07:33:06.136Z"
   },
   {
    "duration": 15,
    "start_time": "2023-05-21T07:33:06.142Z"
   },
   {
    "duration": 44,
    "start_time": "2023-05-21T07:33:06.159Z"
   },
   {
    "duration": 25,
    "start_time": "2023-05-21T07:33:06.205Z"
   },
   {
    "duration": 24,
    "start_time": "2023-05-21T07:33:06.233Z"
   },
   {
    "duration": 16,
    "start_time": "2023-05-21T07:33:06.259Z"
   },
   {
    "duration": 687,
    "start_time": "2023-05-21T07:33:06.277Z"
   },
   {
    "duration": 192,
    "start_time": "2023-05-21T07:33:06.965Z"
   },
   {
    "duration": 293,
    "start_time": "2023-05-21T07:33:07.158Z"
   },
   {
    "duration": 209,
    "start_time": "2023-05-21T07:33:07.452Z"
   },
   {
    "duration": 328,
    "start_time": "2023-05-21T07:33:07.662Z"
   },
   {
    "duration": 13,
    "start_time": "2023-05-21T07:33:07.991Z"
   },
   {
    "duration": 147,
    "start_time": "2023-05-21T07:33:08.005Z"
   },
   {
    "duration": 5,
    "start_time": "2023-05-21T07:33:08.153Z"
   },
   {
    "duration": 15,
    "start_time": "2023-05-21T07:33:08.159Z"
   },
   {
    "duration": 122,
    "start_time": "2023-05-21T07:33:08.176Z"
   },
   {
    "duration": 5,
    "start_time": "2023-05-21T07:33:08.303Z"
   },
   {
    "duration": 797,
    "start_time": "2023-05-21T07:33:08.310Z"
   },
   {
    "duration": 9,
    "start_time": "2023-05-21T07:33:09.108Z"
   },
   {
    "duration": 142,
    "start_time": "2023-05-21T07:33:09.118Z"
   },
   {
    "duration": 40,
    "start_time": "2023-05-21T07:33:09.261Z"
   },
   {
    "duration": 12,
    "start_time": "2023-05-21T07:33:09.303Z"
   },
   {
    "duration": 429,
    "start_time": "2023-07-18T06:46:44.482Z"
   },
   {
    "duration": 791,
    "start_time": "2023-07-18T06:46:45.386Z"
   },
   {
    "duration": 68,
    "start_time": "2023-07-18T06:46:53.905Z"
   },
   {
    "duration": 839,
    "start_time": "2023-07-18T06:46:59.934Z"
   },
   {
    "duration": 1331,
    "start_time": "2023-07-18T07:11:17.754Z"
   },
   {
    "duration": 70,
    "start_time": "2023-07-18T07:13:39.022Z"
   },
   {
    "duration": 31,
    "start_time": "2023-07-18T07:13:47.386Z"
   },
   {
    "duration": 1228,
    "start_time": "2023-07-18T07:17:32.195Z"
   },
   {
    "duration": 5,
    "start_time": "2023-07-18T07:17:47.614Z"
   },
   {
    "duration": 6,
    "start_time": "2023-07-18T07:17:51.822Z"
   },
   {
    "duration": 1339,
    "start_time": "2023-07-18T07:17:51.832Z"
   },
   {
    "duration": 1368,
    "start_time": "2023-07-18T07:17:53.174Z"
   },
   {
    "duration": 0,
    "start_time": "2023-07-18T07:17:54.547Z"
   },
   {
    "duration": 0,
    "start_time": "2023-07-18T07:17:54.549Z"
   },
   {
    "duration": 0,
    "start_time": "2023-07-18T07:17:54.550Z"
   },
   {
    "duration": 0,
    "start_time": "2023-07-18T07:17:54.552Z"
   },
   {
    "duration": 0,
    "start_time": "2023-07-18T07:17:54.553Z"
   },
   {
    "duration": 0,
    "start_time": "2023-07-18T07:17:54.554Z"
   },
   {
    "duration": 0,
    "start_time": "2023-07-18T07:17:54.556Z"
   },
   {
    "duration": 0,
    "start_time": "2023-07-18T07:17:54.557Z"
   },
   {
    "duration": 0,
    "start_time": "2023-07-18T07:17:54.558Z"
   },
   {
    "duration": 0,
    "start_time": "2023-07-18T07:17:54.560Z"
   },
   {
    "duration": 0,
    "start_time": "2023-07-18T07:17:54.561Z"
   },
   {
    "duration": 0,
    "start_time": "2023-07-18T07:17:54.562Z"
   },
   {
    "duration": 0,
    "start_time": "2023-07-18T07:17:54.564Z"
   },
   {
    "duration": 0,
    "start_time": "2023-07-18T07:17:54.565Z"
   },
   {
    "duration": 0,
    "start_time": "2023-07-18T07:17:54.566Z"
   },
   {
    "duration": 0,
    "start_time": "2023-07-18T07:17:54.567Z"
   },
   {
    "duration": 0,
    "start_time": "2023-07-18T07:17:54.569Z"
   },
   {
    "duration": 0,
    "start_time": "2023-07-18T07:17:54.570Z"
   },
   {
    "duration": 0,
    "start_time": "2023-07-18T07:17:54.571Z"
   },
   {
    "duration": 0,
    "start_time": "2023-07-18T07:17:54.573Z"
   },
   {
    "duration": 0,
    "start_time": "2023-07-18T07:17:54.574Z"
   },
   {
    "duration": 0,
    "start_time": "2023-07-18T07:17:54.575Z"
   },
   {
    "duration": 0,
    "start_time": "2023-07-18T07:17:54.577Z"
   },
   {
    "duration": 0,
    "start_time": "2023-07-18T07:17:54.578Z"
   },
   {
    "duration": 0,
    "start_time": "2023-07-18T07:17:54.579Z"
   },
   {
    "duration": 0,
    "start_time": "2023-07-18T07:17:54.580Z"
   },
   {
    "duration": 0,
    "start_time": "2023-07-18T07:17:54.581Z"
   },
   {
    "duration": 60,
    "start_time": "2023-07-18T07:18:57.554Z"
   },
   {
    "duration": 1236,
    "start_time": "2023-07-18T07:20:15.922Z"
   },
   {
    "duration": 1270,
    "start_time": "2023-07-18T07:20:44.290Z"
   },
   {
    "duration": 12,
    "start_time": "2023-07-18T07:21:00.156Z"
   },
   {
    "duration": 11,
    "start_time": "2023-07-18T07:21:47.019Z"
   },
   {
    "duration": 68,
    "start_time": "2023-07-18T07:22:47.489Z"
   },
   {
    "duration": 1011,
    "start_time": "2023-07-18T07:24:44.806Z"
   },
   {
    "duration": 1166,
    "start_time": "2023-07-18T07:25:02.565Z"
   },
   {
    "duration": 1370,
    "start_time": "2023-07-18T07:25:37.175Z"
   },
   {
    "duration": 1013,
    "start_time": "2023-07-18T07:25:46.222Z"
   },
   {
    "duration": 1019,
    "start_time": "2023-07-18T07:26:04.525Z"
   },
   {
    "duration": 1342,
    "start_time": "2023-07-18T07:26:23.472Z"
   },
   {
    "duration": 1226,
    "start_time": "2023-07-18T07:26:44.054Z"
   },
   {
    "duration": 1367,
    "start_time": "2023-07-18T07:27:43.046Z"
   },
   {
    "duration": 1331,
    "start_time": "2023-07-18T07:28:38.674Z"
   },
   {
    "duration": 1124,
    "start_time": "2023-07-18T07:29:10.651Z"
   },
   {
    "duration": 1385,
    "start_time": "2023-07-18T07:29:36.724Z"
   },
   {
    "duration": 90,
    "start_time": "2023-07-18T07:51:54.838Z"
   },
   {
    "duration": 315,
    "start_time": "2023-07-18T07:52:04.858Z"
   },
   {
    "duration": 323,
    "start_time": "2023-07-18T07:52:44.392Z"
   },
   {
    "duration": 288,
    "start_time": "2023-07-18T07:54:09.863Z"
   },
   {
    "duration": 3591,
    "start_time": "2023-07-18T07:54:30.781Z"
   },
   {
    "duration": 8,
    "start_time": "2023-07-18T07:54:45.398Z"
   },
   {
    "duration": 2513,
    "start_time": "2023-07-18T08:00:00.148Z"
   },
   {
    "duration": 1874,
    "start_time": "2023-07-18T08:01:00.226Z"
   },
   {
    "duration": 4,
    "start_time": "2023-07-18T08:01:21.091Z"
   },
   {
    "duration": 632,
    "start_time": "2023-07-18T08:01:31.094Z"
   },
   {
    "duration": 4,
    "start_time": "2023-07-18T08:03:25.699Z"
   },
   {
    "duration": 1314,
    "start_time": "2023-07-18T08:03:26.655Z"
   },
   {
    "duration": 3524,
    "start_time": "2023-07-18T08:03:27.970Z"
   },
   {
    "duration": 0,
    "start_time": "2023-07-18T08:03:31.496Z"
   },
   {
    "duration": 14,
    "start_time": "2023-07-18T08:03:45.091Z"
   },
   {
    "duration": 1582,
    "start_time": "2023-07-18T08:07:42.361Z"
   },
   {
    "duration": 3,
    "start_time": "2023-07-18T08:07:58.271Z"
   },
   {
    "duration": 1308,
    "start_time": "2023-07-18T08:07:58.276Z"
   },
   {
    "duration": 3946,
    "start_time": "2023-07-18T08:07:59.587Z"
   },
   {
    "duration": 12,
    "start_time": "2023-07-18T08:08:03.535Z"
   },
   {
    "duration": 47,
    "start_time": "2023-07-18T08:08:03.549Z"
   },
   {
    "duration": 47,
    "start_time": "2023-07-18T08:08:03.598Z"
   },
   {
    "duration": 36,
    "start_time": "2023-07-18T08:08:03.647Z"
   },
   {
    "duration": 64,
    "start_time": "2023-07-18T08:08:03.686Z"
   },
   {
    "duration": 14,
    "start_time": "2023-07-18T08:08:03.753Z"
   },
   {
    "duration": 13,
    "start_time": "2023-07-18T08:08:03.769Z"
   },
   {
    "duration": 179,
    "start_time": "2023-07-18T08:08:03.784Z"
   },
   {
    "duration": 5,
    "start_time": "2023-07-18T08:08:03.966Z"
   },
   {
    "duration": 20,
    "start_time": "2023-07-18T08:08:03.973Z"
   },
   {
    "duration": 43,
    "start_time": "2023-07-18T08:08:03.995Z"
   },
   {
    "duration": 41,
    "start_time": "2023-07-18T08:08:04.040Z"
   },
   {
    "duration": 39,
    "start_time": "2023-07-18T08:08:04.083Z"
   },
   {
    "duration": 40,
    "start_time": "2023-07-18T08:08:04.125Z"
   },
   {
    "duration": 1003,
    "start_time": "2023-07-18T08:08:04.168Z"
   },
   {
    "duration": 222,
    "start_time": "2023-07-18T08:08:05.173Z"
   },
   {
    "duration": 355,
    "start_time": "2023-07-18T08:08:05.397Z"
   },
   {
    "duration": 224,
    "start_time": "2023-07-18T08:08:05.755Z"
   },
   {
    "duration": 345,
    "start_time": "2023-07-18T08:08:05.982Z"
   },
   {
    "duration": 10,
    "start_time": "2023-07-18T08:08:06.329Z"
   },
   {
    "duration": 187,
    "start_time": "2023-07-18T08:08:06.342Z"
   },
   {
    "duration": 6,
    "start_time": "2023-07-18T08:08:06.531Z"
   },
   {
    "duration": 29,
    "start_time": "2023-07-18T08:08:06.538Z"
   },
   {
    "duration": 171,
    "start_time": "2023-07-18T08:08:06.570Z"
   },
   {
    "duration": 6,
    "start_time": "2023-07-18T08:08:06.742Z"
   },
   {
    "duration": 1201,
    "start_time": "2023-07-18T08:08:06.750Z"
   },
   {
    "duration": 19,
    "start_time": "2023-07-18T08:08:07.953Z"
   },
   {
    "duration": 164,
    "start_time": "2023-07-18T08:08:07.974Z"
   },
   {
    "duration": 35,
    "start_time": "2023-07-18T08:08:08.140Z"
   },
   {
    "duration": 15,
    "start_time": "2023-07-18T08:08:08.177Z"
   },
   {
    "duration": 296,
    "start_time": "2023-07-18T08:08:49.364Z"
   },
   {
    "duration": 3,
    "start_time": "2023-07-18T08:08:58.670Z"
   },
   {
    "duration": 1351,
    "start_time": "2023-07-18T08:08:58.675Z"
   },
   {
    "duration": 3737,
    "start_time": "2023-07-18T08:09:00.028Z"
   },
   {
    "duration": 1082,
    "start_time": "2023-07-18T08:09:03.768Z"
   },
   {
    "duration": 0,
    "start_time": "2023-07-18T08:09:04.854Z"
   },
   {
    "duration": 0,
    "start_time": "2023-07-18T08:09:04.855Z"
   },
   {
    "duration": 0,
    "start_time": "2023-07-18T08:09:04.857Z"
   },
   {
    "duration": 0,
    "start_time": "2023-07-18T08:09:04.859Z"
   },
   {
    "duration": 0,
    "start_time": "2023-07-18T08:09:04.861Z"
   },
   {
    "duration": 0,
    "start_time": "2023-07-18T08:09:04.862Z"
   },
   {
    "duration": 0,
    "start_time": "2023-07-18T08:09:04.863Z"
   },
   {
    "duration": 0,
    "start_time": "2023-07-18T08:09:04.865Z"
   },
   {
    "duration": 0,
    "start_time": "2023-07-18T08:09:04.866Z"
   },
   {
    "duration": 0,
    "start_time": "2023-07-18T08:09:04.868Z"
   },
   {
    "duration": 0,
    "start_time": "2023-07-18T08:09:04.870Z"
   },
   {
    "duration": 0,
    "start_time": "2023-07-18T08:09:04.871Z"
   },
   {
    "duration": 0,
    "start_time": "2023-07-18T08:09:04.872Z"
   },
   {
    "duration": 0,
    "start_time": "2023-07-18T08:09:04.874Z"
   },
   {
    "duration": 0,
    "start_time": "2023-07-18T08:09:04.876Z"
   },
   {
    "duration": 0,
    "start_time": "2023-07-18T08:09:04.877Z"
   },
   {
    "duration": 0,
    "start_time": "2023-07-18T08:09:04.879Z"
   },
   {
    "duration": 0,
    "start_time": "2023-07-18T08:09:04.880Z"
   },
   {
    "duration": 0,
    "start_time": "2023-07-18T08:09:04.881Z"
   },
   {
    "duration": 0,
    "start_time": "2023-07-18T08:09:04.882Z"
   },
   {
    "duration": 0,
    "start_time": "2023-07-18T08:09:04.884Z"
   },
   {
    "duration": 0,
    "start_time": "2023-07-18T08:09:04.885Z"
   },
   {
    "duration": 0,
    "start_time": "2023-07-18T08:09:04.887Z"
   },
   {
    "duration": 0,
    "start_time": "2023-07-18T08:09:04.889Z"
   },
   {
    "duration": 0,
    "start_time": "2023-07-18T08:09:04.890Z"
   },
   {
    "duration": 0,
    "start_time": "2023-07-18T08:09:04.892Z"
   },
   {
    "duration": 0,
    "start_time": "2023-07-18T08:09:04.894Z"
   },
   {
    "duration": 0,
    "start_time": "2023-07-18T08:09:04.895Z"
   },
   {
    "duration": 0,
    "start_time": "2023-07-18T08:09:04.897Z"
   },
   {
    "duration": 4,
    "start_time": "2023-07-18T08:20:33.804Z"
   },
   {
    "duration": 1525,
    "start_time": "2023-07-18T08:20:33.813Z"
   },
   {
    "duration": 3731,
    "start_time": "2023-07-18T08:20:35.340Z"
   },
   {
    "duration": 3593,
    "start_time": "2023-07-18T08:20:39.073Z"
   },
   {
    "duration": 0,
    "start_time": "2023-07-18T08:20:42.669Z"
   },
   {
    "duration": 0,
    "start_time": "2023-07-18T08:20:42.671Z"
   },
   {
    "duration": 0,
    "start_time": "2023-07-18T08:20:42.672Z"
   },
   {
    "duration": 0,
    "start_time": "2023-07-18T08:20:42.674Z"
   },
   {
    "duration": 0,
    "start_time": "2023-07-18T08:20:42.675Z"
   },
   {
    "duration": 0,
    "start_time": "2023-07-18T08:20:42.676Z"
   },
   {
    "duration": 0,
    "start_time": "2023-07-18T08:20:42.678Z"
   },
   {
    "duration": 0,
    "start_time": "2023-07-18T08:20:42.679Z"
   },
   {
    "duration": 0,
    "start_time": "2023-07-18T08:20:42.681Z"
   },
   {
    "duration": 0,
    "start_time": "2023-07-18T08:20:42.682Z"
   },
   {
    "duration": 0,
    "start_time": "2023-07-18T08:20:42.683Z"
   },
   {
    "duration": 0,
    "start_time": "2023-07-18T08:20:42.684Z"
   },
   {
    "duration": 0,
    "start_time": "2023-07-18T08:20:42.685Z"
   },
   {
    "duration": 0,
    "start_time": "2023-07-18T08:20:42.686Z"
   },
   {
    "duration": 0,
    "start_time": "2023-07-18T08:20:42.688Z"
   },
   {
    "duration": 0,
    "start_time": "2023-07-18T08:20:42.689Z"
   },
   {
    "duration": 0,
    "start_time": "2023-07-18T08:20:42.690Z"
   },
   {
    "duration": 0,
    "start_time": "2023-07-18T08:20:42.691Z"
   },
   {
    "duration": 0,
    "start_time": "2023-07-18T08:20:42.693Z"
   },
   {
    "duration": 0,
    "start_time": "2023-07-18T08:20:42.695Z"
   },
   {
    "duration": 0,
    "start_time": "2023-07-18T08:20:42.696Z"
   },
   {
    "duration": 0,
    "start_time": "2023-07-18T08:20:42.697Z"
   },
   {
    "duration": 0,
    "start_time": "2023-07-18T08:20:42.698Z"
   },
   {
    "duration": 0,
    "start_time": "2023-07-18T08:20:42.699Z"
   },
   {
    "duration": 0,
    "start_time": "2023-07-18T08:20:42.701Z"
   },
   {
    "duration": 0,
    "start_time": "2023-07-18T08:20:42.701Z"
   },
   {
    "duration": 0,
    "start_time": "2023-07-18T08:20:42.703Z"
   },
   {
    "duration": 0,
    "start_time": "2023-07-18T08:20:42.705Z"
   },
   {
    "duration": 0,
    "start_time": "2023-07-18T08:20:42.707Z"
   },
   {
    "duration": 8,
    "start_time": "2023-07-18T08:21:55.102Z"
   },
   {
    "duration": 11,
    "start_time": "2023-07-18T08:21:56.388Z"
   },
   {
    "duration": 10,
    "start_time": "2023-07-18T08:22:48.245Z"
   },
   {
    "duration": 455,
    "start_time": "2023-07-18T08:25:21.124Z"
   },
   {
    "duration": 461,
    "start_time": "2023-07-18T08:26:04.846Z"
   },
   {
    "duration": 1303,
    "start_time": "2023-07-18T08:26:05.310Z"
   },
   {
    "duration": 3701,
    "start_time": "2023-07-18T08:26:06.615Z"
   },
   {
    "duration": 2919,
    "start_time": "2023-07-18T08:26:10.318Z"
   },
   {
    "duration": 0,
    "start_time": "2023-07-18T08:26:13.241Z"
   },
   {
    "duration": 0,
    "start_time": "2023-07-18T08:26:13.242Z"
   },
   {
    "duration": 0,
    "start_time": "2023-07-18T08:26:13.244Z"
   },
   {
    "duration": 0,
    "start_time": "2023-07-18T08:26:13.246Z"
   },
   {
    "duration": 0,
    "start_time": "2023-07-18T08:26:13.247Z"
   },
   {
    "duration": 0,
    "start_time": "2023-07-18T08:26:13.249Z"
   },
   {
    "duration": 0,
    "start_time": "2023-07-18T08:26:13.251Z"
   },
   {
    "duration": 0,
    "start_time": "2023-07-18T08:26:13.253Z"
   },
   {
    "duration": 0,
    "start_time": "2023-07-18T08:26:13.255Z"
   },
   {
    "duration": 0,
    "start_time": "2023-07-18T08:26:13.256Z"
   },
   {
    "duration": 0,
    "start_time": "2023-07-18T08:26:13.258Z"
   },
   {
    "duration": 0,
    "start_time": "2023-07-18T08:26:13.259Z"
   },
   {
    "duration": 0,
    "start_time": "2023-07-18T08:26:13.261Z"
   },
   {
    "duration": 0,
    "start_time": "2023-07-18T08:26:13.262Z"
   },
   {
    "duration": 0,
    "start_time": "2023-07-18T08:26:13.264Z"
   },
   {
    "duration": 0,
    "start_time": "2023-07-18T08:26:13.265Z"
   },
   {
    "duration": 0,
    "start_time": "2023-07-18T08:26:13.267Z"
   },
   {
    "duration": 0,
    "start_time": "2023-07-18T08:26:13.268Z"
   },
   {
    "duration": 0,
    "start_time": "2023-07-18T08:26:13.270Z"
   },
   {
    "duration": 1,
    "start_time": "2023-07-18T08:26:13.271Z"
   },
   {
    "duration": 0,
    "start_time": "2023-07-18T08:26:13.273Z"
   },
   {
    "duration": 0,
    "start_time": "2023-07-18T08:26:13.275Z"
   },
   {
    "duration": 0,
    "start_time": "2023-07-18T08:26:13.276Z"
   },
   {
    "duration": 0,
    "start_time": "2023-07-18T08:26:13.278Z"
   },
   {
    "duration": 0,
    "start_time": "2023-07-18T08:26:13.279Z"
   },
   {
    "duration": 0,
    "start_time": "2023-07-18T08:26:13.281Z"
   },
   {
    "duration": 0,
    "start_time": "2023-07-18T08:26:13.282Z"
   },
   {
    "duration": 0,
    "start_time": "2023-07-18T08:26:13.283Z"
   },
   {
    "duration": 0,
    "start_time": "2023-07-18T08:26:13.284Z"
   },
   {
    "duration": 0,
    "start_time": "2023-07-18T08:26:13.285Z"
   },
   {
    "duration": 570,
    "start_time": "2023-07-18T08:27:02.347Z"
   },
   {
    "duration": 491,
    "start_time": "2023-07-18T08:27:16.271Z"
   },
   {
    "duration": 3,
    "start_time": "2023-07-18T08:27:24.796Z"
   },
   {
    "duration": 1309,
    "start_time": "2023-07-18T08:27:24.808Z"
   },
   {
    "duration": 3546,
    "start_time": "2023-07-18T08:27:26.119Z"
   },
   {
    "duration": 14,
    "start_time": "2023-07-18T08:27:29.667Z"
   },
   {
    "duration": 13,
    "start_time": "2023-07-18T08:27:29.683Z"
   },
   {
    "duration": 16,
    "start_time": "2023-07-18T08:27:29.698Z"
   },
   {
    "duration": 339,
    "start_time": "2023-07-18T08:27:29.716Z"
   },
   {
    "duration": 0,
    "start_time": "2023-07-18T08:27:30.059Z"
   },
   {
    "duration": 0,
    "start_time": "2023-07-18T08:27:30.062Z"
   },
   {
    "duration": 0,
    "start_time": "2023-07-18T08:27:30.064Z"
   },
   {
    "duration": 0,
    "start_time": "2023-07-18T08:27:30.066Z"
   },
   {
    "duration": 0,
    "start_time": "2023-07-18T08:27:30.068Z"
   },
   {
    "duration": 0,
    "start_time": "2023-07-18T08:27:30.070Z"
   },
   {
    "duration": 0,
    "start_time": "2023-07-18T08:27:30.072Z"
   },
   {
    "duration": 0,
    "start_time": "2023-07-18T08:27:30.074Z"
   },
   {
    "duration": 0,
    "start_time": "2023-07-18T08:27:30.076Z"
   },
   {
    "duration": 0,
    "start_time": "2023-07-18T08:27:30.078Z"
   },
   {
    "duration": 0,
    "start_time": "2023-07-18T08:27:30.080Z"
   },
   {
    "duration": 0,
    "start_time": "2023-07-18T08:27:30.082Z"
   },
   {
    "duration": 0,
    "start_time": "2023-07-18T08:27:30.084Z"
   },
   {
    "duration": 0,
    "start_time": "2023-07-18T08:27:30.086Z"
   },
   {
    "duration": 0,
    "start_time": "2023-07-18T08:27:30.088Z"
   },
   {
    "duration": 0,
    "start_time": "2023-07-18T08:27:30.090Z"
   },
   {
    "duration": 0,
    "start_time": "2023-07-18T08:27:30.092Z"
   },
   {
    "duration": 0,
    "start_time": "2023-07-18T08:27:30.093Z"
   },
   {
    "duration": 0,
    "start_time": "2023-07-18T08:27:30.095Z"
   },
   {
    "duration": 0,
    "start_time": "2023-07-18T08:27:30.097Z"
   },
   {
    "duration": 0,
    "start_time": "2023-07-18T08:27:30.099Z"
   },
   {
    "duration": 0,
    "start_time": "2023-07-18T08:27:30.100Z"
   },
   {
    "duration": 0,
    "start_time": "2023-07-18T08:27:30.102Z"
   },
   {
    "duration": 0,
    "start_time": "2023-07-18T08:27:30.103Z"
   },
   {
    "duration": 0,
    "start_time": "2023-07-18T08:27:30.104Z"
   },
   {
    "duration": 0,
    "start_time": "2023-07-18T08:27:30.105Z"
   },
   {
    "duration": 0,
    "start_time": "2023-07-18T08:27:30.106Z"
   },
   {
    "duration": 2361,
    "start_time": "2023-07-18T08:29:32.245Z"
   },
   {
    "duration": 0,
    "start_time": "2023-07-18T08:29:34.609Z"
   },
   {
    "duration": 412,
    "start_time": "2023-07-18T08:29:44.965Z"
   },
   {
    "duration": 525,
    "start_time": "2023-07-18T08:29:47.073Z"
   },
   {
    "duration": 444,
    "start_time": "2023-07-18T08:29:57.855Z"
   },
   {
    "duration": 600,
    "start_time": "2023-07-18T08:29:58.670Z"
   },
   {
    "duration": 5,
    "start_time": "2023-07-18T08:30:03.242Z"
   },
   {
    "duration": 1481,
    "start_time": "2023-07-18T08:30:03.252Z"
   },
   {
    "duration": 3793,
    "start_time": "2023-07-18T08:30:04.736Z"
   },
   {
    "duration": 21,
    "start_time": "2023-07-18T08:30:08.532Z"
   },
   {
    "duration": 30,
    "start_time": "2023-07-18T08:30:08.555Z"
   },
   {
    "duration": 29,
    "start_time": "2023-07-18T08:30:08.588Z"
   },
   {
    "duration": 426,
    "start_time": "2023-07-18T08:30:08.619Z"
   },
   {
    "duration": 589,
    "start_time": "2023-07-18T08:30:09.048Z"
   },
   {
    "duration": 0,
    "start_time": "2023-07-18T08:30:09.641Z"
   },
   {
    "duration": 0,
    "start_time": "2023-07-18T08:30:09.645Z"
   },
   {
    "duration": 0,
    "start_time": "2023-07-18T08:30:09.647Z"
   },
   {
    "duration": 0,
    "start_time": "2023-07-18T08:30:09.648Z"
   },
   {
    "duration": 0,
    "start_time": "2023-07-18T08:30:09.650Z"
   },
   {
    "duration": 0,
    "start_time": "2023-07-18T08:30:09.652Z"
   },
   {
    "duration": 0,
    "start_time": "2023-07-18T08:30:09.654Z"
   },
   {
    "duration": 0,
    "start_time": "2023-07-18T08:30:09.655Z"
   },
   {
    "duration": 0,
    "start_time": "2023-07-18T08:30:09.656Z"
   },
   {
    "duration": 0,
    "start_time": "2023-07-18T08:30:09.659Z"
   },
   {
    "duration": 0,
    "start_time": "2023-07-18T08:30:09.660Z"
   },
   {
    "duration": 0,
    "start_time": "2023-07-18T08:30:09.662Z"
   },
   {
    "duration": 0,
    "start_time": "2023-07-18T08:30:09.664Z"
   },
   {
    "duration": 0,
    "start_time": "2023-07-18T08:30:09.667Z"
   },
   {
    "duration": 0,
    "start_time": "2023-07-18T08:30:09.669Z"
   },
   {
    "duration": 0,
    "start_time": "2023-07-18T08:30:09.671Z"
   },
   {
    "duration": 0,
    "start_time": "2023-07-18T08:30:09.672Z"
   },
   {
    "duration": 0,
    "start_time": "2023-07-18T08:30:09.673Z"
   },
   {
    "duration": 0,
    "start_time": "2023-07-18T08:30:09.674Z"
   },
   {
    "duration": 0,
    "start_time": "2023-07-18T08:30:09.676Z"
   },
   {
    "duration": 0,
    "start_time": "2023-07-18T08:30:09.676Z"
   },
   {
    "duration": 0,
    "start_time": "2023-07-18T08:30:09.677Z"
   },
   {
    "duration": 0,
    "start_time": "2023-07-18T08:30:09.680Z"
   },
   {
    "duration": 0,
    "start_time": "2023-07-18T08:30:09.682Z"
   },
   {
    "duration": 0,
    "start_time": "2023-07-18T08:30:09.683Z"
   },
   {
    "duration": 0,
    "start_time": "2023-07-18T08:30:09.685Z"
   },
   {
    "duration": 0,
    "start_time": "2023-07-18T08:30:09.687Z"
   },
   {
    "duration": 422,
    "start_time": "2023-07-18T08:30:48.380Z"
   },
   {
    "duration": 35,
    "start_time": "2023-07-18T08:30:50.064Z"
   },
   {
    "duration": 3,
    "start_time": "2023-07-18T08:31:01.934Z"
   },
   {
    "duration": 1358,
    "start_time": "2023-07-18T08:31:01.940Z"
   },
   {
    "duration": 3687,
    "start_time": "2023-07-18T08:31:03.300Z"
   },
   {
    "duration": 14,
    "start_time": "2023-07-18T08:31:06.989Z"
   },
   {
    "duration": 23,
    "start_time": "2023-07-18T08:31:07.006Z"
   },
   {
    "duration": 35,
    "start_time": "2023-07-18T08:31:07.032Z"
   },
   {
    "duration": 431,
    "start_time": "2023-07-18T08:31:07.070Z"
   },
   {
    "duration": 30,
    "start_time": "2023-07-18T08:31:07.503Z"
   },
   {
    "duration": 0,
    "start_time": "2023-07-18T08:31:07.537Z"
   },
   {
    "duration": 0,
    "start_time": "2023-07-18T08:31:07.538Z"
   },
   {
    "duration": 0,
    "start_time": "2023-07-18T08:31:07.540Z"
   },
   {
    "duration": 0,
    "start_time": "2023-07-18T08:31:07.541Z"
   },
   {
    "duration": 0,
    "start_time": "2023-07-18T08:31:07.542Z"
   },
   {
    "duration": 0,
    "start_time": "2023-07-18T08:31:07.568Z"
   },
   {
    "duration": 0,
    "start_time": "2023-07-18T08:31:07.569Z"
   },
   {
    "duration": 0,
    "start_time": "2023-07-18T08:31:07.571Z"
   },
   {
    "duration": 0,
    "start_time": "2023-07-18T08:31:07.572Z"
   },
   {
    "duration": 0,
    "start_time": "2023-07-18T08:31:07.573Z"
   },
   {
    "duration": 0,
    "start_time": "2023-07-18T08:31:07.574Z"
   },
   {
    "duration": 0,
    "start_time": "2023-07-18T08:31:07.575Z"
   },
   {
    "duration": 0,
    "start_time": "2023-07-18T08:31:07.576Z"
   },
   {
    "duration": 0,
    "start_time": "2023-07-18T08:31:07.578Z"
   },
   {
    "duration": 0,
    "start_time": "2023-07-18T08:31:07.579Z"
   },
   {
    "duration": 0,
    "start_time": "2023-07-18T08:31:07.580Z"
   },
   {
    "duration": 0,
    "start_time": "2023-07-18T08:31:07.581Z"
   },
   {
    "duration": 0,
    "start_time": "2023-07-18T08:31:07.582Z"
   },
   {
    "duration": 0,
    "start_time": "2023-07-18T08:31:07.584Z"
   },
   {
    "duration": 0,
    "start_time": "2023-07-18T08:31:07.585Z"
   },
   {
    "duration": 0,
    "start_time": "2023-07-18T08:31:07.586Z"
   },
   {
    "duration": 0,
    "start_time": "2023-07-18T08:31:07.587Z"
   },
   {
    "duration": 0,
    "start_time": "2023-07-18T08:31:07.589Z"
   },
   {
    "duration": 0,
    "start_time": "2023-07-18T08:31:07.591Z"
   },
   {
    "duration": 0,
    "start_time": "2023-07-18T08:31:07.592Z"
   },
   {
    "duration": 0,
    "start_time": "2023-07-18T08:31:07.593Z"
   },
   {
    "duration": 0,
    "start_time": "2023-07-18T08:31:07.595Z"
   },
   {
    "duration": 24,
    "start_time": "2023-07-18T08:31:51.848Z"
   },
   {
    "duration": 8,
    "start_time": "2023-07-18T08:34:17.038Z"
   },
   {
    "duration": 11,
    "start_time": "2023-07-18T08:34:35.333Z"
   },
   {
    "duration": 17,
    "start_time": "2023-07-18T08:34:52.761Z"
   },
   {
    "duration": 21,
    "start_time": "2023-07-18T08:35:00.323Z"
   },
   {
    "duration": 55,
    "start_time": "2023-07-18T10:18:13.247Z"
   },
   {
    "duration": 66,
    "start_time": "2023-07-18T10:20:39.897Z"
   },
   {
    "duration": 5,
    "start_time": "2023-07-18T10:20:59.509Z"
   },
   {
    "duration": 4,
    "start_time": "2023-07-18T10:21:05.386Z"
   },
   {
    "duration": 1532,
    "start_time": "2023-07-18T10:21:06.461Z"
   },
   {
    "duration": 3660,
    "start_time": "2023-07-18T10:21:07.995Z"
   },
   {
    "duration": 28,
    "start_time": "2023-07-18T10:21:11.658Z"
   },
   {
    "duration": 10,
    "start_time": "2023-07-18T10:21:11.690Z"
   },
   {
    "duration": 44,
    "start_time": "2023-07-18T10:21:11.702Z"
   },
   {
    "duration": 571,
    "start_time": "2023-07-18T10:21:11.749Z"
   },
   {
    "duration": 7,
    "start_time": "2023-07-18T10:21:12.323Z"
   },
   {
    "duration": 49,
    "start_time": "2023-07-18T10:21:12.332Z"
   },
   {
    "duration": 57,
    "start_time": "2023-07-18T10:21:12.384Z"
   },
   {
    "duration": 21,
    "start_time": "2023-07-18T10:21:12.446Z"
   },
   {
    "duration": 6,
    "start_time": "2023-07-18T10:21:12.469Z"
   },
   {
    "duration": 44,
    "start_time": "2023-07-18T10:21:12.478Z"
   },
   {
    "duration": 68,
    "start_time": "2023-07-18T10:21:12.524Z"
   },
   {
    "duration": 20,
    "start_time": "2023-07-18T10:21:12.595Z"
   },
   {
    "duration": 94,
    "start_time": "2023-07-18T10:21:12.617Z"
   },
   {
    "duration": 6,
    "start_time": "2023-07-18T10:21:12.713Z"
   },
   {
    "duration": 24,
    "start_time": "2023-07-18T10:21:12.721Z"
   },
   {
    "duration": 32,
    "start_time": "2023-07-18T10:21:12.748Z"
   },
   {
    "duration": 18,
    "start_time": "2023-07-18T10:21:12.782Z"
   },
   {
    "duration": 111,
    "start_time": "2023-07-18T10:21:12.803Z"
   },
   {
    "duration": 46,
    "start_time": "2023-07-18T10:21:12.917Z"
   },
   {
    "duration": 834,
    "start_time": "2023-07-18T10:21:12.965Z"
   },
   {
    "duration": 303,
    "start_time": "2023-07-18T10:21:13.801Z"
   },
   {
    "duration": 450,
    "start_time": "2023-07-18T10:21:14.107Z"
   },
   {
    "duration": 236,
    "start_time": "2023-07-18T10:21:14.559Z"
   },
   {
    "duration": 443,
    "start_time": "2023-07-18T10:21:14.798Z"
   },
   {
    "duration": 27,
    "start_time": "2023-07-18T10:21:15.244Z"
   },
   {
    "duration": 256,
    "start_time": "2023-07-18T10:21:15.277Z"
   },
   {
    "duration": 7,
    "start_time": "2023-07-18T10:21:15.536Z"
   },
   {
    "duration": 29,
    "start_time": "2023-07-18T10:21:15.545Z"
   },
   {
    "duration": 255,
    "start_time": "2023-07-18T10:21:15.576Z"
   },
   {
    "duration": 9,
    "start_time": "2023-07-18T10:21:15.833Z"
   },
   {
    "duration": 1090,
    "start_time": "2023-07-18T10:21:15.846Z"
   },
   {
    "duration": 28,
    "start_time": "2023-07-18T10:21:16.939Z"
   },
   {
    "duration": 208,
    "start_time": "2023-07-18T10:21:16.970Z"
   },
   {
    "duration": 32,
    "start_time": "2023-07-18T10:21:17.180Z"
   },
   {
    "duration": 22,
    "start_time": "2023-07-18T10:21:17.214Z"
   },
   {
    "duration": 67,
    "start_time": "2023-07-18T10:21:44.057Z"
   },
   {
    "duration": 6,
    "start_time": "2023-07-18T10:21:49.049Z"
   },
   {
    "duration": 6,
    "start_time": "2023-07-18T10:21:57.173Z"
   },
   {
    "duration": 4,
    "start_time": "2023-07-18T10:22:05.665Z"
   },
   {
    "duration": 4,
    "start_time": "2023-07-18T10:22:15.286Z"
   },
   {
    "duration": 5,
    "start_time": "2023-07-18T10:22:35.398Z"
   },
   {
    "duration": 3,
    "start_time": "2023-07-18T10:23:07.375Z"
   },
   {
    "duration": 4,
    "start_time": "2023-07-18T10:23:14.949Z"
   },
   {
    "duration": 5,
    "start_time": "2023-07-18T10:23:21.657Z"
   },
   {
    "duration": 8,
    "start_time": "2023-07-18T10:24:30.786Z"
   },
   {
    "duration": 22,
    "start_time": "2023-07-18T10:26:00.520Z"
   },
   {
    "duration": 27,
    "start_time": "2023-07-18T10:26:09.765Z"
   },
   {
    "duration": 2261,
    "start_time": "2023-07-18T10:27:40.982Z"
   },
   {
    "duration": 1583,
    "start_time": "2023-07-18T10:28:34.318Z"
   },
   {
    "duration": 2028,
    "start_time": "2023-07-18T10:28:54.084Z"
   },
   {
    "duration": 20,
    "start_time": "2023-07-18T10:32:16.572Z"
   },
   {
    "duration": 20,
    "start_time": "2023-07-18T10:33:35.120Z"
   },
   {
    "duration": 44,
    "start_time": "2023-07-18T13:17:38.778Z"
   },
   {
    "duration": 21,
    "start_time": "2023-07-18T13:17:51.471Z"
   },
   {
    "duration": 75,
    "start_time": "2023-07-18T13:21:00.301Z"
   },
   {
    "duration": 73,
    "start_time": "2023-07-18T13:27:57.848Z"
   },
   {
    "duration": 77,
    "start_time": "2023-07-18T13:32:54.956Z"
   },
   {
    "duration": 10,
    "start_time": "2023-07-18T13:34:20.543Z"
   },
   {
    "duration": 10,
    "start_time": "2023-07-18T13:35:30.551Z"
   },
   {
    "duration": 10,
    "start_time": "2023-07-18T13:35:46.967Z"
   },
   {
    "duration": 294,
    "start_time": "2023-07-18T13:38:27.040Z"
   },
   {
    "duration": 12,
    "start_time": "2023-07-18T13:38:52.987Z"
   },
   {
    "duration": 204,
    "start_time": "2023-07-18T13:44:21.647Z"
   },
   {
    "duration": 49,
    "start_time": "2023-07-18T13:50:09.033Z"
   },
   {
    "duration": 199,
    "start_time": "2023-07-18T13:50:54.799Z"
   },
   {
    "duration": 49,
    "start_time": "2023-07-18T13:50:57.517Z"
   },
   {
    "duration": 54,
    "start_time": "2023-07-18T13:51:57.957Z"
   },
   {
    "duration": 22,
    "start_time": "2023-07-18T13:52:26.135Z"
   },
   {
    "duration": 46,
    "start_time": "2023-07-18T13:54:02.677Z"
   },
   {
    "duration": 41,
    "start_time": "2023-07-18T13:54:38.255Z"
   },
   {
    "duration": 43,
    "start_time": "2023-07-18T13:55:00.894Z"
   },
   {
    "duration": 478,
    "start_time": "2023-07-18T19:01:39.600Z"
   },
   {
    "duration": 1788,
    "start_time": "2023-07-18T19:01:40.080Z"
   },
   {
    "duration": 3879,
    "start_time": "2023-07-18T19:01:41.870Z"
   },
   {
    "duration": 14,
    "start_time": "2023-07-18T19:01:45.752Z"
   },
   {
    "duration": 17,
    "start_time": "2023-07-18T19:01:45.768Z"
   },
   {
    "duration": 100,
    "start_time": "2023-07-18T19:01:45.787Z"
   },
   {
    "duration": 7,
    "start_time": "2023-07-18T19:01:45.888Z"
   },
   {
    "duration": 29,
    "start_time": "2023-07-18T19:01:45.896Z"
   },
   {
    "duration": 456,
    "start_time": "2023-07-18T19:01:45.926Z"
   },
   {
    "duration": 9,
    "start_time": "2023-07-18T19:01:46.385Z"
   },
   {
    "duration": 39,
    "start_time": "2023-07-18T19:01:46.396Z"
   },
   {
    "duration": 36,
    "start_time": "2023-07-18T19:01:46.436Z"
   },
   {
    "duration": 6,
    "start_time": "2023-07-18T19:01:46.474Z"
   },
   {
    "duration": 50,
    "start_time": "2023-07-18T19:01:46.482Z"
   },
   {
    "duration": 177,
    "start_time": "2023-07-18T19:01:46.534Z"
   },
   {
    "duration": 38,
    "start_time": "2023-07-18T19:01:46.713Z"
   },
   {
    "duration": 36,
    "start_time": "2023-07-18T19:01:46.754Z"
   },
   {
    "duration": 48,
    "start_time": "2023-07-18T19:01:46.791Z"
   },
   {
    "duration": 3,
    "start_time": "2023-07-18T19:01:46.841Z"
   },
   {
    "duration": 89,
    "start_time": "2023-07-18T19:01:46.845Z"
   },
   {
    "duration": 11,
    "start_time": "2023-07-18T19:01:46.936Z"
   },
   {
    "duration": 16,
    "start_time": "2023-07-18T19:01:46.948Z"
   },
   {
    "duration": 210,
    "start_time": "2023-07-18T19:01:46.966Z"
   },
   {
    "duration": 4,
    "start_time": "2023-07-18T19:01:47.178Z"
   },
   {
    "duration": 8,
    "start_time": "2023-07-18T19:01:47.183Z"
   },
   {
    "duration": 24,
    "start_time": "2023-07-18T19:01:47.193Z"
   },
   {
    "duration": 20,
    "start_time": "2023-07-18T19:01:47.219Z"
   },
   {
    "duration": 22,
    "start_time": "2023-07-18T19:01:47.242Z"
   },
   {
    "duration": 29,
    "start_time": "2023-07-18T19:01:47.265Z"
   },
   {
    "duration": 1095,
    "start_time": "2023-07-18T19:01:47.296Z"
   },
   {
    "duration": 242,
    "start_time": "2023-07-18T19:01:48.393Z"
   },
   {
    "duration": 419,
    "start_time": "2023-07-18T19:01:48.637Z"
   },
   {
    "duration": 235,
    "start_time": "2023-07-18T19:01:49.058Z"
   },
   {
    "duration": 420,
    "start_time": "2023-07-18T19:01:49.295Z"
   },
   {
    "duration": 14,
    "start_time": "2023-07-18T19:01:49.719Z"
   },
   {
    "duration": 246,
    "start_time": "2023-07-18T19:01:49.735Z"
   },
   {
    "duration": 6,
    "start_time": "2023-07-18T19:01:49.983Z"
   },
   {
    "duration": 26,
    "start_time": "2023-07-18T19:01:49.991Z"
   },
   {
    "duration": 160,
    "start_time": "2023-07-18T19:01:50.019Z"
   },
   {
    "duration": 6,
    "start_time": "2023-07-18T19:01:50.181Z"
   },
   {
    "duration": 1049,
    "start_time": "2023-07-18T19:01:50.189Z"
   },
   {
    "duration": 11,
    "start_time": "2023-07-18T19:01:51.240Z"
   },
   {
    "duration": 181,
    "start_time": "2023-07-18T19:01:51.253Z"
   },
   {
    "duration": 28,
    "start_time": "2023-07-18T19:01:51.436Z"
   },
   {
    "duration": 37,
    "start_time": "2023-07-18T19:01:51.466Z"
   },
   {
    "duration": 457,
    "start_time": "2023-07-22T10:09:19.742Z"
   },
   {
    "duration": 2104,
    "start_time": "2023-07-22T10:09:20.201Z"
   },
   {
    "duration": 3426,
    "start_time": "2023-07-22T10:09:22.307Z"
   },
   {
    "duration": 24,
    "start_time": "2023-07-22T10:09:25.735Z"
   },
   {
    "duration": 33,
    "start_time": "2023-07-22T10:09:25.762Z"
   },
   {
    "duration": 76,
    "start_time": "2023-07-22T10:09:25.796Z"
   },
   {
    "duration": 7,
    "start_time": "2023-07-22T10:09:25.873Z"
   },
   {
    "duration": 11,
    "start_time": "2023-07-22T10:09:25.881Z"
   },
   {
    "duration": 416,
    "start_time": "2023-07-22T10:09:25.894Z"
   },
   {
    "duration": 7,
    "start_time": "2023-07-22T10:09:26.312Z"
   },
   {
    "duration": 39,
    "start_time": "2023-07-22T10:09:26.321Z"
   },
   {
    "duration": 32,
    "start_time": "2023-07-22T10:09:26.362Z"
   },
   {
    "duration": 4,
    "start_time": "2023-07-22T10:09:26.396Z"
   },
   {
    "duration": 21,
    "start_time": "2023-07-22T10:09:26.405Z"
   },
   {
    "duration": 191,
    "start_time": "2023-07-22T10:09:26.427Z"
   },
   {
    "duration": 29,
    "start_time": "2023-07-22T10:09:26.619Z"
   },
   {
    "duration": 62,
    "start_time": "2023-07-22T10:09:26.649Z"
   },
   {
    "duration": 17,
    "start_time": "2023-07-22T10:09:26.712Z"
   },
   {
    "duration": 3,
    "start_time": "2023-07-22T10:09:26.730Z"
   },
   {
    "duration": 87,
    "start_time": "2023-07-22T10:09:26.735Z"
   },
   {
    "duration": 11,
    "start_time": "2023-07-22T10:09:26.823Z"
   },
   {
    "duration": 26,
    "start_time": "2023-07-22T10:09:26.835Z"
   },
   {
    "duration": 144,
    "start_time": "2023-07-22T10:09:26.863Z"
   },
   {
    "duration": 4,
    "start_time": "2023-07-22T10:09:27.008Z"
   },
   {
    "duration": 7,
    "start_time": "2023-07-22T10:09:27.014Z"
   },
   {
    "duration": 22,
    "start_time": "2023-07-22T10:09:27.023Z"
   },
   {
    "duration": 14,
    "start_time": "2023-07-22T10:09:27.046Z"
   },
   {
    "duration": 21,
    "start_time": "2023-07-22T10:09:27.062Z"
   },
   {
    "duration": 14,
    "start_time": "2023-07-22T10:09:27.085Z"
   },
   {
    "duration": 975,
    "start_time": "2023-07-22T10:09:27.101Z"
   },
   {
    "duration": 235,
    "start_time": "2023-07-22T10:09:28.079Z"
   },
   {
    "duration": 409,
    "start_time": "2023-07-22T10:09:28.316Z"
   },
   {
    "duration": 208,
    "start_time": "2023-07-22T10:09:28.727Z"
   },
   {
    "duration": 356,
    "start_time": "2023-07-22T10:09:28.936Z"
   },
   {
    "duration": 9,
    "start_time": "2023-07-22T10:09:29.293Z"
   },
   {
    "duration": 164,
    "start_time": "2023-07-22T10:09:29.304Z"
   },
   {
    "duration": 5,
    "start_time": "2023-07-22T10:09:29.469Z"
   },
   {
    "duration": 15,
    "start_time": "2023-07-22T10:09:29.476Z"
   },
   {
    "duration": 162,
    "start_time": "2023-07-22T10:09:29.492Z"
   },
   {
    "duration": 5,
    "start_time": "2023-07-22T10:09:29.659Z"
   },
   {
    "duration": 1027,
    "start_time": "2023-07-22T10:09:29.668Z"
   },
   {
    "duration": 12,
    "start_time": "2023-07-22T10:09:30.698Z"
   },
   {
    "duration": 171,
    "start_time": "2023-07-22T10:09:30.712Z"
   },
   {
    "duration": 26,
    "start_time": "2023-07-22T10:09:30.884Z"
   },
   {
    "duration": 56,
    "start_time": "2023-07-22T10:09:30.912Z"
   },
   {
    "duration": 537,
    "start_time": "2023-07-22T10:18:30.203Z"
   },
   {
    "duration": 497,
    "start_time": "2023-07-22T10:18:41.712Z"
   },
   {
    "duration": 3,
    "start_time": "2023-07-22T10:18:44.862Z"
   },
   {
    "duration": 1634,
    "start_time": "2023-07-22T10:18:44.867Z"
   },
   {
    "duration": 3139,
    "start_time": "2023-07-22T10:18:46.503Z"
   },
   {
    "duration": 18,
    "start_time": "2023-07-22T10:18:49.644Z"
   },
   {
    "duration": 10,
    "start_time": "2023-07-22T10:18:49.664Z"
   },
   {
    "duration": 86,
    "start_time": "2023-07-22T10:18:49.676Z"
   },
   {
    "duration": 7,
    "start_time": "2023-07-22T10:18:49.764Z"
   },
   {
    "duration": 10,
    "start_time": "2023-07-22T10:18:49.773Z"
   },
   {
    "duration": 396,
    "start_time": "2023-07-22T10:18:49.785Z"
   },
   {
    "duration": 7,
    "start_time": "2023-07-22T10:18:50.183Z"
   },
   {
    "duration": 38,
    "start_time": "2023-07-22T10:18:50.193Z"
   },
   {
    "duration": 35,
    "start_time": "2023-07-22T10:18:50.233Z"
   },
   {
    "duration": 5,
    "start_time": "2023-07-22T10:18:50.270Z"
   },
   {
    "duration": 19,
    "start_time": "2023-07-22T10:18:50.276Z"
   },
   {
    "duration": 179,
    "start_time": "2023-07-22T10:18:50.297Z"
   },
   {
    "duration": 29,
    "start_time": "2023-07-22T10:18:50.478Z"
   },
   {
    "duration": 29,
    "start_time": "2023-07-22T10:18:50.509Z"
   },
   {
    "duration": 18,
    "start_time": "2023-07-22T10:18:50.559Z"
   },
   {
    "duration": 2,
    "start_time": "2023-07-22T10:18:50.579Z"
   },
   {
    "duration": 37,
    "start_time": "2023-07-22T10:18:50.582Z"
   },
   {
    "duration": 9,
    "start_time": "2023-07-22T10:18:50.621Z"
   },
   {
    "duration": 19,
    "start_time": "2023-07-22T10:18:50.631Z"
   },
   {
    "duration": 69,
    "start_time": "2023-07-22T10:18:50.652Z"
   },
   {
    "duration": 4,
    "start_time": "2023-07-22T10:18:50.722Z"
   },
   {
    "duration": 6,
    "start_time": "2023-07-22T10:18:50.728Z"
   },
   {
    "duration": 22,
    "start_time": "2023-07-22T10:18:50.735Z"
   },
   {
    "duration": 13,
    "start_time": "2023-07-22T10:18:50.758Z"
   },
   {
    "duration": 20,
    "start_time": "2023-07-22T10:18:50.773Z"
   },
   {
    "duration": 16,
    "start_time": "2023-07-22T10:18:50.796Z"
   },
   {
    "duration": 467,
    "start_time": "2023-07-22T10:18:50.814Z"
   },
   {
    "duration": 217,
    "start_time": "2023-07-22T10:18:51.283Z"
   },
   {
    "duration": 252,
    "start_time": "2023-07-22T10:18:51.502Z"
   },
   {
    "duration": 200,
    "start_time": "2023-07-22T10:18:51.760Z"
   },
   {
    "duration": 343,
    "start_time": "2023-07-22T10:18:51.962Z"
   },
   {
    "duration": 9,
    "start_time": "2023-07-22T10:18:52.307Z"
   },
   {
    "duration": 163,
    "start_time": "2023-07-22T10:18:52.318Z"
   },
   {
    "duration": 5,
    "start_time": "2023-07-22T10:18:52.482Z"
   },
   {
    "duration": 13,
    "start_time": "2023-07-22T10:18:52.488Z"
   },
   {
    "duration": 158,
    "start_time": "2023-07-22T10:18:52.503Z"
   },
   {
    "duration": 5,
    "start_time": "2023-07-22T10:18:52.662Z"
   },
   {
    "duration": 605,
    "start_time": "2023-07-22T10:18:52.668Z"
   },
   {
    "duration": 11,
    "start_time": "2023-07-22T10:18:53.275Z"
   },
   {
    "duration": 152,
    "start_time": "2023-07-22T10:18:53.287Z"
   },
   {
    "duration": 33,
    "start_time": "2023-07-22T10:18:53.441Z"
   },
   {
    "duration": 14,
    "start_time": "2023-07-22T10:18:53.476Z"
   },
   {
    "duration": 1730,
    "start_time": "2023-07-22T10:19:04.429Z"
   },
   {
    "duration": 1670,
    "start_time": "2023-07-22T10:19:14.201Z"
   },
   {
    "duration": 18904,
    "start_time": "2023-07-26T17:43:54.191Z"
   },
   {
    "duration": 3,
    "start_time": "2023-07-26T17:52:42.575Z"
   },
   {
    "duration": 151,
    "start_time": "2023-07-26T17:53:00.259Z"
   },
   {
    "duration": 56,
    "start_time": "2023-07-26T17:53:51.929Z"
   },
   {
    "duration": 57,
    "start_time": "2023-07-26T17:53:53.009Z"
   },
   {
    "duration": 64,
    "start_time": "2023-07-26T17:53:54.272Z"
   },
   {
    "duration": 3,
    "start_time": "2023-07-27T01:55:48.432Z"
   },
   {
    "duration": 3,
    "start_time": "2023-07-27T01:58:37.606Z"
   },
   {
    "duration": 17923,
    "start_time": "2023-07-27T01:59:40.442Z"
   },
   {
    "duration": 228,
    "start_time": "2023-07-27T02:00:15.416Z"
   },
   {
    "duration": 133,
    "start_time": "2023-07-27T02:00:16.145Z"
   },
   {
    "duration": 162,
    "start_time": "2023-07-27T02:04:06.681Z"
   },
   {
    "duration": 3,
    "start_time": "2023-07-27T02:04:22.720Z"
   },
   {
    "duration": 177,
    "start_time": "2023-07-27T02:08:01.986Z"
   },
   {
    "duration": 110,
    "start_time": "2023-07-27T02:09:01.324Z"
   },
   {
    "duration": 55,
    "start_time": "2023-07-27T02:11:33.906Z"
   },
   {
    "duration": 73,
    "start_time": "2023-07-27T02:11:51.571Z"
   },
   {
    "duration": 55,
    "start_time": "2023-07-27T02:12:01.915Z"
   },
   {
    "duration": 5,
    "start_time": "2023-07-27T05:36:18.727Z"
   },
   {
    "duration": 256,
    "start_time": "2023-07-27T05:36:18.749Z"
   },
   {
    "duration": 137,
    "start_time": "2023-07-27T05:36:19.007Z"
   },
   {
    "duration": 58,
    "start_time": "2023-07-27T05:36:19.146Z"
   },
   {
    "duration": 56,
    "start_time": "2023-07-27T05:36:19.207Z"
   },
   {
    "duration": 62,
    "start_time": "2023-07-27T05:36:19.265Z"
   },
   {
    "duration": 69,
    "start_time": "2023-07-27T05:36:19.330Z"
   },
   {
    "duration": 146,
    "start_time": "2023-07-27T05:36:19.401Z"
   },
   {
    "duration": 0,
    "start_time": "2023-07-27T05:36:19.550Z"
   },
   {
    "duration": 0,
    "start_time": "2023-07-27T05:36:19.550Z"
   },
   {
    "duration": 0,
    "start_time": "2023-07-27T05:36:19.552Z"
   },
   {
    "duration": 0,
    "start_time": "2023-07-27T05:36:19.553Z"
   },
   {
    "duration": 0,
    "start_time": "2023-07-27T05:36:19.554Z"
   },
   {
    "duration": 0,
    "start_time": "2023-07-27T05:36:19.555Z"
   },
   {
    "duration": 0,
    "start_time": "2023-07-27T05:36:19.556Z"
   },
   {
    "duration": 1,
    "start_time": "2023-07-27T05:36:19.557Z"
   },
   {
    "duration": 0,
    "start_time": "2023-07-27T05:36:19.559Z"
   },
   {
    "duration": 0,
    "start_time": "2023-07-27T05:36:19.560Z"
   },
   {
    "duration": 0,
    "start_time": "2023-07-27T05:36:19.561Z"
   },
   {
    "duration": 0,
    "start_time": "2023-07-27T05:36:19.563Z"
   },
   {
    "duration": 0,
    "start_time": "2023-07-27T05:36:19.564Z"
   },
   {
    "duration": 0,
    "start_time": "2023-07-27T05:36:19.565Z"
   },
   {
    "duration": 0,
    "start_time": "2023-07-27T05:36:19.567Z"
   },
   {
    "duration": 0,
    "start_time": "2023-07-27T05:36:19.568Z"
   },
   {
    "duration": 0,
    "start_time": "2023-07-27T05:36:19.569Z"
   },
   {
    "duration": 0,
    "start_time": "2023-07-27T05:36:19.571Z"
   },
   {
    "duration": 0,
    "start_time": "2023-07-27T05:36:19.572Z"
   },
   {
    "duration": 0,
    "start_time": "2023-07-27T05:36:19.573Z"
   },
   {
    "duration": 0,
    "start_time": "2023-07-27T05:36:19.575Z"
   },
   {
    "duration": 0,
    "start_time": "2023-07-27T05:36:19.577Z"
   },
   {
    "duration": 0,
    "start_time": "2023-07-27T05:36:19.579Z"
   },
   {
    "duration": 0,
    "start_time": "2023-07-27T05:36:19.581Z"
   },
   {
    "duration": 0,
    "start_time": "2023-07-27T05:36:19.582Z"
   },
   {
    "duration": 0,
    "start_time": "2023-07-27T05:36:19.584Z"
   },
   {
    "duration": 0,
    "start_time": "2023-07-27T05:36:19.585Z"
   },
   {
    "duration": 0,
    "start_time": "2023-07-27T05:36:19.586Z"
   },
   {
    "duration": 0,
    "start_time": "2023-07-27T05:36:19.588Z"
   },
   {
    "duration": 0,
    "start_time": "2023-07-27T05:36:19.590Z"
   },
   {
    "duration": 1,
    "start_time": "2023-07-27T05:36:19.591Z"
   },
   {
    "duration": 0,
    "start_time": "2023-07-27T05:36:19.593Z"
   },
   {
    "duration": 136,
    "start_time": "2023-07-27T05:36:19.656Z"
   },
   {
    "duration": 0,
    "start_time": "2023-07-27T05:36:19.794Z"
   },
   {
    "duration": 0,
    "start_time": "2023-07-27T05:36:19.795Z"
   },
   {
    "duration": 0,
    "start_time": "2023-07-27T05:36:19.797Z"
   },
   {
    "duration": 0,
    "start_time": "2023-07-27T05:36:19.798Z"
   },
   {
    "duration": 0,
    "start_time": "2023-07-27T05:36:19.799Z"
   },
   {
    "duration": 0,
    "start_time": "2023-07-27T05:36:19.800Z"
   },
   {
    "duration": 0,
    "start_time": "2023-07-27T05:36:19.801Z"
   },
   {
    "duration": 0,
    "start_time": "2023-07-27T05:36:19.803Z"
   },
   {
    "duration": 0,
    "start_time": "2023-07-27T05:36:19.804Z"
   },
   {
    "duration": 0,
    "start_time": "2023-07-27T05:36:19.805Z"
   },
   {
    "duration": 0,
    "start_time": "2023-07-27T05:36:19.806Z"
   },
   {
    "duration": 0,
    "start_time": "2023-07-27T05:36:19.807Z"
   },
   {
    "duration": 128,
    "start_time": "2023-07-27T05:52:14.387Z"
   },
   {
    "duration": 160,
    "start_time": "2023-07-27T05:52:34.879Z"
   },
   {
    "duration": 192,
    "start_time": "2023-07-27T05:54:19.784Z"
   },
   {
    "duration": 100,
    "start_time": "2023-07-27T05:57:58.626Z"
   },
   {
    "duration": 66,
    "start_time": "2023-07-27T06:01:28.080Z"
   },
   {
    "duration": 229,
    "start_time": "2023-07-27T06:02:01.948Z"
   },
   {
    "duration": 169,
    "start_time": "2023-07-27T06:02:09.996Z"
   },
   {
    "duration": 187,
    "start_time": "2023-07-27T06:02:18.419Z"
   },
   {
    "duration": 224,
    "start_time": "2023-07-27T06:03:37.050Z"
   },
   {
    "duration": 71,
    "start_time": "2023-07-27T06:04:00.477Z"
   },
   {
    "duration": 181,
    "start_time": "2023-07-27T06:04:24.294Z"
   },
   {
    "duration": 141,
    "start_time": "2023-07-27T06:04:53.288Z"
   },
   {
    "duration": 73,
    "start_time": "2023-07-27T06:05:05.846Z"
   },
   {
    "duration": 78,
    "start_time": "2023-07-27T06:05:23.472Z"
   },
   {
    "duration": 142,
    "start_time": "2023-07-27T06:07:14.392Z"
   },
   {
    "duration": 215,
    "start_time": "2023-07-27T06:09:41.579Z"
   },
   {
    "duration": 363,
    "start_time": "2023-07-27T06:10:04.438Z"
   },
   {
    "duration": 415,
    "start_time": "2023-07-27T06:10:13.249Z"
   },
   {
    "duration": 202,
    "start_time": "2023-07-27T06:11:45.897Z"
   },
   {
    "duration": 76,
    "start_time": "2023-07-27T06:12:30.382Z"
   },
   {
    "duration": 80,
    "start_time": "2023-07-27T06:13:25.447Z"
   },
   {
    "duration": 68,
    "start_time": "2023-07-27T06:13:48.278Z"
   },
   {
    "duration": 69,
    "start_time": "2023-07-27T06:14:02.871Z"
   },
   {
    "duration": 64,
    "start_time": "2023-07-27T06:14:29.182Z"
   },
   {
    "duration": 87,
    "start_time": "2023-07-27T06:15:10.299Z"
   },
   {
    "duration": 66,
    "start_time": "2023-07-27T06:15:23.963Z"
   },
   {
    "duration": 65,
    "start_time": "2023-07-27T06:15:44.671Z"
   },
   {
    "duration": 77,
    "start_time": "2023-07-27T06:17:00.702Z"
   },
   {
    "duration": 74,
    "start_time": "2023-07-27T06:17:11.096Z"
   },
   {
    "duration": 502,
    "start_time": "2023-07-27T06:17:22.670Z"
   },
   {
    "duration": 86,
    "start_time": "2023-07-27T06:18:19.035Z"
   },
   {
    "duration": 92,
    "start_time": "2023-07-27T06:19:01.750Z"
   },
   {
    "duration": 396,
    "start_time": "2023-07-27T06:19:36.919Z"
   },
   {
    "duration": 85,
    "start_time": "2023-07-27T06:24:42.860Z"
   },
   {
    "duration": 68,
    "start_time": "2023-07-27T06:24:55.763Z"
   },
   {
    "duration": 75,
    "start_time": "2023-07-27T06:25:10.294Z"
   },
   {
    "duration": 85,
    "start_time": "2023-07-27T06:25:33.514Z"
   },
   {
    "duration": 83,
    "start_time": "2023-07-27T06:25:54.826Z"
   },
   {
    "duration": 79,
    "start_time": "2023-07-27T06:26:17.588Z"
   },
   {
    "duration": 85,
    "start_time": "2023-07-27T06:27:31.364Z"
   },
   {
    "duration": 85,
    "start_time": "2023-07-27T06:27:54.296Z"
   },
   {
    "duration": 83,
    "start_time": "2023-07-27T06:28:02.196Z"
   },
   {
    "duration": 92,
    "start_time": "2023-07-27T06:28:54.484Z"
   },
   {
    "duration": 59,
    "start_time": "2023-07-27T06:34:06.969Z"
   },
   {
    "duration": 88,
    "start_time": "2023-07-27T06:34:23.787Z"
   },
   {
    "duration": 85,
    "start_time": "2023-07-27T06:34:30.364Z"
   },
   {
    "duration": 85,
    "start_time": "2023-07-27T06:35:00.178Z"
   },
   {
    "duration": 503,
    "start_time": "2023-07-27T06:35:16.532Z"
   },
   {
    "duration": 62,
    "start_time": "2023-07-27T06:35:45.891Z"
   },
   {
    "duration": 103,
    "start_time": "2023-07-27T06:38:18.245Z"
   },
   {
    "duration": 81,
    "start_time": "2023-07-27T06:39:37.257Z"
   },
   {
    "duration": 62,
    "start_time": "2023-07-27T06:40:52.391Z"
   },
   {
    "duration": 62,
    "start_time": "2023-07-27T06:41:07.460Z"
   },
   {
    "duration": 77,
    "start_time": "2023-07-27T06:41:36.200Z"
   },
   {
    "duration": 914,
    "start_time": "2023-07-27T06:41:46.669Z"
   },
   {
    "duration": 92,
    "start_time": "2023-07-27T06:46:06.178Z"
   },
   {
    "duration": 93,
    "start_time": "2023-07-27T06:46:41.186Z"
   },
   {
    "duration": 91,
    "start_time": "2023-07-27T06:47:07.347Z"
   },
   {
    "duration": 82,
    "start_time": "2023-07-27T07:06:25.205Z"
   },
   {
    "duration": 89,
    "start_time": "2023-07-27T07:06:31.444Z"
   },
   {
    "duration": 97,
    "start_time": "2023-07-27T07:06:59.854Z"
   },
   {
    "duration": 98,
    "start_time": "2023-07-27T07:07:18.846Z"
   },
   {
    "duration": 70,
    "start_time": "2023-07-27T07:08:15.345Z"
   },
   {
    "duration": 58,
    "start_time": "2023-07-27T07:09:16.732Z"
   },
   {
    "duration": 57,
    "start_time": "2023-07-27T07:09:31.326Z"
   },
   {
    "duration": 58,
    "start_time": "2023-07-27T07:10:25.251Z"
   },
   {
    "duration": 106,
    "start_time": "2023-07-27T07:16:44.482Z"
   },
   {
    "duration": 167,
    "start_time": "2023-07-27T07:17:34.179Z"
   },
   {
    "duration": 75,
    "start_time": "2023-07-27T07:19:19.655Z"
   },
   {
    "duration": 64,
    "start_time": "2023-07-27T07:19:54.834Z"
   },
   {
    "duration": 60,
    "start_time": "2023-07-27T07:20:40.629Z"
   },
   {
    "duration": 75,
    "start_time": "2023-07-27T07:20:56.409Z"
   },
   {
    "duration": 71,
    "start_time": "2023-07-27T07:21:06.444Z"
   },
   {
    "duration": 63,
    "start_time": "2023-07-27T07:21:44.499Z"
   },
   {
    "duration": 174,
    "start_time": "2023-07-27T07:22:08.405Z"
   },
   {
    "duration": 88,
    "start_time": "2023-07-27T07:22:47.337Z"
   },
   {
    "duration": 97,
    "start_time": "2023-07-27T07:23:06.635Z"
   },
   {
    "duration": 94,
    "start_time": "2023-07-27T07:25:53.938Z"
   },
   {
    "duration": 83,
    "start_time": "2023-07-27T07:26:48.267Z"
   },
   {
    "duration": 73,
    "start_time": "2023-07-27T07:26:57.125Z"
   },
   {
    "duration": 64,
    "start_time": "2023-07-27T07:28:03.836Z"
   },
   {
    "duration": 80,
    "start_time": "2023-07-27T07:28:29.706Z"
   },
   {
    "duration": 75,
    "start_time": "2023-07-27T07:29:03.408Z"
   },
   {
    "duration": 90,
    "start_time": "2023-07-27T07:29:33.252Z"
   },
   {
    "duration": 72,
    "start_time": "2023-07-27T07:32:43.466Z"
   },
   {
    "duration": 51,
    "start_time": "2023-07-27T07:32:53.545Z"
   },
   {
    "duration": 146,
    "start_time": "2023-07-27T07:34:38.080Z"
   },
   {
    "duration": 61,
    "start_time": "2023-07-27T07:35:28.181Z"
   },
   {
    "duration": 60,
    "start_time": "2023-07-27T07:39:10.254Z"
   },
   {
    "duration": 73,
    "start_time": "2023-07-27T07:43:34.117Z"
   },
   {
    "duration": 367,
    "start_time": "2023-07-27T07:43:53.987Z"
   },
   {
    "duration": 73,
    "start_time": "2023-07-27T07:45:22.816Z"
   },
   {
    "duration": 63,
    "start_time": "2023-07-27T07:45:29.900Z"
   },
   {
    "duration": 70,
    "start_time": "2023-07-27T07:47:12.125Z"
   },
   {
    "duration": 411,
    "start_time": "2023-07-27T07:47:19.933Z"
   },
   {
    "duration": 80,
    "start_time": "2023-07-27T07:47:58.435Z"
   },
   {
    "duration": 64,
    "start_time": "2023-07-27T07:57:38.023Z"
   },
   {
    "duration": 62,
    "start_time": "2023-07-27T07:58:02.935Z"
   },
   {
    "duration": 65,
    "start_time": "2023-07-27T07:58:15.498Z"
   },
   {
    "duration": 54,
    "start_time": "2023-07-27T07:58:29.541Z"
   },
   {
    "duration": 78,
    "start_time": "2023-07-27T07:59:18.231Z"
   },
   {
    "duration": 66,
    "start_time": "2023-07-27T07:59:46.141Z"
   },
   {
    "duration": 66,
    "start_time": "2023-07-27T08:02:08.104Z"
   },
   {
    "duration": 66,
    "start_time": "2023-07-27T08:02:27.564Z"
   },
   {
    "duration": 67,
    "start_time": "2023-07-27T08:07:41.262Z"
   },
   {
    "duration": 66,
    "start_time": "2023-07-27T08:08:23.929Z"
   },
   {
    "duration": 459,
    "start_time": "2023-09-30T18:10:52.875Z"
   },
   {
    "duration": 72,
    "start_time": "2023-09-30T18:10:53.336Z"
   },
   {
    "duration": 11,
    "start_time": "2023-09-30T18:10:53.410Z"
   },
   {
    "duration": 15,
    "start_time": "2023-09-30T18:10:53.423Z"
   },
   {
    "duration": 176,
    "start_time": "2023-09-30T18:10:53.439Z"
   },
   {
    "duration": 4,
    "start_time": "2023-09-30T18:10:53.617Z"
   },
   {
    "duration": 41,
    "start_time": "2023-09-30T18:10:53.623Z"
   },
   {
    "duration": 47,
    "start_time": "2023-09-30T18:10:53.666Z"
   },
   {
    "duration": 45,
    "start_time": "2023-09-30T18:10:53.714Z"
   },
   {
    "duration": 24,
    "start_time": "2023-09-30T18:10:53.760Z"
   },
   {
    "duration": 44,
    "start_time": "2023-09-30T18:10:53.786Z"
   },
   {
    "duration": 1097,
    "start_time": "2023-09-30T18:10:53.833Z"
   },
   {
    "duration": 213,
    "start_time": "2023-09-30T18:10:54.931Z"
   },
   {
    "duration": 388,
    "start_time": "2023-09-30T18:10:55.147Z"
   },
   {
    "duration": 209,
    "start_time": "2023-09-30T18:10:55.536Z"
   },
   {
    "duration": 328,
    "start_time": "2023-09-30T18:10:55.746Z"
   },
   {
    "duration": 10,
    "start_time": "2023-09-30T18:10:56.076Z"
   },
   {
    "duration": 185,
    "start_time": "2023-09-30T18:10:56.088Z"
   },
   {
    "duration": 5,
    "start_time": "2023-09-30T18:10:56.275Z"
   },
   {
    "duration": 56,
    "start_time": "2023-09-30T18:10:56.282Z"
   },
   {
    "duration": 167,
    "start_time": "2023-09-30T18:10:56.339Z"
   },
   {
    "duration": 5,
    "start_time": "2023-09-30T18:10:56.508Z"
   },
   {
    "duration": 1014,
    "start_time": "2023-09-30T18:10:56.514Z"
   },
   {
    "duration": 12,
    "start_time": "2023-09-30T18:10:57.529Z"
   },
   {
    "duration": 164,
    "start_time": "2023-09-30T18:10:57.542Z"
   },
   {
    "duration": 32,
    "start_time": "2023-09-30T18:10:57.707Z"
   },
   {
    "duration": 106,
    "start_time": "2023-09-30T18:10:57.741Z"
   }
  ],
  "kernelspec": {
   "display_name": "Python 3 (ipykernel)",
   "language": "python",
   "name": "python3"
  },
  "language_info": {
   "codemirror_mode": {
    "name": "ipython",
    "version": 3
   },
   "file_extension": ".py",
   "mimetype": "text/x-python",
   "name": "python",
   "nbconvert_exporter": "python",
   "pygments_lexer": "ipython3",
   "version": "3.10.9"
  },
  "toc": {
   "base_numbering": 1,
   "nav_menu": {},
   "number_sections": true,
   "sideBar": true,
   "skip_h1_title": true,
   "title_cell": "Table of Contents",
   "title_sidebar": "Contents",
   "toc_cell": false,
   "toc_position": {
    "height": "calc(100% - 180px)",
    "left": "10px",
    "top": "150px",
    "width": "251.9375px"
   },
   "toc_section_display": true,
   "toc_window_display": true
  }
 },
 "nbformat": 4,
 "nbformat_minor": 2
}
