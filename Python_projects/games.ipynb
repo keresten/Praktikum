{
 "cells": [
  {
   "cell_type": "markdown",
   "metadata": {},
   "source": [
    "# Сборный проект №1"
   ]
  },
  {
   "cell_type": "markdown",
   "metadata": {},
   "source": [
    "**Описание задачи:**\n",
    "\n",
    "Вы работаете в интернет-магазине «Стримчик», который продаёт по всему миру компьютерные игры. Из открытых источников доступны исторические данные о продажах игр, оценки пользователей и экспертов, жанры и платформы (например, Xbox или PlayStation). Вам нужно выявить определяющие успешность игры закономерности. Это позволит сделать ставку на потенциально популярный продукт и спланировать рекламные кампании.\n",
    "Перед вами данные до 2016 года. Представим, что сейчас декабрь 2016 г., и вы планируете кампанию на 2017-й. Нужно отработать принцип работы с данными. Неважно, прогнозируете ли вы продажи на 2017 год по данным 2016-го или же 2027-й — по данным 2026 года."
   ]
  },
  {
   "cell_type": "code",
   "execution_count": 1,
   "metadata": {
    "scrolled": true
   },
   "outputs": [
    {
     "data": {
      "text/html": [
       "<div>\n",
       "<style scoped>\n",
       "    .dataframe tbody tr th:only-of-type {\n",
       "        vertical-align: middle;\n",
       "    }\n",
       "\n",
       "    .dataframe tbody tr th {\n",
       "        vertical-align: top;\n",
       "    }\n",
       "\n",
       "    .dataframe thead th {\n",
       "        text-align: right;\n",
       "    }\n",
       "</style>\n",
       "<table border=\"1\" class=\"dataframe\">\n",
       "  <thead>\n",
       "    <tr style=\"text-align: right;\">\n",
       "      <th></th>\n",
       "      <th>Name</th>\n",
       "      <th>Platform</th>\n",
       "      <th>Year_of_Release</th>\n",
       "      <th>Genre</th>\n",
       "      <th>NA_sales</th>\n",
       "      <th>EU_sales</th>\n",
       "      <th>JP_sales</th>\n",
       "      <th>Other_sales</th>\n",
       "      <th>Critic_Score</th>\n",
       "      <th>User_Score</th>\n",
       "      <th>Rating</th>\n",
       "    </tr>\n",
       "  </thead>\n",
       "  <tbody>\n",
       "    <tr>\n",
       "      <th>0</th>\n",
       "      <td>Wii Sports</td>\n",
       "      <td>Wii</td>\n",
       "      <td>2006.0</td>\n",
       "      <td>Sports</td>\n",
       "      <td>41.36</td>\n",
       "      <td>28.96</td>\n",
       "      <td>3.77</td>\n",
       "      <td>8.45</td>\n",
       "      <td>76.0</td>\n",
       "      <td>8</td>\n",
       "      <td>E</td>\n",
       "    </tr>\n",
       "    <tr>\n",
       "      <th>1</th>\n",
       "      <td>Super Mario Bros.</td>\n",
       "      <td>NES</td>\n",
       "      <td>1985.0</td>\n",
       "      <td>Platform</td>\n",
       "      <td>29.08</td>\n",
       "      <td>3.58</td>\n",
       "      <td>6.81</td>\n",
       "      <td>0.77</td>\n",
       "      <td>NaN</td>\n",
       "      <td>NaN</td>\n",
       "      <td>NaN</td>\n",
       "    </tr>\n",
       "    <tr>\n",
       "      <th>2</th>\n",
       "      <td>Mario Kart Wii</td>\n",
       "      <td>Wii</td>\n",
       "      <td>2008.0</td>\n",
       "      <td>Racing</td>\n",
       "      <td>15.68</td>\n",
       "      <td>12.76</td>\n",
       "      <td>3.79</td>\n",
       "      <td>3.29</td>\n",
       "      <td>82.0</td>\n",
       "      <td>8.3</td>\n",
       "      <td>E</td>\n",
       "    </tr>\n",
       "    <tr>\n",
       "      <th>3</th>\n",
       "      <td>Wii Sports Resort</td>\n",
       "      <td>Wii</td>\n",
       "      <td>2009.0</td>\n",
       "      <td>Sports</td>\n",
       "      <td>15.61</td>\n",
       "      <td>10.93</td>\n",
       "      <td>3.28</td>\n",
       "      <td>2.95</td>\n",
       "      <td>80.0</td>\n",
       "      <td>8</td>\n",
       "      <td>E</td>\n",
       "    </tr>\n",
       "    <tr>\n",
       "      <th>4</th>\n",
       "      <td>Pokemon Red/Pokemon Blue</td>\n",
       "      <td>GB</td>\n",
       "      <td>1996.0</td>\n",
       "      <td>Role-Playing</td>\n",
       "      <td>11.27</td>\n",
       "      <td>8.89</td>\n",
       "      <td>10.22</td>\n",
       "      <td>1.00</td>\n",
       "      <td>NaN</td>\n",
       "      <td>NaN</td>\n",
       "      <td>NaN</td>\n",
       "    </tr>\n",
       "  </tbody>\n",
       "</table>\n",
       "</div>"
      ],
      "text/plain": [
       "                       Name Platform  Year_of_Release         Genre  NA_sales  \\\n",
       "0                Wii Sports      Wii           2006.0        Sports     41.36   \n",
       "1         Super Mario Bros.      NES           1985.0      Platform     29.08   \n",
       "2            Mario Kart Wii      Wii           2008.0        Racing     15.68   \n",
       "3         Wii Sports Resort      Wii           2009.0        Sports     15.61   \n",
       "4  Pokemon Red/Pokemon Blue       GB           1996.0  Role-Playing     11.27   \n",
       "\n",
       "   EU_sales  JP_sales  Other_sales  Critic_Score User_Score Rating  \n",
       "0     28.96      3.77         8.45          76.0          8      E  \n",
       "1      3.58      6.81         0.77           NaN        NaN    NaN  \n",
       "2     12.76      3.79         3.29          82.0        8.3      E  \n",
       "3     10.93      3.28         2.95          80.0          8      E  \n",
       "4      8.89     10.22         1.00           NaN        NaN    NaN  "
      ]
     },
     "execution_count": 1,
     "metadata": {},
     "output_type": "execute_result"
    }
   ],
   "source": [
    "import pandas as pd\n",
    "import matplotlib.pyplot as plt\n",
    "\n",
    "games = pd.read_csv('/datasets/games.csv')\n",
    "games.head()"
   ]
  },
  {
   "cell_type": "markdown",
   "metadata": {},
   "source": [
    "**Выведем на экран информацию о датафрейме:**"
   ]
  },
  {
   "cell_type": "code",
   "execution_count": 2,
   "metadata": {
    "scrolled": true
   },
   "outputs": [
    {
     "name": "stdout",
     "output_type": "stream",
     "text": [
      "<class 'pandas.core.frame.DataFrame'>\n",
      "RangeIndex: 16715 entries, 0 to 16714\n",
      "Data columns (total 11 columns):\n",
      " #   Column           Non-Null Count  Dtype  \n",
      "---  ------           --------------  -----  \n",
      " 0   Name             16713 non-null  object \n",
      " 1   Platform         16715 non-null  object \n",
      " 2   Year_of_Release  16446 non-null  float64\n",
      " 3   Genre            16713 non-null  object \n",
      " 4   NA_sales         16715 non-null  float64\n",
      " 5   EU_sales         16715 non-null  float64\n",
      " 6   JP_sales         16715 non-null  float64\n",
      " 7   Other_sales      16715 non-null  float64\n",
      " 8   Critic_Score     8137 non-null   float64\n",
      " 9   User_Score       10014 non-null  object \n",
      " 10  Rating           9949 non-null   object \n",
      "dtypes: float64(6), object(5)\n",
      "memory usage: 1.4+ MB\n"
     ]
    }
   ],
   "source": [
    "games.info()"
   ]
  },
  {
   "cell_type": "markdown",
   "metadata": {},
   "source": [
    "**Выведем на экран статистические характеристики числовых колонок методом describe()**"
   ]
  },
  {
   "cell_type": "code",
   "execution_count": 3,
   "metadata": {
    "scrolled": true
   },
   "outputs": [
    {
     "data": {
      "text/html": [
       "<div>\n",
       "<style scoped>\n",
       "    .dataframe tbody tr th:only-of-type {\n",
       "        vertical-align: middle;\n",
       "    }\n",
       "\n",
       "    .dataframe tbody tr th {\n",
       "        vertical-align: top;\n",
       "    }\n",
       "\n",
       "    .dataframe thead th {\n",
       "        text-align: right;\n",
       "    }\n",
       "</style>\n",
       "<table border=\"1\" class=\"dataframe\">\n",
       "  <thead>\n",
       "    <tr style=\"text-align: right;\">\n",
       "      <th></th>\n",
       "      <th>Year_of_Release</th>\n",
       "      <th>NA_sales</th>\n",
       "      <th>EU_sales</th>\n",
       "      <th>JP_sales</th>\n",
       "      <th>Other_sales</th>\n",
       "      <th>Critic_Score</th>\n",
       "    </tr>\n",
       "  </thead>\n",
       "  <tbody>\n",
       "    <tr>\n",
       "      <th>count</th>\n",
       "      <td>16446.000000</td>\n",
       "      <td>16715.000000</td>\n",
       "      <td>16715.000000</td>\n",
       "      <td>16715.000000</td>\n",
       "      <td>16715.000000</td>\n",
       "      <td>8137.000000</td>\n",
       "    </tr>\n",
       "    <tr>\n",
       "      <th>mean</th>\n",
       "      <td>2006.484616</td>\n",
       "      <td>0.263377</td>\n",
       "      <td>0.145060</td>\n",
       "      <td>0.077617</td>\n",
       "      <td>0.047342</td>\n",
       "      <td>68.967679</td>\n",
       "    </tr>\n",
       "    <tr>\n",
       "      <th>std</th>\n",
       "      <td>5.877050</td>\n",
       "      <td>0.813604</td>\n",
       "      <td>0.503339</td>\n",
       "      <td>0.308853</td>\n",
       "      <td>0.186731</td>\n",
       "      <td>13.938165</td>\n",
       "    </tr>\n",
       "    <tr>\n",
       "      <th>min</th>\n",
       "      <td>1980.000000</td>\n",
       "      <td>0.000000</td>\n",
       "      <td>0.000000</td>\n",
       "      <td>0.000000</td>\n",
       "      <td>0.000000</td>\n",
       "      <td>13.000000</td>\n",
       "    </tr>\n",
       "    <tr>\n",
       "      <th>25%</th>\n",
       "      <td>2003.000000</td>\n",
       "      <td>0.000000</td>\n",
       "      <td>0.000000</td>\n",
       "      <td>0.000000</td>\n",
       "      <td>0.000000</td>\n",
       "      <td>60.000000</td>\n",
       "    </tr>\n",
       "    <tr>\n",
       "      <th>50%</th>\n",
       "      <td>2007.000000</td>\n",
       "      <td>0.080000</td>\n",
       "      <td>0.020000</td>\n",
       "      <td>0.000000</td>\n",
       "      <td>0.010000</td>\n",
       "      <td>71.000000</td>\n",
       "    </tr>\n",
       "    <tr>\n",
       "      <th>75%</th>\n",
       "      <td>2010.000000</td>\n",
       "      <td>0.240000</td>\n",
       "      <td>0.110000</td>\n",
       "      <td>0.040000</td>\n",
       "      <td>0.030000</td>\n",
       "      <td>79.000000</td>\n",
       "    </tr>\n",
       "    <tr>\n",
       "      <th>max</th>\n",
       "      <td>2016.000000</td>\n",
       "      <td>41.360000</td>\n",
       "      <td>28.960000</td>\n",
       "      <td>10.220000</td>\n",
       "      <td>10.570000</td>\n",
       "      <td>98.000000</td>\n",
       "    </tr>\n",
       "  </tbody>\n",
       "</table>\n",
       "</div>"
      ],
      "text/plain": [
       "       Year_of_Release      NA_sales      EU_sales      JP_sales  \\\n",
       "count     16446.000000  16715.000000  16715.000000  16715.000000   \n",
       "mean       2006.484616      0.263377      0.145060      0.077617   \n",
       "std           5.877050      0.813604      0.503339      0.308853   \n",
       "min        1980.000000      0.000000      0.000000      0.000000   \n",
       "25%        2003.000000      0.000000      0.000000      0.000000   \n",
       "50%        2007.000000      0.080000      0.020000      0.000000   \n",
       "75%        2010.000000      0.240000      0.110000      0.040000   \n",
       "max        2016.000000     41.360000     28.960000     10.220000   \n",
       "\n",
       "        Other_sales  Critic_Score  \n",
       "count  16715.000000   8137.000000  \n",
       "mean       0.047342     68.967679  \n",
       "std        0.186731     13.938165  \n",
       "min        0.000000     13.000000  \n",
       "25%        0.000000     60.000000  \n",
       "50%        0.010000     71.000000  \n",
       "75%        0.030000     79.000000  \n",
       "max       10.570000     98.000000  "
      ]
     },
     "execution_count": 3,
     "metadata": {},
     "output_type": "execute_result"
    }
   ],
   "source": [
    "games.describe()"
   ]
  },
  {
   "cell_type": "markdown",
   "metadata": {},
   "source": [
    "## Предобработка данных"
   ]
  },
  {
   "cell_type": "markdown",
   "metadata": {},
   "source": [
    "### Приведение названий столбцов к нижнему регистру"
   ]
  },
  {
   "cell_type": "code",
   "execution_count": 4,
   "metadata": {},
   "outputs": [
    {
     "data": {
      "text/html": [
       "<div>\n",
       "<style scoped>\n",
       "    .dataframe tbody tr th:only-of-type {\n",
       "        vertical-align: middle;\n",
       "    }\n",
       "\n",
       "    .dataframe tbody tr th {\n",
       "        vertical-align: top;\n",
       "    }\n",
       "\n",
       "    .dataframe thead th {\n",
       "        text-align: right;\n",
       "    }\n",
       "</style>\n",
       "<table border=\"1\" class=\"dataframe\">\n",
       "  <thead>\n",
       "    <tr style=\"text-align: right;\">\n",
       "      <th></th>\n",
       "      <th>name</th>\n",
       "      <th>platform</th>\n",
       "      <th>year_of_release</th>\n",
       "      <th>genre</th>\n",
       "      <th>na_sales</th>\n",
       "      <th>eu_sales</th>\n",
       "      <th>jp_sales</th>\n",
       "      <th>other_sales</th>\n",
       "      <th>critic_score</th>\n",
       "      <th>user_score</th>\n",
       "      <th>rating</th>\n",
       "    </tr>\n",
       "  </thead>\n",
       "  <tbody>\n",
       "    <tr>\n",
       "      <th>0</th>\n",
       "      <td>Wii Sports</td>\n",
       "      <td>Wii</td>\n",
       "      <td>2006.0</td>\n",
       "      <td>Sports</td>\n",
       "      <td>41.36</td>\n",
       "      <td>28.96</td>\n",
       "      <td>3.77</td>\n",
       "      <td>8.45</td>\n",
       "      <td>76.0</td>\n",
       "      <td>8</td>\n",
       "      <td>E</td>\n",
       "    </tr>\n",
       "    <tr>\n",
       "      <th>1</th>\n",
       "      <td>Super Mario Bros.</td>\n",
       "      <td>NES</td>\n",
       "      <td>1985.0</td>\n",
       "      <td>Platform</td>\n",
       "      <td>29.08</td>\n",
       "      <td>3.58</td>\n",
       "      <td>6.81</td>\n",
       "      <td>0.77</td>\n",
       "      <td>NaN</td>\n",
       "      <td>NaN</td>\n",
       "      <td>NaN</td>\n",
       "    </tr>\n",
       "    <tr>\n",
       "      <th>2</th>\n",
       "      <td>Mario Kart Wii</td>\n",
       "      <td>Wii</td>\n",
       "      <td>2008.0</td>\n",
       "      <td>Racing</td>\n",
       "      <td>15.68</td>\n",
       "      <td>12.76</td>\n",
       "      <td>3.79</td>\n",
       "      <td>3.29</td>\n",
       "      <td>82.0</td>\n",
       "      <td>8.3</td>\n",
       "      <td>E</td>\n",
       "    </tr>\n",
       "    <tr>\n",
       "      <th>3</th>\n",
       "      <td>Wii Sports Resort</td>\n",
       "      <td>Wii</td>\n",
       "      <td>2009.0</td>\n",
       "      <td>Sports</td>\n",
       "      <td>15.61</td>\n",
       "      <td>10.93</td>\n",
       "      <td>3.28</td>\n",
       "      <td>2.95</td>\n",
       "      <td>80.0</td>\n",
       "      <td>8</td>\n",
       "      <td>E</td>\n",
       "    </tr>\n",
       "    <tr>\n",
       "      <th>4</th>\n",
       "      <td>Pokemon Red/Pokemon Blue</td>\n",
       "      <td>GB</td>\n",
       "      <td>1996.0</td>\n",
       "      <td>Role-Playing</td>\n",
       "      <td>11.27</td>\n",
       "      <td>8.89</td>\n",
       "      <td>10.22</td>\n",
       "      <td>1.00</td>\n",
       "      <td>NaN</td>\n",
       "      <td>NaN</td>\n",
       "      <td>NaN</td>\n",
       "    </tr>\n",
       "  </tbody>\n",
       "</table>\n",
       "</div>"
      ],
      "text/plain": [
       "                       name platform  year_of_release         genre  na_sales  \\\n",
       "0                Wii Sports      Wii           2006.0        Sports     41.36   \n",
       "1         Super Mario Bros.      NES           1985.0      Platform     29.08   \n",
       "2            Mario Kart Wii      Wii           2008.0        Racing     15.68   \n",
       "3         Wii Sports Resort      Wii           2009.0        Sports     15.61   \n",
       "4  Pokemon Red/Pokemon Blue       GB           1996.0  Role-Playing     11.27   \n",
       "\n",
       "   eu_sales  jp_sales  other_sales  critic_score user_score rating  \n",
       "0     28.96      3.77         8.45          76.0          8      E  \n",
       "1      3.58      6.81         0.77           NaN        NaN    NaN  \n",
       "2     12.76      3.79         3.29          82.0        8.3      E  \n",
       "3     10.93      3.28         2.95          80.0          8      E  \n",
       "4      8.89     10.22         1.00           NaN        NaN    NaN  "
      ]
     },
     "execution_count": 4,
     "metadata": {},
     "output_type": "execute_result"
    }
   ],
   "source": [
    "games.columns = games.columns.str.lower() \n",
    "games.head()"
   ]
  },
  {
   "cell_type": "markdown",
   "metadata": {},
   "source": [
    "### Работа с дубликатами"
   ]
  },
  {
   "cell_type": "code",
   "execution_count": 5,
   "metadata": {},
   "outputs": [
    {
     "data": {
      "text/plain": [
       "0"
      ]
     },
     "execution_count": 5,
     "metadata": {},
     "output_type": "execute_result"
    }
   ],
   "source": [
    "games.duplicated().sum() #проверим датасет на наличие дубликатов"
   ]
  },
  {
   "cell_type": "markdown",
   "metadata": {
    "scrolled": true
   },
   "source": [
    "<div class=\"alert alert-block alert-info\">\n",
    "Строк-дубликатов в датафрейме не обнаружено"
   ]
  },
  {
   "cell_type": "markdown",
   "metadata": {},
   "source": [
    "### Работа с пропусками"
   ]
  },
  {
   "cell_type": "markdown",
   "metadata": {},
   "source": [
    "**Построим тепловую карту пропусков в данных:**"
   ]
  },
  {
   "cell_type": "code",
   "execution_count": 6,
   "metadata": {
    "scrolled": true
   },
   "outputs": [
    {
     "data": {
      "text/plain": [
       "<AxesSubplot:>"
      ]
     },
     "execution_count": 6,
     "metadata": {},
     "output_type": "execute_result"
    },
    {
     "data": {
      "image/png": "[encoded data removed]",
      "text/plain": [
       "<Figure size 432x288 with 2 Axes>"
      ]
     },
     "metadata": {
      "needs_background": "light"
     },
     "output_type": "display_data"
    }
   ],
   "source": [
    "import seaborn as sns\n",
    "cols = games.columns\n",
    "colours = ['#000099', '#ffff00']\n",
    "sns.heatmap(games[cols].isnull(), cmap=sns.color_palette(colours))"
   ]
  },
  {
   "cell_type": "code",
   "execution_count": 7,
   "metadata": {
    "scrolled": true
   },
   "outputs": [
    {
     "data": {
      "text/plain": [
       "name                  2\n",
       "platform              0\n",
       "year_of_release     269\n",
       "genre                 2\n",
       "na_sales              0\n",
       "eu_sales              0\n",
       "jp_sales              0\n",
       "other_sales           0\n",
       "critic_score       8578\n",
       "user_score         6701\n",
       "rating             6766\n",
       "dtype: int64"
      ]
     },
     "execution_count": 7,
     "metadata": {},
     "output_type": "execute_result"
    }
   ],
   "source": [
    "games.isna().sum() #посмотрим, в каких столбцах есть пропуски"
   ]
  },
  {
   "cell_type": "code",
   "execution_count": 8,
   "metadata": {},
   "outputs": [
    {
     "data": {
      "text/html": [
       "<style  type=\"text/css\" >\n",
       "#T_e4a8b_row0_col0,#T_e4a8b_row1_col0,#T_e4a8b_row3_col0,#T_e4a8b_row4_col0,#T_e4a8b_row5_col0,#T_e4a8b_row6_col0,#T_e4a8b_row7_col0{\n",
       "            background-color:  #fff7fb;\n",
       "            color:  #000000;\n",
       "        }#T_e4a8b_row2_col0{\n",
       "            background-color:  #faf3f9;\n",
       "            color:  #000000;\n",
       "        }#T_e4a8b_row8_col0{\n",
       "            background-color:  #023858;\n",
       "            color:  #f1f1f1;\n",
       "        }#T_e4a8b_row9_col0{\n",
       "            background-color:  #056ba7;\n",
       "            color:  #f1f1f1;\n",
       "        }#T_e4a8b_row10_col0{\n",
       "            background-color:  #0569a5;\n",
       "            color:  #f1f1f1;\n",
       "        }</style><table id=\"T_e4a8b_\" ><thead>    <tr>        <th class=\"blank level0\" ></th>        <th class=\"col_heading level0 col0\" >0</th>    </tr></thead><tbody>\n",
       "                <tr>\n",
       "                        <th id=\"T_e4a8b_level0_row0\" class=\"row_heading level0 row0\" >name</th>\n",
       "                        <td id=\"T_e4a8b_row0_col0\" class=\"data row0 col0\" >2</td>\n",
       "            </tr>\n",
       "            <tr>\n",
       "                        <th id=\"T_e4a8b_level0_row1\" class=\"row_heading level0 row1\" >platform</th>\n",
       "                        <td id=\"T_e4a8b_row1_col0\" class=\"data row1 col0\" >0</td>\n",
       "            </tr>\n",
       "            <tr>\n",
       "                        <th id=\"T_e4a8b_level0_row2\" class=\"row_heading level0 row2\" >year_of_release</th>\n",
       "                        <td id=\"T_e4a8b_row2_col0\" class=\"data row2 col0\" >269</td>\n",
       "            </tr>\n",
       "            <tr>\n",
       "                        <th id=\"T_e4a8b_level0_row3\" class=\"row_heading level0 row3\" >genre</th>\n",
       "                        <td id=\"T_e4a8b_row3_col0\" class=\"data row3 col0\" >2</td>\n",
       "            </tr>\n",
       "            <tr>\n",
       "                        <th id=\"T_e4a8b_level0_row4\" class=\"row_heading level0 row4\" >na_sales</th>\n",
       "                        <td id=\"T_e4a8b_row4_col0\" class=\"data row4 col0\" >0</td>\n",
       "            </tr>\n",
       "            <tr>\n",
       "                        <th id=\"T_e4a8b_level0_row5\" class=\"row_heading level0 row5\" >eu_sales</th>\n",
       "                        <td id=\"T_e4a8b_row5_col0\" class=\"data row5 col0\" >0</td>\n",
       "            </tr>\n",
       "            <tr>\n",
       "                        <th id=\"T_e4a8b_level0_row6\" class=\"row_heading level0 row6\" >jp_sales</th>\n",
       "                        <td id=\"T_e4a8b_row6_col0\" class=\"data row6 col0\" >0</td>\n",
       "            </tr>\n",
       "            <tr>\n",
       "                        <th id=\"T_e4a8b_level0_row7\" class=\"row_heading level0 row7\" >other_sales</th>\n",
       "                        <td id=\"T_e4a8b_row7_col0\" class=\"data row7 col0\" >0</td>\n",
       "            </tr>\n",
       "            <tr>\n",
       "                        <th id=\"T_e4a8b_level0_row8\" class=\"row_heading level0 row8\" >critic_score</th>\n",
       "                        <td id=\"T_e4a8b_row8_col0\" class=\"data row8 col0\" >8578</td>\n",
       "            </tr>\n",
       "            <tr>\n",
       "                        <th id=\"T_e4a8b_level0_row9\" class=\"row_heading level0 row9\" >user_score</th>\n",
       "                        <td id=\"T_e4a8b_row9_col0\" class=\"data row9 col0\" >6701</td>\n",
       "            </tr>\n",
       "            <tr>\n",
       "                        <th id=\"T_e4a8b_level0_row10\" class=\"row_heading level0 row10\" >rating</th>\n",
       "                        <td id=\"T_e4a8b_row10_col0\" class=\"data row10 col0\" >6766</td>\n",
       "            </tr>\n",
       "    </tbody></table>"
      ],
      "text/plain": [
       "<pandas.io.formats.style.Styler at 0x7f5586956ac0>"
      ]
     },
     "execution_count": 8,
     "metadata": {},
     "output_type": "execute_result"
    }
   ],
   "source": [
    "pd.DataFrame(games.isna().sum()).style.background_gradient(axis = 0)"
   ]
  },
  {
   "cell_type": "markdown",
   "metadata": {},
   "source": [
    "**Обнаружили пропуски в столбцах:** \n",
    "- 'name'\n",
    "- 'year_of_release'\n",
    "- 'genre'\n",
    "- 'critic_score'\n",
    "- 'user_score'\n",
    "- 'rating'"
   ]
  },
  {
   "cell_type": "markdown",
   "metadata": {},
   "source": [
    "#### Работа с пропусками в столбце 'name'"
   ]
  },
  {
   "cell_type": "code",
   "execution_count": 9,
   "metadata": {
    "scrolled": false
   },
   "outputs": [
    {
     "data": {
      "text/html": [
       "<div>\n",
       "<style scoped>\n",
       "    .dataframe tbody tr th:only-of-type {\n",
       "        vertical-align: middle;\n",
       "    }\n",
       "\n",
       "    .dataframe tbody tr th {\n",
       "        vertical-align: top;\n",
       "    }\n",
       "\n",
       "    .dataframe thead th {\n",
       "        text-align: right;\n",
       "    }\n",
       "</style>\n",
       "<table border=\"1\" class=\"dataframe\">\n",
       "  <thead>\n",
       "    <tr style=\"text-align: right;\">\n",
       "      <th></th>\n",
       "      <th>name</th>\n",
       "      <th>platform</th>\n",
       "      <th>year_of_release</th>\n",
       "      <th>genre</th>\n",
       "      <th>na_sales</th>\n",
       "      <th>eu_sales</th>\n",
       "      <th>jp_sales</th>\n",
       "      <th>other_sales</th>\n",
       "      <th>critic_score</th>\n",
       "      <th>user_score</th>\n",
       "      <th>rating</th>\n",
       "    </tr>\n",
       "  </thead>\n",
       "  <tbody>\n",
       "    <tr>\n",
       "      <th>659</th>\n",
       "      <td>NaN</td>\n",
       "      <td>GEN</td>\n",
       "      <td>1993.0</td>\n",
       "      <td>NaN</td>\n",
       "      <td>1.78</td>\n",
       "      <td>0.53</td>\n",
       "      <td>0.00</td>\n",
       "      <td>0.08</td>\n",
       "      <td>NaN</td>\n",
       "      <td>NaN</td>\n",
       "      <td>NaN</td>\n",
       "    </tr>\n",
       "    <tr>\n",
       "      <th>14244</th>\n",
       "      <td>NaN</td>\n",
       "      <td>GEN</td>\n",
       "      <td>1993.0</td>\n",
       "      <td>NaN</td>\n",
       "      <td>0.00</td>\n",
       "      <td>0.00</td>\n",
       "      <td>0.03</td>\n",
       "      <td>0.00</td>\n",
       "      <td>NaN</td>\n",
       "      <td>NaN</td>\n",
       "      <td>NaN</td>\n",
       "    </tr>\n",
       "  </tbody>\n",
       "</table>\n",
       "</div>"
      ],
      "text/plain": [
       "      name platform  year_of_release genre  na_sales  eu_sales  jp_sales  \\\n",
       "659    NaN      GEN           1993.0   NaN      1.78      0.53      0.00   \n",
       "14244  NaN      GEN           1993.0   NaN      0.00      0.00      0.03   \n",
       "\n",
       "       other_sales  critic_score user_score rating  \n",
       "659           0.08           NaN        NaN    NaN  \n",
       "14244         0.00           NaN        NaN    NaN  "
      ]
     },
     "execution_count": 9,
     "metadata": {},
     "output_type": "execute_result"
    }
   ],
   "source": [
    "games[games['name'].isna()]"
   ]
  },
  {
   "cell_type": "markdown",
   "metadata": {},
   "source": [
    "<div class=\"alert alert-block alert-info\">\n",
    "Пропуски в столбце могли возникнуть случайно. Так как их всего два и относятся к данным 1993 года, то данные строки можно удалить. В этих же строках находятся пропуски в столбце 'genre'."
   ]
  },
  {
   "cell_type": "code",
   "execution_count": 10,
   "metadata": {},
   "outputs": [],
   "source": [
    "games = games.dropna(subset=['name']) #удалим эти строки"
   ]
  },
  {
   "cell_type": "markdown",
   "metadata": {},
   "source": [
    "#### Работа с пропусками в столбце 'year_of_release'"
   ]
  },
  {
   "cell_type": "code",
   "execution_count": 11,
   "metadata": {
    "scrolled": false
   },
   "outputs": [
    {
     "data": {
      "text/html": [
       "<div>\n",
       "<style scoped>\n",
       "    .dataframe tbody tr th:only-of-type {\n",
       "        vertical-align: middle;\n",
       "    }\n",
       "\n",
       "    .dataframe tbody tr th {\n",
       "        vertical-align: top;\n",
       "    }\n",
       "\n",
       "    .dataframe thead th {\n",
       "        text-align: right;\n",
       "    }\n",
       "</style>\n",
       "<table border=\"1\" class=\"dataframe\">\n",
       "  <thead>\n",
       "    <tr style=\"text-align: right;\">\n",
       "      <th></th>\n",
       "      <th>name</th>\n",
       "      <th>platform</th>\n",
       "      <th>year_of_release</th>\n",
       "      <th>genre</th>\n",
       "      <th>na_sales</th>\n",
       "      <th>eu_sales</th>\n",
       "      <th>jp_sales</th>\n",
       "      <th>other_sales</th>\n",
       "      <th>critic_score</th>\n",
       "      <th>user_score</th>\n",
       "      <th>rating</th>\n",
       "    </tr>\n",
       "  </thead>\n",
       "  <tbody>\n",
       "    <tr>\n",
       "      <th>183</th>\n",
       "      <td>Madden NFL 2004</td>\n",
       "      <td>PS2</td>\n",
       "      <td>NaN</td>\n",
       "      <td>Sports</td>\n",
       "      <td>4.26</td>\n",
       "      <td>0.26</td>\n",
       "      <td>0.01</td>\n",
       "      <td>0.71</td>\n",
       "      <td>94.0</td>\n",
       "      <td>8.5</td>\n",
       "      <td>E</td>\n",
       "    </tr>\n",
       "    <tr>\n",
       "      <th>377</th>\n",
       "      <td>FIFA Soccer 2004</td>\n",
       "      <td>PS2</td>\n",
       "      <td>NaN</td>\n",
       "      <td>Sports</td>\n",
       "      <td>0.59</td>\n",
       "      <td>2.36</td>\n",
       "      <td>0.04</td>\n",
       "      <td>0.51</td>\n",
       "      <td>84.0</td>\n",
       "      <td>6.4</td>\n",
       "      <td>E</td>\n",
       "    </tr>\n",
       "    <tr>\n",
       "      <th>456</th>\n",
       "      <td>LEGO Batman: The Videogame</td>\n",
       "      <td>Wii</td>\n",
       "      <td>NaN</td>\n",
       "      <td>Action</td>\n",
       "      <td>1.80</td>\n",
       "      <td>0.97</td>\n",
       "      <td>0.00</td>\n",
       "      <td>0.29</td>\n",
       "      <td>74.0</td>\n",
       "      <td>7.9</td>\n",
       "      <td>E10+</td>\n",
       "    </tr>\n",
       "    <tr>\n",
       "      <th>475</th>\n",
       "      <td>wwe Smackdown vs. Raw 2006</td>\n",
       "      <td>PS2</td>\n",
       "      <td>NaN</td>\n",
       "      <td>Fighting</td>\n",
       "      <td>1.57</td>\n",
       "      <td>1.02</td>\n",
       "      <td>0.00</td>\n",
       "      <td>0.41</td>\n",
       "      <td>NaN</td>\n",
       "      <td>NaN</td>\n",
       "      <td>NaN</td>\n",
       "    </tr>\n",
       "    <tr>\n",
       "      <th>609</th>\n",
       "      <td>Space Invaders</td>\n",
       "      <td>2600</td>\n",
       "      <td>NaN</td>\n",
       "      <td>Shooter</td>\n",
       "      <td>2.36</td>\n",
       "      <td>0.14</td>\n",
       "      <td>0.00</td>\n",
       "      <td>0.03</td>\n",
       "      <td>NaN</td>\n",
       "      <td>NaN</td>\n",
       "      <td>NaN</td>\n",
       "    </tr>\n",
       "    <tr>\n",
       "      <th>...</th>\n",
       "      <td>...</td>\n",
       "      <td>...</td>\n",
       "      <td>...</td>\n",
       "      <td>...</td>\n",
       "      <td>...</td>\n",
       "      <td>...</td>\n",
       "      <td>...</td>\n",
       "      <td>...</td>\n",
       "      <td>...</td>\n",
       "      <td>...</td>\n",
       "      <td>...</td>\n",
       "    </tr>\n",
       "    <tr>\n",
       "      <th>16373</th>\n",
       "      <td>PDC World Championship Darts 2008</td>\n",
       "      <td>PSP</td>\n",
       "      <td>NaN</td>\n",
       "      <td>Sports</td>\n",
       "      <td>0.01</td>\n",
       "      <td>0.00</td>\n",
       "      <td>0.00</td>\n",
       "      <td>0.00</td>\n",
       "      <td>43.0</td>\n",
       "      <td>tbd</td>\n",
       "      <td>E10+</td>\n",
       "    </tr>\n",
       "    <tr>\n",
       "      <th>16405</th>\n",
       "      <td>Freaky Flyers</td>\n",
       "      <td>GC</td>\n",
       "      <td>NaN</td>\n",
       "      <td>Racing</td>\n",
       "      <td>0.01</td>\n",
       "      <td>0.00</td>\n",
       "      <td>0.00</td>\n",
       "      <td>0.00</td>\n",
       "      <td>69.0</td>\n",
       "      <td>6.5</td>\n",
       "      <td>T</td>\n",
       "    </tr>\n",
       "    <tr>\n",
       "      <th>16448</th>\n",
       "      <td>Inversion</td>\n",
       "      <td>PC</td>\n",
       "      <td>NaN</td>\n",
       "      <td>Shooter</td>\n",
       "      <td>0.01</td>\n",
       "      <td>0.00</td>\n",
       "      <td>0.00</td>\n",
       "      <td>0.00</td>\n",
       "      <td>59.0</td>\n",
       "      <td>6.7</td>\n",
       "      <td>M</td>\n",
       "    </tr>\n",
       "    <tr>\n",
       "      <th>16458</th>\n",
       "      <td>Hakuouki: Shinsengumi Kitan</td>\n",
       "      <td>PS3</td>\n",
       "      <td>NaN</td>\n",
       "      <td>Adventure</td>\n",
       "      <td>0.01</td>\n",
       "      <td>0.00</td>\n",
       "      <td>0.00</td>\n",
       "      <td>0.00</td>\n",
       "      <td>NaN</td>\n",
       "      <td>NaN</td>\n",
       "      <td>NaN</td>\n",
       "    </tr>\n",
       "    <tr>\n",
       "      <th>16522</th>\n",
       "      <td>Virtua Quest</td>\n",
       "      <td>GC</td>\n",
       "      <td>NaN</td>\n",
       "      <td>Role-Playing</td>\n",
       "      <td>0.01</td>\n",
       "      <td>0.00</td>\n",
       "      <td>0.00</td>\n",
       "      <td>0.00</td>\n",
       "      <td>55.0</td>\n",
       "      <td>5.5</td>\n",
       "      <td>T</td>\n",
       "    </tr>\n",
       "  </tbody>\n",
       "</table>\n",
       "<p>269 rows × 11 columns</p>\n",
       "</div>"
      ],
      "text/plain": [
       "                                    name platform  year_of_release  \\\n",
       "183                      Madden NFL 2004      PS2              NaN   \n",
       "377                     FIFA Soccer 2004      PS2              NaN   \n",
       "456           LEGO Batman: The Videogame      Wii              NaN   \n",
       "475           wwe Smackdown vs. Raw 2006      PS2              NaN   \n",
       "609                       Space Invaders     2600              NaN   \n",
       "...                                  ...      ...              ...   \n",
       "16373  PDC World Championship Darts 2008      PSP              NaN   \n",
       "16405                      Freaky Flyers       GC              NaN   \n",
       "16448                          Inversion       PC              NaN   \n",
       "16458        Hakuouki: Shinsengumi Kitan      PS3              NaN   \n",
       "16522                       Virtua Quest       GC              NaN   \n",
       "\n",
       "              genre  na_sales  eu_sales  jp_sales  other_sales  critic_score  \\\n",
       "183          Sports      4.26      0.26      0.01         0.71          94.0   \n",
       "377          Sports      0.59      2.36      0.04         0.51          84.0   \n",
       "456          Action      1.80      0.97      0.00         0.29          74.0   \n",
       "475        Fighting      1.57      1.02      0.00         0.41           NaN   \n",
       "609         Shooter      2.36      0.14      0.00         0.03           NaN   \n",
       "...             ...       ...       ...       ...          ...           ...   \n",
       "16373        Sports      0.01      0.00      0.00         0.00          43.0   \n",
       "16405        Racing      0.01      0.00      0.00         0.00          69.0   \n",
       "16448       Shooter      0.01      0.00      0.00         0.00          59.0   \n",
       "16458     Adventure      0.01      0.00      0.00         0.00           NaN   \n",
       "16522  Role-Playing      0.01      0.00      0.00         0.00          55.0   \n",
       "\n",
       "      user_score rating  \n",
       "183          8.5      E  \n",
       "377          6.4      E  \n",
       "456          7.9   E10+  \n",
       "475          NaN    NaN  \n",
       "609          NaN    NaN  \n",
       "...          ...    ...  \n",
       "16373        tbd   E10+  \n",
       "16405        6.5      T  \n",
       "16448        6.7      M  \n",
       "16458        NaN    NaN  \n",
       "16522        5.5      T  \n",
       "\n",
       "[269 rows x 11 columns]"
      ]
     },
     "execution_count": 11,
     "metadata": {},
     "output_type": "execute_result"
    }
   ],
   "source": [
    "games[games['year_of_release'].isna()] "
   ]
  },
  {
   "cell_type": "markdown",
   "metadata": {},
   "source": [
    "<div class=\"alert alert-block alert-info\">\n",
    "269 пропусков составляет 1.5% от датасета. Возможно, пропуски возникли из-за технического сбоя. Изначально была идея заполнить пропуски в столбце значением года выпуска по аналогичной платформе, но так как платформы существуют в течение нескольких лет, такие данные все равно будут недостоверными. Была идея заполнить пропуски нулями, но тогда при анализе выпуска игр по годам значение 0 сильно искажает график boxplot. В итоге приняла решение удалить строки. \n"
   ]
  },
  {
   "cell_type": "code",
   "execution_count": 12,
   "metadata": {},
   "outputs": [],
   "source": [
    "games = games.dropna(subset=['year_of_release'])"
   ]
  },
  {
   "cell_type": "markdown",
   "metadata": {},
   "source": [
    "#### Работа с пропусками в столбце 'critic_score'"
   ]
  },
  {
   "cell_type": "code",
   "execution_count": 13,
   "metadata": {
    "scrolled": true
   },
   "outputs": [
    {
     "data": {
      "text/html": [
       "<div>\n",
       "<style scoped>\n",
       "    .dataframe tbody tr th:only-of-type {\n",
       "        vertical-align: middle;\n",
       "    }\n",
       "\n",
       "    .dataframe tbody tr th {\n",
       "        vertical-align: top;\n",
       "    }\n",
       "\n",
       "    .dataframe thead th {\n",
       "        text-align: right;\n",
       "    }\n",
       "</style>\n",
       "<table border=\"1\" class=\"dataframe\">\n",
       "  <thead>\n",
       "    <tr style=\"text-align: right;\">\n",
       "      <th></th>\n",
       "      <th>name</th>\n",
       "      <th>platform</th>\n",
       "      <th>year_of_release</th>\n",
       "      <th>genre</th>\n",
       "      <th>na_sales</th>\n",
       "      <th>eu_sales</th>\n",
       "      <th>jp_sales</th>\n",
       "      <th>other_sales</th>\n",
       "      <th>critic_score</th>\n",
       "      <th>user_score</th>\n",
       "      <th>rating</th>\n",
       "    </tr>\n",
       "  </thead>\n",
       "  <tbody>\n",
       "    <tr>\n",
       "      <th>1</th>\n",
       "      <td>Super Mario Bros.</td>\n",
       "      <td>NES</td>\n",
       "      <td>1985.0</td>\n",
       "      <td>Platform</td>\n",
       "      <td>29.08</td>\n",
       "      <td>3.58</td>\n",
       "      <td>6.81</td>\n",
       "      <td>0.77</td>\n",
       "      <td>NaN</td>\n",
       "      <td>NaN</td>\n",
       "      <td>NaN</td>\n",
       "    </tr>\n",
       "    <tr>\n",
       "      <th>4</th>\n",
       "      <td>Pokemon Red/Pokemon Blue</td>\n",
       "      <td>GB</td>\n",
       "      <td>1996.0</td>\n",
       "      <td>Role-Playing</td>\n",
       "      <td>11.27</td>\n",
       "      <td>8.89</td>\n",
       "      <td>10.22</td>\n",
       "      <td>1.00</td>\n",
       "      <td>NaN</td>\n",
       "      <td>NaN</td>\n",
       "      <td>NaN</td>\n",
       "    </tr>\n",
       "    <tr>\n",
       "      <th>5</th>\n",
       "      <td>Tetris</td>\n",
       "      <td>GB</td>\n",
       "      <td>1989.0</td>\n",
       "      <td>Puzzle</td>\n",
       "      <td>23.20</td>\n",
       "      <td>2.26</td>\n",
       "      <td>4.22</td>\n",
       "      <td>0.58</td>\n",
       "      <td>NaN</td>\n",
       "      <td>NaN</td>\n",
       "      <td>NaN</td>\n",
       "    </tr>\n",
       "    <tr>\n",
       "      <th>9</th>\n",
       "      <td>Duck Hunt</td>\n",
       "      <td>NES</td>\n",
       "      <td>1984.0</td>\n",
       "      <td>Shooter</td>\n",
       "      <td>26.93</td>\n",
       "      <td>0.63</td>\n",
       "      <td>0.28</td>\n",
       "      <td>0.47</td>\n",
       "      <td>NaN</td>\n",
       "      <td>NaN</td>\n",
       "      <td>NaN</td>\n",
       "    </tr>\n",
       "    <tr>\n",
       "      <th>10</th>\n",
       "      <td>Nintendogs</td>\n",
       "      <td>DS</td>\n",
       "      <td>2005.0</td>\n",
       "      <td>Simulation</td>\n",
       "      <td>9.05</td>\n",
       "      <td>10.95</td>\n",
       "      <td>1.93</td>\n",
       "      <td>2.74</td>\n",
       "      <td>NaN</td>\n",
       "      <td>NaN</td>\n",
       "      <td>NaN</td>\n",
       "    </tr>\n",
       "    <tr>\n",
       "      <th>...</th>\n",
       "      <td>...</td>\n",
       "      <td>...</td>\n",
       "      <td>...</td>\n",
       "      <td>...</td>\n",
       "      <td>...</td>\n",
       "      <td>...</td>\n",
       "      <td>...</td>\n",
       "      <td>...</td>\n",
       "      <td>...</td>\n",
       "      <td>...</td>\n",
       "      <td>...</td>\n",
       "    </tr>\n",
       "    <tr>\n",
       "      <th>16710</th>\n",
       "      <td>Samurai Warriors: Sanada Maru</td>\n",
       "      <td>PS3</td>\n",
       "      <td>2016.0</td>\n",
       "      <td>Action</td>\n",
       "      <td>0.00</td>\n",
       "      <td>0.00</td>\n",
       "      <td>0.01</td>\n",
       "      <td>0.00</td>\n",
       "      <td>NaN</td>\n",
       "      <td>NaN</td>\n",
       "      <td>NaN</td>\n",
       "    </tr>\n",
       "    <tr>\n",
       "      <th>16711</th>\n",
       "      <td>LMA Manager 2007</td>\n",
       "      <td>X360</td>\n",
       "      <td>2006.0</td>\n",
       "      <td>Sports</td>\n",
       "      <td>0.00</td>\n",
       "      <td>0.01</td>\n",
       "      <td>0.00</td>\n",
       "      <td>0.00</td>\n",
       "      <td>NaN</td>\n",
       "      <td>NaN</td>\n",
       "      <td>NaN</td>\n",
       "    </tr>\n",
       "    <tr>\n",
       "      <th>16712</th>\n",
       "      <td>Haitaka no Psychedelica</td>\n",
       "      <td>PSV</td>\n",
       "      <td>2016.0</td>\n",
       "      <td>Adventure</td>\n",
       "      <td>0.00</td>\n",
       "      <td>0.00</td>\n",
       "      <td>0.01</td>\n",
       "      <td>0.00</td>\n",
       "      <td>NaN</td>\n",
       "      <td>NaN</td>\n",
       "      <td>NaN</td>\n",
       "    </tr>\n",
       "    <tr>\n",
       "      <th>16713</th>\n",
       "      <td>Spirits &amp; Spells</td>\n",
       "      <td>GBA</td>\n",
       "      <td>2003.0</td>\n",
       "      <td>Platform</td>\n",
       "      <td>0.01</td>\n",
       "      <td>0.00</td>\n",
       "      <td>0.00</td>\n",
       "      <td>0.00</td>\n",
       "      <td>NaN</td>\n",
       "      <td>NaN</td>\n",
       "      <td>NaN</td>\n",
       "    </tr>\n",
       "    <tr>\n",
       "      <th>16714</th>\n",
       "      <td>Winning Post 8 2016</td>\n",
       "      <td>PSV</td>\n",
       "      <td>2016.0</td>\n",
       "      <td>Simulation</td>\n",
       "      <td>0.00</td>\n",
       "      <td>0.00</td>\n",
       "      <td>0.01</td>\n",
       "      <td>0.00</td>\n",
       "      <td>NaN</td>\n",
       "      <td>NaN</td>\n",
       "      <td>NaN</td>\n",
       "    </tr>\n",
       "  </tbody>\n",
       "</table>\n",
       "<p>8461 rows × 11 columns</p>\n",
       "</div>"
      ],
      "text/plain": [
       "                                name platform  year_of_release         genre  \\\n",
       "1                  Super Mario Bros.      NES           1985.0      Platform   \n",
       "4           Pokemon Red/Pokemon Blue       GB           1996.0  Role-Playing   \n",
       "5                             Tetris       GB           1989.0        Puzzle   \n",
       "9                          Duck Hunt      NES           1984.0       Shooter   \n",
       "10                        Nintendogs       DS           2005.0    Simulation   \n",
       "...                              ...      ...              ...           ...   \n",
       "16710  Samurai Warriors: Sanada Maru      PS3           2016.0        Action   \n",
       "16711               LMA Manager 2007     X360           2006.0        Sports   \n",
       "16712        Haitaka no Psychedelica      PSV           2016.0     Adventure   \n",
       "16713               Spirits & Spells      GBA           2003.0      Platform   \n",
       "16714            Winning Post 8 2016      PSV           2016.0    Simulation   \n",
       "\n",
       "       na_sales  eu_sales  jp_sales  other_sales  critic_score user_score  \\\n",
       "1         29.08      3.58      6.81         0.77           NaN        NaN   \n",
       "4         11.27      8.89     10.22         1.00           NaN        NaN   \n",
       "5         23.20      2.26      4.22         0.58           NaN        NaN   \n",
       "9         26.93      0.63      0.28         0.47           NaN        NaN   \n",
       "10         9.05     10.95      1.93         2.74           NaN        NaN   \n",
       "...         ...       ...       ...          ...           ...        ...   \n",
       "16710      0.00      0.00      0.01         0.00           NaN        NaN   \n",
       "16711      0.00      0.01      0.00         0.00           NaN        NaN   \n",
       "16712      0.00      0.00      0.01         0.00           NaN        NaN   \n",
       "16713      0.01      0.00      0.00         0.00           NaN        NaN   \n",
       "16714      0.00      0.00      0.01         0.00           NaN        NaN   \n",
       "\n",
       "      rating  \n",
       "1        NaN  \n",
       "4        NaN  \n",
       "5        NaN  \n",
       "9        NaN  \n",
       "10       NaN  \n",
       "...      ...  \n",
       "16710    NaN  \n",
       "16711    NaN  \n",
       "16712    NaN  \n",
       "16713    NaN  \n",
       "16714    NaN  \n",
       "\n",
       "[8461 rows x 11 columns]"
      ]
     },
     "execution_count": 13,
     "metadata": {},
     "output_type": "execute_result"
    }
   ],
   "source": [
    "games[games['critic_score'].isna()]"
   ]
  },
  {
   "cell_type": "markdown",
   "metadata": {},
   "source": [
    "<div class=\"alert alert-block alert-info\">\n",
    "Пропусков в столбце critic_score очень много, примерно половина датасета. Возможно, пропуски возникли из-за того, что оценки критиков для данных игр отсутствуют в связи с непопулярностью игр или ранним годом выхода. Для того, чтобы не потерять данные и перевести в тип float32, заполним отсутствующие значения нулями."
   ]
  },
  {
   "cell_type": "code",
   "execution_count": 14,
   "metadata": {},
   "outputs": [],
   "source": [
    "games['critic_score'] = games['critic_score'].fillna(0)"
   ]
  },
  {
   "cell_type": "markdown",
   "metadata": {},
   "source": [
    "#### Работа с пропусками в столбце 'user_score'"
   ]
  },
  {
   "cell_type": "code",
   "execution_count": 15,
   "metadata": {
    "scrolled": true
   },
   "outputs": [
    {
     "data": {
      "text/html": [
       "<div>\n",
       "<style scoped>\n",
       "    .dataframe tbody tr th:only-of-type {\n",
       "        vertical-align: middle;\n",
       "    }\n",
       "\n",
       "    .dataframe tbody tr th {\n",
       "        vertical-align: top;\n",
       "    }\n",
       "\n",
       "    .dataframe thead th {\n",
       "        text-align: right;\n",
       "    }\n",
       "</style>\n",
       "<table border=\"1\" class=\"dataframe\">\n",
       "  <thead>\n",
       "    <tr style=\"text-align: right;\">\n",
       "      <th></th>\n",
       "      <th>name</th>\n",
       "      <th>platform</th>\n",
       "      <th>year_of_release</th>\n",
       "      <th>genre</th>\n",
       "      <th>na_sales</th>\n",
       "      <th>eu_sales</th>\n",
       "      <th>jp_sales</th>\n",
       "      <th>other_sales</th>\n",
       "      <th>critic_score</th>\n",
       "      <th>user_score</th>\n",
       "      <th>rating</th>\n",
       "    </tr>\n",
       "  </thead>\n",
       "  <tbody>\n",
       "    <tr>\n",
       "      <th>1</th>\n",
       "      <td>Super Mario Bros.</td>\n",
       "      <td>NES</td>\n",
       "      <td>1985.0</td>\n",
       "      <td>Platform</td>\n",
       "      <td>29.08</td>\n",
       "      <td>3.58</td>\n",
       "      <td>6.81</td>\n",
       "      <td>0.77</td>\n",
       "      <td>0.0</td>\n",
       "      <td>NaN</td>\n",
       "      <td>NaN</td>\n",
       "    </tr>\n",
       "    <tr>\n",
       "      <th>4</th>\n",
       "      <td>Pokemon Red/Pokemon Blue</td>\n",
       "      <td>GB</td>\n",
       "      <td>1996.0</td>\n",
       "      <td>Role-Playing</td>\n",
       "      <td>11.27</td>\n",
       "      <td>8.89</td>\n",
       "      <td>10.22</td>\n",
       "      <td>1.00</td>\n",
       "      <td>0.0</td>\n",
       "      <td>NaN</td>\n",
       "      <td>NaN</td>\n",
       "    </tr>\n",
       "    <tr>\n",
       "      <th>5</th>\n",
       "      <td>Tetris</td>\n",
       "      <td>GB</td>\n",
       "      <td>1989.0</td>\n",
       "      <td>Puzzle</td>\n",
       "      <td>23.20</td>\n",
       "      <td>2.26</td>\n",
       "      <td>4.22</td>\n",
       "      <td>0.58</td>\n",
       "      <td>0.0</td>\n",
       "      <td>NaN</td>\n",
       "      <td>NaN</td>\n",
       "    </tr>\n",
       "    <tr>\n",
       "      <th>9</th>\n",
       "      <td>Duck Hunt</td>\n",
       "      <td>NES</td>\n",
       "      <td>1984.0</td>\n",
       "      <td>Shooter</td>\n",
       "      <td>26.93</td>\n",
       "      <td>0.63</td>\n",
       "      <td>0.28</td>\n",
       "      <td>0.47</td>\n",
       "      <td>0.0</td>\n",
       "      <td>NaN</td>\n",
       "      <td>NaN</td>\n",
       "    </tr>\n",
       "    <tr>\n",
       "      <th>10</th>\n",
       "      <td>Nintendogs</td>\n",
       "      <td>DS</td>\n",
       "      <td>2005.0</td>\n",
       "      <td>Simulation</td>\n",
       "      <td>9.05</td>\n",
       "      <td>10.95</td>\n",
       "      <td>1.93</td>\n",
       "      <td>2.74</td>\n",
       "      <td>0.0</td>\n",
       "      <td>NaN</td>\n",
       "      <td>NaN</td>\n",
       "    </tr>\n",
       "    <tr>\n",
       "      <th>...</th>\n",
       "      <td>...</td>\n",
       "      <td>...</td>\n",
       "      <td>...</td>\n",
       "      <td>...</td>\n",
       "      <td>...</td>\n",
       "      <td>...</td>\n",
       "      <td>...</td>\n",
       "      <td>...</td>\n",
       "      <td>...</td>\n",
       "      <td>...</td>\n",
       "      <td>...</td>\n",
       "    </tr>\n",
       "    <tr>\n",
       "      <th>16710</th>\n",
       "      <td>Samurai Warriors: Sanada Maru</td>\n",
       "      <td>PS3</td>\n",
       "      <td>2016.0</td>\n",
       "      <td>Action</td>\n",
       "      <td>0.00</td>\n",
       "      <td>0.00</td>\n",
       "      <td>0.01</td>\n",
       "      <td>0.00</td>\n",
       "      <td>0.0</td>\n",
       "      <td>NaN</td>\n",
       "      <td>NaN</td>\n",
       "    </tr>\n",
       "    <tr>\n",
       "      <th>16711</th>\n",
       "      <td>LMA Manager 2007</td>\n",
       "      <td>X360</td>\n",
       "      <td>2006.0</td>\n",
       "      <td>Sports</td>\n",
       "      <td>0.00</td>\n",
       "      <td>0.01</td>\n",
       "      <td>0.00</td>\n",
       "      <td>0.00</td>\n",
       "      <td>0.0</td>\n",
       "      <td>NaN</td>\n",
       "      <td>NaN</td>\n",
       "    </tr>\n",
       "    <tr>\n",
       "      <th>16712</th>\n",
       "      <td>Haitaka no Psychedelica</td>\n",
       "      <td>PSV</td>\n",
       "      <td>2016.0</td>\n",
       "      <td>Adventure</td>\n",
       "      <td>0.00</td>\n",
       "      <td>0.00</td>\n",
       "      <td>0.01</td>\n",
       "      <td>0.00</td>\n",
       "      <td>0.0</td>\n",
       "      <td>NaN</td>\n",
       "      <td>NaN</td>\n",
       "    </tr>\n",
       "    <tr>\n",
       "      <th>16713</th>\n",
       "      <td>Spirits &amp; Spells</td>\n",
       "      <td>GBA</td>\n",
       "      <td>2003.0</td>\n",
       "      <td>Platform</td>\n",
       "      <td>0.01</td>\n",
       "      <td>0.00</td>\n",
       "      <td>0.00</td>\n",
       "      <td>0.00</td>\n",
       "      <td>0.0</td>\n",
       "      <td>NaN</td>\n",
       "      <td>NaN</td>\n",
       "    </tr>\n",
       "    <tr>\n",
       "      <th>16714</th>\n",
       "      <td>Winning Post 8 2016</td>\n",
       "      <td>PSV</td>\n",
       "      <td>2016.0</td>\n",
       "      <td>Simulation</td>\n",
       "      <td>0.00</td>\n",
       "      <td>0.00</td>\n",
       "      <td>0.01</td>\n",
       "      <td>0.00</td>\n",
       "      <td>0.0</td>\n",
       "      <td>NaN</td>\n",
       "      <td>NaN</td>\n",
       "    </tr>\n",
       "  </tbody>\n",
       "</table>\n",
       "<p>6605 rows × 11 columns</p>\n",
       "</div>"
      ],
      "text/plain": [
       "                                name platform  year_of_release         genre  \\\n",
       "1                  Super Mario Bros.      NES           1985.0      Platform   \n",
       "4           Pokemon Red/Pokemon Blue       GB           1996.0  Role-Playing   \n",
       "5                             Tetris       GB           1989.0        Puzzle   \n",
       "9                          Duck Hunt      NES           1984.0       Shooter   \n",
       "10                        Nintendogs       DS           2005.0    Simulation   \n",
       "...                              ...      ...              ...           ...   \n",
       "16710  Samurai Warriors: Sanada Maru      PS3           2016.0        Action   \n",
       "16711               LMA Manager 2007     X360           2006.0        Sports   \n",
       "16712        Haitaka no Psychedelica      PSV           2016.0     Adventure   \n",
       "16713               Spirits & Spells      GBA           2003.0      Platform   \n",
       "16714            Winning Post 8 2016      PSV           2016.0    Simulation   \n",
       "\n",
       "       na_sales  eu_sales  jp_sales  other_sales  critic_score user_score  \\\n",
       "1         29.08      3.58      6.81         0.77           0.0        NaN   \n",
       "4         11.27      8.89     10.22         1.00           0.0        NaN   \n",
       "5         23.20      2.26      4.22         0.58           0.0        NaN   \n",
       "9         26.93      0.63      0.28         0.47           0.0        NaN   \n",
       "10         9.05     10.95      1.93         2.74           0.0        NaN   \n",
       "...         ...       ...       ...          ...           ...        ...   \n",
       "16710      0.00      0.00      0.01         0.00           0.0        NaN   \n",
       "16711      0.00      0.01      0.00         0.00           0.0        NaN   \n",
       "16712      0.00      0.00      0.01         0.00           0.0        NaN   \n",
       "16713      0.01      0.00      0.00         0.00           0.0        NaN   \n",
       "16714      0.00      0.00      0.01         0.00           0.0        NaN   \n",
       "\n",
       "      rating  \n",
       "1        NaN  \n",
       "4        NaN  \n",
       "5        NaN  \n",
       "9        NaN  \n",
       "10       NaN  \n",
       "...      ...  \n",
       "16710    NaN  \n",
       "16711    NaN  \n",
       "16712    NaN  \n",
       "16713    NaN  \n",
       "16714    NaN  \n",
       "\n",
       "[6605 rows x 11 columns]"
      ]
     },
     "execution_count": 15,
     "metadata": {},
     "output_type": "execute_result"
    }
   ],
   "source": [
    "games[games['user_score'].isna()]"
   ]
  },
  {
   "cell_type": "markdown",
   "metadata": {},
   "source": [
    "<div class=\"alert alert-block alert-info\">\n",
    "По аналогии со столбцом critic_score заполним пропуски нулями. Возможно, пропуски возникли из-за того, что оценки пользователей для данных игр отсутствуют."
   ]
  },
  {
   "cell_type": "code",
   "execution_count": 16,
   "metadata": {},
   "outputs": [],
   "source": [
    "games['user_score'] = games['user_score'].fillna(0) "
   ]
  },
  {
   "cell_type": "markdown",
   "metadata": {},
   "source": [
    "<div class=\"alert alert-block alert-info\">\n",
    "В датасете помимо числовых значений оценок пользователей и пропусков присутствует еще аббревиатура tbd. tbd расшифровывается как \"To Be Determined\" - т.е., оценка будет определена позже. Скорее всего, она проставляется в тех случаях, когда количество собранных оценок недостаточно для того, чтобы корректно усреднить.  \n",
    "По смыслу это ничем не отличается от пропуска.\n",
    "Но удалять такие строки нельзя, можно ли оставить как есть, или же заменить строковое значение на \"заглушку\"."
   ]
  },
  {
   "cell_type": "code",
   "execution_count": 17,
   "metadata": {
    "scrolled": true
   },
   "outputs": [
    {
     "data": {
      "text/html": [
       "<div>\n",
       "<style scoped>\n",
       "    .dataframe tbody tr th:only-of-type {\n",
       "        vertical-align: middle;\n",
       "    }\n",
       "\n",
       "    .dataframe tbody tr th {\n",
       "        vertical-align: top;\n",
       "    }\n",
       "\n",
       "    .dataframe thead th {\n",
       "        text-align: right;\n",
       "    }\n",
       "</style>\n",
       "<table border=\"1\" class=\"dataframe\">\n",
       "  <thead>\n",
       "    <tr style=\"text-align: right;\">\n",
       "      <th></th>\n",
       "      <th>name</th>\n",
       "      <th>platform</th>\n",
       "      <th>year_of_release</th>\n",
       "      <th>genre</th>\n",
       "      <th>na_sales</th>\n",
       "      <th>eu_sales</th>\n",
       "      <th>jp_sales</th>\n",
       "      <th>other_sales</th>\n",
       "      <th>critic_score</th>\n",
       "      <th>user_score</th>\n",
       "      <th>rating</th>\n",
       "    </tr>\n",
       "  </thead>\n",
       "  <tbody>\n",
       "    <tr>\n",
       "      <th>119</th>\n",
       "      <td>Zumba Fitness</td>\n",
       "      <td>Wii</td>\n",
       "      <td>2010.0</td>\n",
       "      <td>Sports</td>\n",
       "      <td>3.45</td>\n",
       "      <td>2.59</td>\n",
       "      <td>0.0</td>\n",
       "      <td>0.66</td>\n",
       "      <td>0.0</td>\n",
       "      <td>tbd</td>\n",
       "      <td>E</td>\n",
       "    </tr>\n",
       "    <tr>\n",
       "      <th>301</th>\n",
       "      <td>Namco Museum: 50th Anniversary</td>\n",
       "      <td>PS2</td>\n",
       "      <td>2005.0</td>\n",
       "      <td>Misc</td>\n",
       "      <td>2.08</td>\n",
       "      <td>1.35</td>\n",
       "      <td>0.0</td>\n",
       "      <td>0.54</td>\n",
       "      <td>61.0</td>\n",
       "      <td>tbd</td>\n",
       "      <td>E10+</td>\n",
       "    </tr>\n",
       "    <tr>\n",
       "      <th>520</th>\n",
       "      <td>Zumba Fitness 2</td>\n",
       "      <td>Wii</td>\n",
       "      <td>2011.0</td>\n",
       "      <td>Sports</td>\n",
       "      <td>1.51</td>\n",
       "      <td>1.03</td>\n",
       "      <td>0.0</td>\n",
       "      <td>0.27</td>\n",
       "      <td>0.0</td>\n",
       "      <td>tbd</td>\n",
       "      <td>T</td>\n",
       "    </tr>\n",
       "    <tr>\n",
       "      <th>645</th>\n",
       "      <td>uDraw Studio</td>\n",
       "      <td>Wii</td>\n",
       "      <td>2010.0</td>\n",
       "      <td>Misc</td>\n",
       "      <td>1.65</td>\n",
       "      <td>0.57</td>\n",
       "      <td>0.0</td>\n",
       "      <td>0.20</td>\n",
       "      <td>71.0</td>\n",
       "      <td>tbd</td>\n",
       "      <td>E</td>\n",
       "    </tr>\n",
       "    <tr>\n",
       "      <th>718</th>\n",
       "      <td>Just Dance Kids</td>\n",
       "      <td>Wii</td>\n",
       "      <td>2010.0</td>\n",
       "      <td>Misc</td>\n",
       "      <td>1.52</td>\n",
       "      <td>0.54</td>\n",
       "      <td>0.0</td>\n",
       "      <td>0.18</td>\n",
       "      <td>0.0</td>\n",
       "      <td>tbd</td>\n",
       "      <td>E</td>\n",
       "    </tr>\n",
       "    <tr>\n",
       "      <th>...</th>\n",
       "      <td>...</td>\n",
       "      <td>...</td>\n",
       "      <td>...</td>\n",
       "      <td>...</td>\n",
       "      <td>...</td>\n",
       "      <td>...</td>\n",
       "      <td>...</td>\n",
       "      <td>...</td>\n",
       "      <td>...</td>\n",
       "      <td>...</td>\n",
       "      <td>...</td>\n",
       "    </tr>\n",
       "    <tr>\n",
       "      <th>16695</th>\n",
       "      <td>Planet Monsters</td>\n",
       "      <td>GBA</td>\n",
       "      <td>2001.0</td>\n",
       "      <td>Action</td>\n",
       "      <td>0.01</td>\n",
       "      <td>0.00</td>\n",
       "      <td>0.0</td>\n",
       "      <td>0.00</td>\n",
       "      <td>67.0</td>\n",
       "      <td>tbd</td>\n",
       "      <td>E</td>\n",
       "    </tr>\n",
       "    <tr>\n",
       "      <th>16697</th>\n",
       "      <td>Bust-A-Move 3000</td>\n",
       "      <td>GC</td>\n",
       "      <td>2003.0</td>\n",
       "      <td>Puzzle</td>\n",
       "      <td>0.01</td>\n",
       "      <td>0.00</td>\n",
       "      <td>0.0</td>\n",
       "      <td>0.00</td>\n",
       "      <td>53.0</td>\n",
       "      <td>tbd</td>\n",
       "      <td>E</td>\n",
       "    </tr>\n",
       "    <tr>\n",
       "      <th>16698</th>\n",
       "      <td>Mega Brain Boost</td>\n",
       "      <td>DS</td>\n",
       "      <td>2008.0</td>\n",
       "      <td>Puzzle</td>\n",
       "      <td>0.01</td>\n",
       "      <td>0.00</td>\n",
       "      <td>0.0</td>\n",
       "      <td>0.00</td>\n",
       "      <td>48.0</td>\n",
       "      <td>tbd</td>\n",
       "      <td>E</td>\n",
       "    </tr>\n",
       "    <tr>\n",
       "      <th>16704</th>\n",
       "      <td>Plushees</td>\n",
       "      <td>DS</td>\n",
       "      <td>2008.0</td>\n",
       "      <td>Simulation</td>\n",
       "      <td>0.01</td>\n",
       "      <td>0.00</td>\n",
       "      <td>0.0</td>\n",
       "      <td>0.00</td>\n",
       "      <td>0.0</td>\n",
       "      <td>tbd</td>\n",
       "      <td>E</td>\n",
       "    </tr>\n",
       "    <tr>\n",
       "      <th>16706</th>\n",
       "      <td>Men in Black II: Alien Escape</td>\n",
       "      <td>GC</td>\n",
       "      <td>2003.0</td>\n",
       "      <td>Shooter</td>\n",
       "      <td>0.01</td>\n",
       "      <td>0.00</td>\n",
       "      <td>0.0</td>\n",
       "      <td>0.00</td>\n",
       "      <td>0.0</td>\n",
       "      <td>tbd</td>\n",
       "      <td>T</td>\n",
       "    </tr>\n",
       "  </tbody>\n",
       "</table>\n",
       "<p>2376 rows × 11 columns</p>\n",
       "</div>"
      ],
      "text/plain": [
       "                                 name platform  year_of_release       genre  \\\n",
       "119                     Zumba Fitness      Wii           2010.0      Sports   \n",
       "301    Namco Museum: 50th Anniversary      PS2           2005.0        Misc   \n",
       "520                   Zumba Fitness 2      Wii           2011.0      Sports   \n",
       "645                      uDraw Studio      Wii           2010.0        Misc   \n",
       "718                   Just Dance Kids      Wii           2010.0        Misc   \n",
       "...                               ...      ...              ...         ...   \n",
       "16695                 Planet Monsters      GBA           2001.0      Action   \n",
       "16697                Bust-A-Move 3000       GC           2003.0      Puzzle   \n",
       "16698                Mega Brain Boost       DS           2008.0      Puzzle   \n",
       "16704                        Plushees       DS           2008.0  Simulation   \n",
       "16706   Men in Black II: Alien Escape       GC           2003.0     Shooter   \n",
       "\n",
       "       na_sales  eu_sales  jp_sales  other_sales  critic_score user_score  \\\n",
       "119        3.45      2.59       0.0         0.66           0.0        tbd   \n",
       "301        2.08      1.35       0.0         0.54          61.0        tbd   \n",
       "520        1.51      1.03       0.0         0.27           0.0        tbd   \n",
       "645        1.65      0.57       0.0         0.20          71.0        tbd   \n",
       "718        1.52      0.54       0.0         0.18           0.0        tbd   \n",
       "...         ...       ...       ...          ...           ...        ...   \n",
       "16695      0.01      0.00       0.0         0.00          67.0        tbd   \n",
       "16697      0.01      0.00       0.0         0.00          53.0        tbd   \n",
       "16698      0.01      0.00       0.0         0.00          48.0        tbd   \n",
       "16704      0.01      0.00       0.0         0.00           0.0        tbd   \n",
       "16706      0.01      0.00       0.0         0.00           0.0        tbd   \n",
       "\n",
       "      rating  \n",
       "119        E  \n",
       "301     E10+  \n",
       "520        T  \n",
       "645        E  \n",
       "718        E  \n",
       "...      ...  \n",
       "16695      E  \n",
       "16697      E  \n",
       "16698      E  \n",
       "16704      E  \n",
       "16706      T  \n",
       "\n",
       "[2376 rows x 11 columns]"
      ]
     },
     "execution_count": 17,
     "metadata": {},
     "output_type": "execute_result"
    }
   ],
   "source": [
    "games[games['user_score']=='tbd'] #выведем на экран строки со значением tbd в столбце user_score"
   ]
  },
  {
   "cell_type": "markdown",
   "metadata": {},
   "source": [
    "<div class=\"alert alert-block alert-info\">\n",
    "tbd заменим маркерной заглушкой \"-1\", для того, чтобы не потерять данные и изменить тип данных с object на float32:**"
   ]
  },
  {
   "cell_type": "code",
   "execution_count": 18,
   "metadata": {},
   "outputs": [],
   "source": [
    "games['user_score'] = games['user_score'].replace('tbd', -1)"
   ]
  },
  {
   "cell_type": "code",
   "execution_count": 19,
   "metadata": {
    "scrolled": false
   },
   "outputs": [
    {
     "data": {
      "text/plain": [
       "array(['8', 0, '8.3', '8.5', '6.6', '8.4', '8.6', '7.7', '6.3', '7.4',\n",
       "       '8.2', '9', '7.9', '8.1', '8.7', '7.1', '3.4', '5.3', '4.8', '3.2',\n",
       "       '8.9', '6.4', '7.8', '7.5', '2.6', '7.2', '9.2', '7', '7.3', '4.3',\n",
       "       '7.6', '5.7', '5', '9.1', '6.5', -1, '8.8', '6.9', '9.4', '6.8',\n",
       "       '6.1', '6.7', '5.4', '4', '4.9', '4.5', '9.3', '6.2', '4.2', '6',\n",
       "       '3.7', '4.1', '5.8', '5.6', '5.5', '4.4', '4.6', '5.9', '3.9',\n",
       "       '3.1', '2.9', '5.2', '3.3', '4.7', '5.1', '3.5', '2.5', '1.9', '3',\n",
       "       '2.7', '2.2', '2', '9.5', '2.1', '3.6', '2.8', '1.8', '3.8', '0',\n",
       "       '1.6', '9.6', '2.4', '1.7', '1.1', '0.3', '1.5', '0.7', '1.2',\n",
       "       '2.3', '0.5', '1.3', '0.2', '0.6', '1.4', '0.9', '1', '9.7'],\n",
       "      dtype=object)"
      ]
     },
     "execution_count": 19,
     "metadata": {},
     "output_type": "execute_result"
    }
   ],
   "source": [
    "games['user_score'].unique() #убедимся, что в датасете остались только численные значения"
   ]
  },
  {
   "cell_type": "markdown",
   "metadata": {},
   "source": [
    "#### Работа с пропусками в столбце 'rating'"
   ]
  },
  {
   "cell_type": "code",
   "execution_count": 20,
   "metadata": {},
   "outputs": [
    {
     "data": {
      "text/html": [
       "<div>\n",
       "<style scoped>\n",
       "    .dataframe tbody tr th:only-of-type {\n",
       "        vertical-align: middle;\n",
       "    }\n",
       "\n",
       "    .dataframe tbody tr th {\n",
       "        vertical-align: top;\n",
       "    }\n",
       "\n",
       "    .dataframe thead th {\n",
       "        text-align: right;\n",
       "    }\n",
       "</style>\n",
       "<table border=\"1\" class=\"dataframe\">\n",
       "  <thead>\n",
       "    <tr style=\"text-align: right;\">\n",
       "      <th></th>\n",
       "      <th>name</th>\n",
       "      <th>platform</th>\n",
       "      <th>year_of_release</th>\n",
       "      <th>genre</th>\n",
       "      <th>na_sales</th>\n",
       "      <th>eu_sales</th>\n",
       "      <th>jp_sales</th>\n",
       "      <th>other_sales</th>\n",
       "      <th>critic_score</th>\n",
       "      <th>user_score</th>\n",
       "      <th>rating</th>\n",
       "    </tr>\n",
       "  </thead>\n",
       "  <tbody>\n",
       "    <tr>\n",
       "      <th>1</th>\n",
       "      <td>Super Mario Bros.</td>\n",
       "      <td>NES</td>\n",
       "      <td>1985.0</td>\n",
       "      <td>Platform</td>\n",
       "      <td>29.08</td>\n",
       "      <td>3.58</td>\n",
       "      <td>6.81</td>\n",
       "      <td>0.77</td>\n",
       "      <td>0.0</td>\n",
       "      <td>0</td>\n",
       "      <td>NaN</td>\n",
       "    </tr>\n",
       "    <tr>\n",
       "      <th>4</th>\n",
       "      <td>Pokemon Red/Pokemon Blue</td>\n",
       "      <td>GB</td>\n",
       "      <td>1996.0</td>\n",
       "      <td>Role-Playing</td>\n",
       "      <td>11.27</td>\n",
       "      <td>8.89</td>\n",
       "      <td>10.22</td>\n",
       "      <td>1.00</td>\n",
       "      <td>0.0</td>\n",
       "      <td>0</td>\n",
       "      <td>NaN</td>\n",
       "    </tr>\n",
       "    <tr>\n",
       "      <th>5</th>\n",
       "      <td>Tetris</td>\n",
       "      <td>GB</td>\n",
       "      <td>1989.0</td>\n",
       "      <td>Puzzle</td>\n",
       "      <td>23.20</td>\n",
       "      <td>2.26</td>\n",
       "      <td>4.22</td>\n",
       "      <td>0.58</td>\n",
       "      <td>0.0</td>\n",
       "      <td>0</td>\n",
       "      <td>NaN</td>\n",
       "    </tr>\n",
       "    <tr>\n",
       "      <th>9</th>\n",
       "      <td>Duck Hunt</td>\n",
       "      <td>NES</td>\n",
       "      <td>1984.0</td>\n",
       "      <td>Shooter</td>\n",
       "      <td>26.93</td>\n",
       "      <td>0.63</td>\n",
       "      <td>0.28</td>\n",
       "      <td>0.47</td>\n",
       "      <td>0.0</td>\n",
       "      <td>0</td>\n",
       "      <td>NaN</td>\n",
       "    </tr>\n",
       "    <tr>\n",
       "      <th>10</th>\n",
       "      <td>Nintendogs</td>\n",
       "      <td>DS</td>\n",
       "      <td>2005.0</td>\n",
       "      <td>Simulation</td>\n",
       "      <td>9.05</td>\n",
       "      <td>10.95</td>\n",
       "      <td>1.93</td>\n",
       "      <td>2.74</td>\n",
       "      <td>0.0</td>\n",
       "      <td>0</td>\n",
       "      <td>NaN</td>\n",
       "    </tr>\n",
       "    <tr>\n",
       "      <th>...</th>\n",
       "      <td>...</td>\n",
       "      <td>...</td>\n",
       "      <td>...</td>\n",
       "      <td>...</td>\n",
       "      <td>...</td>\n",
       "      <td>...</td>\n",
       "      <td>...</td>\n",
       "      <td>...</td>\n",
       "      <td>...</td>\n",
       "      <td>...</td>\n",
       "      <td>...</td>\n",
       "    </tr>\n",
       "    <tr>\n",
       "      <th>16710</th>\n",
       "      <td>Samurai Warriors: Sanada Maru</td>\n",
       "      <td>PS3</td>\n",
       "      <td>2016.0</td>\n",
       "      <td>Action</td>\n",
       "      <td>0.00</td>\n",
       "      <td>0.00</td>\n",
       "      <td>0.01</td>\n",
       "      <td>0.00</td>\n",
       "      <td>0.0</td>\n",
       "      <td>0</td>\n",
       "      <td>NaN</td>\n",
       "    </tr>\n",
       "    <tr>\n",
       "      <th>16711</th>\n",
       "      <td>LMA Manager 2007</td>\n",
       "      <td>X360</td>\n",
       "      <td>2006.0</td>\n",
       "      <td>Sports</td>\n",
       "      <td>0.00</td>\n",
       "      <td>0.01</td>\n",
       "      <td>0.00</td>\n",
       "      <td>0.00</td>\n",
       "      <td>0.0</td>\n",
       "      <td>0</td>\n",
       "      <td>NaN</td>\n",
       "    </tr>\n",
       "    <tr>\n",
       "      <th>16712</th>\n",
       "      <td>Haitaka no Psychedelica</td>\n",
       "      <td>PSV</td>\n",
       "      <td>2016.0</td>\n",
       "      <td>Adventure</td>\n",
       "      <td>0.00</td>\n",
       "      <td>0.00</td>\n",
       "      <td>0.01</td>\n",
       "      <td>0.00</td>\n",
       "      <td>0.0</td>\n",
       "      <td>0</td>\n",
       "      <td>NaN</td>\n",
       "    </tr>\n",
       "    <tr>\n",
       "      <th>16713</th>\n",
       "      <td>Spirits &amp; Spells</td>\n",
       "      <td>GBA</td>\n",
       "      <td>2003.0</td>\n",
       "      <td>Platform</td>\n",
       "      <td>0.01</td>\n",
       "      <td>0.00</td>\n",
       "      <td>0.00</td>\n",
       "      <td>0.00</td>\n",
       "      <td>0.0</td>\n",
       "      <td>0</td>\n",
       "      <td>NaN</td>\n",
       "    </tr>\n",
       "    <tr>\n",
       "      <th>16714</th>\n",
       "      <td>Winning Post 8 2016</td>\n",
       "      <td>PSV</td>\n",
       "      <td>2016.0</td>\n",
       "      <td>Simulation</td>\n",
       "      <td>0.00</td>\n",
       "      <td>0.00</td>\n",
       "      <td>0.01</td>\n",
       "      <td>0.00</td>\n",
       "      <td>0.0</td>\n",
       "      <td>0</td>\n",
       "      <td>NaN</td>\n",
       "    </tr>\n",
       "  </tbody>\n",
       "</table>\n",
       "<p>6676 rows × 11 columns</p>\n",
       "</div>"
      ],
      "text/plain": [
       "                                name platform  year_of_release         genre  \\\n",
       "1                  Super Mario Bros.      NES           1985.0      Platform   \n",
       "4           Pokemon Red/Pokemon Blue       GB           1996.0  Role-Playing   \n",
       "5                             Tetris       GB           1989.0        Puzzle   \n",
       "9                          Duck Hunt      NES           1984.0       Shooter   \n",
       "10                        Nintendogs       DS           2005.0    Simulation   \n",
       "...                              ...      ...              ...           ...   \n",
       "16710  Samurai Warriors: Sanada Maru      PS3           2016.0        Action   \n",
       "16711               LMA Manager 2007     X360           2006.0        Sports   \n",
       "16712        Haitaka no Psychedelica      PSV           2016.0     Adventure   \n",
       "16713               Spirits & Spells      GBA           2003.0      Platform   \n",
       "16714            Winning Post 8 2016      PSV           2016.0    Simulation   \n",
       "\n",
       "       na_sales  eu_sales  jp_sales  other_sales  critic_score user_score  \\\n",
       "1         29.08      3.58      6.81         0.77           0.0          0   \n",
       "4         11.27      8.89     10.22         1.00           0.0          0   \n",
       "5         23.20      2.26      4.22         0.58           0.0          0   \n",
       "9         26.93      0.63      0.28         0.47           0.0          0   \n",
       "10         9.05     10.95      1.93         2.74           0.0          0   \n",
       "...         ...       ...       ...          ...           ...        ...   \n",
       "16710      0.00      0.00      0.01         0.00           0.0          0   \n",
       "16711      0.00      0.01      0.00         0.00           0.0          0   \n",
       "16712      0.00      0.00      0.01         0.00           0.0          0   \n",
       "16713      0.01      0.00      0.00         0.00           0.0          0   \n",
       "16714      0.00      0.00      0.01         0.00           0.0          0   \n",
       "\n",
       "      rating  \n",
       "1        NaN  \n",
       "4        NaN  \n",
       "5        NaN  \n",
       "9        NaN  \n",
       "10       NaN  \n",
       "...      ...  \n",
       "16710    NaN  \n",
       "16711    NaN  \n",
       "16712    NaN  \n",
       "16713    NaN  \n",
       "16714    NaN  \n",
       "\n",
       "[6676 rows x 11 columns]"
      ]
     },
     "execution_count": 20,
     "metadata": {},
     "output_type": "execute_result"
    }
   ],
   "source": [
    "games[games['rating'].isna()]"
   ]
  },
  {
   "cell_type": "markdown",
   "metadata": {},
   "source": [
    "<div class=\"alert alert-block alert-info\">\n",
    "Возможно, пропуски возникли из-за того, что рейтинг по классификации ESRB для данных игр отсутствует в связи с ранним годом выхода игр или непопулярностью. Пропуски заполним маркерной заглушкой, чтобы не потерять большой объем данных:"
   ]
  },
  {
   "cell_type": "code",
   "execution_count": 21,
   "metadata": {},
   "outputs": [],
   "source": [
    "games['rating'] = games['rating'].fillna(value='undef')"
   ]
  },
  {
   "cell_type": "code",
   "execution_count": 22,
   "metadata": {},
   "outputs": [
    {
     "data": {
      "text/plain": [
       "name               0\n",
       "platform           0\n",
       "year_of_release    0\n",
       "genre              0\n",
       "na_sales           0\n",
       "eu_sales           0\n",
       "jp_sales           0\n",
       "other_sales        0\n",
       "critic_score       0\n",
       "user_score         0\n",
       "rating             0\n",
       "dtype: int64"
      ]
     },
     "execution_count": 22,
     "metadata": {},
     "output_type": "execute_result"
    }
   ],
   "source": [
    "games.isna().sum() #убедимся в отсутствии пропусков после предобработки данных"
   ]
  },
  {
   "cell_type": "markdown",
   "metadata": {},
   "source": [
    "### Изменение типов данных"
   ]
  },
  {
   "cell_type": "code",
   "execution_count": 23,
   "metadata": {
    "scrolled": true
   },
   "outputs": [
    {
     "name": "stdout",
     "output_type": "stream",
     "text": [
      "<class 'pandas.core.frame.DataFrame'>\n",
      "Int64Index: 16444 entries, 0 to 16714\n",
      "Data columns (total 11 columns):\n",
      " #   Column           Non-Null Count  Dtype  \n",
      "---  ------           --------------  -----  \n",
      " 0   name             16444 non-null  object \n",
      " 1   platform         16444 non-null  object \n",
      " 2   year_of_release  16444 non-null  float64\n",
      " 3   genre            16444 non-null  object \n",
      " 4   na_sales         16444 non-null  float64\n",
      " 5   eu_sales         16444 non-null  float64\n",
      " 6   jp_sales         16444 non-null  float64\n",
      " 7   other_sales      16444 non-null  float64\n",
      " 8   critic_score     16444 non-null  float64\n",
      " 9   user_score       16444 non-null  object \n",
      " 10  rating           16444 non-null  object \n",
      "dtypes: float64(6), object(5)\n",
      "memory usage: 1.5+ MB\n"
     ]
    }
   ],
   "source": [
    "games.info() # еще раз посмотрим на исходный датасет"
   ]
  },
  {
   "cell_type": "markdown",
   "metadata": {},
   "source": [
    "<div class=\"alert alert-block alert-info\">\n",
    "Изменим тип данных в столбце 'year_of_release' на целочисленный int64, а  типы данных в столбцах 'na_sales', 'eu_sales', 'jp_sales', 'other_sales', 'critic_score', 'user_score' на float32 для уменьшения размера файла данных."
   ]
  },
  {
   "cell_type": "code",
   "execution_count": 24,
   "metadata": {},
   "outputs": [],
   "source": [
    "list = ['na_sales', 'eu_sales', 'jp_sales', 'other_sales', 'critic_score', 'user_score']\n",
    "for i in list:\n",
    "    games[i] = games[i].astype('float32')"
   ]
  },
  {
   "cell_type": "code",
   "execution_count": 25,
   "metadata": {},
   "outputs": [],
   "source": [
    "games['year_of_release'] = games['year_of_release'].astype('int')"
   ]
  },
  {
   "cell_type": "code",
   "execution_count": 26,
   "metadata": {},
   "outputs": [
    {
     "name": "stdout",
     "output_type": "stream",
     "text": [
      "<class 'pandas.core.frame.DataFrame'>\n",
      "Int64Index: 16444 entries, 0 to 16714\n",
      "Data columns (total 11 columns):\n",
      " #   Column           Non-Null Count  Dtype  \n",
      "---  ------           --------------  -----  \n",
      " 0   name             16444 non-null  object \n",
      " 1   platform         16444 non-null  object \n",
      " 2   year_of_release  16444 non-null  int64  \n",
      " 3   genre            16444 non-null  object \n",
      " 4   na_sales         16444 non-null  float32\n",
      " 5   eu_sales         16444 non-null  float32\n",
      " 6   jp_sales         16444 non-null  float32\n",
      " 7   other_sales      16444 non-null  float32\n",
      " 8   critic_score     16444 non-null  float32\n",
      " 9   user_score       16444 non-null  float32\n",
      " 10  rating           16444 non-null  object \n",
      "dtypes: float32(6), int64(1), object(4)\n",
      "memory usage: 1.1+ MB\n"
     ]
    }
   ],
   "source": [
    "games.info() #посмотрим информацию после изменений"
   ]
  },
  {
   "cell_type": "markdown",
   "metadata": {},
   "source": [
    "## Исследовательский анализ данных"
   ]
  },
  {
   "cell_type": "markdown",
   "metadata": {},
   "source": [
    "### Посмотрите, сколько игр выпускалось в разные годы. Важны ли данные за все периоды?"
   ]
  },
  {
   "cell_type": "code",
   "execution_count": 27,
   "metadata": {
    "scrolled": true
   },
   "outputs": [
    {
     "data": {
      "text/plain": [
       "2008    1427\n",
       "2009    1426\n",
       "2010    1255\n",
       "2007    1197\n",
       "2011    1136\n",
       "2006    1006\n",
       "2005     939\n",
       "2002     829\n",
       "2003     775\n",
       "2004     762\n",
       "2012     653\n",
       "2015     606\n",
       "2014     581\n",
       "2013     544\n",
       "2016     502\n",
       "2001     482\n",
       "1998     379\n",
       "2000     350\n",
       "1999     338\n",
       "1997     289\n",
       "1996     263\n",
       "1995     219\n",
       "1994     121\n",
       "1993      60\n",
       "1981      46\n",
       "1992      43\n",
       "1991      41\n",
       "1982      36\n",
       "1986      21\n",
       "1983      17\n",
       "1989      17\n",
       "1990      16\n",
       "1987      16\n",
       "1988      15\n",
       "1985      14\n",
       "1984      14\n",
       "1980       9\n",
       "Name: year_of_release, dtype: int64"
      ]
     },
     "execution_count": 27,
     "metadata": {},
     "output_type": "execute_result"
    }
   ],
   "source": [
    "games['year_of_release'].value_counts() #вызовем метод value_counts"
   ]
  },
  {
   "cell_type": "code",
   "execution_count": 28,
   "metadata": {
    "scrolled": true
   },
   "outputs": [
    {
     "data": {
      "text/plain": [
       "count    16444.000000\n",
       "mean      2006.486256\n",
       "std          5.875525\n",
       "min       1980.000000\n",
       "25%       2003.000000\n",
       "50%       2007.000000\n",
       "75%       2010.000000\n",
       "max       2016.000000\n",
       "Name: year_of_release, dtype: float64"
      ]
     },
     "execution_count": 28,
     "metadata": {},
     "output_type": "execute_result"
    },
    {
     "data": {
      "image/png": "[encoded data removed]",
      "text/plain": [
       "<Figure size 432x288 with 1 Axes>"
      ]
     },
     "metadata": {
      "needs_background": "light"
     },
     "output_type": "display_data"
    }
   ],
   "source": [
    "games.boxplot(column='year_of_release')\n",
    "games['year_of_release'].describe()"
   ]
  },
  {
   "cell_type": "markdown",
   "metadata": {},
   "source": [
    "<div class=\"alert alert-block alert-info\">\n",
    "На диаграмме видим, что выбросы находятся за пределами 1992 года, поэтому эти данные можно отбросить."
   ]
  },
  {
   "cell_type": "code",
   "execution_count": 29,
   "metadata": {},
   "outputs": [
    {
     "data": {
      "text/plain": [
       "<AxesSubplot:>"
      ]
     },
     "execution_count": 29,
     "metadata": {},
     "output_type": "execute_result"
    },
    {
     "data": {
      "image/png": "[encoded data removed]",
      "text/plain": [
       "<Figure size 432x288 with 1 Axes>"
      ]
     },
     "metadata": {
      "needs_background": "light"
     },
     "output_type": "display_data"
    }
   ],
   "source": [
    "games = games[games.year_of_release > 1992] #отбросим данные за 1992 год и ранее\n",
    "games['year_of_release'].hist(bins=24) #построим гистограмму количества выпуска игр по годам"
   ]
  },
  {
   "cell_type": "markdown",
   "metadata": {},
   "source": [
    "<div class=\"alert alert-block alert-info\">\n",
    "Вывод: больше всего игр было выпущено в период с 2005 по 2011 год."
   ]
  },
  {
   "cell_type": "markdown",
   "metadata": {},
   "source": [
    "### Посмотрите, как менялись продажи по платформам. Выберите платформы с наибольшими суммарными продажами и постройте распределение по годам. За какой характерный срок появляются новые и исчезают старые платформы?"
   ]
  },
  {
   "cell_type": "code",
   "execution_count": 30,
   "metadata": {
    "scrolled": true
   },
   "outputs": [],
   "source": [
    "#создадим столбец 'total_sales' для подсчета суммарных продаж\n",
    "#games['total_sales'] = games['na_sales']+games['eu_sales']+games['jp_sales']+games['other_sales']\n",
    "#games.head()"
   ]
  },
  {
   "cell_type": "code",
   "execution_count": 31,
   "metadata": {},
   "outputs": [
    {
     "data": {
      "text/html": [
       "<div>\n",
       "<style scoped>\n",
       "    .dataframe tbody tr th:only-of-type {\n",
       "        vertical-align: middle;\n",
       "    }\n",
       "\n",
       "    .dataframe tbody tr th {\n",
       "        vertical-align: top;\n",
       "    }\n",
       "\n",
       "    .dataframe thead th {\n",
       "        text-align: right;\n",
       "    }\n",
       "</style>\n",
       "<table border=\"1\" class=\"dataframe\">\n",
       "  <thead>\n",
       "    <tr style=\"text-align: right;\">\n",
       "      <th></th>\n",
       "      <th>name</th>\n",
       "      <th>platform</th>\n",
       "      <th>year_of_release</th>\n",
       "      <th>genre</th>\n",
       "      <th>na_sales</th>\n",
       "      <th>eu_sales</th>\n",
       "      <th>jp_sales</th>\n",
       "      <th>other_sales</th>\n",
       "      <th>critic_score</th>\n",
       "      <th>user_score</th>\n",
       "      <th>rating</th>\n",
       "      <th>total_sales</th>\n",
       "    </tr>\n",
       "  </thead>\n",
       "  <tbody>\n",
       "    <tr>\n",
       "      <th>0</th>\n",
       "      <td>Wii Sports</td>\n",
       "      <td>Wii</td>\n",
       "      <td>2006</td>\n",
       "      <td>Sports</td>\n",
       "      <td>41.360001</td>\n",
       "      <td>28.959999</td>\n",
       "      <td>3.77</td>\n",
       "      <td>8.45</td>\n",
       "      <td>76.0</td>\n",
       "      <td>8.0</td>\n",
       "      <td>E</td>\n",
       "      <td>82.539993</td>\n",
       "    </tr>\n",
       "    <tr>\n",
       "      <th>2</th>\n",
       "      <td>Mario Kart Wii</td>\n",
       "      <td>Wii</td>\n",
       "      <td>2008</td>\n",
       "      <td>Racing</td>\n",
       "      <td>15.680000</td>\n",
       "      <td>12.760000</td>\n",
       "      <td>3.79</td>\n",
       "      <td>3.29</td>\n",
       "      <td>82.0</td>\n",
       "      <td>8.3</td>\n",
       "      <td>E</td>\n",
       "      <td>35.520000</td>\n",
       "    </tr>\n",
       "    <tr>\n",
       "      <th>3</th>\n",
       "      <td>Wii Sports Resort</td>\n",
       "      <td>Wii</td>\n",
       "      <td>2009</td>\n",
       "      <td>Sports</td>\n",
       "      <td>15.610000</td>\n",
       "      <td>10.930000</td>\n",
       "      <td>3.28</td>\n",
       "      <td>2.95</td>\n",
       "      <td>80.0</td>\n",
       "      <td>8.0</td>\n",
       "      <td>E</td>\n",
       "      <td>32.770000</td>\n",
       "    </tr>\n",
       "    <tr>\n",
       "      <th>4</th>\n",
       "      <td>Pokemon Red/Pokemon Blue</td>\n",
       "      <td>GB</td>\n",
       "      <td>1996</td>\n",
       "      <td>Role-Playing</td>\n",
       "      <td>11.270000</td>\n",
       "      <td>8.890000</td>\n",
       "      <td>10.22</td>\n",
       "      <td>1.00</td>\n",
       "      <td>0.0</td>\n",
       "      <td>0.0</td>\n",
       "      <td>undef</td>\n",
       "      <td>31.380001</td>\n",
       "    </tr>\n",
       "    <tr>\n",
       "      <th>6</th>\n",
       "      <td>New Super Mario Bros.</td>\n",
       "      <td>DS</td>\n",
       "      <td>2006</td>\n",
       "      <td>Platform</td>\n",
       "      <td>11.280000</td>\n",
       "      <td>9.140000</td>\n",
       "      <td>6.50</td>\n",
       "      <td>2.88</td>\n",
       "      <td>89.0</td>\n",
       "      <td>8.5</td>\n",
       "      <td>E</td>\n",
       "      <td>29.799999</td>\n",
       "    </tr>\n",
       "  </tbody>\n",
       "</table>\n",
       "</div>"
      ],
      "text/plain": [
       "                       name platform  year_of_release         genre  \\\n",
       "0                Wii Sports      Wii             2006        Sports   \n",
       "2            Mario Kart Wii      Wii             2008        Racing   \n",
       "3         Wii Sports Resort      Wii             2009        Sports   \n",
       "4  Pokemon Red/Pokemon Blue       GB             1996  Role-Playing   \n",
       "6     New Super Mario Bros.       DS             2006      Platform   \n",
       "\n",
       "    na_sales   eu_sales  jp_sales  other_sales  critic_score  user_score  \\\n",
       "0  41.360001  28.959999      3.77         8.45          76.0         8.0   \n",
       "2  15.680000  12.760000      3.79         3.29          82.0         8.3   \n",
       "3  15.610000  10.930000      3.28         2.95          80.0         8.0   \n",
       "4  11.270000   8.890000     10.22         1.00           0.0         0.0   \n",
       "6  11.280000   9.140000      6.50         2.88          89.0         8.5   \n",
       "\n",
       "  rating  total_sales  \n",
       "0      E    82.539993  \n",
       "2      E    35.520000  \n",
       "3      E    32.770000  \n",
       "4  undef    31.380001  \n",
       "6      E    29.799999  "
      ]
     },
     "execution_count": 31,
     "metadata": {},
     "output_type": "execute_result"
    }
   ],
   "source": [
    "#создадим столбец 'total_sales' для подсчета суммарных продаж\n",
    "games['total_sales'] = games[['na_sales','eu_sales','jp_sales', 'other_sales']].sum(axis = 1)\n",
    "games.head()"
   ]
  },
  {
   "cell_type": "code",
   "execution_count": 32,
   "metadata": {
    "scrolled": true
   },
   "outputs": [
    {
     "data": {
      "text/html": [
       "<div>\n",
       "<style scoped>\n",
       "    .dataframe tbody tr th:only-of-type {\n",
       "        vertical-align: middle;\n",
       "    }\n",
       "\n",
       "    .dataframe tbody tr th {\n",
       "        vertical-align: top;\n",
       "    }\n",
       "\n",
       "    .dataframe thead th {\n",
       "        text-align: right;\n",
       "    }\n",
       "</style>\n",
       "<table border=\"1\" class=\"dataframe\">\n",
       "  <thead>\n",
       "    <tr style=\"text-align: right;\">\n",
       "      <th></th>\n",
       "      <th>total_sales</th>\n",
       "    </tr>\n",
       "    <tr>\n",
       "      <th>platform</th>\n",
       "      <th></th>\n",
       "    </tr>\n",
       "  </thead>\n",
       "  <tbody>\n",
       "    <tr>\n",
       "      <th>PS2</th>\n",
       "      <td>1233.559937</td>\n",
       "    </tr>\n",
       "    <tr>\n",
       "      <th>X360</th>\n",
       "      <td>961.239990</td>\n",
       "    </tr>\n",
       "    <tr>\n",
       "      <th>PS3</th>\n",
       "      <td>931.339966</td>\n",
       "    </tr>\n",
       "    <tr>\n",
       "      <th>Wii</th>\n",
       "      <td>891.179993</td>\n",
       "    </tr>\n",
       "    <tr>\n",
       "      <th>DS</th>\n",
       "      <td>802.760010</td>\n",
       "    </tr>\n",
       "    <tr>\n",
       "      <th>PS</th>\n",
       "      <td>727.580017</td>\n",
       "    </tr>\n",
       "    <tr>\n",
       "      <th>PS4</th>\n",
       "      <td>314.140015</td>\n",
       "    </tr>\n",
       "    <tr>\n",
       "      <th>GBA</th>\n",
       "      <td>312.880005</td>\n",
       "    </tr>\n",
       "    <tr>\n",
       "      <th>PSP</th>\n",
       "      <td>289.529999</td>\n",
       "    </tr>\n",
       "    <tr>\n",
       "      <th>3DS</th>\n",
       "      <td>257.809998</td>\n",
       "    </tr>\n",
       "  </tbody>\n",
       "</table>\n",
       "</div>"
      ],
      "text/plain": [
       "          total_sales\n",
       "platform             \n",
       "PS2       1233.559937\n",
       "X360       961.239990\n",
       "PS3        931.339966\n",
       "Wii        891.179993\n",
       "DS         802.760010\n",
       "PS         727.580017\n",
       "PS4        314.140015\n",
       "GBA        312.880005\n",
       "PSP        289.529999\n",
       "3DS        257.809998"
      ]
     },
     "execution_count": 32,
     "metadata": {},
     "output_type": "execute_result"
    }
   ],
   "source": [
    "#сгруппируем платформы по количеству продаж и отсортируем по убыванию:\n",
    "sales_per_platform = games.groupby('platform').agg(total_sales=('total_sales', 'sum'))\\\n",
    ".sort_values(by='total_sales', ascending=False)\n",
    "\n",
    "sales_per_platform.head(10) # выберем платформы с наибольшими суммарными продажами\n"
   ]
  },
  {
   "cell_type": "markdown",
   "metadata": {},
   "source": [
    "<div class=\"alert alert-block alert-info\">\n",
    "Платформы с наибольшими суммарными продажами: PS2, X360, PS3, Wii, DS, PS, PS4, GBA, PSP, 3DS."
   ]
  },
  {
   "cell_type": "markdown",
   "metadata": {},
   "source": [
    "**Построим распределение по годам для выбранных платформ:**"
   ]
  },
  {
   "cell_type": "code",
   "execution_count": 33,
   "metadata": {
    "scrolled": true
   },
   "outputs": [
    {
     "data": {
      "text/html": [
       "<div>\n",
       "<style scoped>\n",
       "    .dataframe tbody tr th:only-of-type {\n",
       "        vertical-align: middle;\n",
       "    }\n",
       "\n",
       "    .dataframe tbody tr th {\n",
       "        vertical-align: top;\n",
       "    }\n",
       "\n",
       "    .dataframe thead th {\n",
       "        text-align: right;\n",
       "    }\n",
       "</style>\n",
       "<table border=\"1\" class=\"dataframe\">\n",
       "  <thead>\n",
       "    <tr style=\"text-align: right;\">\n",
       "      <th></th>\n",
       "      <th>name</th>\n",
       "      <th>platform</th>\n",
       "      <th>year_of_release</th>\n",
       "      <th>genre</th>\n",
       "      <th>na_sales</th>\n",
       "      <th>eu_sales</th>\n",
       "      <th>jp_sales</th>\n",
       "      <th>other_sales</th>\n",
       "      <th>critic_score</th>\n",
       "      <th>user_score</th>\n",
       "      <th>rating</th>\n",
       "      <th>total_sales</th>\n",
       "    </tr>\n",
       "  </thead>\n",
       "  <tbody>\n",
       "    <tr>\n",
       "      <th>0</th>\n",
       "      <td>Wii Sports</td>\n",
       "      <td>Wii</td>\n",
       "      <td>2006</td>\n",
       "      <td>Sports</td>\n",
       "      <td>41.360001</td>\n",
       "      <td>28.959999</td>\n",
       "      <td>3.77</td>\n",
       "      <td>8.45</td>\n",
       "      <td>76.0</td>\n",
       "      <td>8.0</td>\n",
       "      <td>E</td>\n",
       "      <td>82.539993</td>\n",
       "    </tr>\n",
       "    <tr>\n",
       "      <th>2</th>\n",
       "      <td>Mario Kart Wii</td>\n",
       "      <td>Wii</td>\n",
       "      <td>2008</td>\n",
       "      <td>Racing</td>\n",
       "      <td>15.680000</td>\n",
       "      <td>12.760000</td>\n",
       "      <td>3.79</td>\n",
       "      <td>3.29</td>\n",
       "      <td>82.0</td>\n",
       "      <td>8.3</td>\n",
       "      <td>E</td>\n",
       "      <td>35.520000</td>\n",
       "    </tr>\n",
       "    <tr>\n",
       "      <th>3</th>\n",
       "      <td>Wii Sports Resort</td>\n",
       "      <td>Wii</td>\n",
       "      <td>2009</td>\n",
       "      <td>Sports</td>\n",
       "      <td>15.610000</td>\n",
       "      <td>10.930000</td>\n",
       "      <td>3.28</td>\n",
       "      <td>2.95</td>\n",
       "      <td>80.0</td>\n",
       "      <td>8.0</td>\n",
       "      <td>E</td>\n",
       "      <td>32.770000</td>\n",
       "    </tr>\n",
       "    <tr>\n",
       "      <th>6</th>\n",
       "      <td>New Super Mario Bros.</td>\n",
       "      <td>DS</td>\n",
       "      <td>2006</td>\n",
       "      <td>Platform</td>\n",
       "      <td>11.280000</td>\n",
       "      <td>9.140000</td>\n",
       "      <td>6.50</td>\n",
       "      <td>2.88</td>\n",
       "      <td>89.0</td>\n",
       "      <td>8.5</td>\n",
       "      <td>E</td>\n",
       "      <td>29.799999</td>\n",
       "    </tr>\n",
       "    <tr>\n",
       "      <th>7</th>\n",
       "      <td>Wii Play</td>\n",
       "      <td>Wii</td>\n",
       "      <td>2006</td>\n",
       "      <td>Misc</td>\n",
       "      <td>13.960000</td>\n",
       "      <td>9.180000</td>\n",
       "      <td>2.93</td>\n",
       "      <td>2.84</td>\n",
       "      <td>58.0</td>\n",
       "      <td>6.6</td>\n",
       "      <td>E</td>\n",
       "      <td>28.910000</td>\n",
       "    </tr>\n",
       "    <tr>\n",
       "      <th>8</th>\n",
       "      <td>New Super Mario Bros. Wii</td>\n",
       "      <td>Wii</td>\n",
       "      <td>2009</td>\n",
       "      <td>Platform</td>\n",
       "      <td>14.440000</td>\n",
       "      <td>6.940000</td>\n",
       "      <td>4.70</td>\n",
       "      <td>2.24</td>\n",
       "      <td>87.0</td>\n",
       "      <td>8.4</td>\n",
       "      <td>E</td>\n",
       "      <td>28.319998</td>\n",
       "    </tr>\n",
       "    <tr>\n",
       "      <th>13</th>\n",
       "      <td>Wii Fit</td>\n",
       "      <td>Wii</td>\n",
       "      <td>2007</td>\n",
       "      <td>Sports</td>\n",
       "      <td>8.920000</td>\n",
       "      <td>8.030000</td>\n",
       "      <td>3.60</td>\n",
       "      <td>2.15</td>\n",
       "      <td>80.0</td>\n",
       "      <td>7.7</td>\n",
       "      <td>E</td>\n",
       "      <td>22.700001</td>\n",
       "    </tr>\n",
       "    <tr>\n",
       "      <th>14</th>\n",
       "      <td>Kinect Adventures!</td>\n",
       "      <td>X360</td>\n",
       "      <td>2010</td>\n",
       "      <td>Misc</td>\n",
       "      <td>15.000000</td>\n",
       "      <td>4.890000</td>\n",
       "      <td>0.24</td>\n",
       "      <td>1.69</td>\n",
       "      <td>61.0</td>\n",
       "      <td>6.3</td>\n",
       "      <td>E</td>\n",
       "      <td>21.820000</td>\n",
       "    </tr>\n",
       "    <tr>\n",
       "      <th>15</th>\n",
       "      <td>Wii Fit Plus</td>\n",
       "      <td>Wii</td>\n",
       "      <td>2009</td>\n",
       "      <td>Sports</td>\n",
       "      <td>9.010000</td>\n",
       "      <td>8.490000</td>\n",
       "      <td>2.53</td>\n",
       "      <td>1.77</td>\n",
       "      <td>80.0</td>\n",
       "      <td>7.4</td>\n",
       "      <td>E</td>\n",
       "      <td>21.800001</td>\n",
       "    </tr>\n",
       "    <tr>\n",
       "      <th>16</th>\n",
       "      <td>Grand Theft Auto V</td>\n",
       "      <td>PS3</td>\n",
       "      <td>2013</td>\n",
       "      <td>Action</td>\n",
       "      <td>7.020000</td>\n",
       "      <td>9.090000</td>\n",
       "      <td>0.98</td>\n",
       "      <td>3.96</td>\n",
       "      <td>97.0</td>\n",
       "      <td>8.2</td>\n",
       "      <td>M</td>\n",
       "      <td>21.049999</td>\n",
       "    </tr>\n",
       "  </tbody>\n",
       "</table>\n",
       "</div>"
      ],
      "text/plain": [
       "                         name platform  year_of_release     genre   na_sales  \\\n",
       "0                  Wii Sports      Wii             2006    Sports  41.360001   \n",
       "2              Mario Kart Wii      Wii             2008    Racing  15.680000   \n",
       "3           Wii Sports Resort      Wii             2009    Sports  15.610000   \n",
       "6       New Super Mario Bros.       DS             2006  Platform  11.280000   \n",
       "7                    Wii Play      Wii             2006      Misc  13.960000   \n",
       "8   New Super Mario Bros. Wii      Wii             2009  Platform  14.440000   \n",
       "13                    Wii Fit      Wii             2007    Sports   8.920000   \n",
       "14         Kinect Adventures!     X360             2010      Misc  15.000000   \n",
       "15               Wii Fit Plus      Wii             2009    Sports   9.010000   \n",
       "16         Grand Theft Auto V      PS3             2013    Action   7.020000   \n",
       "\n",
       "     eu_sales  jp_sales  other_sales  critic_score  user_score rating  \\\n",
       "0   28.959999      3.77         8.45          76.0         8.0      E   \n",
       "2   12.760000      3.79         3.29          82.0         8.3      E   \n",
       "3   10.930000      3.28         2.95          80.0         8.0      E   \n",
       "6    9.140000      6.50         2.88          89.0         8.5      E   \n",
       "7    9.180000      2.93         2.84          58.0         6.6      E   \n",
       "8    6.940000      4.70         2.24          87.0         8.4      E   \n",
       "13   8.030000      3.60         2.15          80.0         7.7      E   \n",
       "14   4.890000      0.24         1.69          61.0         6.3      E   \n",
       "15   8.490000      2.53         1.77          80.0         7.4      E   \n",
       "16   9.090000      0.98         3.96          97.0         8.2      M   \n",
       "\n",
       "    total_sales  \n",
       "0     82.539993  \n",
       "2     35.520000  \n",
       "3     32.770000  \n",
       "6     29.799999  \n",
       "7     28.910000  \n",
       "8     28.319998  \n",
       "13    22.700001  \n",
       "14    21.820000  \n",
       "15    21.800001  \n",
       "16    21.049999  "
      ]
     },
     "execution_count": 33,
     "metadata": {},
     "output_type": "execute_result"
    }
   ],
   "source": [
    "top_platforms = games.query('platform in[\"PS2\", \"X360\", \"PS3\", \"Wii\", \"DS\", \"PS\", \"PS4\", \"GBA\", \"PSP\", \"3DS\"]\\\n",
    "& year_of_release >2005')\n",
    "top_platforms.head(10)"
   ]
  },
  {
   "cell_type": "code",
   "execution_count": 34,
   "metadata": {
    "scrolled": false
   },
   "outputs": [
    {
     "data": {
      "image/png": "[encoded data removed]",
      "text/plain": [
       "<Figure size 432x288 with 1 Axes>"
      ]
     },
     "metadata": {
      "needs_background": "light"
     },
     "output_type": "display_data"
    }
   ],
   "source": [
    "ax = sns.barplot(x='year_of_release',\n",
    "                 y='total_sales',\n",
    "                hue='platform',\n",
    "                ci=None,\n",
    "                data=top_platforms,\n",
    "                palette=['red', 'orange', 'yellow', 'green', 'lightblue', 'blue', 'purple', 'magenta', 'lightgreen'])\n",
    "ax.set_title('Распределение продаж на популярных платформах по годам')\n",
    "ax.set(xlabel='Год выпуска', ylabel= 'Суммарные продажи')\n",
    "sns.set(rc={'figure.figsize':(10,20)})"
   ]
  },
  {
   "cell_type": "markdown",
   "metadata": {},
   "source": [
    "**За какой характерный срок появляются новые и исчезают старые платформы?**"
   ]
  },
  {
   "cell_type": "markdown",
   "metadata": {},
   "source": [
    "<div class=\"alert alert-block alert-info\"> \n",
    "Характерный срок возникновения-исчезновения равен примерно 10 годам. "
   ]
  },
  {
   "cell_type": "markdown",
   "metadata": {},
   "source": [
    "### Возьмите данные за соответствующий актуальный период. Актуальный период определите самостоятельно в результате исследования предыдущих вопросов. Основной фактор — эти данные помогут построить прогноз на 2017 год. Не учитывайте в работе данные за предыдущие годы."
   ]
  },
  {
   "cell_type": "markdown",
   "metadata": {},
   "source": [
    "<div class=\"alert alert-block alert-info\">\n",
    "Чтобы определить актуальный период, я решила посмотреть, какие платформы лидировали по количеству  продаж ближайшие несколько лет к 2017 году. "
   ]
  },
  {
   "cell_type": "code",
   "execution_count": 35,
   "metadata": {
    "scrolled": true
   },
   "outputs": [
    {
     "name": "stdout",
     "output_type": "stream",
     "text": [
      "<class 'pandas.core.frame.DataFrame'>\n",
      "Int64Index: 1689 entries, 31 to 16714\n",
      "Data columns (total 12 columns):\n",
      " #   Column           Non-Null Count  Dtype  \n",
      "---  ------           --------------  -----  \n",
      " 0   name             1689 non-null   object \n",
      " 1   platform         1689 non-null   object \n",
      " 2   year_of_release  1689 non-null   int64  \n",
      " 3   genre            1689 non-null   object \n",
      " 4   na_sales         1689 non-null   float32\n",
      " 5   eu_sales         1689 non-null   float32\n",
      " 6   jp_sales         1689 non-null   float32\n",
      " 7   other_sales      1689 non-null   float32\n",
      " 8   critic_score     1689 non-null   float32\n",
      " 9   user_score       1689 non-null   float32\n",
      " 10  rating           1689 non-null   object \n",
      " 11  total_sales      1689 non-null   float32\n",
      "dtypes: float32(7), int64(1), object(4)\n",
      "memory usage: 125.4+ KB\n"
     ]
    }
   ],
   "source": [
    "games_2014_16 = games[games['year_of_release']>2013] #сделаем срез датасета 2014-2016 г\n",
    "games_2014_16.info()"
   ]
  },
  {
   "cell_type": "code",
   "execution_count": 36,
   "metadata": {
    "scrolled": true
   },
   "outputs": [
    {
     "name": "stdout",
     "output_type": "stream",
     "text": [
      "['PS4' '3DS' 'XOne' 'WiiU' 'PS3' 'X360' 'PC' 'Wii' 'PSV' 'PSP']\n"
     ]
    }
   ],
   "source": [
    "print(games_2014_16['platform'].unique()) #выведем на экран уникальные значения игровых платформ в 2014-2016"
   ]
  },
  {
   "cell_type": "code",
   "execution_count": 37,
   "metadata": {
    "scrolled": false
   },
   "outputs": [
    {
     "data": {
      "image/png": "[encoded data removed]",
      "text/plain": [
       "<Figure size 720x1440 with 1 Axes>"
      ]
     },
     "metadata": {},
     "output_type": "display_data"
    }
   ],
   "source": [
    "ax = sns.barplot(x='year_of_release',\n",
    "                 y='total_sales',\n",
    "                hue='platform',\n",
    "                ci=None,\n",
    "                data=games_2014_16,\n",
    "                palette=['red', 'orange', 'yellow', 'green', 'lightblue', 'blue', 'purple', 'magenta', 'lightgreen'])\n",
    "ax.set_title('Распределение продаж на популярных платформах в 2014-2016')\n",
    "ax.set(xlabel='Год выпуска', ylabel= 'Суммарные продажи')\n",
    "sns.set(rc={'figure.figsize':(5,5)})"
   ]
  },
  {
   "cell_type": "markdown",
   "metadata": {},
   "source": [
    "<div class=\"alert alert-block alert-info\">\n",
    "Для прогноза на 2017 год будем анализировать данные за 2016. Несмотря на то, что суммарных продаж больше в 2014 и 2015 году, видим, что распределение платформ-лидеров неодинаково в 2014-2015 и 2016 годах. В 2016 наблюдаем 4 лидера примерно на одном уровне. Для анализа на следующий год нам важна актуальная картина, данные 2014 и 2015 годы можно считать уже устаревшими."
   ]
  },
  {
   "cell_type": "markdown",
   "metadata": {},
   "source": [
    "**Какие платформы лидируют по продажам, растут или падают?**"
   ]
  },
  {
   "cell_type": "markdown",
   "metadata": {},
   "source": [
    "<div class=\"alert alert-block alert-info\">\n",
    "По продажам в 2014-2016 годах лидируют PS4, 3DS, XOne, WiiU. \n",
    "Про платформы PS3, X36, PC и Wii можно сказать, что они теряют популярность. "
   ]
  },
  {
   "cell_type": "markdown",
   "metadata": {},
   "source": [
    "**Выберите несколько потенциально прибыльных платформ.\n",
    "Постройте график «ящик с усами» по глобальным продажам игр в разбивке по платформам. Опишите результат.**"
   ]
  },
  {
   "cell_type": "markdown",
   "metadata": {},
   "source": [
    "<div class=\"alert alert-block alert-info\">\n",
    "В 2016 году лидируют 4 платформы: PS4, 3DS, XOne, WiiU, причем значения суммарных продаж для них достаточно близки."
   ]
  },
  {
   "cell_type": "markdown",
   "metadata": {},
   "source": [
    "<div class=\"alert alert-info\"> \n",
    "<b> Нашла в seaborn метод sns.boxplot, чтобы построить групповой \"ящик с усами\", на нем нагляднее виден диапазон суммарных продаж по интересующим нас платформам. </b>"
   ]
  },
  {
   "cell_type": "code",
   "execution_count": 38,
   "metadata": {},
   "outputs": [
    {
     "data": {
      "text/plain": [
       "(0.0, 1.0)"
      ]
     },
     "execution_count": 38,
     "metadata": {},
     "output_type": "execute_result"
    },
    {
     "data": {
      "image/png": "[encoded data removed]",
      "text/plain": [
       "<Figure size 360x360 with 1 Axes>"
      ]
     },
     "metadata": {},
     "output_type": "display_data"
    }
   ],
   "source": [
    "top_platforms_2016=games.query('year_of_release==2016 & platform in [\"PS4\", \"3DS\", \"XOne\", \"WiiU\"]')\n",
    "sns.boxplot(y='platform', x='total_sales', data=top_platforms_2016, orient='h')\n",
    "sns.set(rc={'figure.figsize':(5,5)})\n",
    "plt.xlim(0,1)"
   ]
  },
  {
   "cell_type": "code",
   "execution_count": 39,
   "metadata": {
    "scrolled": true
   },
   "outputs": [
    {
     "data": {
      "text/plain": [
       "<AxesSubplot:>"
      ]
     },
     "execution_count": 39,
     "metadata": {},
     "output_type": "execute_result"
    },
    {
     "data": {
      "image/png": "[encoded data removed]",
      "text/plain": [
       "<Figure size 360x360 with 1 Axes>"
      ]
     },
     "metadata": {},
     "output_type": "display_data"
    }
   ],
   "source": [
    "games_2016_PS4 = games.query('year_of_release==2016 & platform == \"PS4\"')\n",
    "plt.ylim(0,1) #зададим границы графика, чтобы не мешали выбросы\n",
    "games_2016_PS4.boxplot(column='total_sales')"
   ]
  },
  {
   "cell_type": "markdown",
   "metadata": {},
   "source": [
    "<div class=\"alert alert-block alert-info\">\n",
    "Межквартильный размах показывает, что суммарные продажи игр на платформе PS4 за 2016 г. находятся в диапазоне от 0 до 0.35 млн копий."
   ]
  },
  {
   "cell_type": "code",
   "execution_count": 40,
   "metadata": {
    "scrolled": true
   },
   "outputs": [
    {
     "data": {
      "text/plain": [
       "<AxesSubplot:>"
      ]
     },
     "execution_count": 40,
     "metadata": {},
     "output_type": "execute_result"
    },
    {
     "data": {
      "image/png": "[encoded data removed]",
      "text/plain": [
       "<Figure size 360x360 with 1 Axes>"
      ]
     },
     "metadata": {},
     "output_type": "display_data"
    }
   ],
   "source": [
    "games_2016_3DS = games.query('year_of_release==2016 & platform == \"3DS\"')\n",
    "plt.ylim(0,1) #зададим границы графика, чтобы не мешали выбросы\n",
    "games_2016_3DS.boxplot(column='total_sales')"
   ]
  },
  {
   "cell_type": "markdown",
   "metadata": {},
   "source": [
    "<div class=\"alert alert-block alert-info\">\n",
    "Межквартильный размах показывает, что суммарные продажи игр на платформе 3DS за 2016 г. находятся в диапазоне от 0 до 0.2 млн копий."
   ]
  },
  {
   "cell_type": "code",
   "execution_count": 41,
   "metadata": {
    "scrolled": true
   },
   "outputs": [
    {
     "data": {
      "text/plain": [
       "<AxesSubplot:>"
      ]
     },
     "execution_count": 41,
     "metadata": {},
     "output_type": "execute_result"
    },
    {
     "data": {
      "image/png": "[encoded data removed]",
      "text/plain": [
       "<Figure size 360x360 with 1 Axes>"
      ]
     },
     "metadata": {},
     "output_type": "display_data"
    }
   ],
   "source": [
    "games_2016_XOne = games.query('year_of_release==2016 & platform == \"XOne\"')\n",
    "plt.ylim(0,1) #зададим границы графика, чтобы не мешали выбросы\n",
    "games_2016_XOne.boxplot(column='total_sales')"
   ]
  },
  {
   "cell_type": "markdown",
   "metadata": {},
   "source": [
    "<div class=\"alert alert-block alert-info\">\n",
    "Межквартильный размах показывает, что суммарные продажи игр на платформе XOne за 2016 г. находятся в диапазоне от 0 до 0.3 млн копий."
   ]
  },
  {
   "cell_type": "code",
   "execution_count": 42,
   "metadata": {
    "scrolled": true
   },
   "outputs": [
    {
     "data": {
      "text/plain": [
       "<AxesSubplot:>"
      ]
     },
     "execution_count": 42,
     "metadata": {},
     "output_type": "execute_result"
    },
    {
     "data": {
      "image/png": "[encoded data removed]",
      "text/plain": [
       "<Figure size 360x360 with 1 Axes>"
      ]
     },
     "metadata": {},
     "output_type": "display_data"
    }
   ],
   "source": [
    "games_2016_WiiU = games.query('year_of_release==2016 & platform == \"WiiU\"')\n",
    "plt.ylim(0,1) #зададим границы графика, чтобы не мешали выбросы\n",
    "games_2016_WiiU.boxplot(column='total_sales')"
   ]
  },
  {
   "cell_type": "markdown",
   "metadata": {},
   "source": [
    "<div class=\"alert alert-block alert-info\">\n",
    "Межквартильный размах показывает, что суммарные продажи игр на платформе WiiU за 2016 г. находятся в диапазоне от 0 до 0.4 млн копий."
   ]
  },
  {
   "cell_type": "markdown",
   "metadata": {},
   "source": [
    "### Посмотрите, как влияют на продажи внутри одной популярной платформы отзывы пользователей и критиков. Постройте диаграмму рассеяния и посчитайте корреляцию между отзывами и продажами. Сформулируйте выводы. Соотнесите выводы с продажами игр на других платформах."
   ]
  },
  {
   "cell_type": "markdown",
   "metadata": {},
   "source": [
    "<div class=\"alert alert-block alert-info\">\n",
    "Проанализируем данные для отдельно для платформы XOne и для всех платформ"
   ]
  },
  {
   "cell_type": "markdown",
   "metadata": {},
   "source": [
    "<div class=\"alert alert-info\"> \n",
    "<b> Отфильтровала значения заглушек (0) в колонках critic_score и user_score  </b>"
   ]
  },
  {
   "cell_type": "markdown",
   "metadata": {},
   "source": [
    "**Влияние отзывов критиков по популярной платформе XOne**"
   ]
  },
  {
   "cell_type": "code",
   "execution_count": 43,
   "metadata": {},
   "outputs": [],
   "source": [
    "games_2016_xone = games.query('year_of_release==2016 & platform==\"XOne\" & critic_score!=0 & user_score!=0') #отфильтруем данные за 2016 год по платформе XOne"
   ]
  },
  {
   "cell_type": "code",
   "execution_count": 44,
   "metadata": {},
   "outputs": [
    {
     "name": "stderr",
     "output_type": "stream",
     "text": [
      "*c* argument looks like a single numeric RGB or RGBA sequence, which should be avoided as value-mapping will have precedence in case its length matches with *x* & *y*.  Please use the *color* keyword-argument or provide a 2-D array with a single row if you intend to specify the same RGB or RGBA value for all points.\n"
     ]
    },
    {
     "data": {
      "image/png": "[encoded data removed]",
      "text/plain": [
       "<Figure size 360x360 with 1 Axes>"
      ]
     },
     "metadata": {},
     "output_type": "display_data"
    }
   ],
   "source": [
    "# построим диаграмму рассеяния зависимости общих продаж от отзывов критиков:\n",
    "games_2016_xone.plot(x='critic_score', y='total_sales', kind='scatter', alpha=0.5)\n",
    "sns.set(rc={'figure.figsize':(5,5)})"
   ]
  },
  {
   "cell_type": "markdown",
   "metadata": {},
   "source": [
    "<div class=\"alert alert-block alert-info\">\n",
    "По диаграмме рассеяния можно сказать, что с повышением оценки критиков, есть тенденция увеличения продаж, однако значительной ее сложно назвать. Наблюдаем единичные выбросы после значени 60, а также скопление значений в 0, которым мы заполнили пропуски в данных. "
   ]
  },
  {
   "cell_type": "code",
   "execution_count": 45,
   "metadata": {},
   "outputs": [
    {
     "data": {
      "text/plain": [
       "0.4120052509700284"
      ]
     },
     "execution_count": 45,
     "metadata": {},
     "output_type": "execute_result"
    }
   ],
   "source": [
    "games_2016_xone['total_sales'].corr(games_2016_xone['critic_score']) #рассчитаем коэфф.корреляции Пирсона"
   ]
  },
  {
   "cell_type": "markdown",
   "metadata": {},
   "source": [
    "<div class=\"alert alert-block alert-info\">\n",
    "Вывод: Коэффициент корреляции 0.41, что говорит о прямой зависимости (чем выше, отзыв, тем лучше продажи), однако, не очень сильной."
   ]
  },
  {
   "cell_type": "markdown",
   "metadata": {},
   "source": [
    "**Влияние отзывов пользователей по платформе XOne**"
   ]
  },
  {
   "cell_type": "code",
   "execution_count": 46,
   "metadata": {
    "scrolled": true
   },
   "outputs": [
    {
     "name": "stderr",
     "output_type": "stream",
     "text": [
      "*c* argument looks like a single numeric RGB or RGBA sequence, which should be avoided as value-mapping will have precedence in case its length matches with *x* & *y*.  Please use the *color* keyword-argument or provide a 2-D array with a single row if you intend to specify the same RGB or RGBA value for all points.\n"
     ]
    },
    {
     "data": {
      "text/plain": [
       "<AxesSubplot:xlabel='user_score', ylabel='total_sales'>"
      ]
     },
     "execution_count": 46,
     "metadata": {},
     "output_type": "execute_result"
    },
    {
     "data": {
      "image/png": "[encoded data removed]",
      "text/plain": [
       "<Figure size 360x360 with 1 Axes>"
      ]
     },
     "metadata": {},
     "output_type": "display_data"
    }
   ],
   "source": [
    "# построим диаграмму рассеяния зависимости общих продаж от отзывов критиков по платформе PS4:\n",
    "games_2016_xone.plot(x='user_score', y='total_sales', kind='scatter', alpha=0.5) "
   ]
  },
  {
   "cell_type": "markdown",
   "metadata": {},
   "source": [
    "<div class=\"alert alert-block alert-info\">\n",
    "По диаграмме рассеяния можно сказать, что распределение объема продаж от отзывов пользователей имеет хаотичный характер."
   ]
  },
  {
   "cell_type": "code",
   "execution_count": 47,
   "metadata": {},
   "outputs": [
    {
     "data": {
      "text/plain": [
       "-0.057550672291281586"
      ]
     },
     "execution_count": 47,
     "metadata": {},
     "output_type": "execute_result"
    }
   ],
   "source": [
    "games_2016_xone['total_sales'].corr(games_2016_xone['user_score'])"
   ]
  },
  {
   "cell_type": "markdown",
   "metadata": {},
   "source": [
    "<div class=\"alert alert-block alert-info\">\n",
    "Вывод: Коэффициент корреляции примерно равен 0, что говорит об отсутствии зависимости. Отзывы пользователей не влияют на продажи."
   ]
  },
  {
   "cell_type": "markdown",
   "metadata": {},
   "source": [
    "**Влияние отзывов критиков по всем платформам**"
   ]
  },
  {
   "cell_type": "code",
   "execution_count": 48,
   "metadata": {},
   "outputs": [],
   "source": [
    "games_2016 = games.query('year_of_release==2016 & critic_score!=0 & user_score!=0') #сделаем срез данных по всем платформам за 2016 год"
   ]
  },
  {
   "cell_type": "code",
   "execution_count": 49,
   "metadata": {
    "scrolled": true
   },
   "outputs": [
    {
     "name": "stderr",
     "output_type": "stream",
     "text": [
      "*c* argument looks like a single numeric RGB or RGBA sequence, which should be avoided as value-mapping will have precedence in case its length matches with *x* & *y*.  Please use the *color* keyword-argument or provide a 2-D array with a single row if you intend to specify the same RGB or RGBA value for all points.\n"
     ]
    },
    {
     "data": {
      "text/plain": [
       "<AxesSubplot:xlabel='critic_score', ylabel='total_sales'>"
      ]
     },
     "execution_count": 49,
     "metadata": {},
     "output_type": "execute_result"
    },
    {
     "data": {
      "image/png": "[encoded data removed]",
      "text/plain": [
       "<Figure size 360x360 with 1 Axes>"
      ]
     },
     "metadata": {},
     "output_type": "display_data"
    }
   ],
   "source": [
    "# построим диаграмму рассеяния зависимости общих продаж от отзывов критиков:\n",
    "games_2016.plot(x='critic_score', y='total_sales', kind='scatter', alpha=0.5) "
   ]
  },
  {
   "cell_type": "code",
   "execution_count": 50,
   "metadata": {},
   "outputs": [
    {
     "data": {
      "text/plain": [
       "<AxesSubplot:xlabel='critic_score'>"
      ]
     },
     "execution_count": 50,
     "metadata": {},
     "output_type": "execute_result"
    },
    {
     "data": {
      "image/png": "[encoded data removed]",
      "text/plain": [
       "<Figure size 864x360 with 1 Axes>"
      ]
     },
     "metadata": {},
     "output_type": "display_data"
    }
   ],
   "source": [
    "# для большей наглядности построим график зависимости общих продаж от отзывов критиков:\n",
    "games_2016.pivot_table(\n",
    "    index='critic_score', values='total_sales', aggfunc = 'mean').plot(grid=True, style ='o-', figsize=(12, 5))"
   ]
  },
  {
   "cell_type": "code",
   "execution_count": 51,
   "metadata": {},
   "outputs": [
    {
     "data": {
      "text/plain": [
       "0.2975436204236732"
      ]
     },
     "execution_count": 51,
     "metadata": {},
     "output_type": "execute_result"
    }
   ],
   "source": [
    "games_2016['total_sales'].corr(games_2016['critic_score']) #вычислим коэффициент корреляции Пирсона"
   ]
  },
  {
   "cell_type": "markdown",
   "metadata": {},
   "source": [
    "<div class=\"alert alert-block alert-info\">\n",
    "Вывод: Коэффициент корреляции 0.29, что говорит о прямой зависимости (чем выше отзывы критиков, тем лучше продажи), однако довольно слабой."
   ]
  },
  {
   "cell_type": "markdown",
   "metadata": {},
   "source": [
    "**Влияние отзывов пользователей по всем платформам**"
   ]
  },
  {
   "cell_type": "code",
   "execution_count": 52,
   "metadata": {},
   "outputs": [
    {
     "name": "stderr",
     "output_type": "stream",
     "text": [
      "*c* argument looks like a single numeric RGB or RGBA sequence, which should be avoided as value-mapping will have precedence in case its length matches with *x* & *y*.  Please use the *color* keyword-argument or provide a 2-D array with a single row if you intend to specify the same RGB or RGBA value for all points.\n"
     ]
    },
    {
     "data": {
      "text/plain": [
       "<AxesSubplot:xlabel='user_score', ylabel='total_sales'>"
      ]
     },
     "execution_count": 52,
     "metadata": {},
     "output_type": "execute_result"
    },
    {
     "data": {
      "image/png": "[encoded data removed]",
      "text/plain": [
       "<Figure size 360x360 with 1 Axes>"
      ]
     },
     "metadata": {},
     "output_type": "display_data"
    }
   ],
   "source": [
    "# построим диаграмму рассеяния зависимости общих продаж от отзывов пользователей:\n",
    "games_2016.plot(x='user_score', y='total_sales', kind='scatter', alpha=0.5) "
   ]
  },
  {
   "cell_type": "code",
   "execution_count": 53,
   "metadata": {
    "scrolled": true
   },
   "outputs": [
    {
     "data": {
      "text/plain": [
       "-0.026943454133747703"
      ]
     },
     "execution_count": 53,
     "metadata": {},
     "output_type": "execute_result"
    }
   ],
   "source": [
    "games_2016['total_sales'].corr(games_2016['user_score']) #вычислим коэффициент корреляции Пирсона"
   ]
  },
  {
   "cell_type": "markdown",
   "metadata": {},
   "source": [
    "<div class=\"alert alert-block alert-info\">\n",
    "Вывод: Коэффициент корреляции -0.03, что говорит об отсутствии зависимости."
   ]
  },
  {
   "cell_type": "markdown",
   "metadata": {},
   "source": [
    "<div class=\"alert alert-block alert-info\">\n",
    "Таким образом, делаем вывод, что отзывы критиков влияют на уровень продаж, а отзывы пользователей - нет.\n",
    "Так, для отдельно взятой платформы XOne коэффициент корреляции отзывов критиков равен 0.41, а отзывов пользователей около 0. Для всех платформ коэффициент корреляции отзывов критиков равен 0.29, а отзывов пользователей также около 0."
   ]
  },
  {
   "cell_type": "markdown",
   "metadata": {},
   "source": [
    "### Посмотрите на общее распределение игр по жанрам. Что можно сказать о самых прибыльных жанрах? Выделяются ли жанры с высокими и низкими продажами?"
   ]
  },
  {
   "cell_type": "code",
   "execution_count": 54,
   "metadata": {
    "scrolled": true
   },
   "outputs": [
    {
     "data": {
      "text/plain": [
       "[Text(0.5, 0, 'Год выпуска'), Text(0, 0.5, 'Суммарные продажи')]"
      ]
     },
     "execution_count": 54,
     "metadata": {},
     "output_type": "execute_result"
    },
    {
     "data": {
      "image/png": "[encoded data removed]",
      "text/plain": [
       "<Figure size 360x360 with 1 Axes>"
      ]
     },
     "metadata": {},
     "output_type": "display_data"
    }
   ],
   "source": [
    "ax = sns.barplot(x='year_of_release',\n",
    "                 y='total_sales',\n",
    "                hue='genre',\n",
    "                data=games_2016,\n",
    "                palette=['red', 'orange', 'yellow', 'lightgreen','green', 'lightblue', 'blue', 'purple', 'pink', 'grey', 'magenta', 'brown'])\n",
    "ax.set_title('Распределение продаж игр в зависимости от жанра в 2016')\n",
    "ax.set(xlabel='Год выпуска', ylabel= 'Суммарные продажи')"
   ]
  },
  {
   "cell_type": "code",
   "execution_count": 55,
   "metadata": {},
   "outputs": [
    {
     "data": {
      "text/plain": [
       "<AxesSubplot:xlabel='genre', ylabel='platform'>"
      ]
     },
     "execution_count": 55,
     "metadata": {},
     "output_type": "execute_result"
    },
    {
     "data": {
      "image/png": "[encoded data removed]",
      "text/plain": [
       "<Figure size 360x360 with 2 Axes>"
      ]
     },
     "metadata": {},
     "output_type": "display_data"
    }
   ],
   "source": [
    "platform_genre_sales = games_2014_16.pivot_table(\n",
    "                        index='platform', \n",
    "                        columns='genre', \n",
    "                        values='total_sales', \n",
    "                        aggfunc=sum).fillna(0).applymap(float)\n",
    "sns.heatmap(platform_genre_sales, annot=True, fmt=\".1f\", linewidths=.5)"
   ]
  },
  {
   "cell_type": "markdown",
   "metadata": {},
   "source": [
    "<div class=\"alert alert-block alert-info\">\n",
    "Вывод: самые продаваемые жанры - это Shooter, Sports, Role-playing, Fighting.\n",
    "\n",
    "Жанры с низким уровнем продаж - Racing, Adventure, Misc, Simulation, Strategy, Puzzle"
   ]
  },
  {
   "cell_type": "markdown",
   "metadata": {},
   "source": [
    "**Шаг 4. Определим самые популярные платформы (топ-5) для каждого региона:**"
   ]
  },
  {
   "cell_type": "code",
   "execution_count": 56,
   "metadata": {},
   "outputs": [
    {
     "data": {
      "text/plain": [
       "array(['PS4', 'XOne', 'WiiU', '3DS', 'PC', 'PSV'], dtype=object)"
      ]
     },
     "execution_count": 56,
     "metadata": {},
     "output_type": "execute_result"
    }
   ],
   "source": [
    "games_2016['platform'].unique() #посмотрим на уникальные значения в столбце platform и на предмет неявных дубликатов"
   ]
  },
  {
   "cell_type": "code",
   "execution_count": 57,
   "metadata": {
    "scrolled": true
   },
   "outputs": [
    {
     "data": {
      "text/html": [
       "<div>\n",
       "<style scoped>\n",
       "    .dataframe tbody tr th:only-of-type {\n",
       "        vertical-align: middle;\n",
       "    }\n",
       "\n",
       "    .dataframe tbody tr th {\n",
       "        vertical-align: top;\n",
       "    }\n",
       "\n",
       "    .dataframe thead th {\n",
       "        text-align: right;\n",
       "    }\n",
       "</style>\n",
       "<table border=\"1\" class=\"dataframe\">\n",
       "  <thead>\n",
       "    <tr style=\"text-align: right;\">\n",
       "      <th></th>\n",
       "      <th>na_sales</th>\n",
       "    </tr>\n",
       "    <tr>\n",
       "      <th>platform</th>\n",
       "      <th></th>\n",
       "    </tr>\n",
       "  </thead>\n",
       "  <tbody>\n",
       "    <tr>\n",
       "      <th>PS4</th>\n",
       "      <td>18.299999</td>\n",
       "    </tr>\n",
       "    <tr>\n",
       "      <th>XOne</th>\n",
       "      <td>12.950000</td>\n",
       "    </tr>\n",
       "    <tr>\n",
       "      <th>WiiU</th>\n",
       "      <td>1.720000</td>\n",
       "    </tr>\n",
       "    <tr>\n",
       "      <th>PC</th>\n",
       "      <td>1.280000</td>\n",
       "    </tr>\n",
       "    <tr>\n",
       "      <th>3DS</th>\n",
       "      <td>0.690000</td>\n",
       "    </tr>\n",
       "  </tbody>\n",
       "</table>\n",
       "</div>"
      ],
      "text/plain": [
       "           na_sales\n",
       "platform           \n",
       "PS4       18.299999\n",
       "XOne      12.950000\n",
       "WiiU       1.720000\n",
       "PC         1.280000\n",
       "3DS        0.690000"
      ]
     },
     "execution_count": 57,
     "metadata": {},
     "output_type": "execute_result"
    }
   ],
   "source": [
    "#сгруппируем платформы по количеству продаж за 2016 г. в Северной Америке и отсортируем по убыванию:\n",
    "sales_na = games_2016.groupby('platform').agg(na_sales=('na_sales', 'sum'))\\\n",
    ".sort_values(by='na_sales', ascending=False)\n",
    "\n",
    "sales_na.head() # выберем платформы с наибольшими суммарными продажами\n"
   ]
  },
  {
   "cell_type": "code",
   "execution_count": 58,
   "metadata": {},
   "outputs": [],
   "source": [
    "#sales_na = games_2016.groupby('platform').agg(na_sales=('na_sales', 'sum'))\\\n",
    "#.sort_values(by='na_sales', ascending=False).plot(kind='bar')"
   ]
  },
  {
   "cell_type": "markdown",
   "metadata": {},
   "source": [
    "<div class=\"alert alert-block alert-info\">\n",
    "В Северной Америке лидируют PS4 и Xbox One, значительно меньше продажи игр на платформах 3DS, WiiU, PC\t\t"
   ]
  },
  {
   "cell_type": "code",
   "execution_count": 59,
   "metadata": {
    "scrolled": true
   },
   "outputs": [
    {
     "data": {
      "text/html": [
       "<div>\n",
       "<style scoped>\n",
       "    .dataframe tbody tr th:only-of-type {\n",
       "        vertical-align: middle;\n",
       "    }\n",
       "\n",
       "    .dataframe tbody tr th {\n",
       "        vertical-align: top;\n",
       "    }\n",
       "\n",
       "    .dataframe thead th {\n",
       "        text-align: right;\n",
       "    }\n",
       "</style>\n",
       "<table border=\"1\" class=\"dataframe\">\n",
       "  <thead>\n",
       "    <tr style=\"text-align: right;\">\n",
       "      <th></th>\n",
       "      <th>eu_sales</th>\n",
       "    </tr>\n",
       "    <tr>\n",
       "      <th>platform</th>\n",
       "      <th></th>\n",
       "    </tr>\n",
       "  </thead>\n",
       "  <tbody>\n",
       "    <tr>\n",
       "      <th>PS4</th>\n",
       "      <td>27.700001</td>\n",
       "    </tr>\n",
       "    <tr>\n",
       "      <th>XOne</th>\n",
       "      <td>8.840000</td>\n",
       "    </tr>\n",
       "    <tr>\n",
       "      <th>PC</th>\n",
       "      <td>3.270000</td>\n",
       "    </tr>\n",
       "    <tr>\n",
       "      <th>WiiU</th>\n",
       "      <td>1.070000</td>\n",
       "    </tr>\n",
       "    <tr>\n",
       "      <th>3DS</th>\n",
       "      <td>0.420000</td>\n",
       "    </tr>\n",
       "  </tbody>\n",
       "</table>\n",
       "</div>"
      ],
      "text/plain": [
       "           eu_sales\n",
       "platform           \n",
       "PS4       27.700001\n",
       "XOne       8.840000\n",
       "PC         3.270000\n",
       "WiiU       1.070000\n",
       "3DS        0.420000"
      ]
     },
     "execution_count": 59,
     "metadata": {},
     "output_type": "execute_result"
    }
   ],
   "source": [
    "#сгруппируем платформы по количеству продаж за 2016 г. в Европе и отсортируем по убыванию:\n",
    "sales_eu = games_2016.groupby('platform').agg(eu_sales=('eu_sales', 'sum'))\\\n",
    ".sort_values(by='eu_sales', ascending=False)\n",
    "\n",
    "sales_eu.head() # выберем платформы с наибольшими суммарными продажами"
   ]
  },
  {
   "cell_type": "code",
   "execution_count": 60,
   "metadata": {},
   "outputs": [
    {
     "data": {
      "image/png": "[encoded data removed]",
      "text/plain": [
       "<Figure size 360x360 with 1 Axes>"
      ]
     },
     "metadata": {},
     "output_type": "display_data"
    }
   ],
   "source": [
    "sales_eu = games_2016.groupby('platform').agg(eu_sales=('eu_sales', 'sum'))\\\n",
    ".sort_values(by='eu_sales', ascending=False).plot(kind='bar')"
   ]
  },
  {
   "cell_type": "markdown",
   "metadata": {},
   "source": [
    "<div class=\"alert alert-block alert-info\">\n",
    "В Европе однозначным лидером по продаже игр является платформа PS4, в 3 раза меньше продаж на Xbox One.\n",
    "На платформах 3DS, WiiU, PC\tсуммарно продаж игр меньшев 5 раз, чем на PS4\t"
   ]
  },
  {
   "cell_type": "code",
   "execution_count": 61,
   "metadata": {
    "scrolled": true
   },
   "outputs": [
    {
     "data": {
      "text/html": [
       "<div>\n",
       "<style scoped>\n",
       "    .dataframe tbody tr th:only-of-type {\n",
       "        vertical-align: middle;\n",
       "    }\n",
       "\n",
       "    .dataframe tbody tr th {\n",
       "        vertical-align: top;\n",
       "    }\n",
       "\n",
       "    .dataframe thead th {\n",
       "        text-align: right;\n",
       "    }\n",
       "</style>\n",
       "<table border=\"1\" class=\"dataframe\">\n",
       "  <thead>\n",
       "    <tr style=\"text-align: right;\">\n",
       "      <th></th>\n",
       "      <th>jp_sales</th>\n",
       "    </tr>\n",
       "    <tr>\n",
       "      <th>platform</th>\n",
       "      <th></th>\n",
       "    </tr>\n",
       "  </thead>\n",
       "  <tbody>\n",
       "    <tr>\n",
       "      <th>PS4</th>\n",
       "      <td>2.56</td>\n",
       "    </tr>\n",
       "    <tr>\n",
       "      <th>3DS</th>\n",
       "      <td>0.96</td>\n",
       "    </tr>\n",
       "    <tr>\n",
       "      <th>PSV</th>\n",
       "      <td>0.49</td>\n",
       "    </tr>\n",
       "    <tr>\n",
       "      <th>WiiU</th>\n",
       "      <td>0.38</td>\n",
       "    </tr>\n",
       "    <tr>\n",
       "      <th>XOne</th>\n",
       "      <td>0.01</td>\n",
       "    </tr>\n",
       "  </tbody>\n",
       "</table>\n",
       "</div>"
      ],
      "text/plain": [
       "          jp_sales\n",
       "platform          \n",
       "PS4           2.56\n",
       "3DS           0.96\n",
       "PSV           0.49\n",
       "WiiU          0.38\n",
       "XOne          0.01"
      ]
     },
     "execution_count": 61,
     "metadata": {},
     "output_type": "execute_result"
    }
   ],
   "source": [
    "#сгруппируем платформы по количеству продаж за 2016 г. в Японии и отсортируем по убыванию:\n",
    "sales_jp = games_2016.groupby('platform').agg(jp_sales=('jp_sales', 'sum'))\\\n",
    ".sort_values(by='jp_sales', ascending=False)\n",
    "\n",
    "sales_jp.head() # выберем платформы с наибольшими суммарными продажами"
   ]
  },
  {
   "cell_type": "code",
   "execution_count": 62,
   "metadata": {},
   "outputs": [],
   "source": [
    "#sales_jp = games_2016.groupby('platform').agg(jp_sales=('jp_sales', 'sum'))\\\n",
    "#.sort_values(by='jp_sales', ascending=False).plot(kind='bar')"
   ]
  },
  {
   "cell_type": "markdown",
   "metadata": {},
   "source": [
    "<div class=\"alert alert-block alert-info\">\n",
    "В Японии распределение продаж по платформам значительно отличается от Европы и Северной Америки. Здесь лидирует платформа 3DS, 2 и 3 место принадлежит PS4 и PSV соответственно."
   ]
  },
  {
   "cell_type": "code",
   "execution_count": 63,
   "metadata": {},
   "outputs": [
    {
     "data": {
      "image/png": "[encoded data removed]",
      "text/plain": [
       "<Figure size 1080x360 with 3 Axes>"
      ]
     },
     "metadata": {},
     "output_type": "display_data"
    }
   ],
   "source": [
    "regions = games_2014_16.columns[4:7]\n",
    "\n",
    "fig, axs = plt.subplots(1, 3, figsize=(15, 5))\n",
    "for i in range(len(regions)):\n",
    "  df_i = (games_2014_16.groupby('platform')[regions[i]].sum().\n",
    "             reset_index().\n",
    "             sort_values(regions[i], ascending = False).\n",
    "             head(7))\n",
    "  axs[i].pie(df_i[regions[i]], labels = df_i['platform'])\n",
    "  axs[i].set_title(df_i.columns[1].split('_')[0].upper())\n",
    "plt.show()"
   ]
  },
  {
   "cell_type": "markdown",
   "metadata": {},
   "source": [
    "**Определим самые популярные жанры (топ-5) в каждом регионе:**"
   ]
  },
  {
   "cell_type": "code",
   "execution_count": 64,
   "metadata": {},
   "outputs": [
    {
     "data": {
      "text/html": [
       "<div>\n",
       "<style scoped>\n",
       "    .dataframe tbody tr th:only-of-type {\n",
       "        vertical-align: middle;\n",
       "    }\n",
       "\n",
       "    .dataframe tbody tr th {\n",
       "        vertical-align: top;\n",
       "    }\n",
       "\n",
       "    .dataframe thead th {\n",
       "        text-align: right;\n",
       "    }\n",
       "</style>\n",
       "<table border=\"1\" class=\"dataframe\">\n",
       "  <thead>\n",
       "    <tr style=\"text-align: right;\">\n",
       "      <th></th>\n",
       "      <th>na_sales</th>\n",
       "    </tr>\n",
       "    <tr>\n",
       "      <th>genre</th>\n",
       "      <th></th>\n",
       "    </tr>\n",
       "  </thead>\n",
       "  <tbody>\n",
       "    <tr>\n",
       "      <th>Shooter</th>\n",
       "      <td>15.00</td>\n",
       "    </tr>\n",
       "    <tr>\n",
       "      <th>Action</th>\n",
       "      <td>7.19</td>\n",
       "    </tr>\n",
       "    <tr>\n",
       "      <th>Sports</th>\n",
       "      <td>6.87</td>\n",
       "    </tr>\n",
       "    <tr>\n",
       "      <th>Fighting</th>\n",
       "      <td>1.77</td>\n",
       "    </tr>\n",
       "    <tr>\n",
       "      <th>Role-Playing</th>\n",
       "      <td>1.77</td>\n",
       "    </tr>\n",
       "  </tbody>\n",
       "</table>\n",
       "</div>"
      ],
      "text/plain": [
       "              na_sales\n",
       "genre                 \n",
       "Shooter          15.00\n",
       "Action            7.19\n",
       "Sports            6.87\n",
       "Fighting          1.77\n",
       "Role-Playing      1.77"
      ]
     },
     "execution_count": 64,
     "metadata": {},
     "output_type": "execute_result"
    }
   ],
   "source": [
    "#сгруппируем жанры по количеству продаж за 2016 г. в Северной Америке и отсортируем по убыванию:\n",
    "top_genres_na = games_2016.groupby('genre').agg(na_sales=('na_sales', 'sum'))\\\n",
    ".sort_values(by='na_sales', ascending=False)\n",
    "\n",
    "top_genres_na.head() # выберем жанры с наибольшими суммарными продажами"
   ]
  },
  {
   "cell_type": "markdown",
   "metadata": {},
   "source": [
    "<div class=\"alert alert-block alert-info\">\n",
    "В Северной Америке самым популярным жанром является shooter (\"стрелялки\"), далее по убыванию следуют экшен, спорт и ролевые игры."
   ]
  },
  {
   "cell_type": "code",
   "execution_count": 65,
   "metadata": {},
   "outputs": [
    {
     "data": {
      "text/html": [
       "<div>\n",
       "<style scoped>\n",
       "    .dataframe tbody tr th:only-of-type {\n",
       "        vertical-align: middle;\n",
       "    }\n",
       "\n",
       "    .dataframe tbody tr th {\n",
       "        vertical-align: top;\n",
       "    }\n",
       "\n",
       "    .dataframe thead th {\n",
       "        text-align: right;\n",
       "    }\n",
       "</style>\n",
       "<table border=\"1\" class=\"dataframe\">\n",
       "  <thead>\n",
       "    <tr style=\"text-align: right;\">\n",
       "      <th></th>\n",
       "      <th>eu_sales</th>\n",
       "    </tr>\n",
       "    <tr>\n",
       "      <th>genre</th>\n",
       "      <th></th>\n",
       "    </tr>\n",
       "  </thead>\n",
       "  <tbody>\n",
       "    <tr>\n",
       "      <th>Shooter</th>\n",
       "      <td>14.59</td>\n",
       "    </tr>\n",
       "    <tr>\n",
       "      <th>Sports</th>\n",
       "      <td>10.74</td>\n",
       "    </tr>\n",
       "    <tr>\n",
       "      <th>Action</th>\n",
       "      <td>8.77</td>\n",
       "    </tr>\n",
       "    <tr>\n",
       "      <th>Role-Playing</th>\n",
       "      <td>1.71</td>\n",
       "    </tr>\n",
       "    <tr>\n",
       "      <th>Fighting</th>\n",
       "      <td>1.30</td>\n",
       "    </tr>\n",
       "  </tbody>\n",
       "</table>\n",
       "</div>"
      ],
      "text/plain": [
       "              eu_sales\n",
       "genre                 \n",
       "Shooter          14.59\n",
       "Sports           10.74\n",
       "Action            8.77\n",
       "Role-Playing      1.71\n",
       "Fighting          1.30"
      ]
     },
     "execution_count": 65,
     "metadata": {},
     "output_type": "execute_result"
    }
   ],
   "source": [
    "#сгруппируем жанры по количеству продаж за 2016 г. в Европе и отсортируем по убыванию:\n",
    "top_genres_eu = games_2016.groupby('genre').agg(eu_sales=('eu_sales', 'sum'))\\\n",
    ".sort_values(by='eu_sales', ascending=False)\n",
    "\n",
    "top_genres_eu.head() # выберем жанры с наибольшими суммарными продажами"
   ]
  },
  {
   "cell_type": "markdown",
   "metadata": {},
   "source": [
    "<div class=\"alert alert-block alert-info\">\n",
    "В Европе выделяется тройка популярных жанров: \"стрелялки\", спорт и экшен. Ролевые игры и гонки на 4 и 5 месте."
   ]
  },
  {
   "cell_type": "code",
   "execution_count": 66,
   "metadata": {},
   "outputs": [
    {
     "data": {
      "text/html": [
       "<div>\n",
       "<style scoped>\n",
       "    .dataframe tbody tr th:only-of-type {\n",
       "        vertical-align: middle;\n",
       "    }\n",
       "\n",
       "    .dataframe tbody tr th {\n",
       "        vertical-align: top;\n",
       "    }\n",
       "\n",
       "    .dataframe thead th {\n",
       "        text-align: right;\n",
       "    }\n",
       "</style>\n",
       "<table border=\"1\" class=\"dataframe\">\n",
       "  <thead>\n",
       "    <tr style=\"text-align: right;\">\n",
       "      <th></th>\n",
       "      <th>jp_sales</th>\n",
       "    </tr>\n",
       "    <tr>\n",
       "      <th>genre</th>\n",
       "      <th></th>\n",
       "    </tr>\n",
       "  </thead>\n",
       "  <tbody>\n",
       "    <tr>\n",
       "      <th>Role-Playing</th>\n",
       "      <td>1.10</td>\n",
       "    </tr>\n",
       "    <tr>\n",
       "      <th>Shooter</th>\n",
       "      <td>1.04</td>\n",
       "    </tr>\n",
       "    <tr>\n",
       "      <th>Action</th>\n",
       "      <td>1.00</td>\n",
       "    </tr>\n",
       "    <tr>\n",
       "      <th>Fighting</th>\n",
       "      <td>0.57</td>\n",
       "    </tr>\n",
       "    <tr>\n",
       "      <th>Sports</th>\n",
       "      <td>0.30</td>\n",
       "    </tr>\n",
       "  </tbody>\n",
       "</table>\n",
       "</div>"
      ],
      "text/plain": [
       "              jp_sales\n",
       "genre                 \n",
       "Role-Playing      1.10\n",
       "Shooter           1.04\n",
       "Action            1.00\n",
       "Fighting          0.57\n",
       "Sports            0.30"
      ]
     },
     "execution_count": 66,
     "metadata": {},
     "output_type": "execute_result"
    }
   ],
   "source": [
    "#сгруппируем жанры по количеству продаж за 2016 г. в Японии и отсортируем по убыванию:\n",
    "top_genres_jp = games_2016.groupby('genre').agg(jp_sales=('jp_sales', 'sum'))\\\n",
    ".sort_values(by='jp_sales', ascending=False)\n",
    "\n",
    "top_genres_jp.head() # выберем жанры с наибольшими суммарными продажами"
   ]
  },
  {
   "cell_type": "markdown",
   "metadata": {},
   "source": [
    "<div class=\"alert alert-block alert-info\">\n",
    "В Японии общая картина самых популярных жанров отличается от Европы и Америки, здесь наиболее популярны 2 жанра: экшен и ролевые игры. На 3,4 и 5 местах примерно с одинаковой популярностью находятся приключения, стрелялки и смешанный тип (misc)."
   ]
  },
  {
   "cell_type": "markdown",
   "metadata": {},
   "source": [
    "**Влияет ли рейтинг ESRB на продажи в отдельном регионе?**"
   ]
  },
  {
   "cell_type": "code",
   "execution_count": 67,
   "metadata": {},
   "outputs": [
    {
     "data": {
      "text/html": [
       "<div>\n",
       "<style scoped>\n",
       "    .dataframe tbody tr th:only-of-type {\n",
       "        vertical-align: middle;\n",
       "    }\n",
       "\n",
       "    .dataframe tbody tr th {\n",
       "        vertical-align: top;\n",
       "    }\n",
       "\n",
       "    .dataframe thead th {\n",
       "        text-align: right;\n",
       "    }\n",
       "</style>\n",
       "<table border=\"1\" class=\"dataframe\">\n",
       "  <thead>\n",
       "    <tr style=\"text-align: right;\">\n",
       "      <th></th>\n",
       "      <th>na_sales</th>\n",
       "    </tr>\n",
       "    <tr>\n",
       "      <th>rating</th>\n",
       "      <th></th>\n",
       "    </tr>\n",
       "  </thead>\n",
       "  <tbody>\n",
       "    <tr>\n",
       "      <th>M</th>\n",
       "      <td>15.58</td>\n",
       "    </tr>\n",
       "    <tr>\n",
       "      <th>T</th>\n",
       "      <td>8.62</td>\n",
       "    </tr>\n",
       "    <tr>\n",
       "      <th>E</th>\n",
       "      <td>7.34</td>\n",
       "    </tr>\n",
       "    <tr>\n",
       "      <th>E10+</th>\n",
       "      <td>3.17</td>\n",
       "    </tr>\n",
       "    <tr>\n",
       "      <th>undef</th>\n",
       "      <td>0.34</td>\n",
       "    </tr>\n",
       "  </tbody>\n",
       "</table>\n",
       "</div>"
      ],
      "text/plain": [
       "        na_sales\n",
       "rating          \n",
       "M          15.58\n",
       "T           8.62\n",
       "E           7.34\n",
       "E10+        3.17\n",
       "undef       0.34"
      ]
     },
     "execution_count": 67,
     "metadata": {},
     "output_type": "execute_result"
    }
   ],
   "source": [
    "#сгруппируем данные по виду рейтинга и количеству продаж за 2016 г. в Северной Америке и отсортируем по убыванию:\n",
    "top_rating_na = games_2016.groupby('rating').agg(na_sales=('na_sales', 'sum'))\\\n",
    ".sort_values(by='na_sales', ascending=False)\n",
    "\n",
    "top_rating_na.head(6) # выберем жанры с наибольшими суммарными продажами"
   ]
  },
  {
   "cell_type": "markdown",
   "metadata": {},
   "source": [
    "<div class=\"alert alert-block alert-info\">\n",
    "В Северной Америке больше всего игр продано жанра М (Mature - только для взрослых), в 2 раза меньше продано игр для подростков (T - teens) и без возрастных ограничений (E- everyone)."
   ]
  },
  {
   "cell_type": "code",
   "execution_count": 68,
   "metadata": {
    "scrolled": true
   },
   "outputs": [
    {
     "data": {
      "text/html": [
       "<div>\n",
       "<style scoped>\n",
       "    .dataframe tbody tr th:only-of-type {\n",
       "        vertical-align: middle;\n",
       "    }\n",
       "\n",
       "    .dataframe tbody tr th {\n",
       "        vertical-align: top;\n",
       "    }\n",
       "\n",
       "    .dataframe thead th {\n",
       "        text-align: right;\n",
       "    }\n",
       "</style>\n",
       "<table border=\"1\" class=\"dataframe\">\n",
       "  <thead>\n",
       "    <tr style=\"text-align: right;\">\n",
       "      <th></th>\n",
       "      <th>eu_sales</th>\n",
       "    </tr>\n",
       "    <tr>\n",
       "      <th>rating</th>\n",
       "      <th></th>\n",
       "    </tr>\n",
       "  </thead>\n",
       "  <tbody>\n",
       "    <tr>\n",
       "      <th>M</th>\n",
       "      <td>16.48</td>\n",
       "    </tr>\n",
       "    <tr>\n",
       "      <th>E</th>\n",
       "      <td>12.57</td>\n",
       "    </tr>\n",
       "    <tr>\n",
       "      <th>T</th>\n",
       "      <td>9.26</td>\n",
       "    </tr>\n",
       "    <tr>\n",
       "      <th>E10+</th>\n",
       "      <td>2.87</td>\n",
       "    </tr>\n",
       "    <tr>\n",
       "      <th>undef</th>\n",
       "      <td>0.36</td>\n",
       "    </tr>\n",
       "  </tbody>\n",
       "</table>\n",
       "</div>"
      ],
      "text/plain": [
       "        eu_sales\n",
       "rating          \n",
       "M          16.48\n",
       "E          12.57\n",
       "T           9.26\n",
       "E10+        2.87\n",
       "undef       0.36"
      ]
     },
     "execution_count": 68,
     "metadata": {},
     "output_type": "execute_result"
    }
   ],
   "source": [
    "#сгруппируем жанры по виду рейтинга и количеству продаж за 2016 г. в Европе и отсортируем по убыванию:\n",
    "top_rating_eu = games_2016.groupby('rating').agg(eu_sales=('eu_sales', 'sum'))\\\n",
    ".sort_values(by='eu_sales', ascending=False)\n",
    "\n",
    "top_rating_eu.head(6) # выберем жанры с наибольшими суммарными продажами"
   ]
  },
  {
   "cell_type": "markdown",
   "metadata": {},
   "source": [
    "<div class=\"alert alert-block alert-info\">\n",
    "В Европе также больше всего игр продано жанра М (Mature - только для взрослых), чуть меньше без возрастных ограничений (E) и для подростков (T)"
   ]
  },
  {
   "cell_type": "code",
   "execution_count": 69,
   "metadata": {
    "scrolled": true
   },
   "outputs": [
    {
     "data": {
      "text/html": [
       "<div>\n",
       "<style scoped>\n",
       "    .dataframe tbody tr th:only-of-type {\n",
       "        vertical-align: middle;\n",
       "    }\n",
       "\n",
       "    .dataframe tbody tr th {\n",
       "        vertical-align: top;\n",
       "    }\n",
       "\n",
       "    .dataframe thead th {\n",
       "        text-align: right;\n",
       "    }\n",
       "</style>\n",
       "<table border=\"1\" class=\"dataframe\">\n",
       "  <thead>\n",
       "    <tr style=\"text-align: right;\">\n",
       "      <th></th>\n",
       "      <th>jp_sales</th>\n",
       "    </tr>\n",
       "    <tr>\n",
       "      <th>rating</th>\n",
       "      <th></th>\n",
       "    </tr>\n",
       "  </thead>\n",
       "  <tbody>\n",
       "    <tr>\n",
       "      <th>T</th>\n",
       "      <td>1.74</td>\n",
       "    </tr>\n",
       "    <tr>\n",
       "      <th>M</th>\n",
       "      <td>1.19</td>\n",
       "    </tr>\n",
       "    <tr>\n",
       "      <th>E</th>\n",
       "      <td>0.98</td>\n",
       "    </tr>\n",
       "    <tr>\n",
       "      <th>E10+</th>\n",
       "      <td>0.43</td>\n",
       "    </tr>\n",
       "    <tr>\n",
       "      <th>undef</th>\n",
       "      <td>0.06</td>\n",
       "    </tr>\n",
       "  </tbody>\n",
       "</table>\n",
       "</div>"
      ],
      "text/plain": [
       "        jp_sales\n",
       "rating          \n",
       "T           1.74\n",
       "M           1.19\n",
       "E           0.98\n",
       "E10+        0.43\n",
       "undef       0.06"
      ]
     },
     "execution_count": 69,
     "metadata": {},
     "output_type": "execute_result"
    }
   ],
   "source": [
    "#сгруппируем жанры по виду рейтинга и количеству продаж за 2016 г. в Японии и отсортируем по убыванию:\n",
    "top_rating_jp = games_2016.groupby('rating').agg(jp_sales=('jp_sales', 'sum'))\\\n",
    ".sort_values(by='jp_sales', ascending=False)\n",
    "\n",
    "top_rating_jp.head(6) # выберем жанры с наибольшими суммарными продажами"
   ]
  },
  {
   "cell_type": "markdown",
   "metadata": {},
   "source": [
    "<div class=\"alert alert-block alert-info\">\n",
    "В Японии больше всего игр продано в категории \"для подростков\", далее следуют игры для взрослых и без ограничений. На первом месте стоит категория \"undef\", значение, которым мы заполняли пропуски. "
   ]
  },
  {
   "cell_type": "markdown",
   "metadata": {},
   "source": [
    "## Проверка гипотез"
   ]
  },
  {
   "cell_type": "markdown",
   "metadata": {},
   "source": [
    "### Проверка гипотезы \"Средние пользовательские рейтинги платформ Xbox One и PC одинаковые\""
   ]
  },
  {
   "cell_type": "markdown",
   "metadata": {},
   "source": [
    "H_0: Средний user_score платформы Xbox One = Средний user_score платформы PC\n",
    "\n",
    "H_1: Средний user_score платформы Xbox One ≠ Средний user_score платформы PC\n",
    "\n",
    "alpha = 0.05"
   ]
  },
  {
   "cell_type": "code",
   "execution_count": 70,
   "metadata": {},
   "outputs": [],
   "source": [
    "from scipy import stats as st"
   ]
  },
  {
   "cell_type": "code",
   "execution_count": 71,
   "metadata": {
    "scrolled": true
   },
   "outputs": [
    {
     "name": "stdout",
     "output_type": "stream",
     "text": [
      "0.7722377838140815\n",
      "Не получилось отвергнуть нулевую гипотезу\n"
     ]
    }
   ],
   "source": [
    "x_one = games_2016.loc[games_2016['platform'] == 'XOne']['user_score']\n",
    "pc = games_2016.loc[games_2016['platform'] == 'PC']['user_score']\n",
    "results = st.ttest_ind(x_one, pc) #вызов метода для проверки гипотезы\n",
    "\n",
    "alpha = 0.05 #задайте значение уровня значимости\n",
    "\n",
    "print(results.pvalue) # вывод значения p-value на экран \n",
    "# условный оператор с выводом строки с ответом\n",
    "if results.pvalue < alpha:\n",
    "    print(\"Отвергаем нулевую гипотезу\")\n",
    "else:\n",
    "    print(\"Не получилось отвергнуть нулевую гипотезу\")"
   ]
  },
  {
   "cell_type": "code",
   "execution_count": 72,
   "metadata": {},
   "outputs": [
    {
     "name": "stdout",
     "output_type": "stream",
     "text": [
      "Cреднее значение user_score на XOne: 6.405\n",
      "Cреднее значение user_score на PC: 6.2977777\n"
     ]
    }
   ],
   "source": [
    "#для проверки себя вычислим среднее значение пользовательсокого рейтинга по платформам\n",
    "print('Cреднее значение user_score на XOne:', games_2016.loc[games_2016['platform'] == 'XOne']['user_score'].mean())\n",
    "print('Cреднее значение user_score на PC:', games_2016.loc[games_2016['platform'] == 'PC']['user_score'].mean())"
   ]
  },
  {
   "cell_type": "markdown",
   "metadata": {},
   "source": [
    "Средние значения пользовательского рейтинга 4.9 и 5.2 действительно различаются несильно."
   ]
  },
  {
   "cell_type": "markdown",
   "metadata": {},
   "source": [
    "<div class=\"alert alert-block alert-info\">\n",
    "Вывод: полученное значение p-value 59%, на основании чего можно сделать вывод, что в 2016 году пользовальский рейтинг игр на платформах Xbox One и PC одинаковый."
   ]
  },
  {
   "cell_type": "markdown",
   "metadata": {},
   "source": [
    "### Проверка гипотезы \"Средние пользовательские рейтинги жанров Action (англ. «действие», экшен-игры) и Sports (англ. «спортивные соревнования») разные\""
   ]
  },
  {
   "cell_type": "markdown",
   "metadata": {},
   "source": [
    "H_0: Средний user_score жанра Action = Средний user_score жанра Sports\n",
    "\n",
    "H_1: Средний user_score жанра Action ≠ Средний user_score жанра Sports\n",
    "\n",
    "alpha = 0.05"
   ]
  },
  {
   "cell_type": "code",
   "execution_count": 73,
   "metadata": {},
   "outputs": [
    {
     "name": "stdout",
     "output_type": "stream",
     "text": [
      "0.08219230638924843\n",
      "Не получилось отвергнуть нулевую гипотезу\n"
     ]
    }
   ],
   "source": [
    "action = games_2016.loc[games_2016['genre'] == 'Action']['user_score']\n",
    "sports = games_2016.loc[games_2016['genre'] == 'Sports']['user_score']\n",
    "results = st.ttest_ind(action, sports) #вызов метода для проверки гипотезы\n",
    "\n",
    "alpha = 0.05 #задайте значение уровня значимости\n",
    "\n",
    "print(results.pvalue) # вывод значения p-value на экран \n",
    "# условный оператор с выводом строки с ответом\n",
    "if results.pvalue < alpha:\n",
    "    print(\"Отвергаем нулевую гипотезу\")\n",
    "else:\n",
    "    print(\"Не получилось отвергнуть нулевую гипотезу\")"
   ]
  },
  {
   "cell_type": "code",
   "execution_count": 74,
   "metadata": {},
   "outputs": [
    {
     "name": "stdout",
     "output_type": "stream",
     "text": [
      "Cреднее значение user_score для Action: 6.6724634\n",
      "Cреднее значение user_score для Sport: 6.084615\n"
     ]
    }
   ],
   "source": [
    "#для проверки себя вычислим среднее значение пользовательсокого рейтинга для жанров экшен и спорт\n",
    "print('Cреднее значение user_score для Action:', games_2016.loc[games_2016['genre'] == 'Action']['user_score'].mean())\n",
    "print('Cреднее значение user_score для Sport:', games_2016.loc[games_2016['genre'] == 'Sports']['user_score'].mean())"
   ]
  },
  {
   "cell_type": "markdown",
   "metadata": {},
   "source": [
    "Средние значения пользовательского рейтинга 3.1 и 4.1 различаются на единицу."
   ]
  },
  {
   "cell_type": "markdown",
   "metadata": {},
   "source": [
    "<div class=\"alert alert-block alert-info\">\n",
    "Вывод: полученное значение p-value 7.6%, на основании чего можно сделать вывод, что в 2016 году пользовальский рейтинг игр жанра экшен равен пользовальскому рейтингу жанра спорт."
   ]
  },
  {
   "cell_type": "markdown",
   "metadata": {},
   "source": [
    "<div class=\"alert alert-info\"> \n",
    "<b> Так как нам требуется сравнить средние двух генеральных совокупностей (не зависимых друг от друга) между собой, то мы применяем метод для проверки гипотезы о равенстве среднего двух генеральных совокупностей по взятым из них выборкам: scipy.stats.ttest_ind (array1, array2, equal_var), где array1 - это массив данных №1, array2 - массив данных №2. </b>\n"
   ]
  },
  {
   "cell_type": "markdown",
   "metadata": {},
   "source": [
    "# Общий вывод:"
   ]
  },
  {
   "cell_type": "markdown",
   "metadata": {},
   "source": [
    "**В ходе исследования был проанализирован датасет с данными по продажам игр в разные годы на разных платформах. Требовалось выявить определенные тенденции и зависимости, указанные ниже, для того, чтобы запустить успешную рекламную компанию на следующий год.**\n",
    "\n",
    "**Сколько игр выпускалось в разные годы. Важны ли данные за все периоды?**\n",
    "\n",
    "<div class=\"alert alert-block alert-info\">\n",
    "Больше всего игр было выпущено в период с 2005 по 2011 год. Данные за все периоды не нужны, так как менялись игры и версии платформ. Для прогноза на 2017 год будем анализировать данные за 2016. Несмотря на то, что суммарных продаж больше в 2014 и 2015 году, видим, что распределение платформ-лидеров неодинаково в 2014-2015 и 2016 годах. В 2016 наблюдаем 4 лидера примерно на одном уровне. Для анализа на следующий год нам важна актуальная картина, данные 2014 и 2015 годы можно считать уже устаревшими.\n",
    "</div>\n",
    "\n",
    "**Посмотрите, как менялись продажи по платформам. Выберите платформы с наибольшими суммарными продажами и постройте распределение по годам. За какой характерный срок появляются новые и исчезают старые платформы?**\n",
    "\n",
    "<div class=\"alert alert-block alert-info\">\n",
    "Платформы с наибольшими суммарными продажами: PS2, X360, PS3, Wii, DS, PS, PS4, GBA, PSP, 3DS.\n",
    "Характерный срок возникновения-исчезновения игровых платформ равен примерно 10 годам. \n",
    "</div>\n",
    "\n",
    "**Какие платформы лидируют по продажам, растут или падают? Выберите несколько потенциально прибыльных платформ.\n",
    "Постройте график «ящик с усами» по глобальным продажам игр в разбивке по платформам. Опишите результат.**\n",
    "\n",
    "<div class=\"alert alert-block alert-info\">\n",
    "В 2016 году лидируют 4 платформы: PS4, 3DS, XOne, WiiU, причем значения суммарных продаж для них достаточно близки.\n",
    "Суммарные продажи игр  в 2016 г. на платформах:\n",
    "- WiiU  в диапазоне от 0 до 0.4 млн копий;\n",
    "- PS4 в диапазоне от 0 до 0.35 млн копий;\n",
    "- XOne в диапазоне от 0 до 0.3 млн копий;\n",
    "- 3DS в диапазоне от 0 до 0.2 млн копий;\n",
    "</div>\n",
    "\n",
    "**Влияние отзывов пользователей и критиков на продажи внутри одной популярной платформы**\n",
    "\n",
    "<div class=\"alert alert-block alert-info\">\n",
    "Отзывы критиков влияют на уровень продаж, а отзывы пользователей - нет.\n",
    "Так, для отдельно взятой платформы XOne коэффициент корреляции отзывов критиков равен 0.41, а отзывов пользователей 0. \n",
    "</div>\n",
    "\n",
    "**Влияние отзывов пользователей и критиков на продажи игр на других платформах**\n",
    "\n",
    "<div class=\"alert alert-block alert-info\">\n",
    "Отзывы критиков влияют на уровень продаж, а отзывы пользователей - нет.\n",
    "Так, для всех платформ коэффициент корреляции отзывов критиков равен 0.29, а отзывов пользователей 0.\n",
    "</div>\n",
    "\n",
    "**Посмотрите на общее распределение игр по жанрам. Что можно сказать о самых прибыльных жанрах? Выделяются ли жанры с высокими и низкими продажами?**\n",
    "<div class=\"alert alert-block alert-info\">\n",
    "Самые продаваемые жанры - это Shooter, Sports, Role-playing, Fighting.\n",
    "Жанры с более низким уровнем продаж - Racing, Adventure, Misc, Simulation, Strategy, Puzzle\n",
    "</div>\n",
    "\n",
    "\n",
    "**Портрет пользователя каждого региона**\n",
    "Определите для пользователя каждого региона (NA, EU, JP):\n",
    "**Самые популярные платформы (топ-5). Различия в долях продаж.**\n",
    "<div class=\"alert alert-block alert-info\">\n",
    "В Северной Америке лидируют по продажам игры на платформах PS4 и Xbox One, значительно меньше продажи игр на платформах 3DS, WiiU, PC.\n",
    "\n",
    "В Европе однозначным лидером по продаже игр является платформа PS4, в 3 раза меньше продаж на Xbox One.\n",
    "На платформах 3DS, WiiU, PC\tсуммарно продаж игр меньшев 5 раз, чем на PS4\n",
    "\n",
    "В Японии распределение продаж по платформам значительно отличается от Европы и Северной Америки. Здесь лидирует платформа 3DS, 2 и 3 место принадлежит PS4 и PSV соответственно.\n",
    "</div>\n",
    "\n",
    "**Самые популярные жанры (топ-5). Поясните разницу**\n",
    "<div class=\"alert alert-block alert-info\">\n",
    "В Северной Америке самым популярным жанром является shooter (\"стрелялки\"), далее по убыванию следуют экшен, спорт и ролевые игры.\n",
    "\n",
    "В Европе выделяется тройка популярных жанров: \"стрелялки\", спорт и экшен. Ролевые игры и гонки на 4 и 5 месте.\n",
    "\n",
    "В Японии общая картина самых популярных жанров отличается от Европы и Америки, здесь наиболее популярны 2 жанра: экшен и ролевые игры. На 3,4 и 5 местах примерно с одинаковой популярностью находятся приключения, стрелялки и смешанный тип (misc).\n",
    "</div>\n",
    "\n",
    "**Влияет ли рейтинг ESRB на продажи в отдельном регионе?**\n",
    "<div class=\"alert alert-block alert-info\">\n",
    "В Северной Америке больше всего игр продано жанра М (Mature - только для взрослых), в 2 раза меньше продано игр для подростков (T - teens) и без возрастных ограничений (E- everyone).\n",
    "\n",
    "В Европе также больше всего игр продано жанра М (Mature - только для взрослых), чуть меньше без возрастных ограничений (E) и для подростков (T).\n",
    "\n",
    "В Японии больше всего игр продано в категории \"для подростков\", далее следуют игры для взрослых и без ограничений. На первом месте стоит категория \"unknown\", значение, которым мы заполняли пропуски.\n",
    "</div>\n",
    "\n",
    "**Проверка гипотез**\n",
    "\"Средние пользовательские рейтинги платформ Xbox One и PC одинаковые\";\n",
    "\"Средние пользовательские рейтинги жанров Action (англ. «действие», экшен-игры) и Sports (англ. «спортивные соревнования»)\" разные.\n",
    "Задайте самостоятельно пороговое значение alpha.\n",
    "Поясните:\n",
    "Как вы сформулировали нулевую и альтернативную гипотезы;\n",
    "Какой критерий применили для проверки гипотез и почему.\n",
    "<div class=\"alert alert-block alert-info\">\n",
    "Нулевую гипотезу формулировала со знаком =, альтернативную со знаком ≠. alpha задала 5%. Можно было и 1%, но смысла не имеет, так как полученные p-value равны 59 и 7.6, что больше 5.\n",
    "Метод для проверки гипотезы о равенстве среднего двух генеральных совокупностей по взятым из них выборкам: scipy.stats.ttest_ind (array1, array2, equal_var). equal_var = True по умолчанию, т.к. предполагаем, что выборки очень похожи и их дисперсии равны.\n",
    "</div>  \n",
    "\n",
    "**Гипотеза: Средние пользовательские рейтинги платформ Xbox One и PC одинаковые**\n",
    "\n",
    "<div class=\"alert alert-block alert-info\">\n",
    "Вывод: полученное значение p-value 59%, на основании чего можно сделать вывод, что в 2016 году пользовальский рейтинг игр на платформах Xbox One и PC одинаковый.\n",
    "</div> \n",
    "\n",
    "**Гипотеза: Средние пользовательские рейтинги жанров Action (англ. «действие», экшен-игры) и Sports (англ. «спортивные соревнования») разные**\n",
    "\n",
    "<div class=\"alert alert-block alert-info\">\n",
    "Вывод: полученное значение p-value 7.6%, на основании чего можно сделать вывод, что в 2016 году пользовальский рейтинг игр жанра экшен равен пользовальскому рейтингу жанра спорт.   \n",
    "</div> "
   ]
  }
 ],
 "metadata": {
  "ExecuteTimeLog": [
   {
    "duration": 640,
    "start_time": "2023-03-13T07:40:35.791Z"
   },
   {
    "duration": 51,
    "start_time": "2023-03-13T07:40:47.325Z"
   },
   {
    "duration": 66,
    "start_time": "2023-03-13T07:40:54.319Z"
   },
   {
    "duration": 60,
    "start_time": "2023-03-13T07:47:39.468Z"
   },
   {
    "duration": 11,
    "start_time": "2023-03-13T07:48:27.738Z"
   },
   {
    "duration": 10,
    "start_time": "2023-03-13T07:48:45.088Z"
   },
   {
    "duration": 8,
    "start_time": "2023-03-13T07:49:02.230Z"
   },
   {
    "duration": 7,
    "start_time": "2023-03-13T07:50:51.103Z"
   },
   {
    "duration": 15,
    "start_time": "2023-03-13T07:51:01.562Z"
   },
   {
    "duration": 6,
    "start_time": "2023-03-13T07:57:20.954Z"
   },
   {
    "duration": 9,
    "start_time": "2023-03-13T07:57:31.751Z"
   },
   {
    "duration": 7,
    "start_time": "2023-03-13T07:57:37.644Z"
   },
   {
    "duration": 9,
    "start_time": "2023-03-13T07:57:44.445Z"
   },
   {
    "duration": 4,
    "start_time": "2023-03-13T07:57:55.372Z"
   },
   {
    "duration": 7,
    "start_time": "2023-03-13T07:58:01.179Z"
   },
   {
    "duration": 7,
    "start_time": "2023-03-13T08:01:54.911Z"
   },
   {
    "duration": 7,
    "start_time": "2023-03-13T08:02:00.640Z"
   },
   {
    "duration": 5,
    "start_time": "2023-03-13T08:02:03.497Z"
   },
   {
    "duration": 67,
    "start_time": "2023-03-13T08:02:06.837Z"
   },
   {
    "duration": 4,
    "start_time": "2023-03-13T08:02:06.906Z"
   },
   {
    "duration": 21,
    "start_time": "2023-03-13T08:02:06.912Z"
   },
   {
    "duration": 20,
    "start_time": "2023-03-13T08:02:16.903Z"
   },
   {
    "duration": 14,
    "start_time": "2023-03-13T08:08:36.447Z"
   },
   {
    "duration": 332,
    "start_time": "2023-03-13T08:11:35.516Z"
   },
   {
    "duration": 1147,
    "start_time": "2023-03-13T08:16:32.268Z"
   },
   {
    "duration": 1126,
    "start_time": "2023-03-13T08:16:54.470Z"
   },
   {
    "duration": 64,
    "start_time": "2023-03-13T08:16:59.776Z"
   },
   {
    "duration": 19,
    "start_time": "2023-03-13T08:16:59.842Z"
   },
   {
    "duration": 25,
    "start_time": "2023-03-13T08:16:59.863Z"
   },
   {
    "duration": 13,
    "start_time": "2023-03-13T08:16:59.892Z"
   },
   {
    "duration": 13,
    "start_time": "2023-03-13T08:16:59.950Z"
   },
   {
    "duration": 13,
    "start_time": "2023-03-13T08:17:10.708Z"
   },
   {
    "duration": 547,
    "start_time": "2023-03-13T08:21:35.045Z"
   },
   {
    "duration": 13,
    "start_time": "2023-03-13T08:21:35.594Z"
   },
   {
    "duration": 19,
    "start_time": "2023-03-13T08:21:35.608Z"
   },
   {
    "duration": 13,
    "start_time": "2023-03-13T08:21:35.629Z"
   },
   {
    "duration": 42,
    "start_time": "2023-03-13T08:21:35.643Z"
   },
   {
    "duration": 0,
    "start_time": "2023-03-13T08:21:35.687Z"
   },
   {
    "duration": 1129,
    "start_time": "2023-03-13T08:22:48.560Z"
   },
   {
    "duration": 13,
    "start_time": "2023-03-13T08:22:49.690Z"
   },
   {
    "duration": 19,
    "start_time": "2023-03-13T08:22:49.704Z"
   },
   {
    "duration": 13,
    "start_time": "2023-03-13T08:22:49.724Z"
   },
   {
    "duration": 97,
    "start_time": "2023-03-13T08:22:49.738Z"
   },
   {
    "duration": 0,
    "start_time": "2023-03-13T08:22:49.836Z"
   },
   {
    "duration": 59,
    "start_time": "2023-03-13T08:23:02.022Z"
   },
   {
    "duration": 14,
    "start_time": "2023-03-13T08:23:02.083Z"
   },
   {
    "duration": 51,
    "start_time": "2023-03-13T08:23:02.099Z"
   },
   {
    "duration": 69,
    "start_time": "2023-03-13T08:23:02.152Z"
   },
   {
    "duration": 33,
    "start_time": "2023-03-13T08:23:02.223Z"
   },
   {
    "duration": 0,
    "start_time": "2023-03-13T08:23:02.257Z"
   },
   {
    "duration": 12,
    "start_time": "2023-03-13T08:23:42.839Z"
   },
   {
    "duration": 564,
    "start_time": "2023-03-13T08:24:57.137Z"
   },
   {
    "duration": 16,
    "start_time": "2023-03-13T08:28:28.914Z"
   },
   {
    "duration": 15,
    "start_time": "2023-03-13T08:28:29.305Z"
   },
   {
    "duration": 22,
    "start_time": "2023-03-13T10:34:16.926Z"
   },
   {
    "duration": 7,
    "start_time": "2023-03-13T10:35:17.972Z"
   },
   {
    "duration": 14,
    "start_time": "2023-03-13T10:35:33.532Z"
   },
   {
    "duration": 21,
    "start_time": "2023-03-13T10:40:29.728Z"
   },
   {
    "duration": 15,
    "start_time": "2023-03-13T10:41:39.233Z"
   },
   {
    "duration": 13,
    "start_time": "2023-03-13T10:41:46.250Z"
   },
   {
    "duration": 14,
    "start_time": "2023-03-13T10:44:08.311Z"
   },
   {
    "duration": 12,
    "start_time": "2023-03-13T10:44:45.738Z"
   },
   {
    "duration": 6,
    "start_time": "2023-03-13T10:48:11.575Z"
   },
   {
    "duration": 18,
    "start_time": "2023-03-13T10:52:24.330Z"
   },
   {
    "duration": 11,
    "start_time": "2023-03-13T10:55:53.963Z"
   },
   {
    "duration": 8,
    "start_time": "2023-03-13T10:56:09.284Z"
   },
   {
    "duration": 7,
    "start_time": "2023-03-13T11:21:31.372Z"
   },
   {
    "duration": 125,
    "start_time": "2023-03-13T11:22:19.775Z"
   },
   {
    "duration": 11,
    "start_time": "2023-03-13T11:25:53.802Z"
   },
   {
    "duration": 60,
    "start_time": "2023-03-13T11:26:16.255Z"
   },
   {
    "duration": 14,
    "start_time": "2023-03-13T11:26:16.317Z"
   },
   {
    "duration": 14,
    "start_time": "2023-03-13T11:26:16.333Z"
   },
   {
    "duration": 17,
    "start_time": "2023-03-13T11:26:16.350Z"
   },
   {
    "duration": 10,
    "start_time": "2023-03-13T11:26:16.369Z"
   },
   {
    "duration": 0,
    "start_time": "2023-03-13T11:26:16.380Z"
   },
   {
    "duration": 0,
    "start_time": "2023-03-13T11:26:16.381Z"
   },
   {
    "duration": 0,
    "start_time": "2023-03-13T11:26:16.382Z"
   },
   {
    "duration": 0,
    "start_time": "2023-03-13T11:26:16.383Z"
   },
   {
    "duration": 14,
    "start_time": "2023-03-13T11:26:16.698Z"
   },
   {
    "duration": 0,
    "start_time": "2023-03-13T11:26:16.714Z"
   },
   {
    "duration": 0,
    "start_time": "2023-03-13T11:26:16.715Z"
   },
   {
    "duration": 126,
    "start_time": "2023-03-13T11:27:04.508Z"
   },
   {
    "duration": 8,
    "start_time": "2023-03-13T11:27:20.506Z"
   },
   {
    "duration": 6,
    "start_time": "2023-03-13T11:28:12.212Z"
   },
   {
    "duration": 154,
    "start_time": "2023-03-13T11:28:43.657Z"
   },
   {
    "duration": 121,
    "start_time": "2023-03-13T11:29:09.477Z"
   },
   {
    "duration": 49,
    "start_time": "2023-03-13T17:45:39.915Z"
   },
   {
    "duration": 1037,
    "start_time": "2023-03-13T17:45:47.609Z"
   },
   {
    "duration": 17,
    "start_time": "2023-03-13T17:45:48.649Z"
   },
   {
    "duration": 26,
    "start_time": "2023-03-13T17:45:48.669Z"
   },
   {
    "duration": 32,
    "start_time": "2023-03-13T17:45:48.699Z"
   },
   {
    "duration": 13,
    "start_time": "2023-03-13T17:45:48.734Z"
   },
   {
    "duration": 178,
    "start_time": "2023-03-13T17:45:48.749Z"
   },
   {
    "duration": 1283,
    "start_time": "2023-03-13T17:45:48.930Z"
   },
   {
    "duration": 15,
    "start_time": "2023-03-13T17:45:50.215Z"
   },
   {
    "duration": 195,
    "start_time": "2023-03-13T17:45:50.232Z"
   },
   {
    "duration": 83,
    "start_time": "2023-03-13T17:45:50.429Z"
   },
   {
    "duration": 0,
    "start_time": "2023-03-13T17:45:50.514Z"
   },
   {
    "duration": 0,
    "start_time": "2023-03-13T17:45:50.515Z"
   },
   {
    "duration": 15,
    "start_time": "2023-03-13T17:47:05.577Z"
   },
   {
    "duration": 8,
    "start_time": "2023-03-13T17:48:36.338Z"
   },
   {
    "duration": 3,
    "start_time": "2023-03-13T17:48:54.749Z"
   },
   {
    "duration": 123,
    "start_time": "2023-03-13T17:50:30.699Z"
   },
   {
    "duration": 119,
    "start_time": "2023-03-13T17:50:46.025Z"
   },
   {
    "duration": 147,
    "start_time": "2023-03-13T17:51:41.198Z"
   },
   {
    "duration": 3525,
    "start_time": "2023-03-13T17:53:29.234Z"
   },
   {
    "duration": 6,
    "start_time": "2023-03-13T17:56:26.509Z"
   },
   {
    "duration": 73,
    "start_time": "2023-03-13T17:56:34.327Z"
   },
   {
    "duration": 16,
    "start_time": "2023-03-13T17:56:34.404Z"
   },
   {
    "duration": 19,
    "start_time": "2023-03-13T17:56:34.422Z"
   },
   {
    "duration": 29,
    "start_time": "2023-03-13T17:56:34.444Z"
   },
   {
    "duration": 21,
    "start_time": "2023-03-13T17:56:34.478Z"
   },
   {
    "duration": 153,
    "start_time": "2023-03-13T17:56:34.501Z"
   },
   {
    "duration": 661,
    "start_time": "2023-03-13T17:56:34.656Z"
   },
   {
    "duration": 12,
    "start_time": "2023-03-13T17:56:35.319Z"
   },
   {
    "duration": 32,
    "start_time": "2023-03-13T17:56:35.333Z"
   },
   {
    "duration": 144,
    "start_time": "2023-03-13T17:56:35.368Z"
   },
   {
    "duration": 3433,
    "start_time": "2023-03-13T17:56:35.514Z"
   },
   {
    "duration": 2,
    "start_time": "2023-03-13T17:56:38.950Z"
   },
   {
    "duration": 57,
    "start_time": "2023-03-13T17:56:38.954Z"
   },
   {
    "duration": 0,
    "start_time": "2023-03-13T17:56:39.013Z"
   },
   {
    "duration": 0,
    "start_time": "2023-03-13T17:56:39.015Z"
   },
   {
    "duration": 21,
    "start_time": "2023-03-13T17:59:56.491Z"
   },
   {
    "duration": 13,
    "start_time": "2023-03-13T18:08:36.088Z"
   },
   {
    "duration": 19,
    "start_time": "2023-03-13T18:11:37.755Z"
   },
   {
    "duration": 25,
    "start_time": "2023-03-13T18:12:23.947Z"
   },
   {
    "duration": 69,
    "start_time": "2023-03-14T17:10:44.125Z"
   },
   {
    "duration": 956,
    "start_time": "2023-03-14T17:10:49.499Z"
   },
   {
    "duration": 24,
    "start_time": "2023-03-14T17:10:50.462Z"
   },
   {
    "duration": 35,
    "start_time": "2023-03-14T17:10:50.494Z"
   },
   {
    "duration": 2,
    "start_time": "2023-03-14T17:10:50.531Z"
   },
   {
    "duration": 5,
    "start_time": "2023-03-14T17:10:50.535Z"
   },
   {
    "duration": 5,
    "start_time": "2023-03-14T17:10:50.541Z"
   },
   {
    "duration": 29,
    "start_time": "2023-03-14T17:10:50.547Z"
   },
   {
    "duration": 56,
    "start_time": "2023-03-14T17:10:50.577Z"
   },
   {
    "duration": 5,
    "start_time": "2023-03-14T17:10:50.635Z"
   },
   {
    "duration": 1275,
    "start_time": "2023-03-14T17:10:50.641Z"
   },
   {
    "duration": 9,
    "start_time": "2023-03-14T17:10:51.917Z"
   },
   {
    "duration": 18,
    "start_time": "2023-03-14T17:10:51.927Z"
   },
   {
    "duration": 31,
    "start_time": "2023-03-14T17:10:51.946Z"
   },
   {
    "duration": 37,
    "start_time": "2023-03-14T17:10:51.984Z"
   },
   {
    "duration": 6,
    "start_time": "2023-03-14T17:10:52.023Z"
   },
   {
    "duration": 22,
    "start_time": "2023-03-14T17:10:52.030Z"
   },
   {
    "duration": 2,
    "start_time": "2023-03-14T17:10:52.053Z"
   },
   {
    "duration": 62,
    "start_time": "2023-03-14T17:10:52.056Z"
   },
   {
    "duration": 23,
    "start_time": "2023-03-14T17:10:52.120Z"
   },
   {
    "duration": 19,
    "start_time": "2023-03-14T17:10:52.144Z"
   },
   {
    "duration": 31,
    "start_time": "2023-03-14T17:10:52.170Z"
   },
   {
    "duration": 14,
    "start_time": "2023-03-14T17:10:52.203Z"
   },
   {
    "duration": 154,
    "start_time": "2023-03-14T17:10:52.219Z"
   },
   {
    "duration": 163,
    "start_time": "2023-03-14T17:10:52.375Z"
   },
   {
    "duration": 43,
    "start_time": "2023-03-14T17:10:52.539Z"
   },
   {
    "duration": 18,
    "start_time": "2023-03-14T17:10:52.587Z"
   },
   {
    "duration": 22,
    "start_time": "2023-03-14T17:10:52.606Z"
   },
   {
    "duration": 1465,
    "start_time": "2023-03-14T17:10:52.630Z"
   },
   {
    "duration": 3,
    "start_time": "2023-03-14T17:10:54.096Z"
   },
   {
    "duration": 7,
    "start_time": "2023-03-14T17:10:54.101Z"
   },
   {
    "duration": 56,
    "start_time": "2023-03-14T17:26:29.585Z"
   },
   {
    "duration": 1237,
    "start_time": "2023-03-14T17:26:37.849Z"
   },
   {
    "duration": 1500,
    "start_time": "2023-03-14T17:27:01.897Z"
   },
   {
    "duration": 29,
    "start_time": "2023-03-14T17:27:43.782Z"
   },
   {
    "duration": 21,
    "start_time": "2023-03-14T17:27:54.797Z"
   },
   {
    "duration": 1863,
    "start_time": "2023-03-14T17:28:00.343Z"
   },
   {
    "duration": 1808,
    "start_time": "2023-03-14T17:29:05.777Z"
   },
   {
    "duration": 1729,
    "start_time": "2023-03-14T17:30:39.700Z"
   },
   {
    "duration": 21,
    "start_time": "2023-03-14T17:32:10.999Z"
   },
   {
    "duration": 2478,
    "start_time": "2023-03-14T17:32:13.779Z"
   },
   {
    "duration": 2305,
    "start_time": "2023-03-14T17:33:02.040Z"
   },
   {
    "duration": 22,
    "start_time": "2023-03-14T17:35:08.404Z"
   },
   {
    "duration": 1295,
    "start_time": "2023-03-14T17:35:25.351Z"
   },
   {
    "duration": 4,
    "start_time": "2023-03-14T17:38:32.602Z"
   },
   {
    "duration": 4,
    "start_time": "2023-03-14T17:38:35.896Z"
   },
   {
    "duration": 21,
    "start_time": "2023-03-14T17:39:03.249Z"
   },
   {
    "duration": 14,
    "start_time": "2023-03-14T17:39:13.075Z"
   },
   {
    "duration": 13,
    "start_time": "2023-03-14T17:39:32.514Z"
   },
   {
    "duration": 13,
    "start_time": "2023-03-14T17:39:48.000Z"
   },
   {
    "duration": 23,
    "start_time": "2023-03-14T17:39:55.452Z"
   },
   {
    "duration": 5,
    "start_time": "2023-03-14T17:40:35.432Z"
   },
   {
    "duration": 1330,
    "start_time": "2023-03-14T17:41:35.197Z"
   },
   {
    "duration": 4,
    "start_time": "2023-03-14T17:42:33.873Z"
   },
   {
    "duration": 3,
    "start_time": "2023-03-14T17:43:04.590Z"
   },
   {
    "duration": 12,
    "start_time": "2023-03-14T17:43:11.552Z"
   },
   {
    "duration": 7,
    "start_time": "2023-03-14T17:44:02.691Z"
   },
   {
    "duration": 7,
    "start_time": "2023-03-14T17:44:44.123Z"
   },
   {
    "duration": 20,
    "start_time": "2023-03-14T17:45:17.918Z"
   },
   {
    "duration": 7,
    "start_time": "2023-03-14T17:45:34.709Z"
   },
   {
    "duration": 27,
    "start_time": "2023-03-14T17:45:58.168Z"
   },
   {
    "duration": 12,
    "start_time": "2023-03-14T17:46:46.501Z"
   },
   {
    "duration": 6,
    "start_time": "2023-03-14T17:46:51.638Z"
   },
   {
    "duration": 22,
    "start_time": "2023-03-14T17:47:28.292Z"
   },
   {
    "duration": 22,
    "start_time": "2023-03-14T17:50:24.125Z"
   },
   {
    "duration": 13,
    "start_time": "2023-03-14T17:54:39.938Z"
   },
   {
    "duration": 6,
    "start_time": "2023-03-14T17:55:09.620Z"
   },
   {
    "duration": 392,
    "start_time": "2023-03-14T17:56:21.795Z"
   },
   {
    "duration": 372,
    "start_time": "2023-03-14T17:57:27.860Z"
   },
   {
    "duration": 221,
    "start_time": "2023-03-14T17:58:39.824Z"
   },
   {
    "duration": 11,
    "start_time": "2023-03-14T17:59:04.096Z"
   },
   {
    "duration": 99,
    "start_time": "2023-03-14T17:59:08.907Z"
   },
   {
    "duration": 16,
    "start_time": "2023-03-14T17:59:09.009Z"
   },
   {
    "duration": 30,
    "start_time": "2023-03-14T17:59:09.026Z"
   },
   {
    "duration": 5,
    "start_time": "2023-03-14T17:59:09.059Z"
   },
   {
    "duration": 85,
    "start_time": "2023-03-14T17:59:09.069Z"
   },
   {
    "duration": 37,
    "start_time": "2023-03-14T17:59:09.157Z"
   },
   {
    "duration": 17,
    "start_time": "2023-03-14T17:59:09.196Z"
   },
   {
    "duration": 29,
    "start_time": "2023-03-14T17:59:09.216Z"
   },
   {
    "duration": 9,
    "start_time": "2023-03-14T17:59:09.247Z"
   },
   {
    "duration": 687,
    "start_time": "2023-03-14T17:59:09.258Z"
   },
   {
    "duration": 29,
    "start_time": "2023-03-14T17:59:09.947Z"
   },
   {
    "duration": 56,
    "start_time": "2023-03-14T17:59:09.978Z"
   },
   {
    "duration": 52,
    "start_time": "2023-03-14T17:59:10.036Z"
   },
   {
    "duration": 35,
    "start_time": "2023-03-14T17:59:10.091Z"
   },
   {
    "duration": 3,
    "start_time": "2023-03-14T17:59:10.129Z"
   },
   {
    "duration": 46,
    "start_time": "2023-03-14T17:59:10.134Z"
   },
   {
    "duration": 2,
    "start_time": "2023-03-14T17:59:10.183Z"
   },
   {
    "duration": 176,
    "start_time": "2023-03-14T17:59:10.189Z"
   },
   {
    "duration": 26,
    "start_time": "2023-03-14T17:59:10.368Z"
   },
   {
    "duration": 24,
    "start_time": "2023-03-14T17:59:10.396Z"
   },
   {
    "duration": 56,
    "start_time": "2023-03-14T17:59:10.422Z"
   },
   {
    "duration": 13,
    "start_time": "2023-03-14T17:59:10.486Z"
   },
   {
    "duration": 2,
    "start_time": "2023-03-14T17:59:10.501Z"
   },
   {
    "duration": 7,
    "start_time": "2023-03-14T17:59:10.505Z"
   },
   {
    "duration": 131,
    "start_time": "2023-03-14T17:59:10.514Z"
   },
   {
    "duration": 168,
    "start_time": "2023-03-14T17:59:10.646Z"
   },
   {
    "duration": 17,
    "start_time": "2023-03-14T17:59:10.815Z"
   },
   {
    "duration": 43,
    "start_time": "2023-03-14T17:59:10.834Z"
   },
   {
    "duration": 25,
    "start_time": "2023-03-14T17:59:10.878Z"
   },
   {
    "duration": 1191,
    "start_time": "2023-03-14T17:59:10.906Z"
   },
   {
    "duration": 3,
    "start_time": "2023-03-14T17:59:12.099Z"
   },
   {
    "duration": 14,
    "start_time": "2023-03-14T17:59:12.104Z"
   },
   {
    "duration": 7,
    "start_time": "2023-03-14T17:59:12.119Z"
   },
   {
    "duration": 48,
    "start_time": "2023-03-14T17:59:12.128Z"
   },
   {
    "duration": 13,
    "start_time": "2023-03-14T17:59:20.795Z"
   },
   {
    "duration": 6,
    "start_time": "2023-03-14T17:59:25.194Z"
   },
   {
    "duration": 668,
    "start_time": "2023-03-14T17:59:33.183Z"
   },
   {
    "duration": 17,
    "start_time": "2023-03-14T18:00:57.878Z"
   },
   {
    "duration": 1310,
    "start_time": "2023-03-14T18:01:03.195Z"
   },
   {
    "duration": 13,
    "start_time": "2023-03-14T18:01:30.630Z"
   },
   {
    "duration": 7,
    "start_time": "2023-03-14T18:01:33.497Z"
   },
   {
    "duration": 1025,
    "start_time": "2023-03-14T18:01:37.128Z"
   },
   {
    "duration": 17,
    "start_time": "2023-03-14T18:08:35.705Z"
   },
   {
    "duration": 12,
    "start_time": "2023-03-14T18:08:59.879Z"
   },
   {
    "duration": 1058,
    "start_time": "2023-03-14T18:09:09.708Z"
   },
   {
    "duration": 1242,
    "start_time": "2023-03-14T18:09:24.239Z"
   },
   {
    "duration": 5,
    "start_time": "2023-03-14T18:10:02.444Z"
   },
   {
    "duration": 5,
    "start_time": "2023-03-14T18:10:06.027Z"
   },
   {
    "duration": 126,
    "start_time": "2023-03-14T18:10:51.697Z"
   },
   {
    "duration": 17,
    "start_time": "2023-03-14T18:12:34.302Z"
   },
   {
    "duration": 254,
    "start_time": "2023-03-14T18:12:46.490Z"
   },
   {
    "duration": 128,
    "start_time": "2023-03-14T18:15:41.103Z"
   },
   {
    "duration": 318,
    "start_time": "2023-03-14T18:15:55.005Z"
   },
   {
    "duration": 139,
    "start_time": "2023-03-14T18:16:19.587Z"
   },
   {
    "duration": 149,
    "start_time": "2023-03-14T18:16:42.675Z"
   },
   {
    "duration": 179,
    "start_time": "2023-03-14T18:17:12.837Z"
   },
   {
    "duration": 153,
    "start_time": "2023-03-14T18:17:47.336Z"
   },
   {
    "duration": 113,
    "start_time": "2023-03-14T18:18:16.011Z"
   },
   {
    "duration": 115,
    "start_time": "2023-03-14T18:19:02.519Z"
   },
   {
    "duration": 33,
    "start_time": "2023-03-14T18:19:38.185Z"
   },
   {
    "duration": 108,
    "start_time": "2023-03-14T18:20:57.697Z"
   },
   {
    "duration": 111,
    "start_time": "2023-03-14T18:22:07.007Z"
   },
   {
    "duration": 6,
    "start_time": "2023-03-14T18:32:28.859Z"
   },
   {
    "duration": 6,
    "start_time": "2023-03-14T18:32:43.710Z"
   },
   {
    "duration": 7,
    "start_time": "2023-03-14T18:32:45.444Z"
   },
   {
    "duration": 180,
    "start_time": "2023-03-14T18:34:00.675Z"
   },
   {
    "duration": 19,
    "start_time": "2023-03-14T18:34:35.281Z"
   },
   {
    "duration": 171,
    "start_time": "2023-03-14T18:34:43.540Z"
   },
   {
    "duration": 174,
    "start_time": "2023-03-14T18:36:11.728Z"
   },
   {
    "duration": 162,
    "start_time": "2023-03-14T18:36:18.193Z"
   },
   {
    "duration": 184,
    "start_time": "2023-03-14T18:36:38.701Z"
   },
   {
    "duration": 163,
    "start_time": "2023-03-14T18:39:04.750Z"
   },
   {
    "duration": 3,
    "start_time": "2023-03-14T18:39:31.697Z"
   },
   {
    "duration": 524,
    "start_time": "2023-03-14T18:40:17.103Z"
   },
   {
    "duration": 2,
    "start_time": "2023-03-14T18:40:26.998Z"
   },
   {
    "duration": 3,
    "start_time": "2023-03-14T18:40:29.755Z"
   },
   {
    "duration": 527,
    "start_time": "2023-03-14T18:41:24.412Z"
   },
   {
    "duration": 571,
    "start_time": "2023-03-14T18:42:39.954Z"
   },
   {
    "duration": 548,
    "start_time": "2023-03-14T18:42:51.463Z"
   },
   {
    "duration": 556,
    "start_time": "2023-03-14T18:43:22.340Z"
   },
   {
    "duration": 575,
    "start_time": "2023-03-14T18:43:39.702Z"
   },
   {
    "duration": 57,
    "start_time": "2023-03-15T05:36:58.039Z"
   },
   {
    "duration": 1245,
    "start_time": "2023-03-15T05:37:05.818Z"
   },
   {
    "duration": 15,
    "start_time": "2023-03-15T05:37:07.065Z"
   },
   {
    "duration": 29,
    "start_time": "2023-03-15T05:37:07.081Z"
   },
   {
    "duration": 2,
    "start_time": "2023-03-15T05:37:07.112Z"
   },
   {
    "duration": 5,
    "start_time": "2023-03-15T05:37:07.115Z"
   },
   {
    "duration": 3,
    "start_time": "2023-03-15T05:37:07.122Z"
   },
   {
    "duration": 35,
    "start_time": "2023-03-15T05:37:07.126Z"
   },
   {
    "duration": 18,
    "start_time": "2023-03-15T05:37:07.163Z"
   },
   {
    "duration": 5,
    "start_time": "2023-03-15T05:37:07.183Z"
   },
   {
    "duration": 1189,
    "start_time": "2023-03-15T05:37:07.190Z"
   },
   {
    "duration": 10,
    "start_time": "2023-03-15T05:37:08.381Z"
   },
   {
    "duration": 16,
    "start_time": "2023-03-15T05:37:08.393Z"
   },
   {
    "duration": 8,
    "start_time": "2023-03-15T05:37:08.410Z"
   },
   {
    "duration": 45,
    "start_time": "2023-03-15T05:37:08.420Z"
   },
   {
    "duration": 2,
    "start_time": "2023-03-15T05:37:08.467Z"
   },
   {
    "duration": 25,
    "start_time": "2023-03-15T05:37:08.471Z"
   },
   {
    "duration": 4,
    "start_time": "2023-03-15T05:37:08.498Z"
   },
   {
    "duration": 51,
    "start_time": "2023-03-15T05:37:08.503Z"
   },
   {
    "duration": 24,
    "start_time": "2023-03-15T05:37:08.556Z"
   },
   {
    "duration": 23,
    "start_time": "2023-03-15T05:37:08.582Z"
   },
   {
    "duration": 22,
    "start_time": "2023-03-15T05:37:08.606Z"
   },
   {
    "duration": 14,
    "start_time": "2023-03-15T05:37:08.652Z"
   },
   {
    "duration": 2,
    "start_time": "2023-03-15T05:37:08.667Z"
   },
   {
    "duration": 5,
    "start_time": "2023-03-15T05:37:08.671Z"
   },
   {
    "duration": 146,
    "start_time": "2023-03-15T05:37:08.678Z"
   },
   {
    "duration": 161,
    "start_time": "2023-03-15T05:37:08.826Z"
   },
   {
    "duration": 18,
    "start_time": "2023-03-15T05:37:08.989Z"
   },
   {
    "duration": 17,
    "start_time": "2023-03-15T05:37:09.010Z"
   },
   {
    "duration": 47,
    "start_time": "2023-03-15T05:37:09.029Z"
   },
   {
    "duration": 1114,
    "start_time": "2023-03-15T05:37:09.078Z"
   },
   {
    "duration": 5,
    "start_time": "2023-03-15T05:37:10.194Z"
   },
   {
    "duration": 19,
    "start_time": "2023-03-15T05:37:10.200Z"
   },
   {
    "duration": 8,
    "start_time": "2023-03-15T05:37:10.221Z"
   },
   {
    "duration": 905,
    "start_time": "2023-03-15T05:37:10.232Z"
   },
   {
    "duration": 130,
    "start_time": "2023-03-15T05:37:11.139Z"
   },
   {
    "duration": 205,
    "start_time": "2023-03-15T05:37:11.271Z"
   },
   {
    "duration": 124,
    "start_time": "2023-03-15T05:37:11.478Z"
   },
   {
    "duration": 108,
    "start_time": "2023-03-15T05:37:11.604Z"
   },
   {
    "duration": 7,
    "start_time": "2023-03-15T05:37:11.713Z"
   },
   {
    "duration": 157,
    "start_time": "2023-03-15T05:37:11.721Z"
   },
   {
    "duration": 177,
    "start_time": "2023-03-15T05:37:11.880Z"
   },
   {
    "duration": 6,
    "start_time": "2023-03-15T05:37:12.059Z"
   },
   {
    "duration": 7,
    "start_time": "2023-03-15T05:37:12.067Z"
   },
   {
    "duration": 5,
    "start_time": "2023-03-15T05:37:12.076Z"
   },
   {
    "duration": 7,
    "start_time": "2023-03-15T05:37:12.082Z"
   },
   {
    "duration": 475,
    "start_time": "2023-03-15T05:37:12.091Z"
   },
   {
    "duration": 4,
    "start_time": "2023-03-15T05:49:04.696Z"
   },
   {
    "duration": 5,
    "start_time": "2023-03-15T05:50:55.866Z"
   },
   {
    "duration": 8,
    "start_time": "2023-03-15T05:51:17.777Z"
   },
   {
    "duration": 10,
    "start_time": "2023-03-15T05:52:00.197Z"
   },
   {
    "duration": 13,
    "start_time": "2023-03-15T05:53:17.440Z"
   },
   {
    "duration": 6,
    "start_time": "2023-03-15T05:53:27.030Z"
   },
   {
    "duration": 29,
    "start_time": "2023-03-15T05:53:39.293Z"
   },
   {
    "duration": 61,
    "start_time": "2023-03-15T05:53:41.339Z"
   },
   {
    "duration": 18,
    "start_time": "2023-03-15T05:53:41.402Z"
   },
   {
    "duration": 47,
    "start_time": "2023-03-15T05:53:41.422Z"
   },
   {
    "duration": 2,
    "start_time": "2023-03-15T05:53:41.471Z"
   },
   {
    "duration": 6,
    "start_time": "2023-03-15T05:53:41.475Z"
   },
   {
    "duration": 4,
    "start_time": "2023-03-15T05:53:41.483Z"
   },
   {
    "duration": 20,
    "start_time": "2023-03-15T05:53:41.489Z"
   },
   {
    "duration": 20,
    "start_time": "2023-03-15T05:53:41.511Z"
   },
   {
    "duration": 29,
    "start_time": "2023-03-15T05:53:41.533Z"
   },
   {
    "duration": 637,
    "start_time": "2023-03-15T05:53:41.566Z"
   },
   {
    "duration": 10,
    "start_time": "2023-03-15T05:53:42.205Z"
   },
   {
    "duration": 17,
    "start_time": "2023-03-15T05:53:42.216Z"
   },
   {
    "duration": 8,
    "start_time": "2023-03-15T05:53:42.253Z"
   },
   {
    "duration": 22,
    "start_time": "2023-03-15T05:53:42.263Z"
   },
   {
    "duration": 4,
    "start_time": "2023-03-15T05:53:42.287Z"
   },
   {
    "duration": 58,
    "start_time": "2023-03-15T05:53:42.293Z"
   },
   {
    "duration": 3,
    "start_time": "2023-03-15T05:53:42.353Z"
   },
   {
    "duration": 22,
    "start_time": "2023-03-15T05:53:42.357Z"
   },
   {
    "duration": 4,
    "start_time": "2023-03-15T05:53:42.380Z"
   },
   {
    "duration": 13,
    "start_time": "2023-03-15T05:53:42.386Z"
   },
   {
    "duration": 16,
    "start_time": "2023-03-15T05:53:42.401Z"
   },
   {
    "duration": 33,
    "start_time": "2023-03-15T05:53:42.420Z"
   },
   {
    "duration": 23,
    "start_time": "2023-03-15T05:53:42.455Z"
   },
   {
    "duration": 10,
    "start_time": "2023-03-15T05:53:42.479Z"
   },
   {
    "duration": 19,
    "start_time": "2023-03-15T05:53:42.492Z"
   },
   {
    "duration": 40,
    "start_time": "2023-03-15T05:53:42.513Z"
   },
   {
    "duration": 2,
    "start_time": "2023-03-15T05:53:42.555Z"
   },
   {
    "duration": 7,
    "start_time": "2023-03-15T05:53:42.559Z"
   },
   {
    "duration": 144,
    "start_time": "2023-03-15T05:53:42.569Z"
   },
   {
    "duration": 157,
    "start_time": "2023-03-15T05:53:42.716Z"
   },
   {
    "duration": 18,
    "start_time": "2023-03-15T05:53:42.875Z"
   },
   {
    "duration": 19,
    "start_time": "2023-03-15T05:53:42.895Z"
   },
   {
    "duration": 43,
    "start_time": "2023-03-15T05:53:42.916Z"
   },
   {
    "duration": 1292,
    "start_time": "2023-03-15T05:53:42.961Z"
   },
   {
    "duration": 2,
    "start_time": "2023-03-15T05:53:44.255Z"
   },
   {
    "duration": 15,
    "start_time": "2023-03-15T05:53:44.259Z"
   },
   {
    "duration": 6,
    "start_time": "2023-03-15T05:53:44.276Z"
   },
   {
    "duration": 871,
    "start_time": "2023-03-15T05:53:44.284Z"
   },
   {
    "duration": 126,
    "start_time": "2023-03-15T05:53:45.157Z"
   },
   {
    "duration": 120,
    "start_time": "2023-03-15T05:53:45.285Z"
   },
   {
    "duration": 126,
    "start_time": "2023-03-15T05:53:45.407Z"
   },
   {
    "duration": 159,
    "start_time": "2023-03-15T05:53:45.535Z"
   },
   {
    "duration": 5,
    "start_time": "2023-03-15T05:53:45.696Z"
   },
   {
    "duration": 156,
    "start_time": "2023-03-15T05:53:45.703Z"
   },
   {
    "duration": 165,
    "start_time": "2023-03-15T05:53:45.861Z"
   },
   {
    "duration": 6,
    "start_time": "2023-03-15T05:53:46.028Z"
   },
   {
    "duration": 17,
    "start_time": "2023-03-15T05:53:46.036Z"
   },
   {
    "duration": 8,
    "start_time": "2023-03-15T05:53:46.056Z"
   },
   {
    "duration": 8,
    "start_time": "2023-03-15T05:53:46.066Z"
   },
   {
    "duration": 473,
    "start_time": "2023-03-15T05:53:46.076Z"
   },
   {
    "duration": 6,
    "start_time": "2023-03-15T05:54:18.529Z"
   },
   {
    "duration": 4,
    "start_time": "2023-03-15T05:54:21.465Z"
   },
   {
    "duration": 11,
    "start_time": "2023-03-15T05:55:23.240Z"
   },
   {
    "duration": 10,
    "start_time": "2023-03-15T05:55:33.105Z"
   },
   {
    "duration": 11,
    "start_time": "2023-03-15T05:55:46.049Z"
   },
   {
    "duration": 10,
    "start_time": "2023-03-15T05:55:49.144Z"
   },
   {
    "duration": 12,
    "start_time": "2023-03-15T05:55:57.446Z"
   },
   {
    "duration": 11,
    "start_time": "2023-03-15T05:57:03.214Z"
   },
   {
    "duration": 667,
    "start_time": "2023-03-15T05:57:35.098Z"
   },
   {
    "duration": 15,
    "start_time": "2023-03-15T05:57:35.767Z"
   },
   {
    "duration": 30,
    "start_time": "2023-03-15T05:57:35.784Z"
   },
   {
    "duration": 3,
    "start_time": "2023-03-15T05:57:35.816Z"
   },
   {
    "duration": 4,
    "start_time": "2023-03-15T05:57:35.823Z"
   },
   {
    "duration": 4,
    "start_time": "2023-03-15T05:57:35.852Z"
   },
   {
    "duration": 22,
    "start_time": "2023-03-15T05:57:35.857Z"
   },
   {
    "duration": 26,
    "start_time": "2023-03-15T05:57:35.881Z"
   },
   {
    "duration": 7,
    "start_time": "2023-03-15T05:57:35.909Z"
   },
   {
    "duration": 1183,
    "start_time": "2023-03-15T05:57:35.919Z"
   },
   {
    "duration": 10,
    "start_time": "2023-03-15T05:57:37.104Z"
   },
   {
    "duration": 19,
    "start_time": "2023-03-15T05:57:37.116Z"
   },
   {
    "duration": 10,
    "start_time": "2023-03-15T05:57:37.153Z"
   },
   {
    "duration": 28,
    "start_time": "2023-03-15T05:57:37.169Z"
   },
   {
    "duration": 4,
    "start_time": "2023-03-15T05:57:37.199Z"
   },
   {
    "duration": 50,
    "start_time": "2023-03-15T05:57:37.205Z"
   },
   {
    "duration": 5,
    "start_time": "2023-03-15T05:57:37.258Z"
   },
   {
    "duration": 33,
    "start_time": "2023-03-15T05:57:37.265Z"
   },
   {
    "duration": 5,
    "start_time": "2023-03-15T05:57:37.300Z"
   },
   {
    "duration": 8,
    "start_time": "2023-03-15T05:57:37.307Z"
   },
   {
    "duration": 55,
    "start_time": "2023-03-15T05:57:37.317Z"
   },
   {
    "duration": 6,
    "start_time": "2023-03-15T05:57:37.374Z"
   },
   {
    "duration": 27,
    "start_time": "2023-03-15T05:57:37.381Z"
   },
   {
    "duration": 12,
    "start_time": "2023-03-15T05:57:37.410Z"
   },
   {
    "duration": 44,
    "start_time": "2023-03-15T05:57:37.424Z"
   },
   {
    "duration": 4,
    "start_time": "2023-03-15T05:57:37.470Z"
   },
   {
    "duration": 4,
    "start_time": "2023-03-15T05:57:37.476Z"
   },
   {
    "duration": 171,
    "start_time": "2023-03-15T05:57:37.482Z"
   },
   {
    "duration": 182,
    "start_time": "2023-03-15T05:57:37.655Z"
   },
   {
    "duration": 29,
    "start_time": "2023-03-15T05:57:37.839Z"
   },
   {
    "duration": 20,
    "start_time": "2023-03-15T05:57:37.871Z"
   },
   {
    "duration": 27,
    "start_time": "2023-03-15T05:57:37.892Z"
   },
   {
    "duration": 1199,
    "start_time": "2023-03-15T05:57:37.920Z"
   },
   {
    "duration": 3,
    "start_time": "2023-03-15T05:57:39.120Z"
   },
   {
    "duration": 29,
    "start_time": "2023-03-15T05:57:39.125Z"
   },
   {
    "duration": 8,
    "start_time": "2023-03-15T05:57:39.156Z"
   },
   {
    "duration": 923,
    "start_time": "2023-03-15T05:57:39.166Z"
   },
   {
    "duration": 166,
    "start_time": "2023-03-15T05:57:40.091Z"
   },
   {
    "duration": 221,
    "start_time": "2023-03-15T05:57:40.259Z"
   },
   {
    "duration": 161,
    "start_time": "2023-03-15T05:57:40.482Z"
   },
   {
    "duration": 127,
    "start_time": "2023-03-15T05:57:40.654Z"
   },
   {
    "duration": 6,
    "start_time": "2023-03-15T05:57:40.783Z"
   },
   {
    "duration": 170,
    "start_time": "2023-03-15T05:57:40.792Z"
   },
   {
    "duration": 185,
    "start_time": "2023-03-15T05:57:40.963Z"
   },
   {
    "duration": 6,
    "start_time": "2023-03-15T05:57:41.150Z"
   },
   {
    "duration": 4,
    "start_time": "2023-03-15T05:57:41.158Z"
   },
   {
    "duration": 4,
    "start_time": "2023-03-15T05:57:41.163Z"
   },
   {
    "duration": 3,
    "start_time": "2023-03-15T05:57:41.169Z"
   },
   {
    "duration": 486,
    "start_time": "2023-03-15T05:57:41.174Z"
   },
   {
    "duration": 9,
    "start_time": "2023-03-15T06:00:48.009Z"
   },
   {
    "duration": 10,
    "start_time": "2023-03-15T06:00:54.118Z"
   },
   {
    "duration": 9,
    "start_time": "2023-03-15T06:01:02.771Z"
   },
   {
    "duration": 62,
    "start_time": "2023-03-15T06:01:12.613Z"
   },
   {
    "duration": 15,
    "start_time": "2023-03-15T06:01:12.677Z"
   },
   {
    "duration": 31,
    "start_time": "2023-03-15T06:01:12.694Z"
   },
   {
    "duration": 37,
    "start_time": "2023-03-15T06:01:12.728Z"
   },
   {
    "duration": 18,
    "start_time": "2023-03-15T06:01:12.767Z"
   },
   {
    "duration": 681,
    "start_time": "2023-03-15T06:01:12.787Z"
   },
   {
    "duration": 13,
    "start_time": "2023-03-15T06:01:13.471Z"
   },
   {
    "duration": 23,
    "start_time": "2023-03-15T06:01:13.486Z"
   },
   {
    "duration": 11,
    "start_time": "2023-03-15T06:01:13.511Z"
   },
   {
    "duration": 58,
    "start_time": "2023-03-15T06:01:13.524Z"
   },
   {
    "duration": 6,
    "start_time": "2023-03-15T06:01:13.584Z"
   },
   {
    "duration": 47,
    "start_time": "2023-03-15T06:01:13.592Z"
   },
   {
    "duration": 5,
    "start_time": "2023-03-15T06:01:13.641Z"
   },
   {
    "duration": 30,
    "start_time": "2023-03-15T06:01:13.653Z"
   },
   {
    "duration": 5,
    "start_time": "2023-03-15T06:01:13.687Z"
   },
   {
    "duration": 30,
    "start_time": "2023-03-15T06:01:13.693Z"
   },
   {
    "duration": 35,
    "start_time": "2023-03-15T06:01:13.724Z"
   },
   {
    "duration": 5,
    "start_time": "2023-03-15T06:01:13.761Z"
   },
   {
    "duration": 26,
    "start_time": "2023-03-15T06:01:13.768Z"
   },
   {
    "duration": 9,
    "start_time": "2023-03-15T06:01:13.796Z"
   },
   {
    "duration": 38,
    "start_time": "2023-03-15T06:01:13.807Z"
   },
   {
    "duration": 9,
    "start_time": "2023-03-15T06:01:13.847Z"
   },
   {
    "duration": 20,
    "start_time": "2023-03-15T06:01:13.858Z"
   },
   {
    "duration": 183,
    "start_time": "2023-03-15T06:01:13.880Z"
   },
   {
    "duration": 212,
    "start_time": "2023-03-15T06:01:14.067Z"
   },
   {
    "duration": 18,
    "start_time": "2023-03-15T06:01:14.280Z"
   },
   {
    "duration": 20,
    "start_time": "2023-03-15T06:01:14.300Z"
   },
   {
    "duration": 50,
    "start_time": "2023-03-15T06:01:14.323Z"
   },
   {
    "duration": 1113,
    "start_time": "2023-03-15T06:01:14.376Z"
   },
   {
    "duration": 3,
    "start_time": "2023-03-15T06:01:15.491Z"
   },
   {
    "duration": 22,
    "start_time": "2023-03-15T06:01:15.496Z"
   },
   {
    "duration": 6,
    "start_time": "2023-03-15T06:01:15.520Z"
   },
   {
    "duration": 1022,
    "start_time": "2023-03-15T06:01:15.528Z"
   },
   {
    "duration": 127,
    "start_time": "2023-03-15T06:01:16.553Z"
   },
   {
    "duration": 123,
    "start_time": "2023-03-15T06:01:16.682Z"
   },
   {
    "duration": 114,
    "start_time": "2023-03-15T06:01:16.807Z"
   },
   {
    "duration": 136,
    "start_time": "2023-03-15T06:01:16.923Z"
   },
   {
    "duration": 7,
    "start_time": "2023-03-15T06:01:17.061Z"
   },
   {
    "duration": 162,
    "start_time": "2023-03-15T06:01:17.072Z"
   },
   {
    "duration": 176,
    "start_time": "2023-03-15T06:01:17.235Z"
   },
   {
    "duration": 9,
    "start_time": "2023-03-15T06:01:17.413Z"
   },
   {
    "duration": 5,
    "start_time": "2023-03-15T06:01:17.424Z"
   },
   {
    "duration": 22,
    "start_time": "2023-03-15T06:01:17.431Z"
   },
   {
    "duration": 6,
    "start_time": "2023-03-15T06:01:17.455Z"
   },
   {
    "duration": 518,
    "start_time": "2023-03-15T06:01:17.463Z"
   },
   {
    "duration": 61,
    "start_time": "2023-03-15T06:02:07.803Z"
   },
   {
    "duration": 1283,
    "start_time": "2023-03-15T06:10:07.243Z"
   },
   {
    "duration": 66,
    "start_time": "2023-03-15T06:10:17.562Z"
   },
   {
    "duration": 16,
    "start_time": "2023-03-15T06:10:17.630Z"
   },
   {
    "duration": 34,
    "start_time": "2023-03-15T06:10:17.648Z"
   },
   {
    "duration": 16,
    "start_time": "2023-03-15T06:10:17.685Z"
   },
   {
    "duration": 19,
    "start_time": "2023-03-15T06:10:17.703Z"
   },
   {
    "duration": 712,
    "start_time": "2023-03-15T06:10:17.756Z"
   },
   {
    "duration": 10,
    "start_time": "2023-03-15T06:10:18.470Z"
   },
   {
    "duration": 14,
    "start_time": "2023-03-15T06:10:18.482Z"
   },
   {
    "duration": 7,
    "start_time": "2023-03-15T06:10:18.498Z"
   },
   {
    "duration": 38,
    "start_time": "2023-03-15T06:10:18.530Z"
   },
   {
    "duration": 5,
    "start_time": "2023-03-15T06:10:18.570Z"
   },
   {
    "duration": 35,
    "start_time": "2023-03-15T06:10:18.577Z"
   },
   {
    "duration": 5,
    "start_time": "2023-03-15T06:10:18.613Z"
   },
   {
    "duration": 55,
    "start_time": "2023-03-15T06:10:18.619Z"
   },
   {
    "duration": 6,
    "start_time": "2023-03-15T06:10:18.676Z"
   },
   {
    "duration": 7,
    "start_time": "2023-03-15T06:10:18.685Z"
   },
   {
    "duration": 32,
    "start_time": "2023-03-15T06:10:18.694Z"
   },
   {
    "duration": 17,
    "start_time": "2023-03-15T06:10:18.753Z"
   },
   {
    "duration": 7,
    "start_time": "2023-03-15T06:10:18.773Z"
   },
   {
    "duration": 34,
    "start_time": "2023-03-15T06:10:18.783Z"
   },
   {
    "duration": 47,
    "start_time": "2023-03-15T06:10:18.819Z"
   },
   {
    "duration": 3,
    "start_time": "2023-03-15T06:10:18.868Z"
   },
   {
    "duration": 11,
    "start_time": "2023-03-15T06:10:18.873Z"
   },
   {
    "duration": 142,
    "start_time": "2023-03-15T06:10:18.885Z"
   },
   {
    "duration": 182,
    "start_time": "2023-03-15T06:10:19.028Z"
   },
   {
    "duration": 20,
    "start_time": "2023-03-15T06:10:19.212Z"
   },
   {
    "duration": 29,
    "start_time": "2023-03-15T06:10:19.234Z"
   },
   {
    "duration": 23,
    "start_time": "2023-03-15T06:10:19.267Z"
   },
   {
    "duration": 1225,
    "start_time": "2023-03-15T06:10:19.292Z"
   },
   {
    "duration": 3,
    "start_time": "2023-03-15T06:10:20.519Z"
   },
   {
    "duration": 29,
    "start_time": "2023-03-15T06:10:20.524Z"
   },
   {
    "duration": 10,
    "start_time": "2023-03-15T06:10:20.556Z"
   },
   {
    "duration": 913,
    "start_time": "2023-03-15T06:10:20.567Z"
   },
   {
    "duration": 127,
    "start_time": "2023-03-15T06:10:21.482Z"
   },
   {
    "duration": 120,
    "start_time": "2023-03-15T06:10:21.611Z"
   },
   {
    "duration": 122,
    "start_time": "2023-03-15T06:10:21.733Z"
   },
   {
    "duration": 131,
    "start_time": "2023-03-15T06:10:21.857Z"
   },
   {
    "duration": 6,
    "start_time": "2023-03-15T06:10:21.990Z"
   },
   {
    "duration": 163,
    "start_time": "2023-03-15T06:10:21.998Z"
   },
   {
    "duration": 199,
    "start_time": "2023-03-15T06:10:22.163Z"
   },
   {
    "duration": 6,
    "start_time": "2023-03-15T06:10:22.364Z"
   },
   {
    "duration": 3,
    "start_time": "2023-03-15T06:10:22.372Z"
   },
   {
    "duration": 4,
    "start_time": "2023-03-15T06:10:22.376Z"
   },
   {
    "duration": 10,
    "start_time": "2023-03-15T06:10:22.381Z"
   },
   {
    "duration": 492,
    "start_time": "2023-03-15T06:10:22.392Z"
   },
   {
    "duration": 15,
    "start_time": "2023-03-15T06:11:11.104Z"
   },
   {
    "duration": 7,
    "start_time": "2023-03-15T06:11:20.510Z"
   },
   {
    "duration": 5,
    "start_time": "2023-03-15T06:11:45.837Z"
   },
   {
    "duration": 7,
    "start_time": "2023-03-15T06:14:33.844Z"
   },
   {
    "duration": 7,
    "start_time": "2023-03-15T06:16:36.149Z"
   },
   {
    "duration": 15,
    "start_time": "2023-03-15T06:18:07.715Z"
   },
   {
    "duration": 8,
    "start_time": "2023-03-15T06:18:58.745Z"
   },
   {
    "duration": 23,
    "start_time": "2023-03-15T06:20:14.157Z"
   },
   {
    "duration": 23,
    "start_time": "2023-03-15T06:20:37.574Z"
   },
   {
    "duration": 7,
    "start_time": "2023-03-15T06:21:04.896Z"
   },
   {
    "duration": 9,
    "start_time": "2023-03-15T06:22:31.393Z"
   },
   {
    "duration": 8,
    "start_time": "2023-03-15T06:22:39.395Z"
   },
   {
    "duration": 83,
    "start_time": "2023-03-15T06:23:07.660Z"
   },
   {
    "duration": 15,
    "start_time": "2023-03-15T06:23:07.747Z"
   },
   {
    "duration": 41,
    "start_time": "2023-03-15T06:23:07.763Z"
   },
   {
    "duration": 17,
    "start_time": "2023-03-15T06:23:07.806Z"
   },
   {
    "duration": 40,
    "start_time": "2023-03-15T06:23:07.826Z"
   },
   {
    "duration": 687,
    "start_time": "2023-03-15T06:23:07.868Z"
   },
   {
    "duration": 11,
    "start_time": "2023-03-15T06:23:08.556Z"
   },
   {
    "duration": 17,
    "start_time": "2023-03-15T06:23:08.569Z"
   },
   {
    "duration": 9,
    "start_time": "2023-03-15T06:23:08.589Z"
   },
   {
    "duration": 70,
    "start_time": "2023-03-15T06:23:08.600Z"
   },
   {
    "duration": 6,
    "start_time": "2023-03-15T06:23:08.672Z"
   },
   {
    "duration": 37,
    "start_time": "2023-03-15T06:23:08.681Z"
   },
   {
    "duration": 5,
    "start_time": "2023-03-15T06:23:08.719Z"
   },
   {
    "duration": 55,
    "start_time": "2023-03-15T06:23:08.726Z"
   },
   {
    "duration": 4,
    "start_time": "2023-03-15T06:23:08.784Z"
   },
   {
    "duration": 11,
    "start_time": "2023-03-15T06:23:08.790Z"
   },
   {
    "duration": 55,
    "start_time": "2023-03-15T06:23:08.803Z"
   },
   {
    "duration": 15,
    "start_time": "2023-03-15T06:23:08.860Z"
   },
   {
    "duration": 6,
    "start_time": "2023-03-15T06:23:08.877Z"
   },
   {
    "duration": 37,
    "start_time": "2023-03-15T06:23:08.886Z"
   },
   {
    "duration": 5,
    "start_time": "2023-03-15T06:23:08.924Z"
   },
   {
    "duration": 29,
    "start_time": "2023-03-15T06:23:08.931Z"
   },
   {
    "duration": 17,
    "start_time": "2023-03-15T06:23:08.961Z"
   },
   {
    "duration": 22,
    "start_time": "2023-03-15T06:23:08.979Z"
   },
   {
    "duration": 0,
    "start_time": "2023-03-15T06:23:09.004Z"
   },
   {
    "duration": 0,
    "start_time": "2023-03-15T06:23:09.006Z"
   },
   {
    "duration": 0,
    "start_time": "2023-03-15T06:23:09.008Z"
   },
   {
    "duration": 0,
    "start_time": "2023-03-15T06:23:09.010Z"
   },
   {
    "duration": 0,
    "start_time": "2023-03-15T06:23:09.011Z"
   },
   {
    "duration": 0,
    "start_time": "2023-03-15T06:23:09.013Z"
   },
   {
    "duration": 0,
    "start_time": "2023-03-15T06:23:09.054Z"
   },
   {
    "duration": 0,
    "start_time": "2023-03-15T06:23:09.056Z"
   },
   {
    "duration": 0,
    "start_time": "2023-03-15T06:23:09.057Z"
   },
   {
    "duration": 0,
    "start_time": "2023-03-15T06:23:09.058Z"
   },
   {
    "duration": 0,
    "start_time": "2023-03-15T06:23:09.059Z"
   },
   {
    "duration": 0,
    "start_time": "2023-03-15T06:23:09.061Z"
   },
   {
    "duration": 0,
    "start_time": "2023-03-15T06:23:09.062Z"
   },
   {
    "duration": 0,
    "start_time": "2023-03-15T06:23:09.064Z"
   },
   {
    "duration": 0,
    "start_time": "2023-03-15T06:23:09.066Z"
   },
   {
    "duration": 0,
    "start_time": "2023-03-15T06:23:09.070Z"
   },
   {
    "duration": 0,
    "start_time": "2023-03-15T06:23:09.072Z"
   },
   {
    "duration": 0,
    "start_time": "2023-03-15T06:23:09.073Z"
   },
   {
    "duration": 0,
    "start_time": "2023-03-15T06:23:09.074Z"
   },
   {
    "duration": 0,
    "start_time": "2023-03-15T06:23:09.075Z"
   },
   {
    "duration": 0,
    "start_time": "2023-03-15T06:23:09.079Z"
   },
   {
    "duration": 0,
    "start_time": "2023-03-15T06:23:09.082Z"
   },
   {
    "duration": 0,
    "start_time": "2023-03-15T06:23:09.083Z"
   },
   {
    "duration": 0,
    "start_time": "2023-03-15T06:23:09.085Z"
   },
   {
    "duration": 17,
    "start_time": "2023-03-15T06:23:47.043Z"
   },
   {
    "duration": 16,
    "start_time": "2023-03-15T06:23:53.533Z"
   },
   {
    "duration": 76,
    "start_time": "2023-03-15T06:24:14.215Z"
   },
   {
    "duration": 19,
    "start_time": "2023-03-15T06:24:14.294Z"
   },
   {
    "duration": 51,
    "start_time": "2023-03-15T06:24:14.315Z"
   },
   {
    "duration": 16,
    "start_time": "2023-03-15T06:24:14.368Z"
   },
   {
    "duration": 26,
    "start_time": "2023-03-15T06:24:14.386Z"
   },
   {
    "duration": 624,
    "start_time": "2023-03-15T06:24:14.414Z"
   },
   {
    "duration": 18,
    "start_time": "2023-03-15T06:24:15.039Z"
   },
   {
    "duration": 15,
    "start_time": "2023-03-15T06:24:15.059Z"
   },
   {
    "duration": 9,
    "start_time": "2023-03-15T06:24:15.076Z"
   },
   {
    "duration": 32,
    "start_time": "2023-03-15T06:24:15.088Z"
   },
   {
    "duration": 5,
    "start_time": "2023-03-15T06:24:15.122Z"
   },
   {
    "duration": 34,
    "start_time": "2023-03-15T06:24:15.154Z"
   },
   {
    "duration": 4,
    "start_time": "2023-03-15T06:24:15.190Z"
   },
   {
    "duration": 23,
    "start_time": "2023-03-15T06:24:15.196Z"
   },
   {
    "duration": 5,
    "start_time": "2023-03-15T06:24:15.221Z"
   },
   {
    "duration": 13,
    "start_time": "2023-03-15T06:24:15.254Z"
   },
   {
    "duration": 41,
    "start_time": "2023-03-15T06:24:15.269Z"
   },
   {
    "duration": 12,
    "start_time": "2023-03-15T06:24:15.311Z"
   },
   {
    "duration": 6,
    "start_time": "2023-03-15T06:24:15.326Z"
   },
   {
    "duration": 46,
    "start_time": "2023-03-15T06:24:15.334Z"
   },
   {
    "duration": 6,
    "start_time": "2023-03-15T06:24:15.383Z"
   },
   {
    "duration": 9,
    "start_time": "2023-03-15T06:24:15.391Z"
   },
   {
    "duration": 15,
    "start_time": "2023-03-15T06:24:15.402Z"
   },
   {
    "duration": 40,
    "start_time": "2023-03-15T06:24:15.419Z"
   },
   {
    "duration": 0,
    "start_time": "2023-03-15T06:24:15.462Z"
   },
   {
    "duration": 0,
    "start_time": "2023-03-15T06:24:15.463Z"
   },
   {
    "duration": 0,
    "start_time": "2023-03-15T06:24:15.464Z"
   },
   {
    "duration": 0,
    "start_time": "2023-03-15T06:24:15.465Z"
   },
   {
    "duration": 0,
    "start_time": "2023-03-15T06:24:15.467Z"
   },
   {
    "duration": 0,
    "start_time": "2023-03-15T06:24:15.467Z"
   },
   {
    "duration": 0,
    "start_time": "2023-03-15T06:24:15.468Z"
   },
   {
    "duration": 0,
    "start_time": "2023-03-15T06:24:15.469Z"
   },
   {
    "duration": 0,
    "start_time": "2023-03-15T06:24:15.470Z"
   },
   {
    "duration": 0,
    "start_time": "2023-03-15T06:24:15.472Z"
   },
   {
    "duration": 0,
    "start_time": "2023-03-15T06:24:15.473Z"
   },
   {
    "duration": 0,
    "start_time": "2023-03-15T06:24:15.473Z"
   },
   {
    "duration": 0,
    "start_time": "2023-03-15T06:24:15.474Z"
   },
   {
    "duration": 0,
    "start_time": "2023-03-15T06:24:15.475Z"
   },
   {
    "duration": 0,
    "start_time": "2023-03-15T06:24:15.477Z"
   },
   {
    "duration": 0,
    "start_time": "2023-03-15T06:24:15.477Z"
   },
   {
    "duration": 0,
    "start_time": "2023-03-15T06:24:15.479Z"
   },
   {
    "duration": 0,
    "start_time": "2023-03-15T06:24:15.480Z"
   },
   {
    "duration": 0,
    "start_time": "2023-03-15T06:24:15.481Z"
   },
   {
    "duration": 0,
    "start_time": "2023-03-15T06:24:15.483Z"
   },
   {
    "duration": 0,
    "start_time": "2023-03-15T06:24:15.484Z"
   },
   {
    "duration": 3,
    "start_time": "2023-03-15T06:24:15.499Z"
   },
   {
    "duration": 2,
    "start_time": "2023-03-15T06:24:15.615Z"
   },
   {
    "duration": 447,
    "start_time": "2023-03-15T06:24:15.635Z"
   },
   {
    "duration": 1147,
    "start_time": "2023-03-15T06:25:07.672Z"
   },
   {
    "duration": 8,
    "start_time": "2023-03-15T06:25:29.890Z"
   },
   {
    "duration": 17,
    "start_time": "2023-03-15T06:25:35.421Z"
   },
   {
    "duration": 14,
    "start_time": "2023-03-15T06:25:42.027Z"
   },
   {
    "duration": 16,
    "start_time": "2023-03-15T06:25:53.028Z"
   },
   {
    "duration": 774,
    "start_time": "2023-03-15T06:26:22.409Z"
   },
   {
    "duration": 25,
    "start_time": "2023-03-15T06:26:23.185Z"
   },
   {
    "duration": 65,
    "start_time": "2023-03-15T06:26:23.213Z"
   },
   {
    "duration": 17,
    "start_time": "2023-03-15T06:26:23.280Z"
   },
   {
    "duration": 30,
    "start_time": "2023-03-15T06:26:23.299Z"
   },
   {
    "duration": 1349,
    "start_time": "2023-03-15T06:26:23.354Z"
   },
   {
    "duration": 14,
    "start_time": "2023-03-15T06:26:24.705Z"
   },
   {
    "duration": 15,
    "start_time": "2023-03-15T06:26:24.721Z"
   },
   {
    "duration": 12,
    "start_time": "2023-03-15T06:26:24.754Z"
   },
   {
    "duration": 37,
    "start_time": "2023-03-15T06:26:24.770Z"
   },
   {
    "duration": 6,
    "start_time": "2023-03-15T06:26:24.810Z"
   },
   {
    "duration": 24,
    "start_time": "2023-03-15T06:26:24.852Z"
   },
   {
    "duration": 4,
    "start_time": "2023-03-15T06:26:24.878Z"
   },
   {
    "duration": 32,
    "start_time": "2023-03-15T06:26:24.884Z"
   },
   {
    "duration": 6,
    "start_time": "2023-03-15T06:26:24.917Z"
   },
   {
    "duration": 8,
    "start_time": "2023-03-15T06:26:24.955Z"
   },
   {
    "duration": 30,
    "start_time": "2023-03-15T06:26:24.965Z"
   },
   {
    "duration": 16,
    "start_time": "2023-03-15T06:26:24.997Z"
   },
   {
    "duration": 37,
    "start_time": "2023-03-15T06:26:25.016Z"
   },
   {
    "duration": 36,
    "start_time": "2023-03-15T06:26:25.055Z"
   },
   {
    "duration": 7,
    "start_time": "2023-03-15T06:26:25.093Z"
   },
   {
    "duration": 9,
    "start_time": "2023-03-15T06:26:25.102Z"
   },
   {
    "duration": 42,
    "start_time": "2023-03-15T06:26:25.113Z"
   },
   {
    "duration": 145,
    "start_time": "2023-03-15T06:26:25.157Z"
   },
   {
    "duration": 0,
    "start_time": "2023-03-15T06:26:25.306Z"
   },
   {
    "duration": 0,
    "start_time": "2023-03-15T06:26:25.307Z"
   },
   {
    "duration": 0,
    "start_time": "2023-03-15T06:26:25.310Z"
   },
   {
    "duration": 0,
    "start_time": "2023-03-15T06:26:25.312Z"
   },
   {
    "duration": 0,
    "start_time": "2023-03-15T06:26:25.313Z"
   },
   {
    "duration": 0,
    "start_time": "2023-03-15T06:26:25.315Z"
   },
   {
    "duration": 0,
    "start_time": "2023-03-15T06:26:25.316Z"
   },
   {
    "duration": 0,
    "start_time": "2023-03-15T06:26:25.319Z"
   },
   {
    "duration": 0,
    "start_time": "2023-03-15T06:26:25.320Z"
   },
   {
    "duration": 0,
    "start_time": "2023-03-15T06:26:25.321Z"
   },
   {
    "duration": 0,
    "start_time": "2023-03-15T06:26:25.323Z"
   },
   {
    "duration": 0,
    "start_time": "2023-03-15T06:26:25.353Z"
   },
   {
    "duration": 0,
    "start_time": "2023-03-15T06:26:25.356Z"
   },
   {
    "duration": 0,
    "start_time": "2023-03-15T06:26:25.358Z"
   },
   {
    "duration": 0,
    "start_time": "2023-03-15T06:26:25.360Z"
   },
   {
    "duration": 0,
    "start_time": "2023-03-15T06:26:25.361Z"
   },
   {
    "duration": 0,
    "start_time": "2023-03-15T06:26:25.363Z"
   },
   {
    "duration": 0,
    "start_time": "2023-03-15T06:26:25.364Z"
   },
   {
    "duration": 0,
    "start_time": "2023-03-15T06:26:25.368Z"
   },
   {
    "duration": 0,
    "start_time": "2023-03-15T06:26:25.369Z"
   },
   {
    "duration": 0,
    "start_time": "2023-03-15T06:26:25.370Z"
   },
   {
    "duration": 0,
    "start_time": "2023-03-15T06:26:25.373Z"
   },
   {
    "duration": 0,
    "start_time": "2023-03-15T06:26:25.375Z"
   },
   {
    "duration": 0,
    "start_time": "2023-03-15T06:26:25.376Z"
   },
   {
    "duration": 61,
    "start_time": "2023-03-15T06:26:30.465Z"
   },
   {
    "duration": 16,
    "start_time": "2023-03-15T06:26:30.528Z"
   },
   {
    "duration": 91,
    "start_time": "2023-03-15T06:26:30.546Z"
   },
   {
    "duration": 24,
    "start_time": "2023-03-15T06:26:30.640Z"
   },
   {
    "duration": 60,
    "start_time": "2023-03-15T06:26:30.666Z"
   },
   {
    "duration": 617,
    "start_time": "2023-03-15T06:26:30.729Z"
   },
   {
    "duration": 12,
    "start_time": "2023-03-15T06:26:31.352Z"
   },
   {
    "duration": 29,
    "start_time": "2023-03-15T06:26:31.366Z"
   },
   {
    "duration": 14,
    "start_time": "2023-03-15T06:26:31.397Z"
   },
   {
    "duration": 41,
    "start_time": "2023-03-15T06:26:31.414Z"
   },
   {
    "duration": 16,
    "start_time": "2023-03-15T06:26:31.456Z"
   },
   {
    "duration": 41,
    "start_time": "2023-03-15T06:26:31.474Z"
   },
   {
    "duration": 13,
    "start_time": "2023-03-15T06:26:31.517Z"
   },
   {
    "duration": 83,
    "start_time": "2023-03-15T06:26:31.532Z"
   },
   {
    "duration": 6,
    "start_time": "2023-03-15T06:26:31.618Z"
   },
   {
    "duration": 23,
    "start_time": "2023-03-15T06:26:31.626Z"
   },
   {
    "duration": 53,
    "start_time": "2023-03-15T06:26:31.651Z"
   },
   {
    "duration": 16,
    "start_time": "2023-03-15T06:26:31.706Z"
   },
   {
    "duration": 18,
    "start_time": "2023-03-15T06:26:31.724Z"
   },
   {
    "duration": 42,
    "start_time": "2023-03-15T06:26:31.744Z"
   },
   {
    "duration": 5,
    "start_time": "2023-03-15T06:26:31.788Z"
   },
   {
    "duration": 35,
    "start_time": "2023-03-15T06:26:31.795Z"
   },
   {
    "duration": 38,
    "start_time": "2023-03-15T06:26:31.832Z"
   },
   {
    "duration": 38,
    "start_time": "2023-03-15T06:26:31.872Z"
   },
   {
    "duration": 0,
    "start_time": "2023-03-15T06:26:31.912Z"
   },
   {
    "duration": 0,
    "start_time": "2023-03-15T06:26:31.914Z"
   },
   {
    "duration": 0,
    "start_time": "2023-03-15T06:26:31.915Z"
   },
   {
    "duration": 0,
    "start_time": "2023-03-15T06:26:31.917Z"
   },
   {
    "duration": 0,
    "start_time": "2023-03-15T06:26:31.919Z"
   },
   {
    "duration": 0,
    "start_time": "2023-03-15T06:26:31.920Z"
   },
   {
    "duration": 0,
    "start_time": "2023-03-15T06:26:31.922Z"
   },
   {
    "duration": 0,
    "start_time": "2023-03-15T06:26:31.923Z"
   },
   {
    "duration": 0,
    "start_time": "2023-03-15T06:26:31.924Z"
   },
   {
    "duration": 1,
    "start_time": "2023-03-15T06:26:31.926Z"
   },
   {
    "duration": 0,
    "start_time": "2023-03-15T06:26:31.927Z"
   },
   {
    "duration": 0,
    "start_time": "2023-03-15T06:26:31.929Z"
   },
   {
    "duration": 0,
    "start_time": "2023-03-15T06:26:31.930Z"
   },
   {
    "duration": 0,
    "start_time": "2023-03-15T06:26:31.931Z"
   },
   {
    "duration": 0,
    "start_time": "2023-03-15T06:26:31.932Z"
   },
   {
    "duration": 0,
    "start_time": "2023-03-15T06:26:31.933Z"
   },
   {
    "duration": 0,
    "start_time": "2023-03-15T06:26:31.935Z"
   },
   {
    "duration": 0,
    "start_time": "2023-03-15T06:26:31.953Z"
   },
   {
    "duration": 0,
    "start_time": "2023-03-15T06:26:31.954Z"
   },
   {
    "duration": 0,
    "start_time": "2023-03-15T06:26:31.957Z"
   },
   {
    "duration": 0,
    "start_time": "2023-03-15T06:26:31.958Z"
   },
   {
    "duration": 0,
    "start_time": "2023-03-15T06:26:31.960Z"
   },
   {
    "duration": 0,
    "start_time": "2023-03-15T06:26:31.962Z"
   },
   {
    "duration": 0,
    "start_time": "2023-03-15T06:26:31.963Z"
   },
   {
    "duration": 14,
    "start_time": "2023-03-15T06:28:03.813Z"
   },
   {
    "duration": 15,
    "start_time": "2023-03-15T06:28:05.121Z"
   },
   {
    "duration": 10,
    "start_time": "2023-03-15T06:28:33.392Z"
   },
   {
    "duration": 16,
    "start_time": "2023-03-15T06:28:41.452Z"
   },
   {
    "duration": 4,
    "start_time": "2023-03-15T06:29:31.849Z"
   },
   {
    "duration": 20,
    "start_time": "2023-03-15T06:29:37.036Z"
   },
   {
    "duration": 19,
    "start_time": "2023-03-15T06:29:44.554Z"
   },
   {
    "duration": 6,
    "start_time": "2023-03-15T06:30:26.650Z"
   },
   {
    "duration": 62,
    "start_time": "2023-03-15T06:31:04.543Z"
   },
   {
    "duration": 17,
    "start_time": "2023-03-15T06:31:04.608Z"
   },
   {
    "duration": 46,
    "start_time": "2023-03-15T06:31:04.627Z"
   },
   {
    "duration": 16,
    "start_time": "2023-03-15T06:31:04.676Z"
   },
   {
    "duration": 26,
    "start_time": "2023-03-15T06:31:04.694Z"
   },
   {
    "duration": 632,
    "start_time": "2023-03-15T06:31:04.721Z"
   },
   {
    "duration": 11,
    "start_time": "2023-03-15T06:31:05.355Z"
   },
   {
    "duration": 15,
    "start_time": "2023-03-15T06:31:05.368Z"
   },
   {
    "duration": 22,
    "start_time": "2023-03-15T06:31:05.386Z"
   },
   {
    "duration": 31,
    "start_time": "2023-03-15T06:31:05.410Z"
   },
   {
    "duration": 11,
    "start_time": "2023-03-15T06:31:05.454Z"
   },
   {
    "duration": 29,
    "start_time": "2023-03-15T06:31:05.467Z"
   },
   {
    "duration": 5,
    "start_time": "2023-03-15T06:31:05.498Z"
   },
   {
    "duration": 51,
    "start_time": "2023-03-15T06:31:05.504Z"
   },
   {
    "duration": 5,
    "start_time": "2023-03-15T06:31:05.556Z"
   },
   {
    "duration": 7,
    "start_time": "2023-03-15T06:31:05.563Z"
   },
   {
    "duration": 26,
    "start_time": "2023-03-15T06:31:05.572Z"
   },
   {
    "duration": 13,
    "start_time": "2023-03-15T06:31:05.600Z"
   },
   {
    "duration": 40,
    "start_time": "2023-03-15T06:31:05.615Z"
   },
   {
    "duration": 49,
    "start_time": "2023-03-15T06:31:05.658Z"
   },
   {
    "duration": 6,
    "start_time": "2023-03-15T06:31:05.709Z"
   },
   {
    "duration": 18,
    "start_time": "2023-03-15T06:31:05.717Z"
   },
   {
    "duration": 29,
    "start_time": "2023-03-15T06:31:05.739Z"
   },
   {
    "duration": 9,
    "start_time": "2023-03-15T06:31:05.770Z"
   },
   {
    "duration": 20,
    "start_time": "2023-03-15T06:31:05.781Z"
   },
   {
    "duration": 23,
    "start_time": "2023-03-15T06:31:05.804Z"
   },
   {
    "duration": 0,
    "start_time": "2023-03-15T06:31:05.829Z"
   },
   {
    "duration": 0,
    "start_time": "2023-03-15T06:31:05.831Z"
   },
   {
    "duration": 0,
    "start_time": "2023-03-15T06:31:05.832Z"
   },
   {
    "duration": 0,
    "start_time": "2023-03-15T06:31:05.833Z"
   },
   {
    "duration": 0,
    "start_time": "2023-03-15T06:31:05.834Z"
   },
   {
    "duration": 0,
    "start_time": "2023-03-15T06:31:05.835Z"
   },
   {
    "duration": 0,
    "start_time": "2023-03-15T06:31:05.853Z"
   },
   {
    "duration": 0,
    "start_time": "2023-03-15T06:31:05.855Z"
   },
   {
    "duration": 0,
    "start_time": "2023-03-15T06:31:05.856Z"
   },
   {
    "duration": 0,
    "start_time": "2023-03-15T06:31:05.857Z"
   },
   {
    "duration": 0,
    "start_time": "2023-03-15T06:31:05.859Z"
   },
   {
    "duration": 0,
    "start_time": "2023-03-15T06:31:05.860Z"
   },
   {
    "duration": 0,
    "start_time": "2023-03-15T06:31:05.861Z"
   },
   {
    "duration": 0,
    "start_time": "2023-03-15T06:31:05.862Z"
   },
   {
    "duration": 0,
    "start_time": "2023-03-15T06:31:05.864Z"
   },
   {
    "duration": 0,
    "start_time": "2023-03-15T06:31:05.865Z"
   },
   {
    "duration": 0,
    "start_time": "2023-03-15T06:31:05.866Z"
   },
   {
    "duration": 0,
    "start_time": "2023-03-15T06:31:05.867Z"
   },
   {
    "duration": 0,
    "start_time": "2023-03-15T06:31:05.868Z"
   },
   {
    "duration": 0,
    "start_time": "2023-03-15T06:31:05.869Z"
   },
   {
    "duration": 0,
    "start_time": "2023-03-15T06:31:05.870Z"
   },
   {
    "duration": 0,
    "start_time": "2023-03-15T06:31:05.872Z"
   },
   {
    "duration": 0,
    "start_time": "2023-03-15T06:31:05.872Z"
   },
   {
    "duration": 0,
    "start_time": "2023-03-15T06:31:05.874Z"
   },
   {
    "duration": 5,
    "start_time": "2023-03-15T06:32:16.971Z"
   },
   {
    "duration": 17,
    "start_time": "2023-03-15T06:32:45.854Z"
   },
   {
    "duration": 574,
    "start_time": "2023-03-15T06:33:00.458Z"
   },
   {
    "duration": 4,
    "start_time": "2023-03-15T06:33:38.448Z"
   },
   {
    "duration": 76,
    "start_time": "2023-03-15T06:33:46.260Z"
   },
   {
    "duration": 17,
    "start_time": "2023-03-15T06:33:46.339Z"
   },
   {
    "duration": 45,
    "start_time": "2023-03-15T06:33:46.357Z"
   },
   {
    "duration": 25,
    "start_time": "2023-03-15T06:33:46.405Z"
   },
   {
    "duration": 57,
    "start_time": "2023-03-15T06:33:46.432Z"
   },
   {
    "duration": 675,
    "start_time": "2023-03-15T06:33:46.491Z"
   },
   {
    "duration": 13,
    "start_time": "2023-03-15T06:33:47.169Z"
   },
   {
    "duration": 38,
    "start_time": "2023-03-15T06:33:47.185Z"
   },
   {
    "duration": 17,
    "start_time": "2023-03-15T06:33:47.228Z"
   },
   {
    "duration": 33,
    "start_time": "2023-03-15T06:33:47.252Z"
   },
   {
    "duration": 22,
    "start_time": "2023-03-15T06:33:47.287Z"
   },
   {
    "duration": 40,
    "start_time": "2023-03-15T06:33:47.311Z"
   },
   {
    "duration": 4,
    "start_time": "2023-03-15T06:33:47.353Z"
   },
   {
    "duration": 35,
    "start_time": "2023-03-15T06:33:47.359Z"
   },
   {
    "duration": 6,
    "start_time": "2023-03-15T06:33:47.396Z"
   },
   {
    "duration": 18,
    "start_time": "2023-03-15T06:33:47.404Z"
   },
   {
    "duration": 135,
    "start_time": "2023-03-15T06:33:47.424Z"
   },
   {
    "duration": 17,
    "start_time": "2023-03-15T06:33:47.561Z"
   },
   {
    "duration": 6,
    "start_time": "2023-03-15T06:33:47.580Z"
   },
   {
    "duration": 42,
    "start_time": "2023-03-15T06:33:47.587Z"
   },
   {
    "duration": 5,
    "start_time": "2023-03-15T06:33:47.631Z"
   },
   {
    "duration": 16,
    "start_time": "2023-03-15T06:33:47.639Z"
   },
   {
    "duration": 23,
    "start_time": "2023-03-15T06:33:47.657Z"
   },
   {
    "duration": 10,
    "start_time": "2023-03-15T06:33:47.686Z"
   },
   {
    "duration": 8,
    "start_time": "2023-03-15T06:33:47.698Z"
   },
   {
    "duration": 11,
    "start_time": "2023-03-15T06:33:47.707Z"
   },
   {
    "duration": 47,
    "start_time": "2023-03-15T06:33:47.720Z"
   },
   {
    "duration": 3,
    "start_time": "2023-03-15T06:33:47.768Z"
   },
   {
    "duration": 162,
    "start_time": "2023-03-15T06:33:47.773Z"
   },
   {
    "duration": 172,
    "start_time": "2023-03-15T06:33:47.937Z"
   },
   {
    "duration": 18,
    "start_time": "2023-03-15T06:33:48.110Z"
   },
   {
    "duration": 34,
    "start_time": "2023-03-15T06:33:48.130Z"
   },
   {
    "duration": 33,
    "start_time": "2023-03-15T06:33:48.165Z"
   },
   {
    "duration": 1249,
    "start_time": "2023-03-15T06:33:48.200Z"
   },
   {
    "duration": 9,
    "start_time": "2023-03-15T06:33:49.451Z"
   },
   {
    "duration": 17,
    "start_time": "2023-03-15T06:33:49.462Z"
   },
   {
    "duration": 10,
    "start_time": "2023-03-15T06:33:49.481Z"
   },
   {
    "duration": 1044,
    "start_time": "2023-03-15T06:33:49.492Z"
   },
   {
    "duration": 140,
    "start_time": "2023-03-15T06:33:50.538Z"
   },
   {
    "duration": 132,
    "start_time": "2023-03-15T06:33:50.680Z"
   },
   {
    "duration": 120,
    "start_time": "2023-03-15T06:33:50.814Z"
   },
   {
    "duration": 128,
    "start_time": "2023-03-15T06:33:50.936Z"
   },
   {
    "duration": 5,
    "start_time": "2023-03-15T06:33:51.066Z"
   },
   {
    "duration": 161,
    "start_time": "2023-03-15T06:33:51.073Z"
   },
   {
    "duration": 290,
    "start_time": "2023-03-15T06:33:51.236Z"
   },
   {
    "duration": 6,
    "start_time": "2023-03-15T06:33:51.528Z"
   },
   {
    "duration": 17,
    "start_time": "2023-03-15T06:33:51.536Z"
   },
   {
    "duration": 2,
    "start_time": "2023-03-15T06:33:51.556Z"
   },
   {
    "duration": 7,
    "start_time": "2023-03-15T06:33:51.560Z"
   },
   {
    "duration": 519,
    "start_time": "2023-03-15T06:33:51.568Z"
   },
   {
    "duration": 659,
    "start_time": "2023-03-15T06:35:57.859Z"
   },
   {
    "duration": 17,
    "start_time": "2023-03-15T06:36:39.181Z"
   },
   {
    "duration": 7,
    "start_time": "2023-03-15T06:36:57.595Z"
   },
   {
    "duration": 7,
    "start_time": "2023-03-15T06:37:01.041Z"
   },
   {
    "duration": 4,
    "start_time": "2023-03-15T06:37:06.511Z"
   },
   {
    "duration": 5,
    "start_time": "2023-03-15T06:37:14.496Z"
   },
   {
    "duration": 18,
    "start_time": "2023-03-15T06:37:20.270Z"
   },
   {
    "duration": 8,
    "start_time": "2023-03-15T06:40:18.064Z"
   },
   {
    "duration": 5,
    "start_time": "2023-03-15T06:40:47.709Z"
   },
   {
    "duration": 74,
    "start_time": "2023-03-15T06:45:54.147Z"
   },
   {
    "duration": 185,
    "start_time": "2023-03-15T06:46:04.019Z"
   },
   {
    "duration": 70,
    "start_time": "2023-03-15T06:46:18.481Z"
   },
   {
    "duration": 156,
    "start_time": "2023-03-15T06:46:23.542Z"
   },
   {
    "duration": 7,
    "start_time": "2023-03-15T06:46:35.780Z"
   },
   {
    "duration": 23,
    "start_time": "2023-03-15T06:58:56.321Z"
   },
   {
    "duration": 60,
    "start_time": "2023-03-15T06:59:23.011Z"
   },
   {
    "duration": 14,
    "start_time": "2023-03-15T06:59:23.073Z"
   },
   {
    "duration": 30,
    "start_time": "2023-03-15T06:59:23.088Z"
   },
   {
    "duration": 44,
    "start_time": "2023-03-15T06:59:23.120Z"
   },
   {
    "duration": 19,
    "start_time": "2023-03-15T06:59:23.166Z"
   },
   {
    "duration": 647,
    "start_time": "2023-03-15T06:59:23.188Z"
   },
   {
    "duration": 17,
    "start_time": "2023-03-15T06:59:23.837Z"
   },
   {
    "duration": 16,
    "start_time": "2023-03-15T06:59:23.856Z"
   },
   {
    "duration": 7,
    "start_time": "2023-03-15T06:59:23.875Z"
   },
   {
    "duration": 35,
    "start_time": "2023-03-15T06:59:23.885Z"
   },
   {
    "duration": 32,
    "start_time": "2023-03-15T06:59:23.923Z"
   },
   {
    "duration": 30,
    "start_time": "2023-03-15T06:59:23.957Z"
   },
   {
    "duration": 7,
    "start_time": "2023-03-15T06:59:23.989Z"
   },
   {
    "duration": 57,
    "start_time": "2023-03-15T06:59:23.998Z"
   },
   {
    "duration": 6,
    "start_time": "2023-03-15T06:59:24.057Z"
   },
   {
    "duration": 8,
    "start_time": "2023-03-15T06:59:24.066Z"
   },
   {
    "duration": 38,
    "start_time": "2023-03-15T06:59:24.076Z"
   },
   {
    "duration": 43,
    "start_time": "2023-03-15T06:59:24.117Z"
   },
   {
    "duration": 6,
    "start_time": "2023-03-15T06:59:24.163Z"
   },
   {
    "duration": 43,
    "start_time": "2023-03-15T06:59:24.172Z"
   },
   {
    "duration": 7,
    "start_time": "2023-03-15T06:59:24.217Z"
   },
   {
    "duration": 29,
    "start_time": "2023-03-15T06:59:24.227Z"
   },
   {
    "duration": 631,
    "start_time": "2023-03-15T06:59:24.258Z"
   },
   {
    "duration": 15,
    "start_time": "2023-03-15T06:59:24.890Z"
   },
   {
    "duration": 8,
    "start_time": "2023-03-15T06:59:24.907Z"
   },
   {
    "duration": 5,
    "start_time": "2023-03-15T06:59:24.917Z"
   },
   {
    "duration": 41,
    "start_time": "2023-03-15T06:59:24.924Z"
   },
   {
    "duration": 0,
    "start_time": "2023-03-15T06:59:24.967Z"
   },
   {
    "duration": 0,
    "start_time": "2023-03-15T06:59:24.968Z"
   },
   {
    "duration": 0,
    "start_time": "2023-03-15T06:59:24.970Z"
   },
   {
    "duration": 0,
    "start_time": "2023-03-15T06:59:24.971Z"
   },
   {
    "duration": 0,
    "start_time": "2023-03-15T06:59:24.972Z"
   },
   {
    "duration": 0,
    "start_time": "2023-03-15T06:59:24.973Z"
   },
   {
    "duration": 0,
    "start_time": "2023-03-15T06:59:24.974Z"
   },
   {
    "duration": 0,
    "start_time": "2023-03-15T06:59:24.976Z"
   },
   {
    "duration": 0,
    "start_time": "2023-03-15T06:59:24.977Z"
   },
   {
    "duration": 0,
    "start_time": "2023-03-15T06:59:24.978Z"
   },
   {
    "duration": 1,
    "start_time": "2023-03-15T06:59:24.979Z"
   },
   {
    "duration": 0,
    "start_time": "2023-03-15T06:59:24.981Z"
   },
   {
    "duration": 0,
    "start_time": "2023-03-15T06:59:24.981Z"
   },
   {
    "duration": 0,
    "start_time": "2023-03-15T06:59:24.983Z"
   },
   {
    "duration": 0,
    "start_time": "2023-03-15T06:59:24.984Z"
   },
   {
    "duration": 0,
    "start_time": "2023-03-15T06:59:24.987Z"
   },
   {
    "duration": 0,
    "start_time": "2023-03-15T06:59:24.987Z"
   },
   {
    "duration": 0,
    "start_time": "2023-03-15T06:59:24.989Z"
   },
   {
    "duration": 0,
    "start_time": "2023-03-15T06:59:24.990Z"
   },
   {
    "duration": 0,
    "start_time": "2023-03-15T06:59:24.991Z"
   },
   {
    "duration": 0,
    "start_time": "2023-03-15T06:59:24.992Z"
   },
   {
    "duration": 0,
    "start_time": "2023-03-15T06:59:24.993Z"
   },
   {
    "duration": 0,
    "start_time": "2023-03-15T06:59:24.994Z"
   },
   {
    "duration": 0,
    "start_time": "2023-03-15T06:59:24.995Z"
   },
   {
    "duration": 0,
    "start_time": "2023-03-15T06:59:24.996Z"
   },
   {
    "duration": 24,
    "start_time": "2023-03-15T06:59:40.567Z"
   },
   {
    "duration": 16,
    "start_time": "2023-03-15T07:00:41.179Z"
   },
   {
    "duration": 17,
    "start_time": "2023-03-15T07:00:54.350Z"
   },
   {
    "duration": 161,
    "start_time": "2023-03-15T07:02:18.497Z"
   },
   {
    "duration": 38,
    "start_time": "2023-03-15T07:04:08.890Z"
   },
   {
    "duration": 17,
    "start_time": "2023-03-15T07:04:11.518Z"
   },
   {
    "duration": 63,
    "start_time": "2023-03-15T07:04:15.674Z"
   },
   {
    "duration": 15,
    "start_time": "2023-03-15T07:04:15.738Z"
   },
   {
    "duration": 55,
    "start_time": "2023-03-15T07:04:15.755Z"
   },
   {
    "duration": 18,
    "start_time": "2023-03-15T07:04:15.813Z"
   },
   {
    "duration": 47,
    "start_time": "2023-03-15T07:04:15.832Z"
   },
   {
    "duration": 686,
    "start_time": "2023-03-15T07:04:15.881Z"
   },
   {
    "duration": 10,
    "start_time": "2023-03-15T07:04:16.569Z"
   },
   {
    "duration": 18,
    "start_time": "2023-03-15T07:04:16.581Z"
   },
   {
    "duration": 12,
    "start_time": "2023-03-15T07:04:16.601Z"
   },
   {
    "duration": 46,
    "start_time": "2023-03-15T07:04:16.617Z"
   },
   {
    "duration": 5,
    "start_time": "2023-03-15T07:04:16.665Z"
   },
   {
    "duration": 24,
    "start_time": "2023-03-15T07:04:16.671Z"
   },
   {
    "duration": 5,
    "start_time": "2023-03-15T07:04:16.697Z"
   },
   {
    "duration": 67,
    "start_time": "2023-03-15T07:04:16.704Z"
   },
   {
    "duration": 8,
    "start_time": "2023-03-15T07:04:16.774Z"
   },
   {
    "duration": 9,
    "start_time": "2023-03-15T07:04:16.784Z"
   },
   {
    "duration": 27,
    "start_time": "2023-03-15T07:04:16.795Z"
   },
   {
    "duration": 34,
    "start_time": "2023-03-15T07:04:16.825Z"
   },
   {
    "duration": 7,
    "start_time": "2023-03-15T07:04:16.861Z"
   },
   {
    "duration": 26,
    "start_time": "2023-03-15T07:04:16.870Z"
   },
   {
    "duration": 5,
    "start_time": "2023-03-15T07:04:16.897Z"
   },
   {
    "duration": 9,
    "start_time": "2023-03-15T07:04:16.904Z"
   },
   {
    "duration": 647,
    "start_time": "2023-03-15T07:04:16.914Z"
   },
   {
    "duration": 16,
    "start_time": "2023-03-15T07:04:17.563Z"
   },
   {
    "duration": 11,
    "start_time": "2023-03-15T07:04:17.581Z"
   },
   {
    "duration": 7,
    "start_time": "2023-03-15T07:04:17.594Z"
   },
   {
    "duration": 52,
    "start_time": "2023-03-15T07:04:17.603Z"
   },
   {
    "duration": 0,
    "start_time": "2023-03-15T07:04:17.659Z"
   },
   {
    "duration": 0,
    "start_time": "2023-03-15T07:04:17.661Z"
   },
   {
    "duration": 0,
    "start_time": "2023-03-15T07:04:17.662Z"
   },
   {
    "duration": 0,
    "start_time": "2023-03-15T07:04:17.664Z"
   },
   {
    "duration": 0,
    "start_time": "2023-03-15T07:04:17.666Z"
   },
   {
    "duration": 0,
    "start_time": "2023-03-15T07:04:17.668Z"
   },
   {
    "duration": 0,
    "start_time": "2023-03-15T07:04:17.669Z"
   },
   {
    "duration": 0,
    "start_time": "2023-03-15T07:04:17.670Z"
   },
   {
    "duration": 0,
    "start_time": "2023-03-15T07:04:17.672Z"
   },
   {
    "duration": 0,
    "start_time": "2023-03-15T07:04:17.819Z"
   },
   {
    "duration": 0,
    "start_time": "2023-03-15T07:04:17.821Z"
   },
   {
    "duration": 0,
    "start_time": "2023-03-15T07:04:17.822Z"
   },
   {
    "duration": 0,
    "start_time": "2023-03-15T07:04:17.824Z"
   },
   {
    "duration": 0,
    "start_time": "2023-03-15T07:04:17.826Z"
   },
   {
    "duration": 0,
    "start_time": "2023-03-15T07:04:17.828Z"
   },
   {
    "duration": 0,
    "start_time": "2023-03-15T07:04:17.829Z"
   },
   {
    "duration": 0,
    "start_time": "2023-03-15T07:04:17.831Z"
   },
   {
    "duration": 0,
    "start_time": "2023-03-15T07:04:17.853Z"
   },
   {
    "duration": 0,
    "start_time": "2023-03-15T07:04:17.854Z"
   },
   {
    "duration": 0,
    "start_time": "2023-03-15T07:04:17.855Z"
   },
   {
    "duration": 0,
    "start_time": "2023-03-15T07:04:17.856Z"
   },
   {
    "duration": 0,
    "start_time": "2023-03-15T07:04:17.857Z"
   },
   {
    "duration": 0,
    "start_time": "2023-03-15T07:04:17.863Z"
   },
   {
    "duration": 0,
    "start_time": "2023-03-15T07:04:17.864Z"
   },
   {
    "duration": 0,
    "start_time": "2023-03-15T07:04:17.865Z"
   },
   {
    "duration": 0,
    "start_time": "2023-03-15T07:04:17.866Z"
   },
   {
    "duration": 17,
    "start_time": "2023-03-15T07:04:30.980Z"
   },
   {
    "duration": 595,
    "start_time": "2023-03-15T07:04:37.387Z"
   },
   {
    "duration": 11,
    "start_time": "2023-03-15T07:05:16.606Z"
   },
   {
    "duration": 19,
    "start_time": "2023-03-15T07:06:12.966Z"
   },
   {
    "duration": 17,
    "start_time": "2023-03-15T07:07:10.317Z"
   },
   {
    "duration": 17,
    "start_time": "2023-03-15T07:07:37.108Z"
   },
   {
    "duration": 15,
    "start_time": "2023-03-15T07:07:56.043Z"
   },
   {
    "duration": 17,
    "start_time": "2023-03-15T07:08:05.928Z"
   },
   {
    "duration": 16,
    "start_time": "2023-03-15T07:22:09.644Z"
   },
   {
    "duration": 17,
    "start_time": "2023-03-15T07:23:23.875Z"
   },
   {
    "duration": 16,
    "start_time": "2023-03-15T07:24:15.515Z"
   },
   {
    "duration": 20,
    "start_time": "2023-03-15T07:24:54.200Z"
   },
   {
    "duration": 14,
    "start_time": "2023-03-15T07:25:12.168Z"
   },
   {
    "duration": 16,
    "start_time": "2023-03-15T07:41:58.529Z"
   },
   {
    "duration": 16,
    "start_time": "2023-03-15T07:45:00.543Z"
   },
   {
    "duration": 15,
    "start_time": "2023-03-15T07:47:42.801Z"
   },
   {
    "duration": 16,
    "start_time": "2023-03-15T07:50:15.912Z"
   },
   {
    "duration": 5,
    "start_time": "2023-03-15T08:12:01.112Z"
   },
   {
    "duration": 5,
    "start_time": "2023-03-15T08:12:41.904Z"
   },
   {
    "duration": 15,
    "start_time": "2023-03-15T08:14:40.828Z"
   },
   {
    "duration": 2,
    "start_time": "2023-03-15T08:14:52.058Z"
   },
   {
    "duration": 14,
    "start_time": "2023-03-15T08:14:54.404Z"
   },
   {
    "duration": 7,
    "start_time": "2023-03-15T08:15:14.635Z"
   },
   {
    "duration": 8,
    "start_time": "2023-03-15T08:15:56.921Z"
   },
   {
    "duration": 8,
    "start_time": "2023-03-15T08:16:03.236Z"
   },
   {
    "duration": 7,
    "start_time": "2023-03-15T08:16:13.459Z"
   },
   {
    "duration": 7,
    "start_time": "2023-03-15T08:20:27.820Z"
   },
   {
    "duration": 72,
    "start_time": "2023-03-15T08:22:19.881Z"
   },
   {
    "duration": 8,
    "start_time": "2023-03-15T08:22:54.436Z"
   },
   {
    "duration": 8,
    "start_time": "2023-03-15T10:45:58.218Z"
   },
   {
    "duration": 5,
    "start_time": "2023-03-15T10:49:33.827Z"
   },
   {
    "duration": 5,
    "start_time": "2023-03-15T10:50:02.912Z"
   },
   {
    "duration": 7,
    "start_time": "2023-03-15T10:50:52.804Z"
   },
   {
    "duration": 7,
    "start_time": "2023-03-15T10:51:17.719Z"
   },
   {
    "duration": 20,
    "start_time": "2023-03-15T10:52:40.337Z"
   },
   {
    "duration": 9,
    "start_time": "2023-03-15T10:53:00.720Z"
   },
   {
    "duration": 7,
    "start_time": "2023-03-15T11:00:53.573Z"
   },
   {
    "duration": 8,
    "start_time": "2023-03-15T11:01:30.570Z"
   },
   {
    "duration": 7,
    "start_time": "2023-03-15T11:03:38.631Z"
   },
   {
    "duration": 5,
    "start_time": "2023-03-15T11:11:01.806Z"
   },
   {
    "duration": 6,
    "start_time": "2023-03-15T12:58:22.818Z"
   },
   {
    "duration": 87,
    "start_time": "2023-03-15T12:58:30.511Z"
   },
   {
    "duration": 21,
    "start_time": "2023-03-15T12:58:30.601Z"
   },
   {
    "duration": 64,
    "start_time": "2023-03-15T12:58:30.624Z"
   },
   {
    "duration": 20,
    "start_time": "2023-03-15T12:58:30.691Z"
   },
   {
    "duration": 61,
    "start_time": "2023-03-15T12:58:30.713Z"
   },
   {
    "duration": 763,
    "start_time": "2023-03-15T12:58:30.777Z"
   },
   {
    "duration": 22,
    "start_time": "2023-03-15T12:58:31.542Z"
   },
   {
    "duration": 29,
    "start_time": "2023-03-15T12:58:31.566Z"
   },
   {
    "duration": 25,
    "start_time": "2023-03-15T12:58:31.597Z"
   },
   {
    "duration": 43,
    "start_time": "2023-03-15T12:58:31.625Z"
   },
   {
    "duration": 5,
    "start_time": "2023-03-15T12:58:31.673Z"
   },
   {
    "duration": 34,
    "start_time": "2023-03-15T12:58:31.680Z"
   },
   {
    "duration": 9,
    "start_time": "2023-03-15T12:58:31.716Z"
   },
   {
    "duration": 66,
    "start_time": "2023-03-15T12:58:31.728Z"
   },
   {
    "duration": 8,
    "start_time": "2023-03-15T12:58:31.796Z"
   },
   {
    "duration": 7,
    "start_time": "2023-03-15T12:58:31.806Z"
   },
   {
    "duration": 59,
    "start_time": "2023-03-15T12:58:31.815Z"
   },
   {
    "duration": 30,
    "start_time": "2023-03-15T12:58:31.875Z"
   },
   {
    "duration": 7,
    "start_time": "2023-03-15T12:58:31.907Z"
   },
   {
    "duration": 49,
    "start_time": "2023-03-15T12:58:31.916Z"
   },
   {
    "duration": 5,
    "start_time": "2023-03-15T12:58:31.968Z"
   },
   {
    "duration": 46,
    "start_time": "2023-03-15T12:58:31.975Z"
   },
   {
    "duration": 664,
    "start_time": "2023-03-15T12:58:32.023Z"
   },
   {
    "duration": 16,
    "start_time": "2023-03-15T12:58:32.688Z"
   },
   {
    "duration": 8,
    "start_time": "2023-03-15T12:58:32.706Z"
   },
   {
    "duration": 5,
    "start_time": "2023-03-15T12:58:32.716Z"
   },
   {
    "duration": 46,
    "start_time": "2023-03-15T12:58:32.725Z"
   },
   {
    "duration": 0,
    "start_time": "2023-03-15T12:58:32.773Z"
   },
   {
    "duration": 0,
    "start_time": "2023-03-15T12:58:32.774Z"
   },
   {
    "duration": 0,
    "start_time": "2023-03-15T12:58:32.775Z"
   },
   {
    "duration": 0,
    "start_time": "2023-03-15T12:58:32.776Z"
   },
   {
    "duration": 0,
    "start_time": "2023-03-15T12:58:32.777Z"
   },
   {
    "duration": 0,
    "start_time": "2023-03-15T12:58:32.778Z"
   },
   {
    "duration": 0,
    "start_time": "2023-03-15T12:58:32.779Z"
   },
   {
    "duration": 0,
    "start_time": "2023-03-15T12:58:32.781Z"
   },
   {
    "duration": 0,
    "start_time": "2023-03-15T12:58:32.782Z"
   },
   {
    "duration": 0,
    "start_time": "2023-03-15T12:58:32.783Z"
   },
   {
    "duration": 0,
    "start_time": "2023-03-15T12:58:32.784Z"
   },
   {
    "duration": 0,
    "start_time": "2023-03-15T12:58:32.785Z"
   },
   {
    "duration": 0,
    "start_time": "2023-03-15T12:58:32.786Z"
   },
   {
    "duration": 0,
    "start_time": "2023-03-15T12:58:32.787Z"
   },
   {
    "duration": 0,
    "start_time": "2023-03-15T12:58:32.789Z"
   },
   {
    "duration": 0,
    "start_time": "2023-03-15T12:58:32.791Z"
   },
   {
    "duration": 0,
    "start_time": "2023-03-15T12:58:32.792Z"
   },
   {
    "duration": 0,
    "start_time": "2023-03-15T12:58:32.793Z"
   },
   {
    "duration": 0,
    "start_time": "2023-03-15T12:58:32.794Z"
   },
   {
    "duration": 0,
    "start_time": "2023-03-15T12:58:32.796Z"
   },
   {
    "duration": 0,
    "start_time": "2023-03-15T12:58:32.797Z"
   },
   {
    "duration": 0,
    "start_time": "2023-03-15T12:58:32.798Z"
   },
   {
    "duration": 0,
    "start_time": "2023-03-15T12:58:32.800Z"
   },
   {
    "duration": 0,
    "start_time": "2023-03-15T12:58:32.801Z"
   },
   {
    "duration": 0,
    "start_time": "2023-03-15T12:58:32.802Z"
   },
   {
    "duration": 0,
    "start_time": "2023-03-15T12:58:32.854Z"
   },
   {
    "duration": 0,
    "start_time": "2023-03-15T12:58:32.856Z"
   },
   {
    "duration": 0,
    "start_time": "2023-03-15T12:58:32.857Z"
   },
   {
    "duration": 0,
    "start_time": "2023-03-15T12:58:32.858Z"
   },
   {
    "duration": 0,
    "start_time": "2023-03-15T12:58:32.858Z"
   },
   {
    "duration": 0,
    "start_time": "2023-03-15T12:58:32.859Z"
   },
   {
    "duration": 0,
    "start_time": "2023-03-15T12:58:32.860Z"
   },
   {
    "duration": 21,
    "start_time": "2023-03-15T12:58:32.863Z"
   },
   {
    "duration": 15,
    "start_time": "2023-03-15T12:58:33.034Z"
   },
   {
    "duration": 4,
    "start_time": "2023-03-15T12:58:33.232Z"
   },
   {
    "duration": 15,
    "start_time": "2023-03-15T12:58:33.348Z"
   },
   {
    "duration": 7,
    "start_time": "2023-03-15T12:58:33.585Z"
   },
   {
    "duration": 7,
    "start_time": "2023-03-15T12:58:33.595Z"
   },
   {
    "duration": 8,
    "start_time": "2023-03-15T12:58:33.875Z"
   },
   {
    "duration": 12,
    "start_time": "2023-03-15T12:58:34.226Z"
   },
   {
    "duration": 26,
    "start_time": "2023-03-15T12:58:34.240Z"
   },
   {
    "duration": 22,
    "start_time": "2023-03-15T12:58:34.268Z"
   },
   {
    "duration": 1003,
    "start_time": "2023-03-15T18:39:38.486Z"
   },
   {
    "duration": 13,
    "start_time": "2023-03-15T18:39:39.491Z"
   },
   {
    "duration": 28,
    "start_time": "2023-03-15T18:39:39.506Z"
   },
   {
    "duration": 15,
    "start_time": "2023-03-15T18:39:39.535Z"
   },
   {
    "duration": 44,
    "start_time": "2023-03-15T18:39:39.553Z"
   },
   {
    "duration": 1214,
    "start_time": "2023-03-15T18:39:39.599Z"
   },
   {
    "duration": 11,
    "start_time": "2023-03-15T18:39:40.815Z"
   },
   {
    "duration": 55,
    "start_time": "2023-03-15T18:39:40.828Z"
   },
   {
    "duration": 22,
    "start_time": "2023-03-15T18:39:40.885Z"
   },
   {
    "duration": 40,
    "start_time": "2023-03-15T18:39:40.909Z"
   },
   {
    "duration": 5,
    "start_time": "2023-03-15T18:39:40.950Z"
   },
   {
    "duration": 63,
    "start_time": "2023-03-15T18:39:40.957Z"
   },
   {
    "duration": 4,
    "start_time": "2023-03-15T18:39:41.022Z"
   },
   {
    "duration": 61,
    "start_time": "2023-03-15T18:39:41.029Z"
   },
   {
    "duration": 18,
    "start_time": "2023-03-15T18:39:41.091Z"
   },
   {
    "duration": 27,
    "start_time": "2023-03-15T18:39:41.111Z"
   },
   {
    "duration": 47,
    "start_time": "2023-03-15T18:39:41.141Z"
   },
   {
    "duration": 27,
    "start_time": "2023-03-15T18:39:41.190Z"
   },
   {
    "duration": 20,
    "start_time": "2023-03-15T18:39:41.219Z"
   },
   {
    "duration": 46,
    "start_time": "2023-03-15T18:39:41.240Z"
   },
   {
    "duration": 10,
    "start_time": "2023-03-15T18:39:41.288Z"
   },
   {
    "duration": 26,
    "start_time": "2023-03-15T18:39:41.299Z"
   },
   {
    "duration": 635,
    "start_time": "2023-03-15T18:39:41.327Z"
   },
   {
    "duration": 24,
    "start_time": "2023-03-15T18:39:41.964Z"
   },
   {
    "duration": 10,
    "start_time": "2023-03-15T18:39:41.990Z"
   },
   {
    "duration": 12,
    "start_time": "2023-03-15T18:39:42.001Z"
   },
   {
    "duration": 133,
    "start_time": "2023-03-15T18:39:42.015Z"
   },
   {
    "duration": 0,
    "start_time": "2023-03-15T18:39:42.151Z"
   },
   {
    "duration": 0,
    "start_time": "2023-03-15T18:39:42.153Z"
   },
   {
    "duration": 0,
    "start_time": "2023-03-15T18:39:42.155Z"
   },
   {
    "duration": 0,
    "start_time": "2023-03-15T18:39:42.156Z"
   },
   {
    "duration": 0,
    "start_time": "2023-03-15T18:39:42.157Z"
   },
   {
    "duration": 0,
    "start_time": "2023-03-15T18:39:42.159Z"
   },
   {
    "duration": 0,
    "start_time": "2023-03-15T18:39:42.160Z"
   },
   {
    "duration": 0,
    "start_time": "2023-03-15T18:39:42.161Z"
   },
   {
    "duration": 0,
    "start_time": "2023-03-15T18:39:42.162Z"
   },
   {
    "duration": 0,
    "start_time": "2023-03-15T18:39:42.163Z"
   },
   {
    "duration": 0,
    "start_time": "2023-03-15T18:39:42.181Z"
   },
   {
    "duration": 0,
    "start_time": "2023-03-15T18:39:42.183Z"
   },
   {
    "duration": 0,
    "start_time": "2023-03-15T18:39:42.185Z"
   },
   {
    "duration": 0,
    "start_time": "2023-03-15T18:39:42.186Z"
   },
   {
    "duration": 0,
    "start_time": "2023-03-15T18:39:42.187Z"
   },
   {
    "duration": 0,
    "start_time": "2023-03-15T18:39:42.188Z"
   },
   {
    "duration": 0,
    "start_time": "2023-03-15T18:39:42.189Z"
   },
   {
    "duration": 0,
    "start_time": "2023-03-15T18:39:42.191Z"
   },
   {
    "duration": 0,
    "start_time": "2023-03-15T18:39:42.192Z"
   },
   {
    "duration": 0,
    "start_time": "2023-03-15T18:39:42.194Z"
   },
   {
    "duration": 0,
    "start_time": "2023-03-15T18:39:42.195Z"
   },
   {
    "duration": 0,
    "start_time": "2023-03-15T18:39:42.196Z"
   },
   {
    "duration": 0,
    "start_time": "2023-03-15T18:39:42.197Z"
   },
   {
    "duration": 0,
    "start_time": "2023-03-15T18:39:42.199Z"
   },
   {
    "duration": 0,
    "start_time": "2023-03-15T18:39:42.200Z"
   },
   {
    "duration": 0,
    "start_time": "2023-03-15T18:39:42.201Z"
   },
   {
    "duration": 0,
    "start_time": "2023-03-15T18:39:42.202Z"
   },
   {
    "duration": 0,
    "start_time": "2023-03-15T18:39:42.204Z"
   },
   {
    "duration": 0,
    "start_time": "2023-03-15T18:39:42.205Z"
   },
   {
    "duration": 0,
    "start_time": "2023-03-15T18:39:42.206Z"
   },
   {
    "duration": 0,
    "start_time": "2023-03-15T18:39:42.207Z"
   },
   {
    "duration": 0,
    "start_time": "2023-03-15T18:39:42.208Z"
   },
   {
    "duration": 0,
    "start_time": "2023-03-15T18:39:42.209Z"
   },
   {
    "duration": 0,
    "start_time": "2023-03-15T18:39:42.210Z"
   },
   {
    "duration": 0,
    "start_time": "2023-03-15T18:39:42.211Z"
   },
   {
    "duration": 0,
    "start_time": "2023-03-15T18:39:42.213Z"
   },
   {
    "duration": 0,
    "start_time": "2023-03-15T18:39:42.214Z"
   },
   {
    "duration": 0,
    "start_time": "2023-03-15T18:39:42.215Z"
   },
   {
    "duration": 0,
    "start_time": "2023-03-15T18:39:42.217Z"
   },
   {
    "duration": 0,
    "start_time": "2023-03-15T18:39:42.284Z"
   },
   {
    "duration": 0,
    "start_time": "2023-03-15T18:39:42.285Z"
   },
   {
    "duration": 0,
    "start_time": "2023-03-15T18:39:42.286Z"
   },
   {
    "duration": 7,
    "start_time": "2023-03-15T18:40:47.488Z"
   },
   {
    "duration": 626,
    "start_time": "2023-03-15T18:40:49.446Z"
   },
   {
    "duration": 901,
    "start_time": "2023-03-15T18:41:05.206Z"
   },
   {
    "duration": 18,
    "start_time": "2023-03-15T18:41:06.109Z"
   },
   {
    "duration": 43,
    "start_time": "2023-03-15T18:41:06.129Z"
   },
   {
    "duration": 28,
    "start_time": "2023-03-15T18:41:06.175Z"
   },
   {
    "duration": 42,
    "start_time": "2023-03-15T18:41:06.207Z"
   },
   {
    "duration": 1299,
    "start_time": "2023-03-15T18:41:06.252Z"
   },
   {
    "duration": 9,
    "start_time": "2023-03-15T18:41:07.553Z"
   },
   {
    "duration": 31,
    "start_time": "2023-03-15T18:41:07.564Z"
   },
   {
    "duration": 25,
    "start_time": "2023-03-15T18:41:07.597Z"
   },
   {
    "duration": 26,
    "start_time": "2023-03-15T18:41:07.625Z"
   },
   {
    "duration": 16,
    "start_time": "2023-03-15T18:41:07.653Z"
   },
   {
    "duration": 29,
    "start_time": "2023-03-15T18:41:07.670Z"
   },
   {
    "duration": 4,
    "start_time": "2023-03-15T18:41:07.701Z"
   },
   {
    "duration": 34,
    "start_time": "2023-03-15T18:41:07.710Z"
   },
   {
    "duration": 5,
    "start_time": "2023-03-15T18:41:07.746Z"
   },
   {
    "duration": 30,
    "start_time": "2023-03-15T18:41:07.752Z"
   },
   {
    "duration": 29,
    "start_time": "2023-03-15T18:41:07.784Z"
   },
   {
    "duration": 14,
    "start_time": "2023-03-15T18:41:07.815Z"
   },
   {
    "duration": 13,
    "start_time": "2023-03-15T18:41:07.830Z"
   },
   {
    "duration": 48,
    "start_time": "2023-03-15T18:41:07.845Z"
   },
   {
    "duration": 7,
    "start_time": "2023-03-15T18:41:07.895Z"
   },
   {
    "duration": 14,
    "start_time": "2023-03-15T18:41:07.904Z"
   },
   {
    "duration": 640,
    "start_time": "2023-03-15T18:41:07.920Z"
   },
   {
    "duration": 31,
    "start_time": "2023-03-15T18:41:08.562Z"
   },
   {
    "duration": 16,
    "start_time": "2023-03-15T18:41:08.595Z"
   },
   {
    "duration": 28,
    "start_time": "2023-03-15T18:41:08.613Z"
   },
   {
    "duration": 129,
    "start_time": "2023-03-15T18:41:08.643Z"
   },
   {
    "duration": 0,
    "start_time": "2023-03-15T18:41:08.776Z"
   },
   {
    "duration": 0,
    "start_time": "2023-03-15T18:41:08.781Z"
   },
   {
    "duration": 0,
    "start_time": "2023-03-15T18:41:08.783Z"
   },
   {
    "duration": 0,
    "start_time": "2023-03-15T18:41:08.784Z"
   },
   {
    "duration": 0,
    "start_time": "2023-03-15T18:41:08.786Z"
   },
   {
    "duration": 0,
    "start_time": "2023-03-15T18:41:08.787Z"
   },
   {
    "duration": 1,
    "start_time": "2023-03-15T18:41:08.788Z"
   },
   {
    "duration": 0,
    "start_time": "2023-03-15T18:41:08.790Z"
   },
   {
    "duration": 0,
    "start_time": "2023-03-15T18:41:08.791Z"
   },
   {
    "duration": 0,
    "start_time": "2023-03-15T18:41:08.793Z"
   },
   {
    "duration": 0,
    "start_time": "2023-03-15T18:41:08.794Z"
   },
   {
    "duration": 0,
    "start_time": "2023-03-15T18:41:08.796Z"
   },
   {
    "duration": 0,
    "start_time": "2023-03-15T18:41:08.797Z"
   },
   {
    "duration": 0,
    "start_time": "2023-03-15T18:41:08.799Z"
   },
   {
    "duration": 0,
    "start_time": "2023-03-15T18:41:08.801Z"
   },
   {
    "duration": 0,
    "start_time": "2023-03-15T18:41:08.802Z"
   },
   {
    "duration": 0,
    "start_time": "2023-03-15T18:41:08.803Z"
   },
   {
    "duration": 0,
    "start_time": "2023-03-15T18:41:08.805Z"
   },
   {
    "duration": 0,
    "start_time": "2023-03-15T18:41:08.807Z"
   },
   {
    "duration": 0,
    "start_time": "2023-03-15T18:41:08.808Z"
   },
   {
    "duration": 0,
    "start_time": "2023-03-15T18:41:08.810Z"
   },
   {
    "duration": 0,
    "start_time": "2023-03-15T18:41:08.811Z"
   },
   {
    "duration": 0,
    "start_time": "2023-03-15T18:41:08.812Z"
   },
   {
    "duration": 1,
    "start_time": "2023-03-15T18:41:08.813Z"
   },
   {
    "duration": 0,
    "start_time": "2023-03-15T18:41:08.815Z"
   },
   {
    "duration": 0,
    "start_time": "2023-03-15T18:41:08.816Z"
   },
   {
    "duration": 0,
    "start_time": "2023-03-15T18:41:08.818Z"
   },
   {
    "duration": 0,
    "start_time": "2023-03-15T18:41:08.819Z"
   },
   {
    "duration": 0,
    "start_time": "2023-03-15T18:41:08.820Z"
   },
   {
    "duration": 0,
    "start_time": "2023-03-15T18:41:08.822Z"
   },
   {
    "duration": 0,
    "start_time": "2023-03-15T18:41:08.824Z"
   },
   {
    "duration": 0,
    "start_time": "2023-03-15T18:41:08.825Z"
   },
   {
    "duration": 0,
    "start_time": "2023-03-15T18:41:08.881Z"
   },
   {
    "duration": 0,
    "start_time": "2023-03-15T18:41:08.883Z"
   },
   {
    "duration": 0,
    "start_time": "2023-03-15T18:41:08.884Z"
   },
   {
    "duration": 0,
    "start_time": "2023-03-15T18:41:08.885Z"
   },
   {
    "duration": 0,
    "start_time": "2023-03-15T18:41:08.886Z"
   },
   {
    "duration": 0,
    "start_time": "2023-03-15T18:41:08.887Z"
   },
   {
    "duration": 0,
    "start_time": "2023-03-15T18:41:08.890Z"
   },
   {
    "duration": 0,
    "start_time": "2023-03-15T18:41:08.891Z"
   },
   {
    "duration": 0,
    "start_time": "2023-03-15T18:41:08.892Z"
   },
   {
    "duration": 0,
    "start_time": "2023-03-15T18:41:08.893Z"
   },
   {
    "duration": 691,
    "start_time": "2023-03-15T18:41:39.918Z"
   },
   {
    "duration": 11,
    "start_time": "2023-03-15T18:42:37.966Z"
   },
   {
    "duration": 65,
    "start_time": "2023-03-15T18:42:42.876Z"
   },
   {
    "duration": 12,
    "start_time": "2023-03-15T18:42:42.943Z"
   },
   {
    "duration": 42,
    "start_time": "2023-03-15T18:42:42.957Z"
   },
   {
    "duration": 16,
    "start_time": "2023-03-15T18:42:43.001Z"
   },
   {
    "duration": 21,
    "start_time": "2023-03-15T18:42:43.018Z"
   },
   {
    "duration": 666,
    "start_time": "2023-03-15T18:42:43.041Z"
   },
   {
    "duration": 11,
    "start_time": "2023-03-15T18:42:43.708Z"
   },
   {
    "duration": 17,
    "start_time": "2023-03-15T18:42:43.721Z"
   },
   {
    "duration": 9,
    "start_time": "2023-03-15T18:42:43.740Z"
   },
   {
    "duration": 43,
    "start_time": "2023-03-15T18:42:43.752Z"
   },
   {
    "duration": 7,
    "start_time": "2023-03-15T18:42:43.797Z"
   },
   {
    "duration": 26,
    "start_time": "2023-03-15T18:42:43.805Z"
   },
   {
    "duration": 4,
    "start_time": "2023-03-15T18:42:43.832Z"
   },
   {
    "duration": 28,
    "start_time": "2023-03-15T18:42:43.837Z"
   },
   {
    "duration": 7,
    "start_time": "2023-03-15T18:42:43.880Z"
   },
   {
    "duration": 18,
    "start_time": "2023-03-15T18:42:43.888Z"
   },
   {
    "duration": 27,
    "start_time": "2023-03-15T18:42:43.908Z"
   },
   {
    "duration": 14,
    "start_time": "2023-03-15T18:42:43.936Z"
   },
   {
    "duration": 6,
    "start_time": "2023-03-15T18:42:43.951Z"
   },
   {
    "duration": 45,
    "start_time": "2023-03-15T18:42:43.980Z"
   },
   {
    "duration": 8,
    "start_time": "2023-03-15T18:42:44.026Z"
   },
   {
    "duration": 12,
    "start_time": "2023-03-15T18:42:44.036Z"
   },
   {
    "duration": 17,
    "start_time": "2023-03-15T18:42:44.050Z"
   },
   {
    "duration": 25,
    "start_time": "2023-03-15T18:42:44.069Z"
   },
   {
    "duration": 16,
    "start_time": "2023-03-15T18:42:44.097Z"
   },
   {
    "duration": 13,
    "start_time": "2023-03-15T18:42:44.115Z"
   },
   {
    "duration": 18,
    "start_time": "2023-03-15T18:42:44.130Z"
   },
   {
    "duration": 0,
    "start_time": "2023-03-15T18:42:44.152Z"
   },
   {
    "duration": 0,
    "start_time": "2023-03-15T18:42:44.153Z"
   },
   {
    "duration": 0,
    "start_time": "2023-03-15T18:42:44.155Z"
   },
   {
    "duration": 0,
    "start_time": "2023-03-15T18:42:44.157Z"
   },
   {
    "duration": 0,
    "start_time": "2023-03-15T18:42:44.158Z"
   },
   {
    "duration": 0,
    "start_time": "2023-03-15T18:42:44.160Z"
   },
   {
    "duration": 0,
    "start_time": "2023-03-15T18:42:44.161Z"
   },
   {
    "duration": 0,
    "start_time": "2023-03-15T18:42:44.182Z"
   },
   {
    "duration": 0,
    "start_time": "2023-03-15T18:42:44.185Z"
   },
   {
    "duration": 0,
    "start_time": "2023-03-15T18:42:44.187Z"
   },
   {
    "duration": 0,
    "start_time": "2023-03-15T18:42:44.189Z"
   },
   {
    "duration": 0,
    "start_time": "2023-03-15T18:42:44.190Z"
   },
   {
    "duration": 0,
    "start_time": "2023-03-15T18:42:44.193Z"
   },
   {
    "duration": 0,
    "start_time": "2023-03-15T18:42:44.195Z"
   },
   {
    "duration": 0,
    "start_time": "2023-03-15T18:42:44.197Z"
   },
   {
    "duration": 0,
    "start_time": "2023-03-15T18:42:44.197Z"
   },
   {
    "duration": 0,
    "start_time": "2023-03-15T18:42:44.198Z"
   },
   {
    "duration": 0,
    "start_time": "2023-03-15T18:42:44.199Z"
   },
   {
    "duration": 0,
    "start_time": "2023-03-15T18:42:44.200Z"
   },
   {
    "duration": 0,
    "start_time": "2023-03-15T18:42:44.201Z"
   },
   {
    "duration": 0,
    "start_time": "2023-03-15T18:42:44.203Z"
   },
   {
    "duration": 0,
    "start_time": "2023-03-15T18:42:44.204Z"
   },
   {
    "duration": 0,
    "start_time": "2023-03-15T18:42:44.205Z"
   },
   {
    "duration": 0,
    "start_time": "2023-03-15T18:42:44.207Z"
   },
   {
    "duration": 0,
    "start_time": "2023-03-15T18:42:44.208Z"
   },
   {
    "duration": 0,
    "start_time": "2023-03-15T18:42:44.210Z"
   },
   {
    "duration": 0,
    "start_time": "2023-03-15T18:42:44.211Z"
   },
   {
    "duration": 0,
    "start_time": "2023-03-15T18:42:44.214Z"
   },
   {
    "duration": 0,
    "start_time": "2023-03-15T18:42:44.215Z"
   },
   {
    "duration": 0,
    "start_time": "2023-03-15T18:42:44.217Z"
   },
   {
    "duration": 0,
    "start_time": "2023-03-15T18:42:44.219Z"
   },
   {
    "duration": 0,
    "start_time": "2023-03-15T18:42:44.220Z"
   },
   {
    "duration": 0,
    "start_time": "2023-03-15T18:42:44.222Z"
   },
   {
    "duration": 0,
    "start_time": "2023-03-15T18:42:44.282Z"
   },
   {
    "duration": 0,
    "start_time": "2023-03-15T18:42:44.284Z"
   },
   {
    "duration": 0,
    "start_time": "2023-03-15T18:42:44.287Z"
   },
   {
    "duration": 0,
    "start_time": "2023-03-15T18:42:44.289Z"
   },
   {
    "duration": 0,
    "start_time": "2023-03-15T18:42:44.291Z"
   },
   {
    "duration": 0,
    "start_time": "2023-03-15T18:42:44.292Z"
   },
   {
    "duration": 0,
    "start_time": "2023-03-15T18:42:44.294Z"
   },
   {
    "duration": 0,
    "start_time": "2023-03-15T18:42:44.295Z"
   },
   {
    "duration": 0,
    "start_time": "2023-03-15T18:42:44.297Z"
   },
   {
    "duration": 13,
    "start_time": "2023-03-15T18:43:05.486Z"
   },
   {
    "duration": 16,
    "start_time": "2023-03-15T18:43:33.828Z"
   },
   {
    "duration": 66,
    "start_time": "2023-03-15T18:43:39.076Z"
   },
   {
    "duration": 14,
    "start_time": "2023-03-15T18:43:39.144Z"
   },
   {
    "duration": 56,
    "start_time": "2023-03-15T18:43:39.160Z"
   },
   {
    "duration": 18,
    "start_time": "2023-03-15T18:43:39.219Z"
   },
   {
    "duration": 50,
    "start_time": "2023-03-15T18:43:39.239Z"
   },
   {
    "duration": 724,
    "start_time": "2023-03-15T18:43:39.291Z"
   },
   {
    "duration": 10,
    "start_time": "2023-03-15T18:43:40.017Z"
   },
   {
    "duration": 24,
    "start_time": "2023-03-15T18:43:40.029Z"
   },
   {
    "duration": 27,
    "start_time": "2023-03-15T18:43:40.056Z"
   },
   {
    "duration": 24,
    "start_time": "2023-03-15T18:43:40.095Z"
   },
   {
    "duration": 5,
    "start_time": "2023-03-15T18:43:40.121Z"
   },
   {
    "duration": 27,
    "start_time": "2023-03-15T18:43:40.128Z"
   },
   {
    "duration": 3,
    "start_time": "2023-03-15T18:43:40.157Z"
   },
   {
    "duration": 26,
    "start_time": "2023-03-15T18:43:40.182Z"
   },
   {
    "duration": 6,
    "start_time": "2023-03-15T18:43:40.210Z"
   },
   {
    "duration": 10,
    "start_time": "2023-03-15T18:43:40.218Z"
   },
   {
    "duration": 52,
    "start_time": "2023-03-15T18:43:40.230Z"
   },
   {
    "duration": 13,
    "start_time": "2023-03-15T18:43:40.284Z"
   },
   {
    "duration": 9,
    "start_time": "2023-03-15T18:43:40.299Z"
   },
   {
    "duration": 31,
    "start_time": "2023-03-15T18:43:40.310Z"
   },
   {
    "duration": 4,
    "start_time": "2023-03-15T18:43:40.344Z"
   },
   {
    "duration": 33,
    "start_time": "2023-03-15T18:43:40.350Z"
   },
   {
    "duration": 21,
    "start_time": "2023-03-15T18:43:40.385Z"
   },
   {
    "duration": 23,
    "start_time": "2023-03-15T18:43:40.409Z"
   },
   {
    "duration": 13,
    "start_time": "2023-03-15T18:43:40.434Z"
   },
   {
    "duration": 34,
    "start_time": "2023-03-15T18:43:40.449Z"
   },
   {
    "duration": 16,
    "start_time": "2023-03-15T18:43:40.485Z"
   },
   {
    "duration": 0,
    "start_time": "2023-03-15T18:43:40.505Z"
   },
   {
    "duration": 0,
    "start_time": "2023-03-15T18:43:40.507Z"
   },
   {
    "duration": 0,
    "start_time": "2023-03-15T18:43:40.508Z"
   },
   {
    "duration": 0,
    "start_time": "2023-03-15T18:43:40.514Z"
   },
   {
    "duration": 0,
    "start_time": "2023-03-15T18:43:40.516Z"
   },
   {
    "duration": 0,
    "start_time": "2023-03-15T18:43:40.517Z"
   },
   {
    "duration": 0,
    "start_time": "2023-03-15T18:43:40.519Z"
   },
   {
    "duration": 1,
    "start_time": "2023-03-15T18:43:40.520Z"
   },
   {
    "duration": 0,
    "start_time": "2023-03-15T18:43:40.522Z"
   },
   {
    "duration": 0,
    "start_time": "2023-03-15T18:43:40.523Z"
   },
   {
    "duration": 0,
    "start_time": "2023-03-15T18:43:40.526Z"
   },
   {
    "duration": 0,
    "start_time": "2023-03-15T18:43:40.527Z"
   },
   {
    "duration": 0,
    "start_time": "2023-03-15T18:43:40.529Z"
   },
   {
    "duration": 0,
    "start_time": "2023-03-15T18:43:40.531Z"
   },
   {
    "duration": 0,
    "start_time": "2023-03-15T18:43:40.532Z"
   },
   {
    "duration": 0,
    "start_time": "2023-03-15T18:43:40.534Z"
   },
   {
    "duration": 0,
    "start_time": "2023-03-15T18:43:40.535Z"
   },
   {
    "duration": 0,
    "start_time": "2023-03-15T18:43:40.536Z"
   },
   {
    "duration": 0,
    "start_time": "2023-03-15T18:43:40.537Z"
   },
   {
    "duration": 0,
    "start_time": "2023-03-15T18:43:40.582Z"
   },
   {
    "duration": 0,
    "start_time": "2023-03-15T18:43:40.583Z"
   },
   {
    "duration": 0,
    "start_time": "2023-03-15T18:43:40.585Z"
   },
   {
    "duration": 0,
    "start_time": "2023-03-15T18:43:40.586Z"
   },
   {
    "duration": 0,
    "start_time": "2023-03-15T18:43:40.588Z"
   },
   {
    "duration": 0,
    "start_time": "2023-03-15T18:43:40.590Z"
   },
   {
    "duration": 0,
    "start_time": "2023-03-15T18:43:40.591Z"
   },
   {
    "duration": 0,
    "start_time": "2023-03-15T18:43:40.593Z"
   },
   {
    "duration": 0,
    "start_time": "2023-03-15T18:43:40.594Z"
   },
   {
    "duration": 0,
    "start_time": "2023-03-15T18:43:40.596Z"
   },
   {
    "duration": 0,
    "start_time": "2023-03-15T18:43:40.598Z"
   },
   {
    "duration": 0,
    "start_time": "2023-03-15T18:43:40.600Z"
   },
   {
    "duration": 0,
    "start_time": "2023-03-15T18:43:40.602Z"
   },
   {
    "duration": 0,
    "start_time": "2023-03-15T18:43:40.603Z"
   },
   {
    "duration": 0,
    "start_time": "2023-03-15T18:43:40.604Z"
   },
   {
    "duration": 0,
    "start_time": "2023-03-15T18:43:40.606Z"
   },
   {
    "duration": 0,
    "start_time": "2023-03-15T18:43:40.607Z"
   },
   {
    "duration": 0,
    "start_time": "2023-03-15T18:43:40.608Z"
   },
   {
    "duration": 0,
    "start_time": "2023-03-15T18:43:40.610Z"
   },
   {
    "duration": 0,
    "start_time": "2023-03-15T18:43:40.611Z"
   },
   {
    "duration": 0,
    "start_time": "2023-03-15T18:43:40.613Z"
   },
   {
    "duration": 0,
    "start_time": "2023-03-15T18:43:40.614Z"
   },
   {
    "duration": 0,
    "start_time": "2023-03-15T18:43:40.616Z"
   },
   {
    "duration": 90,
    "start_time": "2023-03-15T18:43:50.326Z"
   },
   {
    "duration": 17,
    "start_time": "2023-03-15T18:43:53.268Z"
   },
   {
    "duration": 43,
    "start_time": "2023-03-15T18:43:56.868Z"
   },
   {
    "duration": 19,
    "start_time": "2023-03-15T18:44:01.549Z"
   },
   {
    "duration": 26,
    "start_time": "2023-03-15T18:44:05.180Z"
   },
   {
    "duration": 644,
    "start_time": "2023-03-15T18:44:07.556Z"
   },
   {
    "duration": 11,
    "start_time": "2023-03-15T18:44:12.212Z"
   },
   {
    "duration": 17,
    "start_time": "2023-03-15T18:44:15.452Z"
   },
   {
    "duration": 9,
    "start_time": "2023-03-15T18:44:20.990Z"
   },
   {
    "duration": 23,
    "start_time": "2023-03-15T18:44:24.097Z"
   },
   {
    "duration": 3,
    "start_time": "2023-03-15T18:44:30.148Z"
   },
   {
    "duration": 6,
    "start_time": "2023-03-15T18:44:52.796Z"
   },
   {
    "duration": 5,
    "start_time": "2023-03-15T18:45:04.332Z"
   },
   {
    "duration": 24,
    "start_time": "2023-03-15T18:45:06.390Z"
   },
   {
    "duration": 5,
    "start_time": "2023-03-15T18:45:09.212Z"
   },
   {
    "duration": 5,
    "start_time": "2023-03-15T18:45:13.200Z"
   },
   {
    "duration": 15,
    "start_time": "2023-03-15T18:45:17.221Z"
   },
   {
    "duration": 25,
    "start_time": "2023-03-15T18:45:21.277Z"
   },
   {
    "duration": 7,
    "start_time": "2023-03-15T18:45:25.893Z"
   },
   {
    "duration": 10,
    "start_time": "2023-03-15T18:45:29.362Z"
   },
   {
    "duration": 7,
    "start_time": "2023-03-15T18:48:37.170Z"
   },
   {
    "duration": 6,
    "start_time": "2023-03-15T18:49:34.529Z"
   },
   {
    "duration": 6,
    "start_time": "2023-03-15T18:49:41.534Z"
   },
   {
    "duration": 65,
    "start_time": "2023-03-15T18:49:58.209Z"
   },
   {
    "duration": 20,
    "start_time": "2023-03-15T18:49:58.277Z"
   },
   {
    "duration": 44,
    "start_time": "2023-03-15T18:49:58.299Z"
   },
   {
    "duration": 40,
    "start_time": "2023-03-15T18:49:58.346Z"
   },
   {
    "duration": 36,
    "start_time": "2023-03-15T18:49:58.388Z"
   },
   {
    "duration": 644,
    "start_time": "2023-03-15T18:49:58.426Z"
   },
   {
    "duration": 19,
    "start_time": "2023-03-15T18:49:59.072Z"
   },
   {
    "duration": 27,
    "start_time": "2023-03-15T18:49:59.093Z"
   },
   {
    "duration": 14,
    "start_time": "2023-03-15T18:49:59.122Z"
   },
   {
    "duration": 33,
    "start_time": "2023-03-15T18:49:59.140Z"
   },
   {
    "duration": 7,
    "start_time": "2023-03-15T18:49:59.181Z"
   },
   {
    "duration": 10,
    "start_time": "2023-03-15T18:49:59.190Z"
   },
   {
    "duration": 27,
    "start_time": "2023-03-15T18:49:59.202Z"
   },
   {
    "duration": 3,
    "start_time": "2023-03-15T18:49:59.231Z"
   },
   {
    "duration": 11,
    "start_time": "2023-03-15T18:49:59.236Z"
   },
   {
    "duration": 41,
    "start_time": "2023-03-15T18:49:59.249Z"
   },
   {
    "duration": 5,
    "start_time": "2023-03-15T18:49:59.292Z"
   },
   {
    "duration": 13,
    "start_time": "2023-03-15T18:49:59.298Z"
   },
   {
    "duration": 28,
    "start_time": "2023-03-15T18:49:59.313Z"
   },
   {
    "duration": 14,
    "start_time": "2023-03-15T18:49:59.343Z"
   },
   {
    "duration": 33,
    "start_time": "2023-03-15T18:49:59.359Z"
   },
   {
    "duration": 37,
    "start_time": "2023-03-15T18:49:59.395Z"
   },
   {
    "duration": 6,
    "start_time": "2023-03-15T18:49:59.435Z"
   },
   {
    "duration": 10,
    "start_time": "2023-03-15T18:49:59.443Z"
   },
   {
    "duration": 33,
    "start_time": "2023-03-15T18:49:59.455Z"
   },
   {
    "duration": 35,
    "start_time": "2023-03-15T18:49:59.490Z"
   },
   {
    "duration": 10,
    "start_time": "2023-03-15T18:49:59.527Z"
   },
   {
    "duration": 4,
    "start_time": "2023-03-15T18:49:59.542Z"
   },
   {
    "duration": 15,
    "start_time": "2023-03-15T18:49:59.548Z"
   },
   {
    "duration": 0,
    "start_time": "2023-03-15T18:49:59.564Z"
   },
   {
    "duration": 0,
    "start_time": "2023-03-15T18:49:59.581Z"
   },
   {
    "duration": 0,
    "start_time": "2023-03-15T18:49:59.582Z"
   },
   {
    "duration": 0,
    "start_time": "2023-03-15T18:49:59.583Z"
   },
   {
    "duration": 0,
    "start_time": "2023-03-15T18:49:59.584Z"
   },
   {
    "duration": 0,
    "start_time": "2023-03-15T18:49:59.585Z"
   },
   {
    "duration": 0,
    "start_time": "2023-03-15T18:49:59.586Z"
   },
   {
    "duration": 0,
    "start_time": "2023-03-15T18:49:59.587Z"
   },
   {
    "duration": 0,
    "start_time": "2023-03-15T18:49:59.588Z"
   },
   {
    "duration": 0,
    "start_time": "2023-03-15T18:49:59.589Z"
   },
   {
    "duration": 0,
    "start_time": "2023-03-15T18:49:59.590Z"
   },
   {
    "duration": 0,
    "start_time": "2023-03-15T18:49:59.591Z"
   },
   {
    "duration": 0,
    "start_time": "2023-03-15T18:49:59.592Z"
   },
   {
    "duration": 0,
    "start_time": "2023-03-15T18:49:59.592Z"
   },
   {
    "duration": 0,
    "start_time": "2023-03-15T18:49:59.594Z"
   },
   {
    "duration": 0,
    "start_time": "2023-03-15T18:49:59.595Z"
   },
   {
    "duration": 0,
    "start_time": "2023-03-15T18:49:59.596Z"
   },
   {
    "duration": 0,
    "start_time": "2023-03-15T18:49:59.597Z"
   },
   {
    "duration": 1,
    "start_time": "2023-03-15T18:49:59.597Z"
   },
   {
    "duration": 0,
    "start_time": "2023-03-15T18:49:59.599Z"
   },
   {
    "duration": 0,
    "start_time": "2023-03-15T18:49:59.599Z"
   },
   {
    "duration": 0,
    "start_time": "2023-03-15T18:49:59.600Z"
   },
   {
    "duration": 0,
    "start_time": "2023-03-15T18:49:59.601Z"
   },
   {
    "duration": 0,
    "start_time": "2023-03-15T18:49:59.602Z"
   },
   {
    "duration": 0,
    "start_time": "2023-03-15T18:49:59.603Z"
   },
   {
    "duration": 0,
    "start_time": "2023-03-15T18:49:59.604Z"
   },
   {
    "duration": 0,
    "start_time": "2023-03-15T18:49:59.606Z"
   },
   {
    "duration": 0,
    "start_time": "2023-03-15T18:49:59.607Z"
   },
   {
    "duration": 0,
    "start_time": "2023-03-15T18:49:59.608Z"
   },
   {
    "duration": 0,
    "start_time": "2023-03-15T18:49:59.609Z"
   },
   {
    "duration": 0,
    "start_time": "2023-03-15T18:49:59.610Z"
   },
   {
    "duration": 0,
    "start_time": "2023-03-15T18:49:59.611Z"
   },
   {
    "duration": 0,
    "start_time": "2023-03-15T18:49:59.613Z"
   },
   {
    "duration": 0,
    "start_time": "2023-03-15T18:49:59.614Z"
   },
   {
    "duration": 0,
    "start_time": "2023-03-15T18:49:59.614Z"
   },
   {
    "duration": 0,
    "start_time": "2023-03-15T18:49:59.616Z"
   },
   {
    "duration": 0,
    "start_time": "2023-03-15T18:49:59.616Z"
   },
   {
    "duration": 0,
    "start_time": "2023-03-15T18:49:59.617Z"
   },
   {
    "duration": 0,
    "start_time": "2023-03-15T18:49:59.619Z"
   },
   {
    "duration": 0,
    "start_time": "2023-03-15T18:49:59.681Z"
   },
   {
    "duration": 0,
    "start_time": "2023-03-15T18:49:59.682Z"
   },
   {
    "duration": 0,
    "start_time": "2023-03-15T18:49:59.684Z"
   },
   {
    "duration": 67,
    "start_time": "2023-03-15T18:50:04.330Z"
   },
   {
    "duration": 15,
    "start_time": "2023-03-15T18:50:04.399Z"
   },
   {
    "duration": 36,
    "start_time": "2023-03-15T18:50:04.416Z"
   },
   {
    "duration": 38,
    "start_time": "2023-03-15T18:50:04.455Z"
   },
   {
    "duration": 20,
    "start_time": "2023-03-15T18:50:04.495Z"
   },
   {
    "duration": 657,
    "start_time": "2023-03-15T18:50:04.517Z"
   },
   {
    "duration": 14,
    "start_time": "2023-03-15T18:50:05.176Z"
   },
   {
    "duration": 24,
    "start_time": "2023-03-15T18:50:05.192Z"
   },
   {
    "duration": 20,
    "start_time": "2023-03-15T18:50:05.218Z"
   },
   {
    "duration": 27,
    "start_time": "2023-03-15T18:50:05.241Z"
   },
   {
    "duration": 11,
    "start_time": "2023-03-15T18:50:05.270Z"
   },
   {
    "duration": 7,
    "start_time": "2023-03-15T18:50:05.284Z"
   },
   {
    "duration": 26,
    "start_time": "2023-03-15T18:50:05.293Z"
   },
   {
    "duration": 4,
    "start_time": "2023-03-15T18:50:05.321Z"
   },
   {
    "duration": 19,
    "start_time": "2023-03-15T18:50:05.326Z"
   },
   {
    "duration": 43,
    "start_time": "2023-03-15T18:50:05.347Z"
   },
   {
    "duration": 5,
    "start_time": "2023-03-15T18:50:05.392Z"
   },
   {
    "duration": 9,
    "start_time": "2023-03-15T18:50:05.399Z"
   },
   {
    "duration": 41,
    "start_time": "2023-03-15T18:50:05.410Z"
   },
   {
    "duration": 27,
    "start_time": "2023-03-15T18:50:05.454Z"
   },
   {
    "duration": 6,
    "start_time": "2023-03-15T18:50:05.482Z"
   },
   {
    "duration": 35,
    "start_time": "2023-03-15T18:50:05.490Z"
   },
   {
    "duration": 5,
    "start_time": "2023-03-15T18:50:05.528Z"
   },
   {
    "duration": 22,
    "start_time": "2023-03-15T18:50:05.535Z"
   },
   {
    "duration": 23,
    "start_time": "2023-03-15T18:50:05.559Z"
   },
   {
    "duration": 23,
    "start_time": "2023-03-15T18:50:05.583Z"
   },
   {
    "duration": 9,
    "start_time": "2023-03-15T18:50:05.608Z"
   },
   {
    "duration": 6,
    "start_time": "2023-03-15T18:50:05.621Z"
   },
   {
    "duration": 28,
    "start_time": "2023-03-15T18:50:05.629Z"
   },
   {
    "duration": 0,
    "start_time": "2023-03-15T18:50:05.659Z"
   },
   {
    "duration": 0,
    "start_time": "2023-03-15T18:50:05.660Z"
   },
   {
    "duration": 0,
    "start_time": "2023-03-15T18:50:05.661Z"
   },
   {
    "duration": 0,
    "start_time": "2023-03-15T18:50:05.662Z"
   },
   {
    "duration": 0,
    "start_time": "2023-03-15T18:50:05.663Z"
   },
   {
    "duration": 0,
    "start_time": "2023-03-15T18:50:05.664Z"
   },
   {
    "duration": 0,
    "start_time": "2023-03-15T18:50:05.665Z"
   },
   {
    "duration": 0,
    "start_time": "2023-03-15T18:50:05.681Z"
   },
   {
    "duration": 0,
    "start_time": "2023-03-15T18:50:05.682Z"
   },
   {
    "duration": 0,
    "start_time": "2023-03-15T18:50:05.683Z"
   },
   {
    "duration": 0,
    "start_time": "2023-03-15T18:50:05.684Z"
   },
   {
    "duration": 0,
    "start_time": "2023-03-15T18:50:05.685Z"
   },
   {
    "duration": 0,
    "start_time": "2023-03-15T18:50:05.687Z"
   },
   {
    "duration": 0,
    "start_time": "2023-03-15T18:50:05.688Z"
   },
   {
    "duration": 0,
    "start_time": "2023-03-15T18:50:05.688Z"
   },
   {
    "duration": 0,
    "start_time": "2023-03-15T18:50:05.689Z"
   },
   {
    "duration": 0,
    "start_time": "2023-03-15T18:50:05.690Z"
   },
   {
    "duration": 0,
    "start_time": "2023-03-15T18:50:05.691Z"
   },
   {
    "duration": 0,
    "start_time": "2023-03-15T18:50:05.692Z"
   },
   {
    "duration": 0,
    "start_time": "2023-03-15T18:50:05.694Z"
   },
   {
    "duration": 0,
    "start_time": "2023-03-15T18:50:05.695Z"
   },
   {
    "duration": 0,
    "start_time": "2023-03-15T18:50:05.696Z"
   },
   {
    "duration": 0,
    "start_time": "2023-03-15T18:50:05.697Z"
   },
   {
    "duration": 0,
    "start_time": "2023-03-15T18:50:05.698Z"
   },
   {
    "duration": 0,
    "start_time": "2023-03-15T18:50:05.699Z"
   },
   {
    "duration": 0,
    "start_time": "2023-03-15T18:50:05.700Z"
   },
   {
    "duration": 0,
    "start_time": "2023-03-15T18:50:05.702Z"
   },
   {
    "duration": 0,
    "start_time": "2023-03-15T18:50:05.703Z"
   },
   {
    "duration": 0,
    "start_time": "2023-03-15T18:50:05.704Z"
   },
   {
    "duration": 0,
    "start_time": "2023-03-15T18:50:05.704Z"
   },
   {
    "duration": 0,
    "start_time": "2023-03-15T18:50:05.706Z"
   },
   {
    "duration": 0,
    "start_time": "2023-03-15T18:50:05.707Z"
   },
   {
    "duration": 0,
    "start_time": "2023-03-15T18:50:05.708Z"
   },
   {
    "duration": 0,
    "start_time": "2023-03-15T18:50:05.709Z"
   },
   {
    "duration": 0,
    "start_time": "2023-03-15T18:50:05.713Z"
   },
   {
    "duration": 0,
    "start_time": "2023-03-15T18:50:05.715Z"
   },
   {
    "duration": 0,
    "start_time": "2023-03-15T18:50:05.717Z"
   },
   {
    "duration": 0,
    "start_time": "2023-03-15T18:50:05.718Z"
   },
   {
    "duration": 0,
    "start_time": "2023-03-15T18:50:05.720Z"
   },
   {
    "duration": 0,
    "start_time": "2023-03-15T18:50:05.782Z"
   },
   {
    "duration": 0,
    "start_time": "2023-03-15T18:50:05.783Z"
   },
   {
    "duration": 0,
    "start_time": "2023-03-15T18:50:05.784Z"
   },
   {
    "duration": 4,
    "start_time": "2023-03-15T18:50:44.098Z"
   },
   {
    "duration": 4,
    "start_time": "2023-03-15T18:50:47.386Z"
   },
   {
    "duration": 6,
    "start_time": "2023-03-15T18:50:49.528Z"
   },
   {
    "duration": 32,
    "start_time": "2023-03-15T18:50:54.044Z"
   },
   {
    "duration": 5,
    "start_time": "2023-03-15T18:51:23.488Z"
   },
   {
    "duration": 5,
    "start_time": "2023-03-15T18:51:25.048Z"
   },
   {
    "duration": 26,
    "start_time": "2023-03-15T18:51:28.201Z"
   },
   {
    "duration": 5,
    "start_time": "2023-03-15T18:51:32.649Z"
   },
   {
    "duration": 6,
    "start_time": "2023-03-15T18:51:35.808Z"
   },
   {
    "duration": 10,
    "start_time": "2023-03-15T18:51:50.608Z"
   },
   {
    "duration": 7,
    "start_time": "2023-03-15T18:51:54.512Z"
   },
   {
    "duration": 6,
    "start_time": "2023-03-15T18:52:15.543Z"
   },
   {
    "duration": 5,
    "start_time": "2023-03-15T18:52:22.685Z"
   },
   {
    "duration": 6,
    "start_time": "2023-03-15T18:52:24.286Z"
   },
   {
    "duration": 10,
    "start_time": "2023-03-15T18:52:26.119Z"
   },
   {
    "duration": 15,
    "start_time": "2023-03-15T18:53:58.869Z"
   },
   {
    "duration": 5,
    "start_time": "2023-03-15T18:54:01.423Z"
   },
   {
    "duration": 17,
    "start_time": "2023-03-15T18:54:09.063Z"
   },
   {
    "duration": 5,
    "start_time": "2023-03-15T18:54:18.246Z"
   },
   {
    "duration": 778,
    "start_time": "2023-03-15T18:54:33.068Z"
   },
   {
    "duration": 14,
    "start_time": "2023-03-15T18:54:33.848Z"
   },
   {
    "duration": 30,
    "start_time": "2023-03-15T18:54:33.864Z"
   },
   {
    "duration": 14,
    "start_time": "2023-03-15T18:54:33.897Z"
   },
   {
    "duration": 31,
    "start_time": "2023-03-15T18:54:33.912Z"
   },
   {
    "duration": 1232,
    "start_time": "2023-03-15T18:54:33.944Z"
   },
   {
    "duration": 9,
    "start_time": "2023-03-15T18:54:35.181Z"
   },
   {
    "duration": 54,
    "start_time": "2023-03-15T18:54:35.191Z"
   },
   {
    "duration": 21,
    "start_time": "2023-03-15T18:54:35.247Z"
   },
   {
    "duration": 33,
    "start_time": "2023-03-15T18:54:35.271Z"
   },
   {
    "duration": 23,
    "start_time": "2023-03-15T18:54:35.306Z"
   },
   {
    "duration": 19,
    "start_time": "2023-03-15T18:54:35.331Z"
   },
   {
    "duration": 33,
    "start_time": "2023-03-15T18:54:35.352Z"
   },
   {
    "duration": 3,
    "start_time": "2023-03-15T18:54:35.387Z"
   },
   {
    "duration": 16,
    "start_time": "2023-03-15T18:54:35.392Z"
   },
   {
    "duration": 40,
    "start_time": "2023-03-15T18:54:35.410Z"
   },
   {
    "duration": 7,
    "start_time": "2023-03-15T18:54:35.452Z"
   },
   {
    "duration": 10,
    "start_time": "2023-03-15T18:54:35.461Z"
   },
   {
    "duration": 36,
    "start_time": "2023-03-15T18:54:35.474Z"
   },
   {
    "duration": 16,
    "start_time": "2023-03-15T18:54:35.512Z"
   },
   {
    "duration": 15,
    "start_time": "2023-03-15T18:54:35.530Z"
   },
   {
    "duration": 29,
    "start_time": "2023-03-15T18:54:35.547Z"
   },
   {
    "duration": 34,
    "start_time": "2023-03-15T18:54:35.578Z"
   },
   {
    "duration": 5,
    "start_time": "2023-03-15T18:54:35.613Z"
   },
   {
    "duration": 22,
    "start_time": "2023-03-15T18:54:35.620Z"
   },
   {
    "duration": 22,
    "start_time": "2023-03-15T18:54:35.644Z"
   },
   {
    "duration": 8,
    "start_time": "2023-03-15T18:54:35.668Z"
   },
   {
    "duration": 4,
    "start_time": "2023-03-15T18:54:35.680Z"
   },
   {
    "duration": 113,
    "start_time": "2023-03-15T18:54:35.686Z"
   },
   {
    "duration": 0,
    "start_time": "2023-03-15T18:54:35.801Z"
   },
   {
    "duration": 0,
    "start_time": "2023-03-15T18:54:35.803Z"
   },
   {
    "duration": 0,
    "start_time": "2023-03-15T18:54:35.805Z"
   },
   {
    "duration": 0,
    "start_time": "2023-03-15T18:54:35.806Z"
   },
   {
    "duration": 0,
    "start_time": "2023-03-15T18:54:35.808Z"
   },
   {
    "duration": 0,
    "start_time": "2023-03-15T18:54:35.809Z"
   },
   {
    "duration": 0,
    "start_time": "2023-03-15T18:54:35.810Z"
   },
   {
    "duration": 0,
    "start_time": "2023-03-15T18:54:35.812Z"
   },
   {
    "duration": 0,
    "start_time": "2023-03-15T18:54:35.813Z"
   },
   {
    "duration": 0,
    "start_time": "2023-03-15T18:54:35.816Z"
   },
   {
    "duration": 0,
    "start_time": "2023-03-15T18:54:35.821Z"
   },
   {
    "duration": 0,
    "start_time": "2023-03-15T18:54:35.822Z"
   },
   {
    "duration": 1,
    "start_time": "2023-03-15T18:54:35.823Z"
   },
   {
    "duration": 0,
    "start_time": "2023-03-15T18:54:35.825Z"
   },
   {
    "duration": 0,
    "start_time": "2023-03-15T18:54:35.827Z"
   },
   {
    "duration": 0,
    "start_time": "2023-03-15T18:54:35.831Z"
   },
   {
    "duration": 0,
    "start_time": "2023-03-15T18:54:35.832Z"
   },
   {
    "duration": 0,
    "start_time": "2023-03-15T18:54:35.834Z"
   },
   {
    "duration": 0,
    "start_time": "2023-03-15T18:54:35.835Z"
   },
   {
    "duration": 0,
    "start_time": "2023-03-15T18:54:35.837Z"
   },
   {
    "duration": 0,
    "start_time": "2023-03-15T18:54:35.881Z"
   },
   {
    "duration": 0,
    "start_time": "2023-03-15T18:54:35.883Z"
   },
   {
    "duration": 0,
    "start_time": "2023-03-15T18:54:35.884Z"
   },
   {
    "duration": 0,
    "start_time": "2023-03-15T18:54:35.886Z"
   },
   {
    "duration": 0,
    "start_time": "2023-03-15T18:54:35.887Z"
   },
   {
    "duration": 0,
    "start_time": "2023-03-15T18:54:35.889Z"
   },
   {
    "duration": 0,
    "start_time": "2023-03-15T18:54:35.890Z"
   },
   {
    "duration": 0,
    "start_time": "2023-03-15T18:54:35.891Z"
   },
   {
    "duration": 0,
    "start_time": "2023-03-15T18:54:35.893Z"
   },
   {
    "duration": 0,
    "start_time": "2023-03-15T18:54:35.894Z"
   },
   {
    "duration": 0,
    "start_time": "2023-03-15T18:54:35.896Z"
   },
   {
    "duration": 0,
    "start_time": "2023-03-15T18:54:35.897Z"
   },
   {
    "duration": 0,
    "start_time": "2023-03-15T18:54:35.898Z"
   },
   {
    "duration": 0,
    "start_time": "2023-03-15T18:54:35.900Z"
   },
   {
    "duration": 0,
    "start_time": "2023-03-15T18:54:35.902Z"
   },
   {
    "duration": 0,
    "start_time": "2023-03-15T18:54:35.904Z"
   },
   {
    "duration": 0,
    "start_time": "2023-03-15T18:54:35.905Z"
   },
   {
    "duration": 0,
    "start_time": "2023-03-15T18:54:35.906Z"
   },
   {
    "duration": 0,
    "start_time": "2023-03-15T18:54:35.908Z"
   },
   {
    "duration": 0,
    "start_time": "2023-03-15T18:54:35.910Z"
   },
   {
    "duration": 0,
    "start_time": "2023-03-15T18:54:35.911Z"
   },
   {
    "duration": 0,
    "start_time": "2023-03-15T18:54:35.912Z"
   },
   {
    "duration": 25,
    "start_time": "2023-03-15T18:54:57.630Z"
   },
   {
    "duration": 82,
    "start_time": "2023-03-15T18:55:06.329Z"
   },
   {
    "duration": 15,
    "start_time": "2023-03-15T18:55:10.093Z"
   },
   {
    "duration": 30,
    "start_time": "2023-03-15T18:55:16.856Z"
   },
   {
    "duration": 15,
    "start_time": "2023-03-15T18:55:19.925Z"
   },
   {
    "duration": 17,
    "start_time": "2023-03-15T18:55:22.461Z"
   },
   {
    "duration": 720,
    "start_time": "2023-03-15T18:55:25.517Z"
   },
   {
    "duration": 9,
    "start_time": "2023-03-15T18:55:29.068Z"
   },
   {
    "duration": 14,
    "start_time": "2023-03-15T18:55:33.941Z"
   },
   {
    "duration": 7,
    "start_time": "2023-03-15T18:55:37.417Z"
   },
   {
    "duration": 24,
    "start_time": "2023-03-15T18:55:40.585Z"
   },
   {
    "duration": 4,
    "start_time": "2023-03-15T18:55:47.043Z"
   },
   {
    "duration": 5,
    "start_time": "2023-03-15T18:55:49.709Z"
   },
   {
    "duration": 31,
    "start_time": "2023-03-15T18:55:52.352Z"
   },
   {
    "duration": 6,
    "start_time": "2023-03-15T18:55:55.942Z"
   },
   {
    "duration": 6,
    "start_time": "2023-03-15T18:55:57.879Z"
   },
   {
    "duration": 38,
    "start_time": "2023-03-15T18:56:00.435Z"
   },
   {
    "duration": 5,
    "start_time": "2023-03-15T18:56:06.924Z"
   },
   {
    "duration": 7,
    "start_time": "2023-03-15T18:56:09.637Z"
   },
   {
    "duration": 24,
    "start_time": "2023-03-15T18:56:14.152Z"
   },
   {
    "duration": 11,
    "start_time": "2023-03-15T18:56:22.367Z"
   },
   {
    "duration": 7,
    "start_time": "2023-03-15T18:56:25.228Z"
   },
   {
    "duration": 7,
    "start_time": "2023-03-15T18:56:26.637Z"
   },
   {
    "duration": 6,
    "start_time": "2023-03-15T18:56:29.685Z"
   },
   {
    "duration": 15,
    "start_time": "2023-03-15T18:56:33.816Z"
   },
   {
    "duration": 6,
    "start_time": "2023-03-15T18:56:36.157Z"
   },
   {
    "duration": 23,
    "start_time": "2023-03-15T18:56:43.252Z"
   },
   {
    "duration": 7,
    "start_time": "2023-03-15T18:56:47.524Z"
   },
   {
    "duration": 7,
    "start_time": "2023-03-15T18:56:50.741Z"
   },
   {
    "duration": 14,
    "start_time": "2023-03-15T18:56:53.679Z"
   },
   {
    "duration": 8,
    "start_time": "2023-03-15T18:57:02.907Z"
   },
   {
    "duration": 16,
    "start_time": "2023-03-15T18:57:07.163Z"
   },
   {
    "duration": 5,
    "start_time": "2023-03-15T18:57:11.071Z"
   },
   {
    "duration": 150,
    "start_time": "2023-03-15T18:57:15.363Z"
   },
   {
    "duration": 171,
    "start_time": "2023-03-15T18:57:20.013Z"
   },
   {
    "duration": 22,
    "start_time": "2023-03-15T18:57:25.478Z"
   },
   {
    "duration": 30,
    "start_time": "2023-03-15T18:57:29.373Z"
   },
   {
    "duration": 1183,
    "start_time": "2023-03-15T18:57:32.929Z"
   },
   {
    "duration": 13,
    "start_time": "2023-03-15T18:57:48.688Z"
   },
   {
    "duration": 7,
    "start_time": "2023-03-15T18:57:56.356Z"
   },
   {
    "duration": 1008,
    "start_time": "2023-03-15T18:58:00.548Z"
   },
   {
    "duration": 110,
    "start_time": "2023-03-15T18:58:09.843Z"
   },
   {
    "duration": 104,
    "start_time": "2023-03-15T18:58:12.588Z"
   },
   {
    "duration": 117,
    "start_time": "2023-03-15T18:58:15.189Z"
   },
   {
    "duration": 94,
    "start_time": "2023-03-15T18:58:17.907Z"
   },
   {
    "duration": 6,
    "start_time": "2023-03-15T18:58:22.571Z"
   },
   {
    "duration": 136,
    "start_time": "2023-03-15T18:58:29.422Z"
   },
   {
    "duration": 174,
    "start_time": "2023-03-15T18:58:32.193Z"
   },
   {
    "duration": 6,
    "start_time": "2023-03-15T18:58:35.252Z"
   },
   {
    "duration": 151,
    "start_time": "2023-03-15T18:58:39.083Z"
   },
   {
    "duration": 149,
    "start_time": "2023-03-15T18:58:41.688Z"
   },
   {
    "duration": 6,
    "start_time": "2023-03-15T18:58:45.083Z"
   },
   {
    "duration": 488,
    "start_time": "2023-03-15T18:58:47.798Z"
   },
   {
    "duration": 5,
    "start_time": "2023-03-15T18:59:17.564Z"
   },
   {
    "duration": 18,
    "start_time": "2023-03-15T18:59:23.881Z"
   },
   {
    "duration": 10,
    "start_time": "2023-03-15T19:01:31.716Z"
   },
   {
    "duration": 12,
    "start_time": "2023-03-15T19:01:35.935Z"
   },
   {
    "duration": 7,
    "start_time": "2023-03-15T19:01:38.474Z"
   },
   {
    "duration": 5,
    "start_time": "2023-03-15T19:01:49.778Z"
   },
   {
    "duration": 10,
    "start_time": "2023-03-15T19:02:28.819Z"
   },
   {
    "duration": 66,
    "start_time": "2023-03-15T19:02:32.942Z"
   },
   {
    "duration": 13,
    "start_time": "2023-03-15T19:02:33.011Z"
   },
   {
    "duration": 63,
    "start_time": "2023-03-15T19:02:33.026Z"
   },
   {
    "duration": 17,
    "start_time": "2023-03-15T19:02:33.091Z"
   },
   {
    "duration": 22,
    "start_time": "2023-03-15T19:02:33.110Z"
   },
   {
    "duration": 631,
    "start_time": "2023-03-15T19:02:33.134Z"
   },
   {
    "duration": 17,
    "start_time": "2023-03-15T19:02:33.767Z"
   },
   {
    "duration": 21,
    "start_time": "2023-03-15T19:02:33.786Z"
   },
   {
    "duration": 9,
    "start_time": "2023-03-15T19:02:33.808Z"
   },
   {
    "duration": 22,
    "start_time": "2023-03-15T19:02:33.818Z"
   },
   {
    "duration": 3,
    "start_time": "2023-03-15T19:02:33.842Z"
   },
   {
    "duration": 10,
    "start_time": "2023-03-15T19:02:33.847Z"
   },
   {
    "duration": 40,
    "start_time": "2023-03-15T19:02:33.860Z"
   },
   {
    "duration": 6,
    "start_time": "2023-03-15T19:02:33.904Z"
   },
   {
    "duration": 7,
    "start_time": "2023-03-15T19:02:33.912Z"
   },
   {
    "duration": 26,
    "start_time": "2023-03-15T19:02:33.921Z"
   },
   {
    "duration": 5,
    "start_time": "2023-03-15T19:02:33.949Z"
   },
   {
    "duration": 25,
    "start_time": "2023-03-15T19:02:33.982Z"
   },
   {
    "duration": 12,
    "start_time": "2023-03-15T19:02:34.009Z"
   },
   {
    "duration": 5,
    "start_time": "2023-03-15T19:02:34.023Z"
   },
   {
    "duration": 14,
    "start_time": "2023-03-15T19:02:34.029Z"
   },
   {
    "duration": 18,
    "start_time": "2023-03-15T19:02:34.045Z"
   },
   {
    "duration": 53,
    "start_time": "2023-03-15T19:02:34.065Z"
   },
   {
    "duration": 4,
    "start_time": "2023-03-15T19:02:34.120Z"
   },
   {
    "duration": 10,
    "start_time": "2023-03-15T19:02:34.126Z"
   },
   {
    "duration": 16,
    "start_time": "2023-03-15T19:02:34.137Z"
   },
   {
    "duration": 7,
    "start_time": "2023-03-15T19:02:34.155Z"
   },
   {
    "duration": 7,
    "start_time": "2023-03-15T19:02:34.164Z"
   },
   {
    "duration": 15,
    "start_time": "2023-03-15T19:02:34.180Z"
   },
   {
    "duration": 0,
    "start_time": "2023-03-15T19:02:34.198Z"
   },
   {
    "duration": 0,
    "start_time": "2023-03-15T19:02:34.200Z"
   },
   {
    "duration": 0,
    "start_time": "2023-03-15T19:02:34.201Z"
   },
   {
    "duration": 0,
    "start_time": "2023-03-15T19:02:34.202Z"
   },
   {
    "duration": 0,
    "start_time": "2023-03-15T19:02:34.203Z"
   },
   {
    "duration": 0,
    "start_time": "2023-03-15T19:02:34.204Z"
   },
   {
    "duration": 0,
    "start_time": "2023-03-15T19:02:34.205Z"
   },
   {
    "duration": 0,
    "start_time": "2023-03-15T19:02:34.206Z"
   },
   {
    "duration": 0,
    "start_time": "2023-03-15T19:02:34.208Z"
   },
   {
    "duration": 0,
    "start_time": "2023-03-15T19:02:34.208Z"
   },
   {
    "duration": 0,
    "start_time": "2023-03-15T19:02:34.210Z"
   },
   {
    "duration": 0,
    "start_time": "2023-03-15T19:02:34.211Z"
   },
   {
    "duration": 0,
    "start_time": "2023-03-15T19:02:34.212Z"
   },
   {
    "duration": 0,
    "start_time": "2023-03-15T19:02:34.213Z"
   },
   {
    "duration": 0,
    "start_time": "2023-03-15T19:02:34.214Z"
   },
   {
    "duration": 0,
    "start_time": "2023-03-15T19:02:34.215Z"
   },
   {
    "duration": 0,
    "start_time": "2023-03-15T19:02:34.217Z"
   },
   {
    "duration": 0,
    "start_time": "2023-03-15T19:02:34.218Z"
   },
   {
    "duration": 0,
    "start_time": "2023-03-15T19:02:34.219Z"
   },
   {
    "duration": 0,
    "start_time": "2023-03-15T19:02:34.220Z"
   },
   {
    "duration": 0,
    "start_time": "2023-03-15T19:02:34.221Z"
   },
   {
    "duration": 0,
    "start_time": "2023-03-15T19:02:34.222Z"
   },
   {
    "duration": 0,
    "start_time": "2023-03-15T19:02:34.223Z"
   },
   {
    "duration": 0,
    "start_time": "2023-03-15T19:02:34.224Z"
   },
   {
    "duration": 0,
    "start_time": "2023-03-15T19:02:34.225Z"
   },
   {
    "duration": 0,
    "start_time": "2023-03-15T19:02:34.280Z"
   },
   {
    "duration": 0,
    "start_time": "2023-03-15T19:02:34.282Z"
   },
   {
    "duration": 0,
    "start_time": "2023-03-15T19:02:34.283Z"
   },
   {
    "duration": 0,
    "start_time": "2023-03-15T19:02:34.284Z"
   },
   {
    "duration": 0,
    "start_time": "2023-03-15T19:02:34.286Z"
   },
   {
    "duration": 0,
    "start_time": "2023-03-15T19:02:34.287Z"
   },
   {
    "duration": 0,
    "start_time": "2023-03-15T19:02:34.288Z"
   },
   {
    "duration": 0,
    "start_time": "2023-03-15T19:02:34.290Z"
   },
   {
    "duration": 0,
    "start_time": "2023-03-15T19:02:34.291Z"
   },
   {
    "duration": 0,
    "start_time": "2023-03-15T19:02:34.292Z"
   },
   {
    "duration": 0,
    "start_time": "2023-03-15T19:02:34.293Z"
   },
   {
    "duration": 0,
    "start_time": "2023-03-15T19:02:34.294Z"
   },
   {
    "duration": 0,
    "start_time": "2023-03-15T19:02:34.295Z"
   },
   {
    "duration": 0,
    "start_time": "2023-03-15T19:02:34.296Z"
   },
   {
    "duration": 0,
    "start_time": "2023-03-15T19:02:34.298Z"
   },
   {
    "duration": 0,
    "start_time": "2023-03-15T19:02:34.299Z"
   },
   {
    "duration": 10,
    "start_time": "2023-03-15T19:02:51.802Z"
   },
   {
    "duration": 66,
    "start_time": "2023-03-15T19:02:58.337Z"
   },
   {
    "duration": 15,
    "start_time": "2023-03-15T19:03:00.859Z"
   },
   {
    "duration": 30,
    "start_time": "2023-03-15T19:03:03.442Z"
   },
   {
    "duration": 19,
    "start_time": "2023-03-15T19:03:05.867Z"
   },
   {
    "duration": 18,
    "start_time": "2023-03-15T19:03:08.217Z"
   },
   {
    "duration": 719,
    "start_time": "2023-03-15T19:03:10.665Z"
   },
   {
    "duration": 12,
    "start_time": "2023-03-15T19:03:29.504Z"
   },
   {
    "duration": 15,
    "start_time": "2023-03-15T19:03:33.648Z"
   },
   {
    "duration": 10,
    "start_time": "2023-03-15T19:03:36.086Z"
   },
   {
    "duration": 22,
    "start_time": "2023-03-15T19:03:38.121Z"
   },
   {
    "duration": 4,
    "start_time": "2023-03-15T19:03:41.952Z"
   },
   {
    "duration": 5,
    "start_time": "2023-03-15T19:03:44.248Z"
   },
   {
    "duration": 5,
    "start_time": "2023-03-15T19:03:48.592Z"
   },
   {
    "duration": 5,
    "start_time": "2023-03-15T19:03:50.600Z"
   },
   {
    "duration": 26,
    "start_time": "2023-03-15T19:03:53.617Z"
   },
   {
    "duration": 5,
    "start_time": "2023-03-15T19:04:00.099Z"
   },
   {
    "duration": 23,
    "start_time": "2023-03-15T19:04:08.731Z"
   },
   {
    "duration": 12,
    "start_time": "2023-03-15T19:04:15.656Z"
   },
   {
    "duration": 6,
    "start_time": "2023-03-15T19:04:19.033Z"
   },
   {
    "duration": 4,
    "start_time": "2023-03-15T19:04:24.284Z"
   },
   {
    "duration": 6,
    "start_time": "2023-03-15T19:04:26.818Z"
   },
   {
    "duration": 26,
    "start_time": "2023-03-15T19:04:30.065Z"
   },
   {
    "duration": 5,
    "start_time": "2023-03-15T19:04:33.952Z"
   },
   {
    "duration": 6,
    "start_time": "2023-03-15T19:04:36.143Z"
   },
   {
    "duration": 20,
    "start_time": "2023-03-15T19:04:39.864Z"
   },
   {
    "duration": 10,
    "start_time": "2023-03-15T19:04:47.746Z"
   },
   {
    "duration": 6,
    "start_time": "2023-03-15T19:04:50.080Z"
   },
   {
    "duration": 13,
    "start_time": "2023-03-15T19:04:54.097Z"
   },
   {
    "duration": 17,
    "start_time": "2023-03-15T19:04:58.634Z"
   },
   {
    "duration": 6,
    "start_time": "2023-03-15T19:05:34.217Z"
   },
   {
    "duration": 29,
    "start_time": "2023-03-15T19:06:06.011Z"
   },
   {
    "duration": 910,
    "start_time": "2023-03-16T05:21:11.000Z"
   },
   {
    "duration": 16,
    "start_time": "2023-03-16T05:21:11.911Z"
   },
   {
    "duration": 34,
    "start_time": "2023-03-16T05:21:11.929Z"
   },
   {
    "duration": 17,
    "start_time": "2023-03-16T05:21:11.965Z"
   },
   {
    "duration": 23,
    "start_time": "2023-03-16T05:21:11.984Z"
   },
   {
    "duration": 1175,
    "start_time": "2023-03-16T05:21:12.008Z"
   },
   {
    "duration": 10,
    "start_time": "2023-03-16T05:21:13.184Z"
   },
   {
    "duration": 16,
    "start_time": "2023-03-16T05:21:13.195Z"
   },
   {
    "duration": 10,
    "start_time": "2023-03-16T05:21:13.213Z"
   },
   {
    "duration": 24,
    "start_time": "2023-03-16T05:21:13.224Z"
   },
   {
    "duration": 3,
    "start_time": "2023-03-16T05:21:13.250Z"
   },
   {
    "duration": 5,
    "start_time": "2023-03-16T05:21:13.278Z"
   },
   {
    "duration": 24,
    "start_time": "2023-03-16T05:21:13.284Z"
   },
   {
    "duration": 3,
    "start_time": "2023-03-16T05:21:13.312Z"
   },
   {
    "duration": 8,
    "start_time": "2023-03-16T05:21:13.316Z"
   },
   {
    "duration": 24,
    "start_time": "2023-03-16T05:21:13.326Z"
   },
   {
    "duration": 29,
    "start_time": "2023-03-16T05:21:13.352Z"
   },
   {
    "duration": 23,
    "start_time": "2023-03-16T05:21:13.383Z"
   },
   {
    "duration": 2,
    "start_time": "2023-03-16T05:21:13.408Z"
   },
   {
    "duration": 21,
    "start_time": "2023-03-16T05:21:13.411Z"
   },
   {
    "duration": 9,
    "start_time": "2023-03-16T05:21:13.433Z"
   },
   {
    "duration": 10,
    "start_time": "2023-03-16T05:21:13.443Z"
   },
   {
    "duration": 39,
    "start_time": "2023-03-16T05:21:13.454Z"
   },
   {
    "duration": 4,
    "start_time": "2023-03-16T05:21:13.495Z"
   },
   {
    "duration": 9,
    "start_time": "2023-03-16T05:21:13.500Z"
   },
   {
    "duration": 16,
    "start_time": "2023-03-16T05:21:13.511Z"
   },
   {
    "duration": 127,
    "start_time": "2023-03-16T05:21:13.529Z"
   },
   {
    "duration": 0,
    "start_time": "2023-03-16T05:21:13.659Z"
   },
   {
    "duration": 0,
    "start_time": "2023-03-16T05:21:13.660Z"
   },
   {
    "duration": 0,
    "start_time": "2023-03-16T05:21:13.662Z"
   },
   {
    "duration": 0,
    "start_time": "2023-03-16T05:21:13.663Z"
   },
   {
    "duration": 0,
    "start_time": "2023-03-16T05:21:13.664Z"
   },
   {
    "duration": 0,
    "start_time": "2023-03-16T05:21:13.677Z"
   },
   {
    "duration": 0,
    "start_time": "2023-03-16T05:21:13.678Z"
   },
   {
    "duration": 0,
    "start_time": "2023-03-16T05:21:13.680Z"
   },
   {
    "duration": 0,
    "start_time": "2023-03-16T05:21:13.681Z"
   },
   {
    "duration": 0,
    "start_time": "2023-03-16T05:21:13.683Z"
   },
   {
    "duration": 0,
    "start_time": "2023-03-16T05:21:13.683Z"
   },
   {
    "duration": 0,
    "start_time": "2023-03-16T05:21:13.685Z"
   },
   {
    "duration": 0,
    "start_time": "2023-03-16T05:21:13.686Z"
   },
   {
    "duration": 0,
    "start_time": "2023-03-16T05:21:13.687Z"
   },
   {
    "duration": 0,
    "start_time": "2023-03-16T05:21:13.688Z"
   },
   {
    "duration": 0,
    "start_time": "2023-03-16T05:21:13.689Z"
   },
   {
    "duration": 0,
    "start_time": "2023-03-16T05:21:13.690Z"
   },
   {
    "duration": 0,
    "start_time": "2023-03-16T05:21:13.691Z"
   },
   {
    "duration": 0,
    "start_time": "2023-03-16T05:21:13.692Z"
   },
   {
    "duration": 0,
    "start_time": "2023-03-16T05:21:13.693Z"
   },
   {
    "duration": 0,
    "start_time": "2023-03-16T05:21:13.695Z"
   },
   {
    "duration": 0,
    "start_time": "2023-03-16T05:21:13.696Z"
   },
   {
    "duration": 0,
    "start_time": "2023-03-16T05:21:13.697Z"
   },
   {
    "duration": 0,
    "start_time": "2023-03-16T05:21:13.698Z"
   },
   {
    "duration": 0,
    "start_time": "2023-03-16T05:21:13.699Z"
   },
   {
    "duration": 0,
    "start_time": "2023-03-16T05:21:13.700Z"
   },
   {
    "duration": 0,
    "start_time": "2023-03-16T05:21:13.701Z"
   },
   {
    "duration": 0,
    "start_time": "2023-03-16T05:21:13.703Z"
   },
   {
    "duration": 0,
    "start_time": "2023-03-16T05:21:13.704Z"
   },
   {
    "duration": 0,
    "start_time": "2023-03-16T05:21:13.704Z"
   },
   {
    "duration": 0,
    "start_time": "2023-03-16T05:21:13.706Z"
   },
   {
    "duration": 0,
    "start_time": "2023-03-16T05:21:13.706Z"
   },
   {
    "duration": 0,
    "start_time": "2023-03-16T05:21:13.707Z"
   },
   {
    "duration": 0,
    "start_time": "2023-03-16T05:21:13.709Z"
   },
   {
    "duration": 0,
    "start_time": "2023-03-16T05:21:13.710Z"
   },
   {
    "duration": 0,
    "start_time": "2023-03-16T05:21:13.711Z"
   },
   {
    "duration": 0,
    "start_time": "2023-03-16T05:21:13.712Z"
   },
   {
    "duration": 0,
    "start_time": "2023-03-16T05:21:13.713Z"
   },
   {
    "duration": 0,
    "start_time": "2023-03-16T05:21:13.714Z"
   },
   {
    "duration": 0,
    "start_time": "2023-03-16T05:21:13.715Z"
   },
   {
    "duration": 0,
    "start_time": "2023-03-16T05:21:13.777Z"
   },
   {
    "duration": 0,
    "start_time": "2023-03-16T05:21:13.778Z"
   },
   {
    "duration": 0,
    "start_time": "2023-03-16T05:21:13.780Z"
   },
   {
    "duration": 0,
    "start_time": "2023-03-16T05:21:13.781Z"
   },
   {
    "duration": 85,
    "start_time": "2023-03-16T05:34:42.618Z"
   },
   {
    "duration": 15,
    "start_time": "2023-03-16T05:34:42.706Z"
   },
   {
    "duration": 31,
    "start_time": "2023-03-16T05:34:42.723Z"
   },
   {
    "duration": 16,
    "start_time": "2023-03-16T05:34:42.778Z"
   },
   {
    "duration": 25,
    "start_time": "2023-03-16T05:34:42.796Z"
   },
   {
    "duration": 655,
    "start_time": "2023-03-16T05:34:42.823Z"
   },
   {
    "duration": 12,
    "start_time": "2023-03-16T05:34:43.481Z"
   },
   {
    "duration": 24,
    "start_time": "2023-03-16T05:34:43.495Z"
   },
   {
    "duration": 13,
    "start_time": "2023-03-16T05:34:43.521Z"
   },
   {
    "duration": 23,
    "start_time": "2023-03-16T05:34:43.535Z"
   },
   {
    "duration": 19,
    "start_time": "2023-03-16T05:34:43.560Z"
   },
   {
    "duration": 13,
    "start_time": "2023-03-16T05:34:43.580Z"
   },
   {
    "duration": 26,
    "start_time": "2023-03-16T05:34:43.595Z"
   },
   {
    "duration": 4,
    "start_time": "2023-03-16T05:34:43.624Z"
   },
   {
    "duration": 8,
    "start_time": "2023-03-16T05:34:43.630Z"
   },
   {
    "duration": 44,
    "start_time": "2023-03-16T05:34:43.639Z"
   },
   {
    "duration": 5,
    "start_time": "2023-03-16T05:34:43.685Z"
   },
   {
    "duration": 28,
    "start_time": "2023-03-16T05:34:43.692Z"
   },
   {
    "duration": 3,
    "start_time": "2023-03-16T05:34:43.721Z"
   },
   {
    "duration": 14,
    "start_time": "2023-03-16T05:34:43.726Z"
   },
   {
    "duration": 8,
    "start_time": "2023-03-16T05:34:43.742Z"
   },
   {
    "duration": 26,
    "start_time": "2023-03-16T05:34:43.752Z"
   },
   {
    "duration": 29,
    "start_time": "2023-03-16T05:34:43.780Z"
   },
   {
    "duration": 5,
    "start_time": "2023-03-16T05:34:43.810Z"
   },
   {
    "duration": 120,
    "start_time": "2023-03-16T05:34:43.816Z"
   },
   {
    "duration": 31,
    "start_time": "2023-03-16T05:34:43.938Z"
   },
   {
    "duration": 16,
    "start_time": "2023-03-16T05:34:43.971Z"
   },
   {
    "duration": 0,
    "start_time": "2023-03-16T05:34:43.990Z"
   },
   {
    "duration": 0,
    "start_time": "2023-03-16T05:34:43.991Z"
   },
   {
    "duration": 0,
    "start_time": "2023-03-16T05:34:43.993Z"
   },
   {
    "duration": 0,
    "start_time": "2023-03-16T05:34:43.994Z"
   },
   {
    "duration": 0,
    "start_time": "2023-03-16T05:34:43.995Z"
   },
   {
    "duration": 0,
    "start_time": "2023-03-16T05:34:43.996Z"
   },
   {
    "duration": 0,
    "start_time": "2023-03-16T05:34:43.998Z"
   },
   {
    "duration": 0,
    "start_time": "2023-03-16T05:34:43.999Z"
   },
   {
    "duration": 0,
    "start_time": "2023-03-16T05:34:44.000Z"
   },
   {
    "duration": 0,
    "start_time": "2023-03-16T05:34:44.002Z"
   },
   {
    "duration": 0,
    "start_time": "2023-03-16T05:34:44.003Z"
   },
   {
    "duration": 0,
    "start_time": "2023-03-16T05:34:44.004Z"
   },
   {
    "duration": 0,
    "start_time": "2023-03-16T05:34:44.005Z"
   },
   {
    "duration": 0,
    "start_time": "2023-03-16T05:34:44.006Z"
   },
   {
    "duration": 0,
    "start_time": "2023-03-16T05:34:44.007Z"
   },
   {
    "duration": 0,
    "start_time": "2023-03-16T05:34:44.008Z"
   },
   {
    "duration": 0,
    "start_time": "2023-03-16T05:34:44.009Z"
   },
   {
    "duration": 0,
    "start_time": "2023-03-16T05:34:44.010Z"
   },
   {
    "duration": 0,
    "start_time": "2023-03-16T05:34:44.011Z"
   },
   {
    "duration": 0,
    "start_time": "2023-03-16T05:34:44.012Z"
   },
   {
    "duration": 0,
    "start_time": "2023-03-16T05:34:44.013Z"
   },
   {
    "duration": 0,
    "start_time": "2023-03-16T05:34:44.014Z"
   },
   {
    "duration": 0,
    "start_time": "2023-03-16T05:34:44.015Z"
   },
   {
    "duration": 0,
    "start_time": "2023-03-16T05:34:44.016Z"
   },
   {
    "duration": 1,
    "start_time": "2023-03-16T05:34:44.017Z"
   },
   {
    "duration": 0,
    "start_time": "2023-03-16T05:34:44.019Z"
   },
   {
    "duration": 0,
    "start_time": "2023-03-16T05:34:44.020Z"
   },
   {
    "duration": 0,
    "start_time": "2023-03-16T05:34:44.022Z"
   },
   {
    "duration": 0,
    "start_time": "2023-03-16T05:34:44.023Z"
   },
   {
    "duration": 0,
    "start_time": "2023-03-16T05:34:44.077Z"
   },
   {
    "duration": 0,
    "start_time": "2023-03-16T05:34:44.079Z"
   },
   {
    "duration": 0,
    "start_time": "2023-03-16T05:34:44.079Z"
   },
   {
    "duration": 0,
    "start_time": "2023-03-16T05:34:44.080Z"
   },
   {
    "duration": 0,
    "start_time": "2023-03-16T05:34:44.082Z"
   },
   {
    "duration": 0,
    "start_time": "2023-03-16T05:34:44.083Z"
   },
   {
    "duration": 0,
    "start_time": "2023-03-16T05:34:44.084Z"
   },
   {
    "duration": 0,
    "start_time": "2023-03-16T05:34:44.085Z"
   },
   {
    "duration": 0,
    "start_time": "2023-03-16T05:34:44.086Z"
   },
   {
    "duration": 0,
    "start_time": "2023-03-16T05:34:44.087Z"
   },
   {
    "duration": 0,
    "start_time": "2023-03-16T05:34:44.088Z"
   },
   {
    "duration": 0,
    "start_time": "2023-03-16T05:34:44.089Z"
   },
   {
    "duration": 0,
    "start_time": "2023-03-16T05:34:44.090Z"
   },
   {
    "duration": 0,
    "start_time": "2023-03-16T05:34:44.091Z"
   },
   {
    "duration": 0,
    "start_time": "2023-03-16T05:34:44.092Z"
   },
   {
    "duration": 11,
    "start_time": "2023-03-16T05:46:00.635Z"
   },
   {
    "duration": 13,
    "start_time": "2023-03-16T05:46:12.608Z"
   },
   {
    "duration": 10,
    "start_time": "2023-03-16T05:46:29.087Z"
   },
   {
    "duration": 68,
    "start_time": "2023-03-16T05:55:04.283Z"
   },
   {
    "duration": 15,
    "start_time": "2023-03-16T05:55:09.291Z"
   },
   {
    "duration": 17,
    "start_time": "2023-03-16T05:55:15.799Z"
   },
   {
    "duration": 674,
    "start_time": "2023-03-16T05:55:19.007Z"
   },
   {
    "duration": 16,
    "start_time": "2023-03-16T05:55:24.803Z"
   },
   {
    "duration": 8,
    "start_time": "2023-03-16T05:55:27.723Z"
   },
   {
    "duration": 22,
    "start_time": "2023-03-16T05:55:31.319Z"
   },
   {
    "duration": 4,
    "start_time": "2023-03-16T05:55:39.919Z"
   },
   {
    "duration": 5,
    "start_time": "2023-03-16T05:55:43.879Z"
   },
   {
    "duration": 21,
    "start_time": "2023-03-16T05:55:47.020Z"
   },
   {
    "duration": 4,
    "start_time": "2023-03-16T05:55:51.379Z"
   },
   {
    "duration": 5,
    "start_time": "2023-03-16T05:55:53.754Z"
   },
   {
    "duration": 25,
    "start_time": "2023-03-16T05:55:57.795Z"
   },
   {
    "duration": 5,
    "start_time": "2023-03-16T05:56:03.787Z"
   },
   {
    "duration": 31,
    "start_time": "2023-03-16T05:56:12.392Z"
   },
   {
    "duration": 6,
    "start_time": "2023-03-16T05:56:16.183Z"
   },
   {
    "duration": 5,
    "start_time": "2023-03-16T05:56:23.187Z"
   },
   {
    "duration": 5,
    "start_time": "2023-03-16T05:56:26.522Z"
   },
   {
    "duration": 15,
    "start_time": "2023-03-16T05:56:31.575Z"
   },
   {
    "duration": 17,
    "start_time": "2023-03-16T05:56:37.647Z"
   },
   {
    "duration": 6,
    "start_time": "2023-03-16T05:56:41.423Z"
   },
   {
    "duration": 10,
    "start_time": "2023-03-16T05:56:46.300Z"
   },
   {
    "duration": 3,
    "start_time": "2023-03-16T05:56:50.800Z"
   },
   {
    "duration": 15,
    "start_time": "2023-03-16T05:56:55.334Z"
   },
   {
    "duration": 5,
    "start_time": "2023-03-16T05:57:09.836Z"
   },
   {
    "duration": 141,
    "start_time": "2023-03-16T05:57:13.683Z"
   },
   {
    "duration": 155,
    "start_time": "2023-03-16T05:57:17.646Z"
   },
   {
    "duration": 17,
    "start_time": "2023-03-16T05:57:23.083Z"
   },
   {
    "duration": 18,
    "start_time": "2023-03-16T05:57:26.983Z"
   },
   {
    "duration": 23,
    "start_time": "2023-03-16T05:57:40.779Z"
   },
   {
    "duration": 1320,
    "start_time": "2023-03-16T05:57:43.242Z"
   },
   {
    "duration": 14,
    "start_time": "2023-03-16T05:57:48.695Z"
   },
   {
    "duration": 7,
    "start_time": "2023-03-16T05:57:53.251Z"
   },
   {
    "duration": 983,
    "start_time": "2023-03-16T05:58:00.045Z"
   },
   {
    "duration": 111,
    "start_time": "2023-03-16T05:58:07.454Z"
   },
   {
    "duration": 116,
    "start_time": "2023-03-16T05:58:11.383Z"
   },
   {
    "duration": 108,
    "start_time": "2023-03-16T05:58:14.249Z"
   },
   {
    "duration": 105,
    "start_time": "2023-03-16T05:58:16.900Z"
   },
   {
    "duration": 7,
    "start_time": "2023-03-16T05:58:21.149Z"
   },
   {
    "duration": 153,
    "start_time": "2023-03-16T05:58:26.684Z"
   },
   {
    "duration": 180,
    "start_time": "2023-03-16T05:58:30.023Z"
   },
   {
    "duration": 6,
    "start_time": "2023-03-16T05:58:32.940Z"
   },
   {
    "duration": 152,
    "start_time": "2023-03-16T05:58:42.303Z"
   },
   {
    "duration": 518,
    "start_time": "2023-03-16T05:58:52.953Z"
   },
   {
    "duration": 5,
    "start_time": "2023-03-16T05:59:08.816Z"
   },
   {
    "duration": 16,
    "start_time": "2023-03-16T05:59:17.443Z"
   },
   {
    "duration": 3,
    "start_time": "2023-03-16T05:59:33.291Z"
   },
   {
    "duration": 18,
    "start_time": "2023-03-16T05:59:36.104Z"
   },
   {
    "duration": 5,
    "start_time": "2023-03-16T06:22:47.119Z"
   },
   {
    "duration": 4,
    "start_time": "2023-03-16T06:24:15.794Z"
   },
   {
    "duration": 7,
    "start_time": "2023-03-16T06:24:18.979Z"
   },
   {
    "duration": 5,
    "start_time": "2023-03-16T06:27:06.863Z"
   },
   {
    "duration": 5,
    "start_time": "2023-03-16T06:27:09.637Z"
   },
   {
    "duration": 11,
    "start_time": "2023-03-16T06:27:44.893Z"
   },
   {
    "duration": 5,
    "start_time": "2023-03-16T06:27:48.699Z"
   },
   {
    "duration": 11,
    "start_time": "2023-03-16T06:27:58.709Z"
   },
   {
    "duration": 10,
    "start_time": "2023-03-16T06:28:10.516Z"
   },
   {
    "duration": 6,
    "start_time": "2023-03-16T06:28:16.123Z"
   },
   {
    "duration": 5,
    "start_time": "2023-03-16T06:28:20.016Z"
   },
   {
    "duration": 4,
    "start_time": "2023-03-16T06:28:36.111Z"
   },
   {
    "duration": 16,
    "start_time": "2023-03-16T06:28:39.403Z"
   },
   {
    "duration": 7,
    "start_time": "2023-03-16T06:28:51.740Z"
   },
   {
    "duration": 5,
    "start_time": "2023-03-16T06:28:55.471Z"
   },
   {
    "duration": 4,
    "start_time": "2023-03-16T06:29:08.483Z"
   },
   {
    "duration": 124,
    "start_time": "2023-03-16T06:29:30.817Z"
   },
   {
    "duration": 20,
    "start_time": "2023-03-16T06:29:49.500Z"
   },
   {
    "duration": 16,
    "start_time": "2023-03-16T06:29:54.619Z"
   },
   {
    "duration": 1333,
    "start_time": "2023-03-16T06:30:03.607Z"
   },
   {
    "duration": 108,
    "start_time": "2023-03-16T06:30:15.414Z"
   },
   {
    "duration": 7,
    "start_time": "2023-03-16T06:30:20.875Z"
   },
   {
    "duration": 155,
    "start_time": "2023-03-16T06:30:23.913Z"
   },
   {
    "duration": 147,
    "start_time": "2023-03-16T06:30:38.425Z"
   },
   {
    "duration": 211,
    "start_time": "2023-03-16T06:30:42.410Z"
   },
   {
    "duration": 6,
    "start_time": "2023-03-16T06:30:45.671Z"
   },
   {
    "duration": 586,
    "start_time": "2023-03-16T06:31:01.794Z"
   },
   {
    "duration": 5,
    "start_time": "2023-03-16T06:31:19.015Z"
   },
   {
    "duration": 17,
    "start_time": "2023-03-16T06:31:23.082Z"
   },
   {
    "duration": 16,
    "start_time": "2023-03-16T06:31:25.233Z"
   },
   {
    "duration": 14,
    "start_time": "2023-03-16T06:31:30.440Z"
   },
   {
    "duration": 16,
    "start_time": "2023-03-16T06:31:36.518Z"
   },
   {
    "duration": 15,
    "start_time": "2023-03-16T06:31:39.672Z"
   },
   {
    "duration": 3,
    "start_time": "2023-03-16T06:36:21.135Z"
   },
   {
    "duration": 7,
    "start_time": "2023-03-16T06:36:23.672Z"
   },
   {
    "duration": 7,
    "start_time": "2023-03-16T06:36:53.029Z"
   },
   {
    "duration": 6,
    "start_time": "2023-03-16T06:36:55.771Z"
   },
   {
    "duration": 9,
    "start_time": "2023-03-16T06:37:37.791Z"
   },
   {
    "duration": 10,
    "start_time": "2023-03-16T06:37:56.699Z"
   },
   {
    "duration": 7,
    "start_time": "2023-03-16T06:38:13.176Z"
   },
   {
    "duration": 12,
    "start_time": "2023-03-16T06:38:15.494Z"
   },
   {
    "duration": 54,
    "start_time": "2023-03-16T06:45:13.396Z"
   },
   {
    "duration": 5,
    "start_time": "2023-03-16T06:56:08.235Z"
   },
   {
    "duration": 6,
    "start_time": "2023-03-16T06:56:16.290Z"
   },
   {
    "duration": 11,
    "start_time": "2023-03-16T06:56:24.820Z"
   },
   {
    "duration": 8,
    "start_time": "2023-03-16T06:57:02.104Z"
   },
   {
    "duration": 15,
    "start_time": "2023-03-16T07:03:54.299Z"
   },
   {
    "duration": 18,
    "start_time": "2023-03-16T07:14:46.787Z"
   },
   {
    "duration": 35,
    "start_time": "2023-03-16T08:31:27.041Z"
   },
   {
    "duration": 7,
    "start_time": "2023-03-16T08:31:47.126Z"
   },
   {
    "duration": 18,
    "start_time": "2023-03-16T08:32:00.826Z"
   },
   {
    "duration": 7,
    "start_time": "2023-03-16T10:28:28.524Z"
   },
   {
    "duration": 140,
    "start_time": "2023-03-16T10:28:31.311Z"
   },
   {
    "duration": 184,
    "start_time": "2023-03-16T10:29:46.348Z"
   },
   {
    "duration": 5,
    "start_time": "2023-03-16T10:35:26.649Z"
   },
   {
    "duration": 7,
    "start_time": "2023-03-16T10:35:55.272Z"
   },
   {
    "duration": 7,
    "start_time": "2023-03-16T10:36:31.392Z"
   },
   {
    "duration": 5,
    "start_time": "2023-03-16T10:38:53.740Z"
   },
   {
    "duration": 5,
    "start_time": "2023-03-16T10:39:03.592Z"
   },
   {
    "duration": 7,
    "start_time": "2023-03-16T10:41:38.776Z"
   },
   {
    "duration": 156,
    "start_time": "2023-03-16T10:41:44.309Z"
   },
   {
    "duration": 185,
    "start_time": "2023-03-16T10:41:59.455Z"
   },
   {
    "duration": 5,
    "start_time": "2023-03-16T10:42:06.896Z"
   },
   {
    "duration": 6,
    "start_time": "2023-03-16T10:43:47.088Z"
   },
   {
    "duration": 140,
    "start_time": "2023-03-16T10:44:15.335Z"
   },
   {
    "duration": 183,
    "start_time": "2023-03-16T10:44:20.883Z"
   },
   {
    "duration": 6,
    "start_time": "2023-03-16T10:44:30.511Z"
   },
   {
    "duration": 7,
    "start_time": "2023-03-16T10:45:20.008Z"
   },
   {
    "duration": 192,
    "start_time": "2023-03-16T10:45:22.518Z"
   },
   {
    "duration": 284,
    "start_time": "2023-03-16T10:45:32.084Z"
   },
   {
    "duration": 5,
    "start_time": "2023-03-16T10:45:35.968Z"
   },
   {
    "duration": 164,
    "start_time": "2023-03-16T10:46:50.753Z"
   },
   {
    "duration": 184,
    "start_time": "2023-03-16T10:47:36.987Z"
   },
   {
    "duration": 8,
    "start_time": "2023-03-16T10:48:55.300Z"
   },
   {
    "duration": 185,
    "start_time": "2023-03-16T10:48:59.480Z"
   },
   {
    "duration": 176,
    "start_time": "2023-03-16T10:49:10.708Z"
   },
   {
    "duration": 7,
    "start_time": "2023-03-16T10:49:15.651Z"
   },
   {
    "duration": 137,
    "start_time": "2023-03-16T10:49:37.807Z"
   },
   {
    "duration": 5,
    "start_time": "2023-03-16T10:49:45.784Z"
   },
   {
    "duration": 48,
    "start_time": "2023-03-16T16:39:49.052Z"
   },
   {
    "duration": 1016,
    "start_time": "2023-03-16T16:39:55.984Z"
   },
   {
    "duration": 17,
    "start_time": "2023-03-16T16:39:57.002Z"
   },
   {
    "duration": 36,
    "start_time": "2023-03-16T16:39:57.021Z"
   },
   {
    "duration": 15,
    "start_time": "2023-03-16T16:39:57.058Z"
   },
   {
    "duration": 17,
    "start_time": "2023-03-16T16:39:57.075Z"
   },
   {
    "duration": 1260,
    "start_time": "2023-03-16T16:39:57.093Z"
   },
   {
    "duration": 8,
    "start_time": "2023-03-16T16:39:58.355Z"
   },
   {
    "duration": 13,
    "start_time": "2023-03-16T16:39:58.365Z"
   },
   {
    "duration": 7,
    "start_time": "2023-03-16T16:39:58.380Z"
   },
   {
    "duration": 42,
    "start_time": "2023-03-16T16:39:58.389Z"
   },
   {
    "duration": 5,
    "start_time": "2023-03-16T16:39:58.433Z"
   },
   {
    "duration": 12,
    "start_time": "2023-03-16T16:39:58.440Z"
   },
   {
    "duration": 21,
    "start_time": "2023-03-16T16:39:58.453Z"
   },
   {
    "duration": 3,
    "start_time": "2023-03-16T16:39:58.477Z"
   },
   {
    "duration": 7,
    "start_time": "2023-03-16T16:39:58.482Z"
   },
   {
    "duration": 48,
    "start_time": "2023-03-16T16:39:58.491Z"
   },
   {
    "duration": 9,
    "start_time": "2023-03-16T16:39:58.540Z"
   },
   {
    "duration": 23,
    "start_time": "2023-03-16T16:39:58.551Z"
   },
   {
    "duration": 4,
    "start_time": "2023-03-16T16:39:58.576Z"
   },
   {
    "duration": 6,
    "start_time": "2023-03-16T16:39:58.581Z"
   },
   {
    "duration": 53,
    "start_time": "2023-03-16T16:39:58.588Z"
   },
   {
    "duration": 5,
    "start_time": "2023-03-16T16:39:58.643Z"
   },
   {
    "duration": 14,
    "start_time": "2023-03-16T16:39:58.650Z"
   },
   {
    "duration": 8,
    "start_time": "2023-03-16T16:39:58.666Z"
   },
   {
    "duration": 3,
    "start_time": "2023-03-16T16:39:58.676Z"
   },
   {
    "duration": 28,
    "start_time": "2023-03-16T16:39:58.681Z"
   },
   {
    "duration": 5,
    "start_time": "2023-03-16T16:39:58.724Z"
   },
   {
    "duration": 158,
    "start_time": "2023-03-16T16:39:58.730Z"
   },
   {
    "duration": 165,
    "start_time": "2023-03-16T16:39:58.890Z"
   },
   {
    "duration": 16,
    "start_time": "2023-03-16T16:39:59.057Z"
   },
   {
    "duration": 17,
    "start_time": "2023-03-16T16:39:59.075Z"
   },
   {
    "duration": 40,
    "start_time": "2023-03-16T16:39:59.094Z"
   },
   {
    "duration": 1370,
    "start_time": "2023-03-16T16:39:59.137Z"
   },
   {
    "duration": 36,
    "start_time": "2023-03-16T16:40:00.510Z"
   },
   {
    "duration": 15,
    "start_time": "2023-03-16T16:40:00.550Z"
   },
   {
    "duration": 1248,
    "start_time": "2023-03-16T16:40:00.567Z"
   },
   {
    "duration": 129,
    "start_time": "2023-03-16T16:40:01.817Z"
   },
   {
    "duration": 206,
    "start_time": "2023-03-16T16:40:01.948Z"
   },
   {
    "duration": 115,
    "start_time": "2023-03-16T16:40:02.156Z"
   },
   {
    "duration": 125,
    "start_time": "2023-03-16T16:40:02.273Z"
   },
   {
    "duration": 6,
    "start_time": "2023-03-16T16:40:02.403Z"
   },
   {
    "duration": 157,
    "start_time": "2023-03-16T16:40:02.410Z"
   },
   {
    "duration": 88,
    "start_time": "2023-03-16T16:40:02.569Z"
   },
   {
    "duration": 0,
    "start_time": "2023-03-16T16:40:02.659Z"
   },
   {
    "duration": 0,
    "start_time": "2023-03-16T16:40:02.660Z"
   },
   {
    "duration": 0,
    "start_time": "2023-03-16T16:40:02.662Z"
   },
   {
    "duration": 0,
    "start_time": "2023-03-16T16:40:02.663Z"
   },
   {
    "duration": 0,
    "start_time": "2023-03-16T16:40:02.665Z"
   },
   {
    "duration": 0,
    "start_time": "2023-03-16T16:40:02.666Z"
   },
   {
    "duration": 0,
    "start_time": "2023-03-16T16:40:02.667Z"
   },
   {
    "duration": 0,
    "start_time": "2023-03-16T16:40:02.669Z"
   },
   {
    "duration": 0,
    "start_time": "2023-03-16T16:40:02.670Z"
   },
   {
    "duration": 0,
    "start_time": "2023-03-16T16:40:02.672Z"
   },
   {
    "duration": 0,
    "start_time": "2023-03-16T16:40:02.673Z"
   },
   {
    "duration": 0,
    "start_time": "2023-03-16T16:40:02.675Z"
   },
   {
    "duration": 0,
    "start_time": "2023-03-16T16:40:02.676Z"
   },
   {
    "duration": 0,
    "start_time": "2023-03-16T16:40:02.678Z"
   },
   {
    "duration": 0,
    "start_time": "2023-03-16T16:40:02.679Z"
   },
   {
    "duration": 0,
    "start_time": "2023-03-16T16:40:02.681Z"
   },
   {
    "duration": 0,
    "start_time": "2023-03-16T16:40:02.682Z"
   },
   {
    "duration": 0,
    "start_time": "2023-03-16T16:40:02.724Z"
   },
   {
    "duration": 0,
    "start_time": "2023-03-16T16:40:02.725Z"
   },
   {
    "duration": 0,
    "start_time": "2023-03-16T16:40:02.728Z"
   },
   {
    "duration": 0,
    "start_time": "2023-03-16T16:40:02.729Z"
   },
   {
    "duration": 0,
    "start_time": "2023-03-16T16:40:02.731Z"
   },
   {
    "duration": 0,
    "start_time": "2023-03-16T16:40:02.733Z"
   },
   {
    "duration": 0,
    "start_time": "2023-03-16T16:40:02.734Z"
   },
   {
    "duration": 0,
    "start_time": "2023-03-16T16:40:02.735Z"
   },
   {
    "duration": 0,
    "start_time": "2023-03-16T16:40:02.737Z"
   },
   {
    "duration": 0,
    "start_time": "2023-03-16T16:40:02.739Z"
   },
   {
    "duration": 0,
    "start_time": "2023-03-16T16:40:02.741Z"
   },
   {
    "duration": 20,
    "start_time": "2023-03-16T16:41:16.228Z"
   },
   {
    "duration": 8,
    "start_time": "2023-03-16T16:47:47.664Z"
   },
   {
    "duration": 8,
    "start_time": "2023-03-16T16:48:10.594Z"
   },
   {
    "duration": 5,
    "start_time": "2023-03-16T16:49:49.864Z"
   },
   {
    "duration": 6,
    "start_time": "2023-03-16T16:50:44.255Z"
   },
   {
    "duration": 145,
    "start_time": "2023-03-16T16:51:52.606Z"
   },
   {
    "duration": 69,
    "start_time": "2023-03-16T16:52:48.284Z"
   },
   {
    "duration": 13,
    "start_time": "2023-03-16T16:52:48.355Z"
   },
   {
    "duration": 28,
    "start_time": "2023-03-16T16:52:48.370Z"
   },
   {
    "duration": 43,
    "start_time": "2023-03-16T16:52:48.400Z"
   },
   {
    "duration": 16,
    "start_time": "2023-03-16T16:52:48.447Z"
   },
   {
    "duration": 661,
    "start_time": "2023-03-16T16:52:48.464Z"
   },
   {
    "duration": 11,
    "start_time": "2023-03-16T16:52:49.128Z"
   },
   {
    "duration": 19,
    "start_time": "2023-03-16T16:52:49.140Z"
   },
   {
    "duration": 8,
    "start_time": "2023-03-16T16:52:49.161Z"
   },
   {
    "duration": 23,
    "start_time": "2023-03-16T16:52:49.170Z"
   },
   {
    "duration": 32,
    "start_time": "2023-03-16T16:52:49.194Z"
   },
   {
    "duration": 6,
    "start_time": "2023-03-16T16:52:49.229Z"
   },
   {
    "duration": 23,
    "start_time": "2023-03-16T16:52:49.237Z"
   },
   {
    "duration": 4,
    "start_time": "2023-03-16T16:52:49.264Z"
   },
   {
    "duration": 56,
    "start_time": "2023-03-16T16:52:49.270Z"
   },
   {
    "duration": 5,
    "start_time": "2023-03-16T16:52:49.328Z"
   },
   {
    "duration": 26,
    "start_time": "2023-03-16T16:52:49.335Z"
   },
   {
    "duration": 4,
    "start_time": "2023-03-16T16:52:49.363Z"
   },
   {
    "duration": 15,
    "start_time": "2023-03-16T16:52:49.369Z"
   },
   {
    "duration": 38,
    "start_time": "2023-03-16T16:52:49.386Z"
   },
   {
    "duration": 7,
    "start_time": "2023-03-16T16:52:49.426Z"
   },
   {
    "duration": 11,
    "start_time": "2023-03-16T16:52:49.435Z"
   },
   {
    "duration": 16,
    "start_time": "2023-03-16T16:52:49.448Z"
   },
   {
    "duration": 10,
    "start_time": "2023-03-16T16:52:49.466Z"
   },
   {
    "duration": 4,
    "start_time": "2023-03-16T16:52:49.478Z"
   },
   {
    "duration": 47,
    "start_time": "2023-03-16T16:52:49.483Z"
   },
   {
    "duration": 7,
    "start_time": "2023-03-16T16:52:49.532Z"
   },
   {
    "duration": 190,
    "start_time": "2023-03-16T16:52:49.540Z"
   },
   {
    "duration": 185,
    "start_time": "2023-03-16T16:52:49.733Z"
   },
   {
    "duration": 23,
    "start_time": "2023-03-16T16:52:49.919Z"
   },
   {
    "duration": 24,
    "start_time": "2023-03-16T16:52:49.945Z"
   },
   {
    "duration": 21,
    "start_time": "2023-03-16T16:52:49.971Z"
   },
   {
    "duration": 1455,
    "start_time": "2023-03-16T16:52:49.993Z"
   },
   {
    "duration": 13,
    "start_time": "2023-03-16T16:52:51.449Z"
   },
   {
    "duration": 6,
    "start_time": "2023-03-16T16:52:51.463Z"
   },
   {
    "duration": 1352,
    "start_time": "2023-03-16T16:52:51.471Z"
   },
   {
    "duration": 153,
    "start_time": "2023-03-16T16:52:52.826Z"
   },
   {
    "duration": 128,
    "start_time": "2023-03-16T16:52:52.980Z"
   },
   {
    "duration": 135,
    "start_time": "2023-03-16T16:52:53.109Z"
   },
   {
    "duration": 114,
    "start_time": "2023-03-16T16:52:53.247Z"
   },
   {
    "duration": 6,
    "start_time": "2023-03-16T16:52:53.366Z"
   },
   {
    "duration": 134,
    "start_time": "2023-03-16T16:52:53.374Z"
   },
   {
    "duration": 18,
    "start_time": "2023-03-16T16:52:53.510Z"
   },
   {
    "duration": 0,
    "start_time": "2023-03-16T16:52:53.529Z"
   },
   {
    "duration": 0,
    "start_time": "2023-03-16T16:52:53.531Z"
   },
   {
    "duration": 0,
    "start_time": "2023-03-16T16:52:53.533Z"
   },
   {
    "duration": 0,
    "start_time": "2023-03-16T16:52:53.534Z"
   },
   {
    "duration": 0,
    "start_time": "2023-03-16T16:52:53.535Z"
   },
   {
    "duration": 0,
    "start_time": "2023-03-16T16:52:53.536Z"
   },
   {
    "duration": 0,
    "start_time": "2023-03-16T16:52:53.538Z"
   },
   {
    "duration": 0,
    "start_time": "2023-03-16T16:52:53.539Z"
   },
   {
    "duration": 0,
    "start_time": "2023-03-16T16:52:53.540Z"
   },
   {
    "duration": 0,
    "start_time": "2023-03-16T16:52:53.542Z"
   },
   {
    "duration": 0,
    "start_time": "2023-03-16T16:52:53.543Z"
   },
   {
    "duration": 0,
    "start_time": "2023-03-16T16:52:53.544Z"
   },
   {
    "duration": 0,
    "start_time": "2023-03-16T16:52:53.546Z"
   },
   {
    "duration": 0,
    "start_time": "2023-03-16T16:52:53.547Z"
   },
   {
    "duration": 0,
    "start_time": "2023-03-16T16:52:53.548Z"
   },
   {
    "duration": 0,
    "start_time": "2023-03-16T16:52:53.549Z"
   },
   {
    "duration": 0,
    "start_time": "2023-03-16T16:52:53.551Z"
   },
   {
    "duration": 0,
    "start_time": "2023-03-16T16:52:53.553Z"
   },
   {
    "duration": 0,
    "start_time": "2023-03-16T16:52:53.555Z"
   },
   {
    "duration": 0,
    "start_time": "2023-03-16T16:52:53.556Z"
   },
   {
    "duration": 0,
    "start_time": "2023-03-16T16:52:53.557Z"
   },
   {
    "duration": 0,
    "start_time": "2023-03-16T16:52:53.558Z"
   },
   {
    "duration": 0,
    "start_time": "2023-03-16T16:52:53.559Z"
   },
   {
    "duration": 0,
    "start_time": "2023-03-16T16:52:53.560Z"
   },
   {
    "duration": 0,
    "start_time": "2023-03-16T16:52:53.561Z"
   },
   {
    "duration": 0,
    "start_time": "2023-03-16T16:52:53.561Z"
   },
   {
    "duration": 0,
    "start_time": "2023-03-16T16:52:53.562Z"
   },
   {
    "duration": 0,
    "start_time": "2023-03-16T16:52:53.563Z"
   },
   {
    "duration": 7,
    "start_time": "2023-03-16T16:54:01.616Z"
   },
   {
    "duration": 62,
    "start_time": "2023-03-16T16:55:49.150Z"
   },
   {
    "duration": 16,
    "start_time": "2023-03-16T16:55:49.214Z"
   },
   {
    "duration": 32,
    "start_time": "2023-03-16T16:55:49.232Z"
   },
   {
    "duration": 15,
    "start_time": "2023-03-16T16:55:49.266Z"
   },
   {
    "duration": 16,
    "start_time": "2023-03-16T16:55:49.282Z"
   },
   {
    "duration": 615,
    "start_time": "2023-03-16T16:55:49.323Z"
   },
   {
    "duration": 11,
    "start_time": "2023-03-16T16:55:49.940Z"
   },
   {
    "duration": 17,
    "start_time": "2023-03-16T16:55:49.953Z"
   },
   {
    "duration": 8,
    "start_time": "2023-03-16T16:55:49.971Z"
   },
   {
    "duration": 22,
    "start_time": "2023-03-16T16:55:49.981Z"
   },
   {
    "duration": 6,
    "start_time": "2023-03-16T16:55:50.023Z"
   },
   {
    "duration": 24,
    "start_time": "2023-03-16T16:55:50.031Z"
   },
   {
    "duration": 8,
    "start_time": "2023-03-16T16:55:50.057Z"
   },
   {
    "duration": 23,
    "start_time": "2023-03-16T16:55:50.067Z"
   },
   {
    "duration": 3,
    "start_time": "2023-03-16T16:55:50.092Z"
   },
   {
    "duration": 56,
    "start_time": "2023-03-16T16:55:50.097Z"
   },
   {
    "duration": 4,
    "start_time": "2023-03-16T16:55:50.155Z"
   },
   {
    "duration": 10,
    "start_time": "2023-03-16T16:55:50.161Z"
   },
   {
    "duration": 29,
    "start_time": "2023-03-16T16:55:50.173Z"
   },
   {
    "duration": 5,
    "start_time": "2023-03-16T16:55:50.204Z"
   },
   {
    "duration": 29,
    "start_time": "2023-03-16T16:55:50.211Z"
   },
   {
    "duration": 18,
    "start_time": "2023-03-16T16:55:50.243Z"
   },
   {
    "duration": 8,
    "start_time": "2023-03-16T16:55:50.263Z"
   },
   {
    "duration": 9,
    "start_time": "2023-03-16T16:55:50.272Z"
   },
   {
    "duration": 16,
    "start_time": "2023-03-16T16:55:50.283Z"
   },
   {
    "duration": 31,
    "start_time": "2023-03-16T16:55:50.301Z"
   },
   {
    "duration": 199,
    "start_time": "2023-03-16T16:55:50.338Z"
   },
   {
    "duration": 189,
    "start_time": "2023-03-16T16:55:50.549Z"
   },
   {
    "duration": 23,
    "start_time": "2023-03-16T16:55:50.741Z"
   },
   {
    "duration": 35,
    "start_time": "2023-03-16T16:55:50.765Z"
   },
   {
    "duration": 25,
    "start_time": "2023-03-16T16:55:50.801Z"
   },
   {
    "duration": 1198,
    "start_time": "2023-03-16T16:55:50.829Z"
   },
   {
    "duration": 20,
    "start_time": "2023-03-16T16:55:52.030Z"
   },
   {
    "duration": 6,
    "start_time": "2023-03-16T16:55:52.052Z"
   },
   {
    "duration": 1081,
    "start_time": "2023-03-16T16:55:52.060Z"
   },
   {
    "duration": 118,
    "start_time": "2023-03-16T16:55:53.144Z"
   },
   {
    "duration": 123,
    "start_time": "2023-03-16T16:55:53.264Z"
   },
   {
    "duration": 112,
    "start_time": "2023-03-16T16:55:53.389Z"
   },
   {
    "duration": 140,
    "start_time": "2023-03-16T16:55:53.503Z"
   },
   {
    "duration": 8,
    "start_time": "2023-03-16T16:55:53.645Z"
   },
   {
    "duration": 153,
    "start_time": "2023-03-16T16:55:53.655Z"
   },
   {
    "duration": 15,
    "start_time": "2023-03-16T16:55:53.810Z"
   },
   {
    "duration": 0,
    "start_time": "2023-03-16T16:55:53.827Z"
   },
   {
    "duration": 0,
    "start_time": "2023-03-16T16:55:53.831Z"
   },
   {
    "duration": 0,
    "start_time": "2023-03-16T16:55:53.834Z"
   },
   {
    "duration": 0,
    "start_time": "2023-03-16T16:55:53.836Z"
   },
   {
    "duration": 0,
    "start_time": "2023-03-16T16:55:53.838Z"
   },
   {
    "duration": 0,
    "start_time": "2023-03-16T16:55:53.839Z"
   },
   {
    "duration": 0,
    "start_time": "2023-03-16T16:55:53.840Z"
   },
   {
    "duration": 0,
    "start_time": "2023-03-16T16:55:53.841Z"
   },
   {
    "duration": 0,
    "start_time": "2023-03-16T16:55:53.842Z"
   },
   {
    "duration": 0,
    "start_time": "2023-03-16T16:55:53.843Z"
   },
   {
    "duration": 0,
    "start_time": "2023-03-16T16:55:53.845Z"
   },
   {
    "duration": 0,
    "start_time": "2023-03-16T16:55:53.846Z"
   },
   {
    "duration": 0,
    "start_time": "2023-03-16T16:55:53.847Z"
   },
   {
    "duration": 0,
    "start_time": "2023-03-16T16:55:53.848Z"
   },
   {
    "duration": 0,
    "start_time": "2023-03-16T16:55:53.849Z"
   },
   {
    "duration": 0,
    "start_time": "2023-03-16T16:55:53.850Z"
   },
   {
    "duration": 0,
    "start_time": "2023-03-16T16:55:53.851Z"
   },
   {
    "duration": 0,
    "start_time": "2023-03-16T16:55:53.852Z"
   },
   {
    "duration": 0,
    "start_time": "2023-03-16T16:55:53.853Z"
   },
   {
    "duration": 0,
    "start_time": "2023-03-16T16:55:53.854Z"
   },
   {
    "duration": 0,
    "start_time": "2023-03-16T16:55:53.855Z"
   },
   {
    "duration": 0,
    "start_time": "2023-03-16T16:55:53.856Z"
   },
   {
    "duration": 0,
    "start_time": "2023-03-16T16:55:53.857Z"
   },
   {
    "duration": 0,
    "start_time": "2023-03-16T16:55:53.858Z"
   },
   {
    "duration": 0,
    "start_time": "2023-03-16T16:55:53.859Z"
   },
   {
    "duration": 0,
    "start_time": "2023-03-16T16:55:53.861Z"
   },
   {
    "duration": 0,
    "start_time": "2023-03-16T16:55:53.862Z"
   },
   {
    "duration": 0,
    "start_time": "2023-03-16T16:55:53.863Z"
   },
   {
    "duration": 10,
    "start_time": "2023-03-16T17:00:49.914Z"
   },
   {
    "duration": 17,
    "start_time": "2023-03-16T17:00:52.745Z"
   },
   {
    "duration": 4,
    "start_time": "2023-03-16T17:00:59.225Z"
   },
   {
    "duration": 4,
    "start_time": "2023-03-16T17:01:01.161Z"
   },
   {
    "duration": 6,
    "start_time": "2023-03-16T17:01:05.944Z"
   },
   {
    "duration": 132,
    "start_time": "2023-03-16T17:01:09.353Z"
   },
   {
    "duration": 104,
    "start_time": "2023-03-16T17:01:37.937Z"
   },
   {
    "duration": 158,
    "start_time": "2023-03-16T17:02:02.641Z"
   },
   {
    "duration": 4,
    "start_time": "2023-03-16T17:32:40.946Z"
   },
   {
    "duration": 4,
    "start_time": "2023-03-16T17:32:45.116Z"
   },
   {
    "duration": 89,
    "start_time": "2023-03-16T17:34:26.272Z"
   },
   {
    "duration": 117,
    "start_time": "2023-03-16T17:46:02.093Z"
   },
   {
    "duration": 103,
    "start_time": "2023-03-16T17:46:14.971Z"
   },
   {
    "duration": 104,
    "start_time": "2023-03-16T17:46:38.794Z"
   },
   {
    "duration": 101,
    "start_time": "2023-03-16T17:46:41.061Z"
   },
   {
    "duration": 126,
    "start_time": "2023-03-16T17:48:38.651Z"
   },
   {
    "duration": 102,
    "start_time": "2023-03-16T17:48:45.247Z"
   },
   {
    "duration": 103,
    "start_time": "2023-03-16T17:52:46.456Z"
   },
   {
    "duration": 108,
    "start_time": "2023-03-16T17:53:04.005Z"
   },
   {
    "duration": 106,
    "start_time": "2023-03-16T17:53:07.866Z"
   },
   {
    "duration": 249,
    "start_time": "2023-03-16T17:53:29.711Z"
   },
   {
    "duration": 129,
    "start_time": "2023-03-16T17:53:39.625Z"
   },
   {
    "duration": 109,
    "start_time": "2023-03-16T17:53:48.980Z"
   },
   {
    "duration": 97,
    "start_time": "2023-03-16T18:06:34.043Z"
   },
   {
    "duration": 98,
    "start_time": "2023-03-16T18:06:48.904Z"
   },
   {
    "duration": 102,
    "start_time": "2023-03-16T18:06:56.567Z"
   },
   {
    "duration": 97,
    "start_time": "2023-03-16T18:07:05.446Z"
   },
   {
    "duration": 80,
    "start_time": "2023-03-16T18:15:00.524Z"
   },
   {
    "duration": 74,
    "start_time": "2023-03-16T18:15:11.476Z"
   },
   {
    "duration": 11,
    "start_time": "2023-03-16T18:15:49.245Z"
   },
   {
    "duration": 173,
    "start_time": "2023-03-16T18:16:01.830Z"
   },
   {
    "duration": 8,
    "start_time": "2023-03-16T18:16:08.166Z"
   },
   {
    "duration": 6,
    "start_time": "2023-03-16T18:16:19.258Z"
   },
   {
    "duration": 5,
    "start_time": "2023-03-16T18:17:28.588Z"
   },
   {
    "duration": 76,
    "start_time": "2023-03-16T18:18:03.340Z"
   },
   {
    "duration": 9,
    "start_time": "2023-03-16T18:18:30.731Z"
   },
   {
    "duration": 6,
    "start_time": "2023-03-16T18:18:33.411Z"
   },
   {
    "duration": 132,
    "start_time": "2023-03-16T18:18:35.667Z"
   },
   {
    "duration": 10,
    "start_time": "2023-03-16T18:19:53.469Z"
   },
   {
    "duration": 12,
    "start_time": "2023-03-16T18:20:32.043Z"
   },
   {
    "duration": 132,
    "start_time": "2023-03-16T18:23:22.634Z"
   },
   {
    "duration": 184,
    "start_time": "2023-03-16T18:23:31.330Z"
   },
   {
    "duration": 6,
    "start_time": "2023-03-16T18:24:15.588Z"
   },
   {
    "duration": 6,
    "start_time": "2023-03-16T18:28:15.038Z"
   },
   {
    "duration": 137,
    "start_time": "2023-03-16T18:28:16.973Z"
   },
   {
    "duration": 127,
    "start_time": "2023-03-16T18:28:39.109Z"
   },
   {
    "duration": 281,
    "start_time": "2023-03-16T18:28:50.695Z"
   },
   {
    "duration": 143,
    "start_time": "2023-03-16T18:29:12.511Z"
   },
   {
    "duration": 5,
    "start_time": "2023-03-16T18:31:27.460Z"
   },
   {
    "duration": 499,
    "start_time": "2023-03-16T18:32:12.652Z"
   },
   {
    "duration": 150,
    "start_time": "2023-03-16T18:34:42.923Z"
   },
   {
    "duration": 6,
    "start_time": "2023-03-16T18:35:39.962Z"
   },
   {
    "duration": 21,
    "start_time": "2023-03-16T18:46:55.014Z"
   },
   {
    "duration": 1253,
    "start_time": "2023-03-16T19:30:13.770Z"
   },
   {
    "duration": 30,
    "start_time": "2023-03-16T19:30:54.697Z"
   },
   {
    "duration": 20,
    "start_time": "2023-03-16T19:32:17.368Z"
   },
   {
    "duration": 7,
    "start_time": "2023-03-16T19:32:44.127Z"
   },
   {
    "duration": 9,
    "start_time": "2023-03-16T19:33:01.721Z"
   },
   {
    "duration": 31,
    "start_time": "2023-03-16T19:33:07.198Z"
   },
   {
    "duration": 8,
    "start_time": "2023-03-16T19:33:13.158Z"
   },
   {
    "duration": 7,
    "start_time": "2023-03-16T19:33:31.035Z"
   },
   {
    "duration": 2186,
    "start_time": "2023-03-16T19:34:02.846Z"
   },
   {
    "duration": 7,
    "start_time": "2023-03-16T19:35:41.958Z"
   },
   {
    "duration": 7,
    "start_time": "2023-03-16T19:35:45.765Z"
   },
   {
    "duration": 1222,
    "start_time": "2023-03-16T19:35:47.516Z"
   },
   {
    "duration": 296,
    "start_time": "2023-03-16T19:35:59.484Z"
   },
   {
    "duration": 24,
    "start_time": "2023-03-16T19:36:39.540Z"
   },
   {
    "duration": 23,
    "start_time": "2023-03-16T19:36:47.412Z"
   },
   {
    "duration": 27,
    "start_time": "2023-03-16T19:37:47.926Z"
   },
   {
    "duration": 28,
    "start_time": "2023-03-16T19:38:02.925Z"
   },
   {
    "duration": 7,
    "start_time": "2023-03-16T19:40:08.212Z"
   },
   {
    "duration": 1319,
    "start_time": "2023-03-16T19:40:10.210Z"
   },
   {
    "duration": 8,
    "start_time": "2023-03-16T19:40:31.370Z"
   },
   {
    "duration": 2281,
    "start_time": "2023-03-16T19:40:35.916Z"
   },
   {
    "duration": 8,
    "start_time": "2023-03-16T19:41:14.707Z"
   },
   {
    "duration": 1212,
    "start_time": "2023-03-16T19:41:16.794Z"
   },
   {
    "duration": 9,
    "start_time": "2023-03-16T19:42:05.849Z"
   },
   {
    "duration": 926,
    "start_time": "2023-03-16T19:42:37.265Z"
   },
   {
    "duration": 341,
    "start_time": "2023-03-16T19:46:56.439Z"
   },
   {
    "duration": 316,
    "start_time": "2023-03-16T19:47:18.130Z"
   },
   {
    "duration": 23,
    "start_time": "2023-03-16T19:50:09.109Z"
   },
   {
    "duration": 15,
    "start_time": "2023-03-16T19:50:22.024Z"
   },
   {
    "duration": 530,
    "start_time": "2023-03-16T19:50:42.086Z"
   },
   {
    "duration": 9,
    "start_time": "2023-03-16T19:51:36.276Z"
   },
   {
    "duration": 399,
    "start_time": "2023-03-16T19:51:39.812Z"
   },
   {
    "duration": 7,
    "start_time": "2023-03-16T19:52:08.358Z"
   },
   {
    "duration": 475,
    "start_time": "2023-03-16T19:52:13.165Z"
   },
   {
    "duration": 8,
    "start_time": "2023-03-16T19:52:21.796Z"
   },
   {
    "duration": 400,
    "start_time": "2023-03-16T19:52:26.940Z"
   },
   {
    "duration": 95,
    "start_time": "2023-03-16T19:56:36.131Z"
   },
   {
    "duration": 90,
    "start_time": "2023-03-16T19:57:41.360Z"
   },
   {
    "duration": 8,
    "start_time": "2023-03-16T19:58:00.919Z"
   },
   {
    "duration": 92,
    "start_time": "2023-03-16T19:58:03.524Z"
   },
   {
    "duration": 460,
    "start_time": "2023-03-16T19:58:17.710Z"
   },
   {
    "duration": 8,
    "start_time": "2023-03-16T20:00:21.108Z"
   },
   {
    "duration": 385,
    "start_time": "2023-03-16T20:00:23.386Z"
   },
   {
    "duration": 94,
    "start_time": "2023-03-16T20:34:51.136Z"
   },
   {
    "duration": 1107,
    "start_time": "2023-03-16T20:34:56.264Z"
   },
   {
    "duration": 17,
    "start_time": "2023-03-16T20:34:57.373Z"
   },
   {
    "duration": 32,
    "start_time": "2023-03-16T20:34:57.392Z"
   },
   {
    "duration": 24,
    "start_time": "2023-03-16T20:34:57.426Z"
   },
   {
    "duration": 26,
    "start_time": "2023-03-16T20:34:57.452Z"
   },
   {
    "duration": 1398,
    "start_time": "2023-03-16T20:34:57.479Z"
   },
   {
    "duration": 12,
    "start_time": "2023-03-16T20:34:58.882Z"
   },
   {
    "duration": 27,
    "start_time": "2023-03-16T20:34:58.896Z"
   },
   {
    "duration": 9,
    "start_time": "2023-03-16T20:34:58.925Z"
   },
   {
    "duration": 40,
    "start_time": "2023-03-16T20:34:58.938Z"
   },
   {
    "duration": 9,
    "start_time": "2023-03-16T20:34:58.980Z"
   },
   {
    "duration": 48,
    "start_time": "2023-03-16T20:34:58.991Z"
   },
   {
    "duration": 6,
    "start_time": "2023-03-16T20:34:59.054Z"
   },
   {
    "duration": 45,
    "start_time": "2023-03-16T20:34:59.069Z"
   },
   {
    "duration": 6,
    "start_time": "2023-03-16T20:34:59.116Z"
   },
   {
    "duration": 32,
    "start_time": "2023-03-16T20:34:59.123Z"
   },
   {
    "duration": 5,
    "start_time": "2023-03-16T20:34:59.157Z"
   },
   {
    "duration": 7,
    "start_time": "2023-03-16T20:34:59.164Z"
   },
   {
    "duration": 36,
    "start_time": "2023-03-16T20:34:59.173Z"
   },
   {
    "duration": 5,
    "start_time": "2023-03-16T20:34:59.211Z"
   },
   {
    "duration": 8,
    "start_time": "2023-03-16T20:34:59.218Z"
   },
   {
    "duration": 50,
    "start_time": "2023-03-16T20:34:59.228Z"
   },
   {
    "duration": 14,
    "start_time": "2023-03-16T20:34:59.279Z"
   },
   {
    "duration": 10,
    "start_time": "2023-03-16T20:34:59.294Z"
   },
   {
    "duration": 20,
    "start_time": "2023-03-16T20:34:59.306Z"
   },
   {
    "duration": 7,
    "start_time": "2023-03-16T20:34:59.327Z"
   },
   {
    "duration": 216,
    "start_time": "2023-03-16T20:34:59.335Z"
   },
   {
    "duration": 220,
    "start_time": "2023-03-16T20:34:59.557Z"
   },
   {
    "duration": 21,
    "start_time": "2023-03-16T20:34:59.779Z"
   },
   {
    "duration": 20,
    "start_time": "2023-03-16T20:34:59.802Z"
   },
   {
    "duration": 24,
    "start_time": "2023-03-16T20:34:59.823Z"
   },
   {
    "duration": 541,
    "start_time": "2023-03-16T20:34:59.849Z"
   },
   {
    "duration": 17,
    "start_time": "2023-03-16T20:35:00.392Z"
   },
   {
    "duration": 27,
    "start_time": "2023-03-16T20:35:00.411Z"
   },
   {
    "duration": 1285,
    "start_time": "2023-03-16T20:35:00.440Z"
   },
   {
    "duration": 170,
    "start_time": "2023-03-16T20:35:01.727Z"
   },
   {
    "duration": 207,
    "start_time": "2023-03-16T20:35:01.905Z"
   },
   {
    "duration": 144,
    "start_time": "2023-03-16T20:35:02.114Z"
   },
   {
    "duration": 132,
    "start_time": "2023-03-16T20:35:02.260Z"
   },
   {
    "duration": 8,
    "start_time": "2023-03-16T20:35:02.394Z"
   },
   {
    "duration": 162,
    "start_time": "2023-03-16T20:35:02.405Z"
   },
   {
    "duration": 9,
    "start_time": "2023-03-16T20:35:02.573Z"
   },
   {
    "duration": 146,
    "start_time": "2023-03-16T20:35:02.587Z"
   },
   {
    "duration": 20,
    "start_time": "2023-03-16T20:35:02.735Z"
   },
   {
    "duration": 9,
    "start_time": "2023-03-16T20:35:02.757Z"
   },
   {
    "duration": 182,
    "start_time": "2023-03-16T20:35:02.769Z"
   },
   {
    "duration": 204,
    "start_time": "2023-03-16T20:35:02.953Z"
   },
   {
    "duration": 31,
    "start_time": "2023-03-16T20:35:03.170Z"
   },
   {
    "duration": 197,
    "start_time": "2023-03-16T20:35:03.207Z"
   },
   {
    "duration": 6,
    "start_time": "2023-03-16T20:35:03.409Z"
   },
   {
    "duration": 618,
    "start_time": "2023-03-16T20:35:03.417Z"
   },
   {
    "duration": 8,
    "start_time": "2023-03-16T20:35:04.037Z"
   },
   {
    "duration": 51,
    "start_time": "2023-03-16T20:35:04.046Z"
   },
   {
    "duration": 36,
    "start_time": "2023-03-16T20:35:04.098Z"
   },
   {
    "duration": 45,
    "start_time": "2023-03-16T20:35:04.136Z"
   },
   {
    "duration": 29,
    "start_time": "2023-03-16T20:35:04.183Z"
   },
   {
    "duration": 31,
    "start_time": "2023-03-16T20:35:04.214Z"
   },
   {
    "duration": 34,
    "start_time": "2023-03-16T20:35:04.247Z"
   },
   {
    "duration": 30,
    "start_time": "2023-03-16T20:35:04.289Z"
   },
   {
    "duration": 17,
    "start_time": "2023-03-16T20:35:04.320Z"
   },
   {
    "duration": 22,
    "start_time": "2023-03-16T20:35:04.338Z"
   },
   {
    "duration": 3,
    "start_time": "2023-03-16T20:35:04.361Z"
   },
   {
    "duration": 19,
    "start_time": "2023-03-16T20:35:04.366Z"
   },
   {
    "duration": 15,
    "start_time": "2023-03-16T20:35:04.386Z"
   },
   {
    "duration": 15,
    "start_time": "2023-03-16T20:35:04.402Z"
   },
   {
    "duration": 28,
    "start_time": "2023-03-16T20:35:04.421Z"
   },
   {
    "duration": 175,
    "start_time": "2023-03-16T20:35:04.451Z"
   },
   {
    "duration": 1149,
    "start_time": "2023-03-17T07:49:48.011Z"
   },
   {
    "duration": 18,
    "start_time": "2023-03-17T07:49:49.164Z"
   },
   {
    "duration": 31,
    "start_time": "2023-03-17T07:49:49.184Z"
   },
   {
    "duration": 15,
    "start_time": "2023-03-17T07:49:49.241Z"
   },
   {
    "duration": 25,
    "start_time": "2023-03-17T07:49:49.258Z"
   },
   {
    "duration": 1278,
    "start_time": "2023-03-17T07:49:49.285Z"
   },
   {
    "duration": 11,
    "start_time": "2023-03-17T07:49:50.565Z"
   },
   {
    "duration": 24,
    "start_time": "2023-03-17T07:49:50.577Z"
   },
   {
    "duration": 9,
    "start_time": "2023-03-17T07:49:50.605Z"
   },
   {
    "duration": 43,
    "start_time": "2023-03-17T07:49:50.617Z"
   },
   {
    "duration": 6,
    "start_time": "2023-03-17T07:49:50.664Z"
   },
   {
    "duration": 23,
    "start_time": "2023-03-17T07:49:50.672Z"
   },
   {
    "duration": 4,
    "start_time": "2023-03-17T07:49:50.696Z"
   },
   {
    "duration": 48,
    "start_time": "2023-03-17T07:49:50.702Z"
   },
   {
    "duration": 5,
    "start_time": "2023-03-17T07:49:50.752Z"
   },
   {
    "duration": 44,
    "start_time": "2023-03-17T07:49:50.758Z"
   },
   {
    "duration": 32,
    "start_time": "2023-03-17T07:49:50.804Z"
   },
   {
    "duration": 42,
    "start_time": "2023-03-17T07:49:50.838Z"
   },
   {
    "duration": 52,
    "start_time": "2023-03-17T07:49:50.882Z"
   },
   {
    "duration": 5,
    "start_time": "2023-03-17T07:49:50.936Z"
   },
   {
    "duration": 45,
    "start_time": "2023-03-17T07:49:50.943Z"
   },
   {
    "duration": 16,
    "start_time": "2023-03-17T07:49:50.990Z"
   },
   {
    "duration": 9,
    "start_time": "2023-03-17T07:49:51.009Z"
   },
   {
    "duration": 29,
    "start_time": "2023-03-17T07:49:51.020Z"
   },
   {
    "duration": 37,
    "start_time": "2023-03-17T07:49:51.052Z"
   },
   {
    "duration": 18,
    "start_time": "2023-03-17T07:49:51.091Z"
   },
   {
    "duration": 183,
    "start_time": "2023-03-17T07:49:51.110Z"
   },
   {
    "duration": 191,
    "start_time": "2023-03-17T07:49:51.299Z"
   },
   {
    "duration": 17,
    "start_time": "2023-03-17T07:49:51.492Z"
   },
   {
    "duration": 34,
    "start_time": "2023-03-17T07:49:51.511Z"
   },
   {
    "duration": 11,
    "start_time": "2023-03-17T07:49:51.547Z"
   },
   {
    "duration": 453,
    "start_time": "2023-03-17T07:49:51.560Z"
   },
   {
    "duration": 14,
    "start_time": "2023-03-17T07:49:52.015Z"
   },
   {
    "duration": 5,
    "start_time": "2023-03-17T07:49:52.041Z"
   },
   {
    "duration": 1067,
    "start_time": "2023-03-17T07:49:52.048Z"
   },
   {
    "duration": 113,
    "start_time": "2023-03-17T07:49:53.117Z"
   },
   {
    "duration": 203,
    "start_time": "2023-03-17T07:49:53.231Z"
   },
   {
    "duration": 117,
    "start_time": "2023-03-17T07:49:53.445Z"
   },
   {
    "duration": 140,
    "start_time": "2023-03-17T07:49:53.564Z"
   },
   {
    "duration": 7,
    "start_time": "2023-03-17T07:49:53.705Z"
   },
   {
    "duration": 150,
    "start_time": "2023-03-17T07:49:53.714Z"
   },
   {
    "duration": 6,
    "start_time": "2023-03-17T07:49:53.866Z"
   },
   {
    "duration": 150,
    "start_time": "2023-03-17T07:49:53.873Z"
   },
   {
    "duration": 5,
    "start_time": "2023-03-17T07:49:54.024Z"
   },
   {
    "duration": 9,
    "start_time": "2023-03-17T07:49:54.041Z"
   },
   {
    "duration": 148,
    "start_time": "2023-03-17T07:49:54.052Z"
   },
   {
    "duration": 183,
    "start_time": "2023-03-17T07:49:54.201Z"
   },
   {
    "duration": 6,
    "start_time": "2023-03-17T07:49:54.386Z"
   },
   {
    "duration": 158,
    "start_time": "2023-03-17T07:49:54.394Z"
   },
   {
    "duration": 7,
    "start_time": "2023-03-17T07:49:54.553Z"
   },
   {
    "duration": 561,
    "start_time": "2023-03-17T07:49:54.562Z"
   },
   {
    "duration": 6,
    "start_time": "2023-03-17T07:49:55.124Z"
   },
   {
    "duration": 27,
    "start_time": "2023-03-17T07:49:55.131Z"
   },
   {
    "duration": 16,
    "start_time": "2023-03-17T07:49:55.159Z"
   },
   {
    "duration": 17,
    "start_time": "2023-03-17T07:49:55.177Z"
   },
   {
    "duration": 16,
    "start_time": "2023-03-17T07:49:55.196Z"
   },
   {
    "duration": 36,
    "start_time": "2023-03-17T07:49:55.214Z"
   },
   {
    "duration": 33,
    "start_time": "2023-03-17T07:49:55.252Z"
   },
   {
    "duration": 15,
    "start_time": "2023-03-17T07:49:55.287Z"
   },
   {
    "duration": 15,
    "start_time": "2023-03-17T07:49:55.304Z"
   },
   {
    "duration": 34,
    "start_time": "2023-03-17T07:49:55.320Z"
   },
   {
    "duration": 13,
    "start_time": "2023-03-17T07:49:55.357Z"
   },
   {
    "duration": 10,
    "start_time": "2023-03-17T07:49:55.372Z"
   },
   {
    "duration": 11,
    "start_time": "2023-03-17T07:49:55.384Z"
   },
   {
    "duration": 28,
    "start_time": "2023-03-17T07:49:55.397Z"
   },
   {
    "duration": 31,
    "start_time": "2023-03-17T07:49:55.428Z"
   },
   {
    "duration": 511,
    "start_time": "2023-03-17T07:51:02.356Z"
   },
   {
    "duration": 459,
    "start_time": "2023-03-17T07:51:11.606Z"
   },
   {
    "duration": 414,
    "start_time": "2023-03-17T07:51:54.578Z"
   },
   {
    "duration": 399,
    "start_time": "2023-03-17T07:52:02.797Z"
   },
   {
    "duration": 483,
    "start_time": "2023-03-17T07:52:17.605Z"
   },
   {
    "duration": 399,
    "start_time": "2023-03-17T07:52:23.619Z"
   },
   {
    "duration": 97,
    "start_time": "2023-03-17T07:53:37.813Z"
   },
   {
    "duration": 46,
    "start_time": "2023-03-17T10:52:20.900Z"
   },
   {
    "duration": 938,
    "start_time": "2023-03-17T10:52:32.632Z"
   },
   {
    "duration": 25,
    "start_time": "2023-03-17T10:52:33.572Z"
   },
   {
    "duration": 27,
    "start_time": "2023-03-17T10:52:33.598Z"
   },
   {
    "duration": 13,
    "start_time": "2023-03-17T10:52:33.627Z"
   },
   {
    "duration": 38,
    "start_time": "2023-03-17T10:52:33.642Z"
   },
   {
    "duration": 1171,
    "start_time": "2023-03-17T10:52:33.681Z"
   },
   {
    "duration": 29,
    "start_time": "2023-03-17T10:52:34.853Z"
   },
   {
    "duration": 15,
    "start_time": "2023-03-17T10:52:37.031Z"
   },
   {
    "duration": 12,
    "start_time": "2023-03-17T10:52:37.072Z"
   },
   {
    "duration": 22,
    "start_time": "2023-03-17T10:52:37.179Z"
   },
   {
    "duration": 6,
    "start_time": "2023-03-17T10:52:37.237Z"
   },
   {
    "duration": 20,
    "start_time": "2023-03-17T10:52:37.285Z"
   },
   {
    "duration": 3,
    "start_time": "2023-03-17T10:52:37.310Z"
   },
   {
    "duration": 20,
    "start_time": "2023-03-17T10:52:37.380Z"
   },
   {
    "duration": 4,
    "start_time": "2023-03-17T10:52:37.402Z"
   },
   {
    "duration": 22,
    "start_time": "2023-03-17T10:52:37.407Z"
   },
   {
    "duration": 6,
    "start_time": "2023-03-17T10:52:37.431Z"
   },
   {
    "duration": 7,
    "start_time": "2023-03-17T10:52:37.438Z"
   },
   {
    "duration": 29,
    "start_time": "2023-03-17T10:52:37.471Z"
   },
   {
    "duration": 5,
    "start_time": "2023-03-17T10:52:37.502Z"
   },
   {
    "duration": 11,
    "start_time": "2023-03-17T10:52:37.508Z"
   },
   {
    "duration": 13,
    "start_time": "2023-03-17T10:52:37.521Z"
   },
   {
    "duration": 8,
    "start_time": "2023-03-17T10:52:37.539Z"
   },
   {
    "duration": 4,
    "start_time": "2023-03-17T10:52:37.580Z"
   },
   {
    "duration": 17,
    "start_time": "2023-03-17T10:52:37.585Z"
   },
   {
    "duration": 4,
    "start_time": "2023-03-17T10:52:37.604Z"
   },
   {
    "duration": 129,
    "start_time": "2023-03-17T10:52:37.615Z"
   },
   {
    "duration": 153,
    "start_time": "2023-03-17T10:52:37.745Z"
   },
   {
    "duration": 14,
    "start_time": "2023-03-17T10:52:37.900Z"
   },
   {
    "duration": 16,
    "start_time": "2023-03-17T10:52:38.235Z"
   },
   {
    "duration": 31,
    "start_time": "2023-03-17T10:52:38.252Z"
   },
   {
    "duration": 10,
    "start_time": "2023-03-17T10:52:38.285Z"
   },
   {
    "duration": 389,
    "start_time": "2023-03-17T10:52:38.425Z"
   },
   {
    "duration": 11,
    "start_time": "2023-03-17T10:52:38.816Z"
   },
   {
    "duration": 4,
    "start_time": "2023-03-17T10:52:38.828Z"
   },
   {
    "duration": 993,
    "start_time": "2023-03-17T10:52:38.834Z"
   },
   {
    "duration": 206,
    "start_time": "2023-03-17T10:52:39.829Z"
   },
   {
    "duration": 113,
    "start_time": "2023-03-17T10:52:40.037Z"
   },
   {
    "duration": 102,
    "start_time": "2023-03-17T10:52:40.156Z"
   },
   {
    "duration": 110,
    "start_time": "2023-03-17T10:52:40.260Z"
   },
   {
    "duration": 6,
    "start_time": "2023-03-17T10:52:40.376Z"
   },
   {
    "duration": 130,
    "start_time": "2023-03-17T10:52:40.385Z"
   },
   {
    "duration": 4,
    "start_time": "2023-03-17T10:52:40.517Z"
   },
   {
    "duration": 151,
    "start_time": "2023-03-17T10:52:40.523Z"
   },
   {
    "duration": 5,
    "start_time": "2023-03-17T10:52:40.676Z"
   },
   {
    "duration": 33,
    "start_time": "2023-03-17T10:52:40.687Z"
   },
   {
    "duration": 141,
    "start_time": "2023-03-17T10:52:40.722Z"
   },
   {
    "duration": 159,
    "start_time": "2023-03-17T10:52:40.864Z"
   },
   {
    "duration": 5,
    "start_time": "2023-03-17T10:52:41.025Z"
   },
   {
    "duration": 155,
    "start_time": "2023-03-17T10:52:41.032Z"
   },
   {
    "duration": 6,
    "start_time": "2023-03-17T10:52:41.189Z"
   },
   {
    "duration": 503,
    "start_time": "2023-03-17T10:52:41.196Z"
   },
   {
    "duration": 4,
    "start_time": "2023-03-17T10:52:41.701Z"
   },
   {
    "duration": 21,
    "start_time": "2023-03-17T10:52:41.707Z"
   },
   {
    "duration": 31,
    "start_time": "2023-03-17T10:52:41.729Z"
   },
   {
    "duration": 16,
    "start_time": "2023-03-17T10:52:41.762Z"
   },
   {
    "duration": 23,
    "start_time": "2023-03-17T10:52:41.780Z"
   },
   {
    "duration": 17,
    "start_time": "2023-03-17T10:52:41.805Z"
   },
   {
    "duration": 15,
    "start_time": "2023-03-17T10:52:41.823Z"
   },
   {
    "duration": 26,
    "start_time": "2023-03-17T10:52:41.841Z"
   },
   {
    "duration": 20,
    "start_time": "2023-03-17T10:52:41.872Z"
   },
   {
    "duration": 16,
    "start_time": "2023-03-17T10:52:41.894Z"
   },
   {
    "duration": 5,
    "start_time": "2023-03-17T10:52:41.912Z"
   },
   {
    "duration": 8,
    "start_time": "2023-03-17T10:52:41.918Z"
   },
   {
    "duration": 9,
    "start_time": "2023-03-17T10:52:41.928Z"
   },
   {
    "duration": 6,
    "start_time": "2023-03-17T10:52:41.939Z"
   },
   {
    "duration": 12,
    "start_time": "2023-03-17T10:52:41.946Z"
   },
   {
    "duration": 2,
    "start_time": "2023-03-17T10:54:12.328Z"
   },
   {
    "duration": 19,
    "start_time": "2023-03-17T10:54:25.154Z"
   },
   {
    "duration": 366,
    "start_time": "2023-03-17T11:04:25.039Z"
   },
   {
    "duration": 469,
    "start_time": "2023-03-17T11:04:56.571Z"
   },
   {
    "duration": 446,
    "start_time": "2023-03-17T11:06:27.339Z"
   },
   {
    "duration": 467,
    "start_time": "2023-03-17T11:06:40.917Z"
   },
   {
    "duration": 425,
    "start_time": "2023-03-17T11:07:01.808Z"
   },
   {
    "duration": 8,
    "start_time": "2023-03-17T11:07:23.045Z"
   },
   {
    "duration": 512,
    "start_time": "2023-03-17T11:07:48.476Z"
   },
   {
    "duration": 7,
    "start_time": "2023-03-17T11:13:53.271Z"
   },
   {
    "duration": 775,
    "start_time": "2023-03-17T11:14:00.462Z"
   },
   {
    "duration": 8,
    "start_time": "2023-03-17T11:14:17.187Z"
   },
   {
    "duration": 498,
    "start_time": "2023-03-17T11:14:22.623Z"
   },
   {
    "duration": 463,
    "start_time": "2023-03-17T11:14:48.136Z"
   },
   {
    "duration": 498,
    "start_time": "2023-03-17T11:16:17.562Z"
   },
   {
    "duration": 66,
    "start_time": "2023-03-17T11:22:37.010Z"
   },
   {
    "duration": 25,
    "start_time": "2023-03-17T11:24:34.301Z"
   },
   {
    "duration": 41,
    "start_time": "2023-03-17T11:25:15.570Z"
   },
   {
    "duration": 53,
    "start_time": "2023-03-17T11:27:49.621Z"
   },
   {
    "duration": 27,
    "start_time": "2023-03-17T11:28:07.652Z"
   },
   {
    "duration": 217,
    "start_time": "2023-03-17T11:28:21.976Z"
   },
   {
    "duration": 315,
    "start_time": "2023-03-17T11:29:15.363Z"
   },
   {
    "duration": 242,
    "start_time": "2023-03-17T11:29:40.900Z"
   },
   {
    "duration": 381,
    "start_time": "2023-03-17T11:29:57.615Z"
   },
   {
    "duration": 60,
    "start_time": "2023-03-17T11:34:32.894Z"
   },
   {
    "duration": 201,
    "start_time": "2023-03-17T11:35:47.179Z"
   },
   {
    "duration": 241,
    "start_time": "2023-03-17T11:38:36.306Z"
   },
   {
    "duration": 242,
    "start_time": "2023-03-17T11:38:53.480Z"
   },
   {
    "duration": 14,
    "start_time": "2023-03-17T11:42:17.138Z"
   },
   {
    "duration": 241,
    "start_time": "2023-03-17T11:42:41.611Z"
   },
   {
    "duration": 204,
    "start_time": "2023-03-17T11:43:08.392Z"
   },
   {
    "duration": 242,
    "start_time": "2023-03-17T11:43:51.805Z"
   },
   {
    "duration": 332,
    "start_time": "2023-03-17T11:57:24.815Z"
   },
   {
    "duration": 249,
    "start_time": "2023-03-17T11:57:43.482Z"
   },
   {
    "duration": 7,
    "start_time": "2023-03-17T12:02:15.029Z"
   },
   {
    "duration": 231,
    "start_time": "2023-03-17T12:02:18.011Z"
   },
   {
    "duration": 295,
    "start_time": "2023-03-17T12:05:01.883Z"
   },
   {
    "duration": 233,
    "start_time": "2023-03-17T12:05:26.577Z"
   },
   {
    "duration": 202,
    "start_time": "2023-03-17T12:05:38.180Z"
   },
   {
    "duration": 317,
    "start_time": "2023-03-17T12:06:02.379Z"
   },
   {
    "duration": 137,
    "start_time": "2023-03-17T12:08:10.937Z"
   },
   {
    "duration": 151,
    "start_time": "2023-03-17T12:08:23.615Z"
   },
   {
    "duration": 164,
    "start_time": "2023-03-17T12:08:40.602Z"
   },
   {
    "duration": 186,
    "start_time": "2023-03-17T12:09:08.941Z"
   },
   {
    "duration": 195,
    "start_time": "2023-03-17T12:09:28.021Z"
   },
   {
    "duration": 209,
    "start_time": "2023-03-17T12:09:57.960Z"
   },
   {
    "duration": 171,
    "start_time": "2023-03-17T12:10:09.403Z"
   },
   {
    "duration": 6,
    "start_time": "2023-03-17T12:11:15.019Z"
   },
   {
    "duration": 5,
    "start_time": "2023-03-17T12:14:52.971Z"
   },
   {
    "duration": 145,
    "start_time": "2023-03-17T12:15:21.969Z"
   },
   {
    "duration": 5,
    "start_time": "2023-03-17T12:15:58.471Z"
   },
   {
    "duration": 57,
    "start_time": "2023-03-17T12:16:14.772Z"
   },
   {
    "duration": 13,
    "start_time": "2023-03-17T12:16:14.896Z"
   },
   {
    "duration": 30,
    "start_time": "2023-03-17T12:16:15.290Z"
   },
   {
    "duration": 23,
    "start_time": "2023-03-17T12:16:15.592Z"
   },
   {
    "duration": 33,
    "start_time": "2023-03-17T12:16:15.617Z"
   },
   {
    "duration": 635,
    "start_time": "2023-03-17T12:16:15.653Z"
   },
   {
    "duration": 9,
    "start_time": "2023-03-17T12:16:16.290Z"
   },
   {
    "duration": 17,
    "start_time": "2023-03-17T12:16:16.301Z"
   },
   {
    "duration": 8,
    "start_time": "2023-03-17T12:16:16.320Z"
   },
   {
    "duration": 42,
    "start_time": "2023-03-17T12:16:16.330Z"
   },
   {
    "duration": 6,
    "start_time": "2023-03-17T12:16:16.373Z"
   },
   {
    "duration": 21,
    "start_time": "2023-03-17T12:16:16.605Z"
   },
   {
    "duration": 4,
    "start_time": "2023-03-17T12:16:16.628Z"
   },
   {
    "duration": 25,
    "start_time": "2023-03-17T12:16:16.755Z"
   },
   {
    "duration": 4,
    "start_time": "2023-03-17T12:16:16.782Z"
   },
   {
    "duration": 21,
    "start_time": "2023-03-17T12:16:16.869Z"
   },
   {
    "duration": 4,
    "start_time": "2023-03-17T12:16:16.891Z"
   },
   {
    "duration": 6,
    "start_time": "2023-03-17T12:16:16.968Z"
   },
   {
    "duration": 20,
    "start_time": "2023-03-17T12:16:17.613Z"
   },
   {
    "duration": 4,
    "start_time": "2023-03-17T12:16:17.635Z"
   },
   {
    "duration": 24,
    "start_time": "2023-03-17T12:16:17.640Z"
   },
   {
    "duration": 13,
    "start_time": "2023-03-17T12:16:17.742Z"
   },
   {
    "duration": 9,
    "start_time": "2023-03-17T12:16:17.763Z"
   },
   {
    "duration": 10,
    "start_time": "2023-03-17T12:16:17.773Z"
   },
   {
    "duration": 13,
    "start_time": "2023-03-17T12:16:17.787Z"
   },
   {
    "duration": 5,
    "start_time": "2023-03-17T12:16:17.804Z"
   },
   {
    "duration": 133,
    "start_time": "2023-03-17T12:16:17.811Z"
   },
   {
    "duration": 167,
    "start_time": "2023-03-17T12:16:19.181Z"
   },
   {
    "duration": 3,
    "start_time": "2023-03-17T12:16:19.350Z"
   },
   {
    "duration": 16,
    "start_time": "2023-03-17T12:16:19.774Z"
   },
   {
    "duration": 16,
    "start_time": "2023-03-17T12:16:19.792Z"
   },
   {
    "duration": 8,
    "start_time": "2023-03-17T12:16:19.809Z"
   },
   {
    "duration": 475,
    "start_time": "2023-03-17T12:16:19.819Z"
   },
   {
    "duration": 13,
    "start_time": "2023-03-17T12:16:20.296Z"
   },
   {
    "duration": 23,
    "start_time": "2023-03-17T12:16:20.311Z"
   },
   {
    "duration": 1181,
    "start_time": "2023-03-17T12:16:20.336Z"
   },
   {
    "duration": 278,
    "start_time": "2023-03-17T12:16:21.519Z"
   },
   {
    "duration": 154,
    "start_time": "2023-03-17T12:16:21.799Z"
   },
   {
    "duration": 142,
    "start_time": "2023-03-17T12:16:21.955Z"
   },
   {
    "duration": 147,
    "start_time": "2023-03-17T12:16:22.099Z"
   },
   {
    "duration": 137,
    "start_time": "2023-03-17T12:16:22.248Z"
   },
   {
    "duration": 7,
    "start_time": "2023-03-17T12:16:22.386Z"
   },
   {
    "duration": 223,
    "start_time": "2023-03-17T12:16:22.395Z"
   },
   {
    "duration": 5,
    "start_time": "2023-03-17T12:16:22.620Z"
   },
   {
    "duration": 180,
    "start_time": "2023-03-17T12:16:22.628Z"
   },
   {
    "duration": 5,
    "start_time": "2023-03-17T12:16:22.809Z"
   },
   {
    "duration": 7,
    "start_time": "2023-03-17T12:16:22.816Z"
   },
   {
    "duration": 175,
    "start_time": "2023-03-17T12:16:22.824Z"
   },
   {
    "duration": 186,
    "start_time": "2023-03-17T12:16:23.001Z"
   },
   {
    "duration": 5,
    "start_time": "2023-03-17T12:16:23.189Z"
   },
   {
    "duration": 176,
    "start_time": "2023-03-17T12:16:23.196Z"
   },
   {
    "duration": 5,
    "start_time": "2023-03-17T12:16:23.374Z"
   },
   {
    "duration": 492,
    "start_time": "2023-03-17T12:16:23.381Z"
   },
   {
    "duration": 5,
    "start_time": "2023-03-17T12:16:23.875Z"
   },
   {
    "duration": 21,
    "start_time": "2023-03-17T12:16:23.881Z"
   },
   {
    "duration": 18,
    "start_time": "2023-03-17T12:16:23.904Z"
   },
   {
    "duration": 23,
    "start_time": "2023-03-17T12:16:23.924Z"
   },
   {
    "duration": 21,
    "start_time": "2023-03-17T12:16:23.948Z"
   },
   {
    "duration": 19,
    "start_time": "2023-03-17T12:16:23.971Z"
   },
   {
    "duration": 18,
    "start_time": "2023-03-17T12:16:23.991Z"
   },
   {
    "duration": 14,
    "start_time": "2023-03-17T12:16:24.011Z"
   },
   {
    "duration": 45,
    "start_time": "2023-03-17T12:16:24.027Z"
   },
   {
    "duration": 33,
    "start_time": "2023-03-17T12:16:24.076Z"
   },
   {
    "duration": 73,
    "start_time": "2023-03-17T12:16:24.111Z"
   },
   {
    "duration": 8,
    "start_time": "2023-03-17T12:16:24.186Z"
   },
   {
    "duration": 8,
    "start_time": "2023-03-17T12:16:24.196Z"
   },
   {
    "duration": 11,
    "start_time": "2023-03-17T12:16:24.205Z"
   },
   {
    "duration": 9,
    "start_time": "2023-03-17T12:16:24.218Z"
   },
   {
    "duration": 146,
    "start_time": "2023-03-17T12:17:30.073Z"
   },
   {
    "duration": 6,
    "start_time": "2023-03-17T12:17:35.541Z"
   },
   {
    "duration": 8,
    "start_time": "2023-03-17T12:18:41.660Z"
   },
   {
    "duration": 7,
    "start_time": "2023-03-17T12:18:53.110Z"
   },
   {
    "duration": 153,
    "start_time": "2023-03-17T12:18:56.355Z"
   },
   {
    "duration": 5,
    "start_time": "2023-03-17T12:19:06.771Z"
   },
   {
    "duration": 148,
    "start_time": "2023-03-17T12:19:13.756Z"
   },
   {
    "duration": 6,
    "start_time": "2023-03-17T12:19:23.150Z"
   },
   {
    "duration": 6,
    "start_time": "2023-03-17T12:20:58.911Z"
   },
   {
    "duration": 155,
    "start_time": "2023-03-17T12:21:16.990Z"
   },
   {
    "duration": 173,
    "start_time": "2023-03-17T12:21:31.999Z"
   },
   {
    "duration": 5,
    "start_time": "2023-03-17T12:21:37.396Z"
   },
   {
    "duration": 157,
    "start_time": "2023-03-17T12:21:58.328Z"
   },
   {
    "duration": 5,
    "start_time": "2023-03-17T12:22:03.821Z"
   },
   {
    "duration": 5,
    "start_time": "2023-03-17T12:31:49.215Z"
   },
   {
    "duration": 145,
    "start_time": "2023-03-17T12:35:02.160Z"
   },
   {
    "duration": 172,
    "start_time": "2023-03-17T12:43:09.560Z"
   },
   {
    "duration": 14,
    "start_time": "2023-03-17T12:43:53.373Z"
   },
   {
    "duration": 17,
    "start_time": "2023-03-17T13:52:47.721Z"
   },
   {
    "duration": 0,
    "start_time": "2023-03-18T08:20:51.206Z"
   },
   {
    "duration": 0,
    "start_time": "2023-03-18T08:20:51.207Z"
   },
   {
    "duration": 0,
    "start_time": "2023-03-18T08:20:51.209Z"
   },
   {
    "duration": 0,
    "start_time": "2023-03-18T08:20:51.210Z"
   },
   {
    "duration": 0,
    "start_time": "2023-03-18T08:20:51.212Z"
   },
   {
    "duration": 0,
    "start_time": "2023-03-18T08:20:51.213Z"
   },
   {
    "duration": 0,
    "start_time": "2023-03-18T08:20:51.215Z"
   },
   {
    "duration": 0,
    "start_time": "2023-03-18T08:20:51.217Z"
   },
   {
    "duration": 0,
    "start_time": "2023-03-18T08:20:51.218Z"
   },
   {
    "duration": 0,
    "start_time": "2023-03-18T08:20:51.219Z"
   },
   {
    "duration": 0,
    "start_time": "2023-03-18T08:20:51.220Z"
   },
   {
    "duration": 0,
    "start_time": "2023-03-18T08:20:51.222Z"
   },
   {
    "duration": 0,
    "start_time": "2023-03-18T08:20:51.224Z"
   },
   {
    "duration": 0,
    "start_time": "2023-03-18T08:20:51.225Z"
   },
   {
    "duration": 1,
    "start_time": "2023-03-18T08:20:51.226Z"
   },
   {
    "duration": 0,
    "start_time": "2023-03-18T08:20:51.228Z"
   },
   {
    "duration": 0,
    "start_time": "2023-03-18T08:20:51.229Z"
   },
   {
    "duration": 0,
    "start_time": "2023-03-18T08:20:51.231Z"
   },
   {
    "duration": 0,
    "start_time": "2023-03-18T08:20:51.232Z"
   },
   {
    "duration": 0,
    "start_time": "2023-03-18T08:20:51.234Z"
   },
   {
    "duration": 0,
    "start_time": "2023-03-18T08:20:51.282Z"
   },
   {
    "duration": 1,
    "start_time": "2023-03-18T08:20:51.283Z"
   },
   {
    "duration": 0,
    "start_time": "2023-03-18T08:20:51.285Z"
   },
   {
    "duration": 0,
    "start_time": "2023-03-18T08:20:51.286Z"
   },
   {
    "duration": 0,
    "start_time": "2023-03-18T08:20:51.287Z"
   },
   {
    "duration": 0,
    "start_time": "2023-03-18T08:20:51.287Z"
   },
   {
    "duration": 0,
    "start_time": "2023-03-18T08:20:51.288Z"
   },
   {
    "duration": 0,
    "start_time": "2023-03-18T08:20:51.289Z"
   },
   {
    "duration": 0,
    "start_time": "2023-03-18T08:20:51.290Z"
   },
   {
    "duration": 0,
    "start_time": "2023-03-18T08:20:51.292Z"
   },
   {
    "duration": 0,
    "start_time": "2023-03-18T08:20:51.293Z"
   },
   {
    "duration": 0,
    "start_time": "2023-03-18T08:20:51.295Z"
   },
   {
    "duration": 0,
    "start_time": "2023-03-18T08:20:51.296Z"
   },
   {
    "duration": 0,
    "start_time": "2023-03-18T08:20:51.297Z"
   },
   {
    "duration": 0,
    "start_time": "2023-03-18T08:20:51.298Z"
   },
   {
    "duration": 0,
    "start_time": "2023-03-18T08:20:51.300Z"
   },
   {
    "duration": 0,
    "start_time": "2023-03-18T08:20:51.301Z"
   },
   {
    "duration": 0,
    "start_time": "2023-03-18T08:20:51.302Z"
   },
   {
    "duration": 0,
    "start_time": "2023-03-18T08:20:51.304Z"
   },
   {
    "duration": 0,
    "start_time": "2023-03-18T08:20:51.305Z"
   },
   {
    "duration": 0,
    "start_time": "2023-03-18T08:20:51.308Z"
   },
   {
    "duration": 0,
    "start_time": "2023-03-18T08:20:51.309Z"
   },
   {
    "duration": 0,
    "start_time": "2023-03-18T08:20:51.310Z"
   },
   {
    "duration": 0,
    "start_time": "2023-03-18T08:20:51.311Z"
   },
   {
    "duration": 0,
    "start_time": "2023-03-18T08:20:51.312Z"
   },
   {
    "duration": 0,
    "start_time": "2023-03-18T08:20:51.313Z"
   },
   {
    "duration": 0,
    "start_time": "2023-03-18T08:20:51.315Z"
   },
   {
    "duration": 0,
    "start_time": "2023-03-18T08:20:51.316Z"
   },
   {
    "duration": 0,
    "start_time": "2023-03-18T08:20:51.317Z"
   },
   {
    "duration": 0,
    "start_time": "2023-03-18T08:20:51.318Z"
   },
   {
    "duration": 0,
    "start_time": "2023-03-18T08:20:51.320Z"
   },
   {
    "duration": 0,
    "start_time": "2023-03-18T08:20:51.321Z"
   },
   {
    "duration": 0,
    "start_time": "2023-03-18T08:20:51.322Z"
   },
   {
    "duration": 0,
    "start_time": "2023-03-18T08:20:51.324Z"
   },
   {
    "duration": 0,
    "start_time": "2023-03-18T08:20:51.388Z"
   },
   {
    "duration": 0,
    "start_time": "2023-03-18T08:20:51.392Z"
   },
   {
    "duration": 0,
    "start_time": "2023-03-18T08:20:51.394Z"
   },
   {
    "duration": 0,
    "start_time": "2023-03-18T08:20:51.396Z"
   },
   {
    "duration": 0,
    "start_time": "2023-03-18T08:20:51.398Z"
   },
   {
    "duration": 0,
    "start_time": "2023-03-18T08:20:51.399Z"
   },
   {
    "duration": 0,
    "start_time": "2023-03-18T08:20:51.400Z"
   },
   {
    "duration": 9,
    "start_time": "2023-03-18T08:20:51.406Z"
   },
   {
    "duration": 0,
    "start_time": "2023-03-18T08:20:51.417Z"
   },
   {
    "duration": 0,
    "start_time": "2023-03-18T08:20:51.419Z"
   },
   {
    "duration": 0,
    "start_time": "2023-03-18T08:20:51.420Z"
   },
   {
    "duration": 0,
    "start_time": "2023-03-18T08:20:51.421Z"
   },
   {
    "duration": 0,
    "start_time": "2023-03-18T08:20:51.422Z"
   },
   {
    "duration": 0,
    "start_time": "2023-03-18T08:20:51.424Z"
   },
   {
    "duration": 0,
    "start_time": "2023-03-18T08:20:51.425Z"
   },
   {
    "duration": 0,
    "start_time": "2023-03-18T08:20:51.426Z"
   },
   {
    "duration": 11,
    "start_time": "2023-03-18T08:20:56.072Z"
   },
   {
    "duration": 1191,
    "start_time": "2023-03-18T08:21:10.372Z"
   },
   {
    "duration": 22,
    "start_time": "2023-03-18T08:21:11.565Z"
   },
   {
    "duration": 76,
    "start_time": "2023-03-18T08:21:11.590Z"
   },
   {
    "duration": 19,
    "start_time": "2023-03-18T08:21:11.668Z"
   },
   {
    "duration": 36,
    "start_time": "2023-03-18T08:21:11.693Z"
   },
   {
    "duration": 1333,
    "start_time": "2023-03-18T08:21:11.731Z"
   },
   {
    "duration": 21,
    "start_time": "2023-03-18T08:21:13.066Z"
   },
   {
    "duration": 60,
    "start_time": "2023-03-18T08:21:13.089Z"
   },
   {
    "duration": 15,
    "start_time": "2023-03-18T08:21:13.151Z"
   },
   {
    "duration": 25,
    "start_time": "2023-03-18T08:21:13.168Z"
   },
   {
    "duration": 26,
    "start_time": "2023-03-18T08:21:13.196Z"
   },
   {
    "duration": 22,
    "start_time": "2023-03-18T08:21:13.224Z"
   },
   {
    "duration": 23,
    "start_time": "2023-03-18T08:21:13.247Z"
   },
   {
    "duration": 4,
    "start_time": "2023-03-18T08:21:13.275Z"
   },
   {
    "duration": 42,
    "start_time": "2023-03-18T08:21:13.280Z"
   },
   {
    "duration": 5,
    "start_time": "2023-03-18T08:21:13.324Z"
   },
   {
    "duration": 41,
    "start_time": "2023-03-18T08:21:13.330Z"
   },
   {
    "duration": 6,
    "start_time": "2023-03-18T08:21:13.373Z"
   },
   {
    "duration": 22,
    "start_time": "2023-03-18T08:21:13.383Z"
   },
   {
    "duration": 31,
    "start_time": "2023-03-18T08:21:13.406Z"
   },
   {
    "duration": 5,
    "start_time": "2023-03-18T08:21:13.439Z"
   },
   {
    "duration": 17,
    "start_time": "2023-03-18T08:21:13.446Z"
   },
   {
    "duration": 35,
    "start_time": "2023-03-18T08:21:13.464Z"
   },
   {
    "duration": 19,
    "start_time": "2023-03-18T08:21:13.501Z"
   },
   {
    "duration": 13,
    "start_time": "2023-03-18T08:21:13.522Z"
   },
   {
    "duration": 25,
    "start_time": "2023-03-18T08:21:13.537Z"
   },
   {
    "duration": 14,
    "start_time": "2023-03-18T08:21:13.564Z"
   },
   {
    "duration": 218,
    "start_time": "2023-03-18T08:21:13.579Z"
   },
   {
    "duration": 178,
    "start_time": "2023-03-18T08:21:13.799Z"
   },
   {
    "duration": 10,
    "start_time": "2023-03-18T08:21:13.981Z"
   },
   {
    "duration": 30,
    "start_time": "2023-03-18T08:21:13.996Z"
   },
   {
    "duration": 20,
    "start_time": "2023-03-18T08:21:14.028Z"
   },
   {
    "duration": 56,
    "start_time": "2023-03-18T08:21:14.050Z"
   },
   {
    "duration": 552,
    "start_time": "2023-03-18T08:21:14.109Z"
   },
   {
    "duration": 32,
    "start_time": "2023-03-18T08:21:14.662Z"
   },
   {
    "duration": 12,
    "start_time": "2023-03-18T08:21:14.697Z"
   },
   {
    "duration": 1392,
    "start_time": "2023-03-18T08:21:14.711Z"
   },
   {
    "duration": 315,
    "start_time": "2023-03-18T08:21:16.109Z"
   },
   {
    "duration": 170,
    "start_time": "2023-03-18T08:21:16.426Z"
   },
   {
    "duration": 169,
    "start_time": "2023-03-18T08:21:16.600Z"
   },
   {
    "duration": 175,
    "start_time": "2023-03-18T08:21:16.774Z"
   },
   {
    "duration": 176,
    "start_time": "2023-03-18T08:21:16.951Z"
   },
   {
    "duration": 8,
    "start_time": "2023-03-18T08:21:17.129Z"
   },
   {
    "duration": 258,
    "start_time": "2023-03-18T08:21:17.139Z"
   },
   {
    "duration": 7,
    "start_time": "2023-03-18T08:21:17.400Z"
   },
   {
    "duration": 217,
    "start_time": "2023-03-18T08:21:17.409Z"
   },
   {
    "duration": 6,
    "start_time": "2023-03-18T08:21:17.628Z"
   },
   {
    "duration": 32,
    "start_time": "2023-03-18T08:21:17.636Z"
   },
   {
    "duration": 208,
    "start_time": "2023-03-18T08:21:17.670Z"
   },
   {
    "duration": 225,
    "start_time": "2023-03-18T08:21:17.882Z"
   },
   {
    "duration": 6,
    "start_time": "2023-03-18T08:21:18.109Z"
   },
   {
    "duration": 222,
    "start_time": "2023-03-18T08:21:18.117Z"
   },
   {
    "duration": 6,
    "start_time": "2023-03-18T08:21:18.341Z"
   },
   {
    "duration": 577,
    "start_time": "2023-03-18T08:21:18.348Z"
   },
   {
    "duration": 5,
    "start_time": "2023-03-18T08:21:18.927Z"
   },
   {
    "duration": 21,
    "start_time": "2023-03-18T08:21:18.934Z"
   },
   {
    "duration": 40,
    "start_time": "2023-03-18T08:21:18.957Z"
   },
   {
    "duration": 26,
    "start_time": "2023-03-18T08:21:18.999Z"
   },
   {
    "duration": 144,
    "start_time": "2023-03-18T08:21:19.027Z"
   },
   {
    "duration": 0,
    "start_time": "2023-03-18T08:21:19.173Z"
   },
   {
    "duration": 0,
    "start_time": "2023-03-18T08:21:19.175Z"
   },
   {
    "duration": 0,
    "start_time": "2023-03-18T08:21:19.176Z"
   },
   {
    "duration": 0,
    "start_time": "2023-03-18T08:21:19.177Z"
   },
   {
    "duration": 0,
    "start_time": "2023-03-18T08:21:19.182Z"
   },
   {
    "duration": 0,
    "start_time": "2023-03-18T08:21:19.183Z"
   },
   {
    "duration": 0,
    "start_time": "2023-03-18T08:21:19.184Z"
   },
   {
    "duration": 0,
    "start_time": "2023-03-18T08:21:19.186Z"
   },
   {
    "duration": 0,
    "start_time": "2023-03-18T08:21:19.187Z"
   },
   {
    "duration": 0,
    "start_time": "2023-03-18T08:21:19.188Z"
   },
   {
    "duration": 0,
    "start_time": "2023-03-18T08:21:19.190Z"
   },
   {
    "duration": 682,
    "start_time": "2023-03-18T08:50:48.770Z"
   },
   {
    "duration": 727,
    "start_time": "2023-03-18T08:51:31.374Z"
   },
   {
    "duration": 1258,
    "start_time": "2023-03-18T08:52:20.003Z"
   },
   {
    "duration": 1206,
    "start_time": "2023-03-18T08:52:29.844Z"
   },
   {
    "duration": 394,
    "start_time": "2023-03-18T08:52:53.435Z"
   },
   {
    "duration": 253,
    "start_time": "2023-03-18T08:53:49.872Z"
   },
   {
    "duration": 182,
    "start_time": "2023-03-18T08:53:54.753Z"
   },
   {
    "duration": 162,
    "start_time": "2023-03-18T08:53:58.649Z"
   },
   {
    "duration": 320,
    "start_time": "2023-03-18T08:54:36.321Z"
   },
   {
    "duration": 130,
    "start_time": "2023-03-18T08:54:44.719Z"
   },
   {
    "duration": 111,
    "start_time": "2023-03-18T08:54:54.596Z"
   },
   {
    "duration": 15,
    "start_time": "2023-03-18T08:54:54.710Z"
   },
   {
    "duration": 32,
    "start_time": "2023-03-18T08:54:54.727Z"
   },
   {
    "duration": 40,
    "start_time": "2023-03-18T08:54:54.760Z"
   },
   {
    "duration": 19,
    "start_time": "2023-03-18T08:54:54.804Z"
   },
   {
    "duration": 794,
    "start_time": "2023-03-18T08:54:54.825Z"
   },
   {
    "duration": 11,
    "start_time": "2023-03-18T08:54:55.621Z"
   },
   {
    "duration": 45,
    "start_time": "2023-03-18T08:54:55.633Z"
   },
   {
    "duration": 26,
    "start_time": "2023-03-18T08:54:55.680Z"
   },
   {
    "duration": 8,
    "start_time": "2023-03-18T08:54:55.708Z"
   },
   {
    "duration": 29,
    "start_time": "2023-03-18T08:54:55.717Z"
   },
   {
    "duration": 7,
    "start_time": "2023-03-18T08:54:55.748Z"
   },
   {
    "duration": 50,
    "start_time": "2023-03-18T08:54:55.757Z"
   },
   {
    "duration": 5,
    "start_time": "2023-03-18T08:54:55.810Z"
   },
   {
    "duration": 50,
    "start_time": "2023-03-18T08:54:55.817Z"
   },
   {
    "duration": 17,
    "start_time": "2023-03-18T08:54:55.869Z"
   },
   {
    "duration": 42,
    "start_time": "2023-03-18T08:54:55.895Z"
   },
   {
    "duration": 24,
    "start_time": "2023-03-18T08:54:55.939Z"
   },
   {
    "duration": 18,
    "start_time": "2023-03-18T08:54:55.966Z"
   },
   {
    "duration": 57,
    "start_time": "2023-03-18T08:54:55.991Z"
   },
   {
    "duration": 16,
    "start_time": "2023-03-18T08:54:56.051Z"
   },
   {
    "duration": 59,
    "start_time": "2023-03-18T08:54:56.070Z"
   },
   {
    "duration": 47,
    "start_time": "2023-03-18T08:54:56.131Z"
   },
   {
    "duration": 36,
    "start_time": "2023-03-18T08:54:56.180Z"
   },
   {
    "duration": 16,
    "start_time": "2023-03-18T08:54:56.219Z"
   },
   {
    "duration": 26,
    "start_time": "2023-03-18T08:54:56.237Z"
   },
   {
    "duration": 7,
    "start_time": "2023-03-18T08:54:56.265Z"
   },
   {
    "duration": 174,
    "start_time": "2023-03-18T08:54:56.274Z"
   },
   {
    "duration": 196,
    "start_time": "2023-03-18T08:54:56.450Z"
   },
   {
    "duration": 3,
    "start_time": "2023-03-18T08:54:56.649Z"
   },
   {
    "duration": 44,
    "start_time": "2023-03-18T08:54:56.654Z"
   },
   {
    "duration": 26,
    "start_time": "2023-03-18T08:54:56.701Z"
   },
   {
    "duration": 9,
    "start_time": "2023-03-18T08:54:56.729Z"
   },
   {
    "duration": 562,
    "start_time": "2023-03-18T08:54:56.740Z"
   },
   {
    "duration": 16,
    "start_time": "2023-03-18T08:54:57.304Z"
   },
   {
    "duration": 11,
    "start_time": "2023-03-18T08:54:57.322Z"
   },
   {
    "duration": 402,
    "start_time": "2023-03-18T08:54:57.335Z"
   },
   {
    "duration": 234,
    "start_time": "2023-03-18T08:54:57.740Z"
   },
   {
    "duration": 149,
    "start_time": "2023-03-18T08:54:57.976Z"
   },
   {
    "duration": 140,
    "start_time": "2023-03-18T08:54:58.128Z"
   },
   {
    "duration": 290,
    "start_time": "2023-03-18T08:54:58.280Z"
   },
   {
    "duration": 156,
    "start_time": "2023-03-18T08:54:58.581Z"
   },
   {
    "duration": 8,
    "start_time": "2023-03-18T08:54:58.739Z"
   },
   {
    "duration": 270,
    "start_time": "2023-03-18T08:54:58.749Z"
   },
   {
    "duration": 6,
    "start_time": "2023-03-18T08:54:59.020Z"
   },
   {
    "duration": 221,
    "start_time": "2023-03-18T08:54:59.028Z"
   },
   {
    "duration": 6,
    "start_time": "2023-03-18T08:54:59.251Z"
   },
   {
    "duration": 61,
    "start_time": "2023-03-18T08:54:59.259Z"
   },
   {
    "duration": 379,
    "start_time": "2023-03-18T08:54:59.322Z"
   },
   {
    "duration": 256,
    "start_time": "2023-03-18T08:54:59.703Z"
   },
   {
    "duration": 5,
    "start_time": "2023-03-18T08:54:59.961Z"
   },
   {
    "duration": 231,
    "start_time": "2023-03-18T08:54:59.968Z"
   },
   {
    "duration": 7,
    "start_time": "2023-03-18T08:55:00.201Z"
   },
   {
    "duration": 555,
    "start_time": "2023-03-18T08:55:00.210Z"
   },
   {
    "duration": 6,
    "start_time": "2023-03-18T08:55:00.767Z"
   },
   {
    "duration": 49,
    "start_time": "2023-03-18T08:55:00.786Z"
   },
   {
    "duration": 78,
    "start_time": "2023-03-18T08:55:00.837Z"
   },
   {
    "duration": 78,
    "start_time": "2023-03-18T08:55:00.917Z"
   },
   {
    "duration": 63,
    "start_time": "2023-03-18T08:55:00.997Z"
   },
   {
    "duration": 0,
    "start_time": "2023-03-18T08:55:01.062Z"
   },
   {
    "duration": 0,
    "start_time": "2023-03-18T08:55:01.063Z"
   },
   {
    "duration": 0,
    "start_time": "2023-03-18T08:55:01.064Z"
   },
   {
    "duration": 0,
    "start_time": "2023-03-18T08:55:01.066Z"
   },
   {
    "duration": 0,
    "start_time": "2023-03-18T08:55:01.067Z"
   },
   {
    "duration": 0,
    "start_time": "2023-03-18T08:55:01.068Z"
   },
   {
    "duration": 0,
    "start_time": "2023-03-18T08:55:01.069Z"
   },
   {
    "duration": 0,
    "start_time": "2023-03-18T08:55:01.070Z"
   },
   {
    "duration": 0,
    "start_time": "2023-03-18T08:55:01.071Z"
   },
   {
    "duration": 0,
    "start_time": "2023-03-18T08:55:01.072Z"
   },
   {
    "duration": 0,
    "start_time": "2023-03-18T08:55:01.072Z"
   },
   {
    "duration": 2045,
    "start_time": "2023-03-18T08:56:51.586Z"
   },
   {
    "duration": 18,
    "start_time": "2023-03-18T08:56:53.633Z"
   },
   {
    "duration": 50,
    "start_time": "2023-03-18T08:56:53.653Z"
   },
   {
    "duration": 15,
    "start_time": "2023-03-18T08:56:53.705Z"
   },
   {
    "duration": 32,
    "start_time": "2023-03-18T08:56:53.722Z"
   },
   {
    "duration": 2589,
    "start_time": "2023-03-18T08:56:53.756Z"
   },
   {
    "duration": 10,
    "start_time": "2023-03-18T08:56:56.347Z"
   },
   {
    "duration": 138,
    "start_time": "2023-03-18T08:56:56.359Z"
   },
   {
    "duration": 19,
    "start_time": "2023-03-18T08:56:56.499Z"
   },
   {
    "duration": 12,
    "start_time": "2023-03-18T08:56:56.523Z"
   },
   {
    "duration": 35,
    "start_time": "2023-03-18T08:56:56.538Z"
   },
   {
    "duration": 14,
    "start_time": "2023-03-18T08:56:56.582Z"
   },
   {
    "duration": 40,
    "start_time": "2023-03-18T08:56:56.601Z"
   },
   {
    "duration": 3,
    "start_time": "2023-03-18T08:56:56.643Z"
   },
   {
    "duration": 45,
    "start_time": "2023-03-18T08:56:56.648Z"
   },
   {
    "duration": 5,
    "start_time": "2023-03-18T08:56:56.698Z"
   },
   {
    "duration": 66,
    "start_time": "2023-03-18T08:56:56.705Z"
   },
   {
    "duration": 6,
    "start_time": "2023-03-18T08:56:56.773Z"
   },
   {
    "duration": 24,
    "start_time": "2023-03-18T08:56:56.781Z"
   },
   {
    "duration": 44,
    "start_time": "2023-03-18T08:56:56.807Z"
   },
   {
    "duration": 13,
    "start_time": "2023-03-18T08:56:56.853Z"
   },
   {
    "duration": 11,
    "start_time": "2023-03-18T08:56:56.868Z"
   },
   {
    "duration": 35,
    "start_time": "2023-03-18T08:56:56.881Z"
   },
   {
    "duration": 9,
    "start_time": "2023-03-18T08:56:56.918Z"
   },
   {
    "duration": 5,
    "start_time": "2023-03-18T08:56:56.928Z"
   },
   {
    "duration": 28,
    "start_time": "2023-03-18T08:56:56.935Z"
   },
   {
    "duration": 6,
    "start_time": "2023-03-18T08:56:56.966Z"
   },
   {
    "duration": 166,
    "start_time": "2023-03-18T08:56:56.988Z"
   },
   {
    "duration": 181,
    "start_time": "2023-03-18T08:56:57.156Z"
   },
   {
    "duration": 3,
    "start_time": "2023-03-18T08:56:57.339Z"
   },
   {
    "duration": 35,
    "start_time": "2023-03-18T08:56:57.344Z"
   },
   {
    "duration": 40,
    "start_time": "2023-03-18T08:56:57.382Z"
   },
   {
    "duration": 10,
    "start_time": "2023-03-18T08:56:57.423Z"
   },
   {
    "duration": 526,
    "start_time": "2023-03-18T08:56:57.435Z"
   },
   {
    "duration": 31,
    "start_time": "2023-03-18T08:56:57.963Z"
   },
   {
    "duration": 5,
    "start_time": "2023-03-18T08:56:57.996Z"
   },
   {
    "duration": 416,
    "start_time": "2023-03-18T08:56:58.003Z"
   },
   {
    "duration": 234,
    "start_time": "2023-03-18T08:56:58.421Z"
   },
   {
    "duration": 318,
    "start_time": "2023-03-18T08:56:58.657Z"
   },
   {
    "duration": 136,
    "start_time": "2023-03-18T08:56:58.977Z"
   },
   {
    "duration": 281,
    "start_time": "2023-03-18T08:56:59.115Z"
   },
   {
    "duration": 208,
    "start_time": "2023-03-18T08:56:59.399Z"
   },
   {
    "duration": 11,
    "start_time": "2023-03-18T08:56:59.609Z"
   },
   {
    "duration": 253,
    "start_time": "2023-03-18T08:56:59.622Z"
   },
   {
    "duration": 23,
    "start_time": "2023-03-18T08:56:59.877Z"
   },
   {
    "duration": 208,
    "start_time": "2023-03-18T08:56:59.902Z"
   },
   {
    "duration": 7,
    "start_time": "2023-03-18T08:57:00.112Z"
   },
   {
    "duration": 31,
    "start_time": "2023-03-18T08:57:00.121Z"
   },
   {
    "duration": 238,
    "start_time": "2023-03-18T08:57:00.154Z"
   },
   {
    "duration": 243,
    "start_time": "2023-03-18T08:57:00.396Z"
   },
   {
    "duration": 6,
    "start_time": "2023-03-18T08:57:00.642Z"
   },
   {
    "duration": 253,
    "start_time": "2023-03-18T08:57:00.650Z"
   },
   {
    "duration": 7,
    "start_time": "2023-03-18T08:57:00.905Z"
   },
   {
    "duration": 585,
    "start_time": "2023-03-18T08:57:00.914Z"
   },
   {
    "duration": 7,
    "start_time": "2023-03-18T08:57:01.501Z"
   },
   {
    "duration": 48,
    "start_time": "2023-03-18T08:57:01.510Z"
   },
   {
    "duration": 111,
    "start_time": "2023-03-18T08:57:01.560Z"
   },
   {
    "duration": 50,
    "start_time": "2023-03-18T08:57:01.673Z"
   },
   {
    "duration": 142,
    "start_time": "2023-03-18T08:57:01.725Z"
   },
   {
    "duration": 0,
    "start_time": "2023-03-18T08:57:01.869Z"
   },
   {
    "duration": 0,
    "start_time": "2023-03-18T08:57:01.871Z"
   },
   {
    "duration": 0,
    "start_time": "2023-03-18T08:57:01.872Z"
   },
   {
    "duration": 0,
    "start_time": "2023-03-18T08:57:01.873Z"
   },
   {
    "duration": 0,
    "start_time": "2023-03-18T08:57:01.882Z"
   },
   {
    "duration": 0,
    "start_time": "2023-03-18T08:57:01.883Z"
   },
   {
    "duration": 0,
    "start_time": "2023-03-18T08:57:01.883Z"
   },
   {
    "duration": 0,
    "start_time": "2023-03-18T08:57:01.884Z"
   },
   {
    "duration": 0,
    "start_time": "2023-03-18T08:57:01.890Z"
   },
   {
    "duration": 0,
    "start_time": "2023-03-18T08:57:01.891Z"
   },
   {
    "duration": 0,
    "start_time": "2023-03-18T08:57:01.891Z"
   },
   {
    "duration": 597,
    "start_time": "2023-03-18T08:57:17.150Z"
   },
   {
    "duration": 519,
    "start_time": "2023-03-18T08:57:40.041Z"
   },
   {
    "duration": 352,
    "start_time": "2023-03-18T08:57:49.961Z"
   },
   {
    "duration": 224,
    "start_time": "2023-03-18T08:57:57.833Z"
   },
   {
    "duration": 220,
    "start_time": "2023-03-18T08:58:01.901Z"
   },
   {
    "duration": 197,
    "start_time": "2023-03-18T08:58:11.720Z"
   },
   {
    "duration": 268,
    "start_time": "2023-03-18T08:58:15.366Z"
   },
   {
    "duration": 259,
    "start_time": "2023-03-18T08:58:24.354Z"
   },
   {
    "duration": 110,
    "start_time": "2023-03-18T08:58:27.195Z"
   },
   {
    "duration": 193,
    "start_time": "2023-03-18T08:58:31.373Z"
   },
   {
    "duration": 192,
    "start_time": "2023-03-18T08:58:47.414Z"
   },
   {
    "duration": 189,
    "start_time": "2023-03-18T08:58:54.213Z"
   },
   {
    "duration": 6,
    "start_time": "2023-03-18T08:58:59.744Z"
   },
   {
    "duration": 371,
    "start_time": "2023-03-18T08:59:03.429Z"
   },
   {
    "duration": 250,
    "start_time": "2023-03-18T08:59:07.413Z"
   },
   {
    "duration": 7,
    "start_time": "2023-03-18T08:59:11.069Z"
   },
   {
    "duration": 521,
    "start_time": "2023-03-18T08:59:22.046Z"
   },
   {
    "duration": 232,
    "start_time": "2023-03-18T09:09:56.159Z"
   },
   {
    "duration": 17,
    "start_time": "2023-03-18T09:11:48.205Z"
   },
   {
    "duration": 86,
    "start_time": "2023-03-18T09:11:57.562Z"
   },
   {
    "duration": 16,
    "start_time": "2023-03-18T09:11:57.651Z"
   },
   {
    "duration": 47,
    "start_time": "2023-03-18T09:11:57.669Z"
   },
   {
    "duration": 17,
    "start_time": "2023-03-18T09:11:57.718Z"
   },
   {
    "duration": 35,
    "start_time": "2023-03-18T09:11:57.737Z"
   },
   {
    "duration": 766,
    "start_time": "2023-03-18T09:11:57.793Z"
   },
   {
    "duration": 40,
    "start_time": "2023-03-18T09:11:58.562Z"
   },
   {
    "duration": 51,
    "start_time": "2023-03-18T09:11:58.608Z"
   },
   {
    "duration": 17,
    "start_time": "2023-03-18T09:11:58.661Z"
   },
   {
    "duration": 40,
    "start_time": "2023-03-18T09:11:58.682Z"
   },
   {
    "duration": 39,
    "start_time": "2023-03-18T09:11:58.724Z"
   },
   {
    "duration": 32,
    "start_time": "2023-03-18T09:11:58.765Z"
   },
   {
    "duration": 33,
    "start_time": "2023-03-18T09:11:58.806Z"
   },
   {
    "duration": 13,
    "start_time": "2023-03-18T09:11:58.841Z"
   },
   {
    "duration": 75,
    "start_time": "2023-03-18T09:11:58.856Z"
   },
   {
    "duration": 9,
    "start_time": "2023-03-18T09:11:58.933Z"
   },
   {
    "duration": 29,
    "start_time": "2023-03-18T09:11:58.944Z"
   },
   {
    "duration": 13,
    "start_time": "2023-03-18T09:11:58.976Z"
   },
   {
    "duration": 38,
    "start_time": "2023-03-18T09:11:58.995Z"
   },
   {
    "duration": 70,
    "start_time": "2023-03-18T09:11:59.035Z"
   },
   {
    "duration": 7,
    "start_time": "2023-03-18T09:11:59.107Z"
   },
   {
    "duration": 21,
    "start_time": "2023-03-18T09:11:59.117Z"
   },
   {
    "duration": 27,
    "start_time": "2023-03-18T09:11:59.140Z"
   },
   {
    "duration": 24,
    "start_time": "2023-03-18T09:11:59.169Z"
   },
   {
    "duration": 22,
    "start_time": "2023-03-18T09:11:59.204Z"
   },
   {
    "duration": 19,
    "start_time": "2023-03-18T09:11:59.228Z"
   },
   {
    "duration": 7,
    "start_time": "2023-03-18T09:11:59.249Z"
   },
   {
    "duration": 159,
    "start_time": "2023-03-18T09:11:59.261Z"
   },
   {
    "duration": 211,
    "start_time": "2023-03-18T09:11:59.422Z"
   },
   {
    "duration": 3,
    "start_time": "2023-03-18T09:11:59.635Z"
   },
   {
    "duration": 27,
    "start_time": "2023-03-18T09:11:59.639Z"
   },
   {
    "duration": 35,
    "start_time": "2023-03-18T09:11:59.668Z"
   },
   {
    "duration": 22,
    "start_time": "2023-03-18T09:11:59.704Z"
   },
   {
    "duration": 616,
    "start_time": "2023-03-18T09:11:59.728Z"
   },
   {
    "duration": 16,
    "start_time": "2023-03-18T09:12:00.346Z"
   },
   {
    "duration": 56,
    "start_time": "2023-03-18T09:12:00.364Z"
   },
   {
    "duration": 496,
    "start_time": "2023-03-18T09:12:00.423Z"
   },
   {
    "duration": 218,
    "start_time": "2023-03-18T09:12:00.921Z"
   },
   {
    "duration": 311,
    "start_time": "2023-03-18T09:12:01.141Z"
   },
   {
    "duration": 169,
    "start_time": "2023-03-18T09:12:01.454Z"
   },
   {
    "duration": 190,
    "start_time": "2023-03-18T09:12:01.626Z"
   },
   {
    "duration": 146,
    "start_time": "2023-03-18T09:12:01.820Z"
   },
   {
    "duration": 36,
    "start_time": "2023-03-18T09:12:01.969Z"
   },
   {
    "duration": 341,
    "start_time": "2023-03-18T09:12:02.011Z"
   },
   {
    "duration": 6,
    "start_time": "2023-03-18T09:12:02.354Z"
   },
   {
    "duration": 299,
    "start_time": "2023-03-18T09:12:02.362Z"
   },
   {
    "duration": 6,
    "start_time": "2023-03-18T09:12:02.663Z"
   },
   {
    "duration": 50,
    "start_time": "2023-03-18T09:12:02.671Z"
   },
   {
    "duration": 252,
    "start_time": "2023-03-18T09:12:02.723Z"
   },
   {
    "duration": 260,
    "start_time": "2023-03-18T09:12:02.981Z"
   },
   {
    "duration": 7,
    "start_time": "2023-03-18T09:12:03.243Z"
   },
   {
    "duration": 285,
    "start_time": "2023-03-18T09:12:03.252Z"
   },
   {
    "duration": 6,
    "start_time": "2023-03-18T09:12:03.539Z"
   },
   {
    "duration": 778,
    "start_time": "2023-03-18T09:12:03.547Z"
   },
   {
    "duration": 10,
    "start_time": "2023-03-18T09:12:04.327Z"
   },
   {
    "duration": 33,
    "start_time": "2023-03-18T09:12:04.339Z"
   },
   {
    "duration": 277,
    "start_time": "2023-03-18T09:12:04.375Z"
   },
   {
    "duration": 43,
    "start_time": "2023-03-18T09:12:04.654Z"
   },
   {
    "duration": 69,
    "start_time": "2023-03-18T09:12:04.700Z"
   },
   {
    "duration": 90,
    "start_time": "2023-03-18T09:12:04.771Z"
   },
   {
    "duration": 0,
    "start_time": "2023-03-18T09:12:04.863Z"
   },
   {
    "duration": 0,
    "start_time": "2023-03-18T09:12:04.865Z"
   },
   {
    "duration": 0,
    "start_time": "2023-03-18T09:12:04.866Z"
   },
   {
    "duration": 0,
    "start_time": "2023-03-18T09:12:04.868Z"
   },
   {
    "duration": 0,
    "start_time": "2023-03-18T09:12:04.869Z"
   },
   {
    "duration": 0,
    "start_time": "2023-03-18T09:12:04.871Z"
   },
   {
    "duration": 0,
    "start_time": "2023-03-18T09:12:04.872Z"
   },
   {
    "duration": 0,
    "start_time": "2023-03-18T09:12:04.874Z"
   },
   {
    "duration": 0,
    "start_time": "2023-03-18T09:12:04.876Z"
   },
   {
    "duration": 0,
    "start_time": "2023-03-18T09:12:04.877Z"
   },
   {
    "duration": 0,
    "start_time": "2023-03-18T09:12:04.878Z"
   },
   {
    "duration": 0,
    "start_time": "2023-03-18T09:12:04.879Z"
   },
   {
    "duration": 13,
    "start_time": "2023-03-18T09:12:35.224Z"
   },
   {
    "duration": 14,
    "start_time": "2023-03-18T09:14:13.521Z"
   },
   {
    "duration": 224,
    "start_time": "2023-03-18T09:14:59.903Z"
   },
   {
    "duration": 216,
    "start_time": "2023-03-18T09:15:20.045Z"
   },
   {
    "duration": 22,
    "start_time": "2023-03-18T09:15:28.623Z"
   },
   {
    "duration": 208,
    "start_time": "2023-03-18T09:15:57.937Z"
   },
   {
    "duration": 221,
    "start_time": "2023-03-18T09:16:05.010Z"
   },
   {
    "duration": 205,
    "start_time": "2023-03-18T09:16:17.728Z"
   },
   {
    "duration": 587,
    "start_time": "2023-03-18T09:20:54.208Z"
   },
   {
    "duration": 524,
    "start_time": "2023-03-18T09:21:08.916Z"
   },
   {
    "duration": 74,
    "start_time": "2023-03-18T09:21:16.401Z"
   },
   {
    "duration": 31,
    "start_time": "2023-03-18T09:21:16.477Z"
   },
   {
    "duration": 54,
    "start_time": "2023-03-18T09:21:16.515Z"
   },
   {
    "duration": 29,
    "start_time": "2023-03-18T09:21:16.571Z"
   },
   {
    "duration": 43,
    "start_time": "2023-03-18T09:21:16.605Z"
   },
   {
    "duration": 723,
    "start_time": "2023-03-18T09:21:16.650Z"
   },
   {
    "duration": 39,
    "start_time": "2023-03-18T09:21:17.376Z"
   },
   {
    "duration": 21,
    "start_time": "2023-03-18T09:21:17.417Z"
   },
   {
    "duration": 16,
    "start_time": "2023-03-18T09:21:17.441Z"
   },
   {
    "duration": 35,
    "start_time": "2023-03-18T09:21:17.460Z"
   },
   {
    "duration": 49,
    "start_time": "2023-03-18T09:21:17.502Z"
   },
   {
    "duration": 9,
    "start_time": "2023-03-18T09:21:17.553Z"
   },
   {
    "duration": 33,
    "start_time": "2023-03-18T09:21:17.564Z"
   },
   {
    "duration": 9,
    "start_time": "2023-03-18T09:21:17.601Z"
   },
   {
    "duration": 84,
    "start_time": "2023-03-18T09:21:17.612Z"
   },
   {
    "duration": 29,
    "start_time": "2023-03-18T09:21:17.698Z"
   },
   {
    "duration": 34,
    "start_time": "2023-03-18T09:21:17.729Z"
   },
   {
    "duration": 6,
    "start_time": "2023-03-18T09:21:17.766Z"
   },
   {
    "duration": 18,
    "start_time": "2023-03-18T09:21:17.774Z"
   },
   {
    "duration": 69,
    "start_time": "2023-03-18T09:21:17.794Z"
   },
   {
    "duration": 6,
    "start_time": "2023-03-18T09:21:17.865Z"
   },
   {
    "duration": 47,
    "start_time": "2023-03-18T09:21:17.873Z"
   },
   {
    "duration": 29,
    "start_time": "2023-03-18T09:21:17.923Z"
   },
   {
    "duration": 19,
    "start_time": "2023-03-18T09:21:17.954Z"
   },
   {
    "duration": 7,
    "start_time": "2023-03-18T09:21:17.975Z"
   },
   {
    "duration": 54,
    "start_time": "2023-03-18T09:21:17.990Z"
   },
   {
    "duration": 11,
    "start_time": "2023-03-18T09:21:18.047Z"
   },
   {
    "duration": 201,
    "start_time": "2023-03-18T09:21:18.060Z"
   },
   {
    "duration": 209,
    "start_time": "2023-03-18T09:21:18.263Z"
   },
   {
    "duration": 8,
    "start_time": "2023-03-18T09:21:18.475Z"
   },
   {
    "duration": 69,
    "start_time": "2023-03-18T09:21:18.485Z"
   },
   {
    "duration": 17,
    "start_time": "2023-03-18T09:21:18.556Z"
   },
   {
    "duration": 18,
    "start_time": "2023-03-18T09:21:18.576Z"
   },
   {
    "duration": 562,
    "start_time": "2023-03-18T09:21:18.606Z"
   },
   {
    "duration": 34,
    "start_time": "2023-03-18T09:21:19.170Z"
   },
   {
    "duration": 17,
    "start_time": "2023-03-18T09:21:19.206Z"
   },
   {
    "duration": 405,
    "start_time": "2023-03-18T09:21:19.225Z"
   },
   {
    "duration": 209,
    "start_time": "2023-03-18T09:21:19.632Z"
   },
   {
    "duration": 169,
    "start_time": "2023-03-18T09:21:19.844Z"
   },
   {
    "duration": 141,
    "start_time": "2023-03-18T09:21:20.015Z"
   },
   {
    "duration": 155,
    "start_time": "2023-03-18T09:21:20.163Z"
   },
   {
    "duration": 142,
    "start_time": "2023-03-18T09:21:20.320Z"
   },
   {
    "duration": 19,
    "start_time": "2023-03-18T09:21:20.464Z"
   },
   {
    "duration": 424,
    "start_time": "2023-03-18T09:21:20.493Z"
   },
   {
    "duration": 8,
    "start_time": "2023-03-18T09:21:20.919Z"
   },
   {
    "duration": 216,
    "start_time": "2023-03-18T09:21:20.928Z"
   },
   {
    "duration": 6,
    "start_time": "2023-03-18T09:21:21.146Z"
   },
   {
    "duration": 17,
    "start_time": "2023-03-18T09:21:21.154Z"
   },
   {
    "duration": 248,
    "start_time": "2023-03-18T09:21:21.173Z"
   },
   {
    "duration": 253,
    "start_time": "2023-03-18T09:21:21.423Z"
   },
   {
    "duration": 17,
    "start_time": "2023-03-18T09:21:21.681Z"
   },
   {
    "duration": 224,
    "start_time": "2023-03-18T09:21:21.706Z"
   },
   {
    "duration": 7,
    "start_time": "2023-03-18T09:21:21.932Z"
   },
   {
    "duration": 652,
    "start_time": "2023-03-18T09:21:21.942Z"
   },
   {
    "duration": 14,
    "start_time": "2023-03-18T09:21:22.599Z"
   },
   {
    "duration": 35,
    "start_time": "2023-03-18T09:21:22.615Z"
   },
   {
    "duration": 214,
    "start_time": "2023-03-18T09:21:22.652Z"
   },
   {
    "duration": 40,
    "start_time": "2023-03-18T09:21:22.868Z"
   },
   {
    "duration": 205,
    "start_time": "2023-03-18T09:21:22.913Z"
   },
   {
    "duration": 17,
    "start_time": "2023-03-18T09:21:23.120Z"
   },
   {
    "duration": 204,
    "start_time": "2023-03-18T09:21:23.139Z"
   },
   {
    "duration": 334,
    "start_time": "2023-03-18T09:21:23.345Z"
   },
   {
    "duration": 459,
    "start_time": "2023-03-18T09:21:23.681Z"
   },
   {
    "duration": 0,
    "start_time": "2023-03-18T09:21:24.143Z"
   },
   {
    "duration": 0,
    "start_time": "2023-03-18T09:21:24.144Z"
   },
   {
    "duration": 0,
    "start_time": "2023-03-18T09:21:24.145Z"
   },
   {
    "duration": 0,
    "start_time": "2023-03-18T09:21:24.146Z"
   },
   {
    "duration": 0,
    "start_time": "2023-03-18T09:21:24.147Z"
   },
   {
    "duration": 0,
    "start_time": "2023-03-18T09:21:24.149Z"
   },
   {
    "duration": 0,
    "start_time": "2023-03-18T09:21:24.150Z"
   },
   {
    "duration": 0,
    "start_time": "2023-03-18T09:21:24.151Z"
   },
   {
    "duration": 0,
    "start_time": "2023-03-18T09:21:24.152Z"
   },
   {
    "duration": 0,
    "start_time": "2023-03-18T09:21:24.153Z"
   },
   {
    "duration": 0,
    "start_time": "2023-03-18T09:21:24.154Z"
   },
   {
    "duration": 45,
    "start_time": "2023-03-18T09:21:41.510Z"
   },
   {
    "duration": 55,
    "start_time": "2023-03-18T09:21:46.906Z"
   },
   {
    "duration": 3,
    "start_time": "2023-03-18T09:21:52.165Z"
   },
   {
    "duration": 3,
    "start_time": "2023-03-18T09:22:00.421Z"
   },
   {
    "duration": 3,
    "start_time": "2023-03-18T09:22:07.271Z"
   },
   {
    "duration": 455,
    "start_time": "2023-03-18T09:22:46.549Z"
   },
   {
    "duration": 246,
    "start_time": "2023-03-18T09:23:39.906Z"
   },
   {
    "duration": 615,
    "start_time": "2023-03-18T09:23:56.300Z"
   },
   {
    "duration": 523,
    "start_time": "2023-03-18T09:24:07.527Z"
   },
   {
    "duration": 361,
    "start_time": "2023-03-18T09:24:48.366Z"
   },
   {
    "duration": 274,
    "start_time": "2023-03-18T09:29:52.094Z"
   },
   {
    "duration": 469,
    "start_time": "2023-03-18T09:33:55.843Z"
   },
   {
    "duration": 334,
    "start_time": "2023-03-18T09:34:19.712Z"
   },
   {
    "duration": 358,
    "start_time": "2023-03-18T09:35:01.810Z"
   },
   {
    "duration": 50,
    "start_time": "2023-03-18T12:08:46.938Z"
   },
   {
    "duration": 995,
    "start_time": "2023-03-18T12:08:50.986Z"
   },
   {
    "duration": 16,
    "start_time": "2023-03-18T12:08:51.983Z"
   },
   {
    "duration": 41,
    "start_time": "2023-03-18T12:08:52.001Z"
   },
   {
    "duration": 15,
    "start_time": "2023-03-18T12:08:52.044Z"
   },
   {
    "duration": 22,
    "start_time": "2023-03-18T12:08:52.060Z"
   },
   {
    "duration": 1146,
    "start_time": "2023-03-18T12:08:52.084Z"
   },
   {
    "duration": 14,
    "start_time": "2023-03-18T12:08:53.232Z"
   },
   {
    "duration": 53,
    "start_time": "2023-03-18T12:08:53.247Z"
   },
   {
    "duration": 14,
    "start_time": "2023-03-18T12:08:53.301Z"
   },
   {
    "duration": 8,
    "start_time": "2023-03-18T12:08:53.340Z"
   },
   {
    "duration": 21,
    "start_time": "2023-03-18T12:08:53.349Z"
   },
   {
    "duration": 7,
    "start_time": "2023-03-18T12:08:53.371Z"
   },
   {
    "duration": 25,
    "start_time": "2023-03-18T12:08:53.380Z"
   },
   {
    "duration": 3,
    "start_time": "2023-03-18T12:08:53.407Z"
   },
   {
    "duration": 21,
    "start_time": "2023-03-18T12:08:53.441Z"
   },
   {
    "duration": 4,
    "start_time": "2023-03-18T12:08:53.464Z"
   },
   {
    "duration": 25,
    "start_time": "2023-03-18T12:08:53.470Z"
   },
   {
    "duration": 4,
    "start_time": "2023-03-18T12:08:53.496Z"
   },
   {
    "duration": 5,
    "start_time": "2023-03-18T12:08:53.502Z"
   },
   {
    "duration": 49,
    "start_time": "2023-03-18T12:08:53.509Z"
   },
   {
    "duration": 9,
    "start_time": "2023-03-18T12:08:53.560Z"
   },
   {
    "duration": 8,
    "start_time": "2023-03-18T12:08:53.571Z"
   },
   {
    "duration": 13,
    "start_time": "2023-03-18T12:08:53.581Z"
   },
   {
    "duration": 7,
    "start_time": "2023-03-18T12:08:53.596Z"
   },
   {
    "duration": 3,
    "start_time": "2023-03-18T12:08:53.605Z"
   },
   {
    "duration": 38,
    "start_time": "2023-03-18T12:08:53.610Z"
   },
   {
    "duration": 5,
    "start_time": "2023-03-18T12:08:53.650Z"
   },
   {
    "duration": 146,
    "start_time": "2023-03-18T12:08:53.659Z"
   },
   {
    "duration": 154,
    "start_time": "2023-03-18T12:08:53.807Z"
   },
   {
    "duration": 2,
    "start_time": "2023-03-18T12:08:53.962Z"
   },
   {
    "duration": 17,
    "start_time": "2023-03-18T12:08:53.966Z"
   },
   {
    "duration": 16,
    "start_time": "2023-03-18T12:08:53.984Z"
   },
   {
    "duration": 8,
    "start_time": "2023-03-18T12:08:54.002Z"
   },
   {
    "duration": 475,
    "start_time": "2023-03-18T12:08:54.012Z"
   },
   {
    "duration": 14,
    "start_time": "2023-03-18T12:08:54.489Z"
   },
   {
    "duration": 3,
    "start_time": "2023-03-18T12:08:54.505Z"
   },
   {
    "duration": 348,
    "start_time": "2023-03-18T12:08:54.509Z"
   },
   {
    "duration": 163,
    "start_time": "2023-03-18T12:08:54.859Z"
   },
   {
    "duration": 190,
    "start_time": "2023-03-18T12:08:55.024Z"
   },
   {
    "duration": 108,
    "start_time": "2023-03-18T12:08:55.216Z"
   },
   {
    "duration": 125,
    "start_time": "2023-03-18T12:08:55.326Z"
   },
   {
    "duration": 112,
    "start_time": "2023-03-18T12:08:55.452Z"
   },
   {
    "duration": 8,
    "start_time": "2023-03-18T12:08:55.565Z"
   },
   {
    "duration": 168,
    "start_time": "2023-03-18T12:08:55.574Z"
   },
   {
    "duration": 6,
    "start_time": "2023-03-18T12:08:55.744Z"
   },
   {
    "duration": 170,
    "start_time": "2023-03-18T12:08:55.751Z"
   },
   {
    "duration": 4,
    "start_time": "2023-03-18T12:08:55.923Z"
   },
   {
    "duration": 16,
    "start_time": "2023-03-18T12:08:55.929Z"
   },
   {
    "duration": 178,
    "start_time": "2023-03-18T12:08:55.947Z"
   },
   {
    "duration": 196,
    "start_time": "2023-03-18T12:08:56.126Z"
   },
   {
    "duration": 5,
    "start_time": "2023-03-18T12:08:56.324Z"
   },
   {
    "duration": 157,
    "start_time": "2023-03-18T12:08:56.340Z"
   },
   {
    "duration": 5,
    "start_time": "2023-03-18T12:08:56.498Z"
   },
   {
    "duration": 474,
    "start_time": "2023-03-18T12:08:56.505Z"
   },
   {
    "duration": 5,
    "start_time": "2023-03-18T12:08:56.981Z"
   },
   {
    "duration": 17,
    "start_time": "2023-03-18T12:08:56.987Z"
   },
   {
    "duration": 17,
    "start_time": "2023-03-18T12:08:57.006Z"
   },
   {
    "duration": 20,
    "start_time": "2023-03-18T12:08:57.025Z"
   },
   {
    "duration": 3,
    "start_time": "2023-03-18T12:08:57.046Z"
   },
   {
    "duration": 14,
    "start_time": "2023-03-18T12:08:57.051Z"
   },
   {
    "duration": 6,
    "start_time": "2023-03-18T12:08:57.066Z"
   },
   {
    "duration": 117,
    "start_time": "2023-03-18T12:08:57.074Z"
   },
   {
    "duration": 0,
    "start_time": "2023-03-18T12:08:57.193Z"
   },
   {
    "duration": 0,
    "start_time": "2023-03-18T12:08:57.194Z"
   },
   {
    "duration": 0,
    "start_time": "2023-03-18T12:08:57.195Z"
   },
   {
    "duration": 0,
    "start_time": "2023-03-18T12:08:57.197Z"
   },
   {
    "duration": 0,
    "start_time": "2023-03-18T12:08:57.198Z"
   },
   {
    "duration": 0,
    "start_time": "2023-03-18T12:08:57.199Z"
   },
   {
    "duration": 0,
    "start_time": "2023-03-18T12:08:57.200Z"
   },
   {
    "duration": 0,
    "start_time": "2023-03-18T12:08:57.201Z"
   },
   {
    "duration": 0,
    "start_time": "2023-03-18T12:08:57.202Z"
   },
   {
    "duration": 0,
    "start_time": "2023-03-18T12:08:57.203Z"
   },
   {
    "duration": 0,
    "start_time": "2023-03-18T12:08:57.204Z"
   },
   {
    "duration": 0,
    "start_time": "2023-03-18T12:08:57.205Z"
   },
   {
    "duration": 329,
    "start_time": "2023-03-18T12:09:34.666Z"
   },
   {
    "duration": 248,
    "start_time": "2023-03-18T12:09:55.816Z"
   },
   {
    "duration": 307,
    "start_time": "2023-03-18T12:10:11.580Z"
   },
   {
    "duration": 248,
    "start_time": "2023-03-18T12:10:24.655Z"
   },
   {
    "duration": 244,
    "start_time": "2023-03-18T12:11:28.224Z"
   },
   {
    "duration": 16,
    "start_time": "2023-03-18T12:12:00.056Z"
   },
   {
    "duration": 20,
    "start_time": "2023-03-18T12:12:00.415Z"
   },
   {
    "duration": 21,
    "start_time": "2023-03-18T12:12:00.719Z"
   },
   {
    "duration": 23,
    "start_time": "2023-03-18T12:12:01.278Z"
   },
   {
    "duration": 16,
    "start_time": "2023-03-18T12:12:01.611Z"
   },
   {
    "duration": 15,
    "start_time": "2023-03-18T12:12:01.923Z"
   },
   {
    "duration": 3,
    "start_time": "2023-03-18T12:12:03.558Z"
   },
   {
    "duration": 6,
    "start_time": "2023-03-18T12:12:03.730Z"
   },
   {
    "duration": 6,
    "start_time": "2023-03-18T12:12:03.886Z"
   },
   {
    "duration": 7,
    "start_time": "2023-03-18T12:12:04.781Z"
   },
   {
    "duration": 7,
    "start_time": "2023-03-18T12:12:04.949Z"
   },
   {
    "duration": 47,
    "start_time": "2023-03-18T12:22:52.855Z"
   },
   {
    "duration": 1059,
    "start_time": "2023-03-18T12:22:56.723Z"
   },
   {
    "duration": 21,
    "start_time": "2023-03-18T12:22:57.785Z"
   },
   {
    "duration": 55,
    "start_time": "2023-03-18T12:22:57.808Z"
   },
   {
    "duration": 21,
    "start_time": "2023-03-18T12:22:57.866Z"
   },
   {
    "duration": 18,
    "start_time": "2023-03-18T12:22:57.889Z"
   },
   {
    "duration": 1299,
    "start_time": "2023-03-18T12:22:57.909Z"
   },
   {
    "duration": 12,
    "start_time": "2023-03-18T12:22:59.210Z"
   },
   {
    "duration": 89,
    "start_time": "2023-03-18T12:22:59.224Z"
   },
   {
    "duration": 16,
    "start_time": "2023-03-18T12:22:59.315Z"
   },
   {
    "duration": 8,
    "start_time": "2023-03-18T12:22:59.335Z"
   },
   {
    "duration": 48,
    "start_time": "2023-03-18T12:22:59.345Z"
   },
   {
    "duration": 9,
    "start_time": "2023-03-18T12:22:59.395Z"
   },
   {
    "duration": 23,
    "start_time": "2023-03-18T12:22:59.406Z"
   },
   {
    "duration": 4,
    "start_time": "2023-03-18T12:22:59.462Z"
   },
   {
    "duration": 24,
    "start_time": "2023-03-18T12:22:59.468Z"
   },
   {
    "duration": 5,
    "start_time": "2023-03-18T12:22:59.494Z"
   },
   {
    "duration": 63,
    "start_time": "2023-03-18T12:22:59.501Z"
   },
   {
    "duration": 7,
    "start_time": "2023-03-18T12:22:59.566Z"
   },
   {
    "duration": 10,
    "start_time": "2023-03-18T12:22:59.574Z"
   },
   {
    "duration": 46,
    "start_time": "2023-03-18T12:22:59.587Z"
   },
   {
    "duration": 4,
    "start_time": "2023-03-18T12:22:59.635Z"
   },
   {
    "duration": 31,
    "start_time": "2023-03-18T12:22:59.641Z"
   },
   {
    "duration": 19,
    "start_time": "2023-03-18T12:22:59.673Z"
   },
   {
    "duration": 11,
    "start_time": "2023-03-18T12:22:59.693Z"
   },
   {
    "duration": 4,
    "start_time": "2023-03-18T12:22:59.706Z"
   },
   {
    "duration": 53,
    "start_time": "2023-03-18T12:22:59.712Z"
   },
   {
    "duration": 8,
    "start_time": "2023-03-18T12:22:59.768Z"
   },
   {
    "duration": 210,
    "start_time": "2023-03-18T12:22:59.783Z"
   },
   {
    "duration": 205,
    "start_time": "2023-03-18T12:22:59.995Z"
   },
   {
    "duration": 3,
    "start_time": "2023-03-18T12:23:00.202Z"
   },
   {
    "duration": 53,
    "start_time": "2023-03-18T12:23:00.208Z"
   },
   {
    "duration": 19,
    "start_time": "2023-03-18T12:23:00.263Z"
   },
   {
    "duration": 29,
    "start_time": "2023-03-18T12:23:00.284Z"
   },
   {
    "duration": 473,
    "start_time": "2023-03-18T12:23:00.316Z"
   },
   {
    "duration": 16,
    "start_time": "2023-03-18T12:23:00.791Z"
   },
   {
    "duration": 20,
    "start_time": "2023-03-18T12:23:00.809Z"
   },
   {
    "duration": 470,
    "start_time": "2023-03-18T12:23:00.831Z"
   },
   {
    "duration": 239,
    "start_time": "2023-03-18T12:23:01.303Z"
   },
   {
    "duration": 239,
    "start_time": "2023-03-18T12:23:01.545Z"
   },
   {
    "duration": 141,
    "start_time": "2023-03-18T12:23:01.788Z"
   },
   {
    "duration": 118,
    "start_time": "2023-03-18T12:23:01.931Z"
   },
   {
    "duration": 142,
    "start_time": "2023-03-18T12:23:02.051Z"
   },
   {
    "duration": 8,
    "start_time": "2023-03-18T12:23:02.195Z"
   },
   {
    "duration": 217,
    "start_time": "2023-03-18T12:23:02.205Z"
   },
   {
    "duration": 5,
    "start_time": "2023-03-18T12:23:02.425Z"
   },
   {
    "duration": 214,
    "start_time": "2023-03-18T12:23:02.432Z"
   },
   {
    "duration": 13,
    "start_time": "2023-03-18T12:23:02.648Z"
   },
   {
    "duration": 7,
    "start_time": "2023-03-18T12:23:02.664Z"
   },
   {
    "duration": 260,
    "start_time": "2023-03-18T12:23:02.673Z"
   },
   {
    "duration": 229,
    "start_time": "2023-03-18T12:23:02.935Z"
   },
   {
    "duration": 8,
    "start_time": "2023-03-18T12:23:03.166Z"
   },
   {
    "duration": 203,
    "start_time": "2023-03-18T12:23:03.176Z"
   },
   {
    "duration": 9,
    "start_time": "2023-03-18T12:23:03.381Z"
   },
   {
    "duration": 751,
    "start_time": "2023-03-18T12:23:03.392Z"
   },
   {
    "duration": 18,
    "start_time": "2023-03-18T12:23:04.146Z"
   },
   {
    "duration": 24,
    "start_time": "2023-03-18T12:23:04.167Z"
   },
   {
    "duration": 3,
    "start_time": "2023-03-18T12:23:04.193Z"
   },
   {
    "duration": 30,
    "start_time": "2023-03-18T12:23:04.199Z"
   },
   {
    "duration": 4,
    "start_time": "2023-03-18T12:23:04.231Z"
   },
   {
    "duration": 44,
    "start_time": "2023-03-18T12:23:04.237Z"
   },
   {
    "duration": 3,
    "start_time": "2023-03-18T12:23:04.284Z"
   },
   {
    "duration": 443,
    "start_time": "2023-03-18T12:23:04.289Z"
   },
   {
    "duration": 522,
    "start_time": "2023-03-18T12:23:04.734Z"
   },
   {
    "duration": 0,
    "start_time": "2023-03-18T12:23:05.263Z"
   },
   {
    "duration": 0,
    "start_time": "2023-03-18T12:23:05.266Z"
   },
   {
    "duration": 0,
    "start_time": "2023-03-18T12:23:05.267Z"
   },
   {
    "duration": 0,
    "start_time": "2023-03-18T12:23:05.270Z"
   },
   {
    "duration": 0,
    "start_time": "2023-03-18T12:23:05.272Z"
   },
   {
    "duration": 0,
    "start_time": "2023-03-18T12:23:05.274Z"
   },
   {
    "duration": 0,
    "start_time": "2023-03-18T12:23:05.275Z"
   },
   {
    "duration": 0,
    "start_time": "2023-03-18T12:23:05.277Z"
   },
   {
    "duration": 0,
    "start_time": "2023-03-18T12:23:05.278Z"
   },
   {
    "duration": 0,
    "start_time": "2023-03-18T12:23:05.281Z"
   },
   {
    "duration": 0,
    "start_time": "2023-03-18T12:23:05.283Z"
   },
   {
    "duration": 248,
    "start_time": "2023-03-18T12:24:07.579Z"
   },
   {
    "duration": 170,
    "start_time": "2023-03-18T12:24:23.321Z"
   },
   {
    "duration": 161,
    "start_time": "2023-03-18T12:24:36.153Z"
   },
   {
    "duration": 208,
    "start_time": "2023-03-18T12:25:01.098Z"
   },
   {
    "duration": 1089,
    "start_time": "2023-03-20T05:46:29.742Z"
   },
   {
    "duration": 16,
    "start_time": "2023-03-20T05:46:30.833Z"
   },
   {
    "duration": 53,
    "start_time": "2023-03-20T05:46:30.851Z"
   },
   {
    "duration": 16,
    "start_time": "2023-03-20T05:46:30.906Z"
   },
   {
    "duration": 44,
    "start_time": "2023-03-20T05:46:30.923Z"
   },
   {
    "duration": 1276,
    "start_time": "2023-03-20T05:46:30.969Z"
   },
   {
    "duration": 29,
    "start_time": "2023-03-20T05:46:32.247Z"
   },
   {
    "duration": 99,
    "start_time": "2023-03-20T05:46:32.278Z"
   },
   {
    "duration": 22,
    "start_time": "2023-03-20T05:46:32.381Z"
   },
   {
    "duration": 10,
    "start_time": "2023-03-20T05:46:32.405Z"
   },
   {
    "duration": 23,
    "start_time": "2023-03-20T05:46:32.417Z"
   },
   {
    "duration": 34,
    "start_time": "2023-03-20T05:46:32.442Z"
   },
   {
    "duration": 25,
    "start_time": "2023-03-20T05:46:32.479Z"
   },
   {
    "duration": 5,
    "start_time": "2023-03-20T05:46:32.507Z"
   },
   {
    "duration": 63,
    "start_time": "2023-03-20T05:46:32.514Z"
   },
   {
    "duration": 8,
    "start_time": "2023-03-20T05:46:32.579Z"
   },
   {
    "duration": 38,
    "start_time": "2023-03-20T05:46:32.589Z"
   },
   {
    "duration": 20,
    "start_time": "2023-03-20T05:46:32.629Z"
   },
   {
    "duration": 20,
    "start_time": "2023-03-20T05:46:32.651Z"
   },
   {
    "duration": 27,
    "start_time": "2023-03-20T05:46:32.673Z"
   },
   {
    "duration": 5,
    "start_time": "2023-03-20T05:46:32.705Z"
   },
   {
    "duration": 16,
    "start_time": "2023-03-20T05:46:32.712Z"
   },
   {
    "duration": 15,
    "start_time": "2023-03-20T05:46:32.729Z"
   },
   {
    "duration": 33,
    "start_time": "2023-03-20T05:46:32.746Z"
   },
   {
    "duration": 3,
    "start_time": "2023-03-20T05:46:32.781Z"
   },
   {
    "duration": 26,
    "start_time": "2023-03-20T05:46:32.786Z"
   },
   {
    "duration": 35,
    "start_time": "2023-03-20T05:46:32.814Z"
   },
   {
    "duration": 172,
    "start_time": "2023-03-20T05:46:32.851Z"
   },
   {
    "duration": 176,
    "start_time": "2023-03-20T05:46:33.025Z"
   },
   {
    "duration": 2,
    "start_time": "2023-03-20T05:46:33.203Z"
   },
   {
    "duration": 29,
    "start_time": "2023-03-20T05:46:33.207Z"
   },
   {
    "duration": 37,
    "start_time": "2023-03-20T05:46:33.238Z"
   },
   {
    "duration": 11,
    "start_time": "2023-03-20T05:46:33.277Z"
   },
   {
    "duration": 525,
    "start_time": "2023-03-20T05:46:33.289Z"
   },
   {
    "duration": 15,
    "start_time": "2023-03-20T05:46:33.816Z"
   },
   {
    "duration": 4,
    "start_time": "2023-03-20T05:46:33.834Z"
   },
   {
    "duration": 390,
    "start_time": "2023-03-20T05:46:33.840Z"
   },
   {
    "duration": 203,
    "start_time": "2023-03-20T05:46:34.232Z"
   },
   {
    "duration": 224,
    "start_time": "2023-03-20T05:46:34.437Z"
   },
   {
    "duration": 128,
    "start_time": "2023-03-20T05:46:34.664Z"
   },
   {
    "duration": 182,
    "start_time": "2023-03-20T05:46:34.794Z"
   },
   {
    "duration": 134,
    "start_time": "2023-03-20T05:46:34.979Z"
   },
   {
    "duration": 8,
    "start_time": "2023-03-20T05:46:35.115Z"
   },
   {
    "duration": 218,
    "start_time": "2023-03-20T05:46:35.124Z"
   },
   {
    "duration": 7,
    "start_time": "2023-03-20T05:46:35.345Z"
   },
   {
    "duration": 191,
    "start_time": "2023-03-20T05:46:35.354Z"
   },
   {
    "duration": 7,
    "start_time": "2023-03-20T05:46:35.547Z"
   },
   {
    "duration": 32,
    "start_time": "2023-03-20T05:46:35.556Z"
   },
   {
    "duration": 227,
    "start_time": "2023-03-20T05:46:35.591Z"
   },
   {
    "duration": 226,
    "start_time": "2023-03-20T05:46:35.820Z"
   },
   {
    "duration": 6,
    "start_time": "2023-03-20T05:46:36.048Z"
   },
   {
    "duration": 200,
    "start_time": "2023-03-20T05:46:36.073Z"
   },
   {
    "duration": 6,
    "start_time": "2023-03-20T05:46:36.275Z"
   },
   {
    "duration": 566,
    "start_time": "2023-03-20T05:46:36.283Z"
   },
   {
    "duration": 6,
    "start_time": "2023-03-20T05:46:36.851Z"
   },
   {
    "duration": 32,
    "start_time": "2023-03-20T05:46:36.859Z"
   },
   {
    "duration": 2,
    "start_time": "2023-03-20T05:46:36.899Z"
   },
   {
    "duration": 22,
    "start_time": "2023-03-20T05:46:36.903Z"
   },
   {
    "duration": 4,
    "start_time": "2023-03-20T05:46:36.927Z"
   },
   {
    "duration": 53,
    "start_time": "2023-03-20T05:46:36.933Z"
   },
   {
    "duration": 3,
    "start_time": "2023-03-20T05:46:36.988Z"
   },
   {
    "duration": 429,
    "start_time": "2023-03-20T05:46:36.992Z"
   },
   {
    "duration": 19,
    "start_time": "2023-03-20T05:46:37.424Z"
   },
   {
    "duration": 34,
    "start_time": "2023-03-20T05:46:37.445Z"
   },
   {
    "duration": 30,
    "start_time": "2023-03-20T05:46:37.481Z"
   },
   {
    "duration": 23,
    "start_time": "2023-03-20T05:46:37.514Z"
   },
   {
    "duration": 23,
    "start_time": "2023-03-20T05:46:37.539Z"
   },
   {
    "duration": 44,
    "start_time": "2023-03-20T05:46:37.563Z"
   },
   {
    "duration": 13,
    "start_time": "2023-03-20T05:46:37.609Z"
   },
   {
    "duration": 111,
    "start_time": "2023-03-20T05:46:37.624Z"
   },
   {
    "duration": 10,
    "start_time": "2023-03-20T05:46:37.737Z"
   },
   {
    "duration": 11,
    "start_time": "2023-03-20T05:46:37.748Z"
   },
   {
    "duration": 18,
    "start_time": "2023-03-20T05:46:37.761Z"
   },
   {
    "duration": 194,
    "start_time": "2023-03-20T05:48:32.648Z"
   },
   {
    "duration": 795,
    "start_time": "2023-06-11T16:04:40.983Z"
   },
   {
    "duration": 17,
    "start_time": "2023-06-11T16:04:41.779Z"
   },
   {
    "duration": 90,
    "start_time": "2023-06-11T16:04:41.798Z"
   },
   {
    "duration": 13,
    "start_time": "2023-06-11T16:04:41.889Z"
   },
   {
    "duration": 40,
    "start_time": "2023-06-11T16:04:41.905Z"
   },
   {
    "duration": 1072,
    "start_time": "2023-06-11T16:04:41.947Z"
   },
   {
    "duration": 24,
    "start_time": "2023-06-11T16:04:43.021Z"
   },
   {
    "duration": 64,
    "start_time": "2023-06-11T16:04:43.046Z"
   },
   {
    "duration": 38,
    "start_time": "2023-06-11T16:04:43.111Z"
   },
   {
    "duration": 9,
    "start_time": "2023-06-11T16:04:43.158Z"
   },
   {
    "duration": 21,
    "start_time": "2023-06-11T16:04:43.169Z"
   },
   {
    "duration": 18,
    "start_time": "2023-06-11T16:04:43.192Z"
   },
   {
    "duration": 61,
    "start_time": "2023-06-11T16:04:43.211Z"
   },
   {
    "duration": 3,
    "start_time": "2023-06-11T16:04:43.275Z"
   },
   {
    "duration": 22,
    "start_time": "2023-06-11T16:04:43.280Z"
   },
   {
    "duration": 4,
    "start_time": "2023-06-11T16:04:43.303Z"
   },
   {
    "duration": 37,
    "start_time": "2023-06-11T16:04:43.308Z"
   },
   {
    "duration": 23,
    "start_time": "2023-06-11T16:04:43.346Z"
   },
   {
    "duration": 9,
    "start_time": "2023-06-11T16:04:43.370Z"
   },
   {
    "duration": 52,
    "start_time": "2023-06-11T16:04:43.381Z"
   },
   {
    "duration": 16,
    "start_time": "2023-06-11T16:04:43.445Z"
   },
   {
    "duration": 13,
    "start_time": "2023-06-11T16:04:43.465Z"
   },
   {
    "duration": 12,
    "start_time": "2023-06-11T16:04:43.479Z"
   },
   {
    "duration": 7,
    "start_time": "2023-06-11T16:04:43.492Z"
   },
   {
    "duration": 60,
    "start_time": "2023-06-11T16:04:43.500Z"
   },
   {
    "duration": 17,
    "start_time": "2023-06-11T16:04:43.562Z"
   },
   {
    "duration": 5,
    "start_time": "2023-06-11T16:04:43.580Z"
   },
   {
    "duration": 161,
    "start_time": "2023-06-11T16:04:43.586Z"
   },
   {
    "duration": 154,
    "start_time": "2023-06-11T16:04:43.754Z"
   },
   {
    "duration": 2,
    "start_time": "2023-06-11T16:04:43.910Z"
   },
   {
    "duration": 64,
    "start_time": "2023-06-11T16:04:43.914Z"
   },
   {
    "duration": 16,
    "start_time": "2023-06-11T16:04:43.980Z"
   },
   {
    "duration": 7,
    "start_time": "2023-06-11T16:04:43.997Z"
   },
   {
    "duration": 456,
    "start_time": "2023-06-11T16:04:44.006Z"
   },
   {
    "duration": 10,
    "start_time": "2023-06-11T16:04:44.464Z"
   },
   {
    "duration": 4,
    "start_time": "2023-06-11T16:04:44.476Z"
   },
   {
    "duration": 329,
    "start_time": "2023-06-11T16:04:44.481Z"
   },
   {
    "duration": 225,
    "start_time": "2023-06-11T16:04:44.812Z"
   },
   {
    "duration": 164,
    "start_time": "2023-06-11T16:04:45.045Z"
   },
   {
    "duration": 121,
    "start_time": "2023-06-11T16:04:45.211Z"
   },
   {
    "duration": 125,
    "start_time": "2023-06-11T16:04:45.336Z"
   },
   {
    "duration": 96,
    "start_time": "2023-06-11T16:04:45.466Z"
   },
   {
    "duration": 6,
    "start_time": "2023-06-11T16:04:45.564Z"
   },
   {
    "duration": 190,
    "start_time": "2023-06-11T16:04:45.571Z"
   },
   {
    "duration": 6,
    "start_time": "2023-06-11T16:04:45.771Z"
   },
   {
    "duration": 267,
    "start_time": "2023-06-11T16:04:45.778Z"
   },
   {
    "duration": 11,
    "start_time": "2023-06-11T16:04:46.046Z"
   },
   {
    "duration": 39,
    "start_time": "2023-06-11T16:04:46.058Z"
   },
   {
    "duration": 234,
    "start_time": "2023-06-11T16:04:46.100Z"
   },
   {
    "duration": 195,
    "start_time": "2023-06-11T16:04:46.349Z"
   },
   {
    "duration": 8,
    "start_time": "2023-06-11T16:04:46.554Z"
   },
   {
    "duration": 197,
    "start_time": "2023-06-11T16:04:46.564Z"
   },
   {
    "duration": 9,
    "start_time": "2023-06-11T16:04:46.762Z"
   },
   {
    "duration": 569,
    "start_time": "2023-06-11T16:04:46.773Z"
   },
   {
    "duration": 913,
    "start_time": "2023-06-11T16:04:47.356Z"
   },
   {
    "duration": 5,
    "start_time": "2023-06-11T16:04:48.270Z"
   },
   {
    "duration": 17,
    "start_time": "2023-06-11T16:04:48.276Z"
   },
   {
    "duration": 6,
    "start_time": "2023-06-11T16:04:48.295Z"
   },
   {
    "duration": 27,
    "start_time": "2023-06-11T16:04:48.302Z"
   },
   {
    "duration": 271,
    "start_time": "2023-06-11T16:04:48.330Z"
   },
   {
    "duration": 53,
    "start_time": "2023-06-11T16:04:48.604Z"
   },
   {
    "duration": 8,
    "start_time": "2023-06-11T16:04:48.662Z"
   },
   {
    "duration": 260,
    "start_time": "2023-06-11T16:04:48.671Z"
   },
   {
    "duration": 29,
    "start_time": "2023-06-11T16:04:48.938Z"
   },
   {
    "duration": 16,
    "start_time": "2023-06-11T16:04:48.969Z"
   },
   {
    "duration": 20,
    "start_time": "2023-06-11T16:04:48.986Z"
   },
   {
    "duration": 40,
    "start_time": "2023-06-11T16:04:49.008Z"
   },
   {
    "duration": 29,
    "start_time": "2023-06-11T16:04:49.049Z"
   },
   {
    "duration": 14,
    "start_time": "2023-06-11T16:04:49.080Z"
   },
   {
    "duration": 6,
    "start_time": "2023-06-11T16:04:49.096Z"
   },
   {
    "duration": 27,
    "start_time": "2023-06-11T16:04:49.103Z"
   },
   {
    "duration": 37,
    "start_time": "2023-06-11T16:04:49.138Z"
   },
   {
    "duration": 10,
    "start_time": "2023-06-11T16:04:49.177Z"
   },
   {
    "duration": 13,
    "start_time": "2023-06-11T16:04:49.188Z"
   },
   {
    "duration": 62,
    "start_time": "2023-07-26T14:57:21.383Z"
   },
   {
    "duration": 765,
    "start_time": "2023-07-26T14:57:24.329Z"
   },
   {
    "duration": 26,
    "start_time": "2023-07-26T14:57:25.095Z"
   },
   {
    "duration": 41,
    "start_time": "2023-07-26T14:57:25.122Z"
   },
   {
    "duration": 12,
    "start_time": "2023-07-26T14:57:25.164Z"
   },
   {
    "duration": 36,
    "start_time": "2023-07-26T14:57:25.178Z"
   },
   {
    "duration": 1071,
    "start_time": "2023-07-26T14:57:25.215Z"
   },
   {
    "duration": 25,
    "start_time": "2023-07-26T14:57:26.288Z"
   },
   {
    "duration": 71,
    "start_time": "2023-07-26T14:57:26.314Z"
   },
   {
    "duration": 18,
    "start_time": "2023-07-26T14:57:26.387Z"
   },
   {
    "duration": 33,
    "start_time": "2023-07-26T14:57:26.409Z"
   },
   {
    "duration": 19,
    "start_time": "2023-07-26T14:57:26.443Z"
   },
   {
    "duration": 15,
    "start_time": "2023-07-26T14:57:26.463Z"
   },
   {
    "duration": 38,
    "start_time": "2023-07-26T14:57:26.480Z"
   },
   {
    "duration": 3,
    "start_time": "2023-07-26T14:57:26.527Z"
   },
   {
    "duration": 29,
    "start_time": "2023-07-26T14:57:26.532Z"
   },
   {
    "duration": 4,
    "start_time": "2023-07-26T14:57:26.563Z"
   },
   {
    "duration": 29,
    "start_time": "2023-07-26T14:57:26.568Z"
   },
   {
    "duration": 29,
    "start_time": "2023-07-26T14:57:26.599Z"
   },
   {
    "duration": 12,
    "start_time": "2023-07-26T14:57:26.629Z"
   },
   {
    "duration": 25,
    "start_time": "2023-07-26T14:57:26.643Z"
   },
   {
    "duration": 4,
    "start_time": "2023-07-26T14:57:26.670Z"
   },
   {
    "duration": 11,
    "start_time": "2023-07-26T14:57:26.675Z"
   },
   {
    "duration": 21,
    "start_time": "2023-07-26T14:57:26.688Z"
   },
   {
    "duration": 26,
    "start_time": "2023-07-26T14:57:26.710Z"
   },
   {
    "duration": 4,
    "start_time": "2023-07-26T14:57:26.737Z"
   },
   {
    "duration": 17,
    "start_time": "2023-07-26T14:57:26.742Z"
   },
   {
    "duration": 6,
    "start_time": "2023-07-26T14:57:26.760Z"
   },
   {
    "duration": 146,
    "start_time": "2023-07-26T14:57:26.767Z"
   },
   {
    "duration": 139,
    "start_time": "2023-07-26T14:57:26.914Z"
   },
   {
    "duration": 2,
    "start_time": "2023-07-26T14:57:27.055Z"
   },
   {
    "duration": 30,
    "start_time": "2023-07-26T14:57:27.059Z"
   },
   {
    "duration": 34,
    "start_time": "2023-07-26T14:57:27.091Z"
   },
   {
    "duration": 27,
    "start_time": "2023-07-26T14:57:27.154Z"
   },
   {
    "duration": 1195,
    "start_time": "2023-09-08T05:17:53.230Z"
   },
   {
    "duration": 25,
    "start_time": "2023-09-08T05:17:54.429Z"
   },
   {
    "duration": 48,
    "start_time": "2023-09-08T05:17:54.456Z"
   },
   {
    "duration": 22,
    "start_time": "2023-09-08T05:17:54.506Z"
   },
   {
    "duration": 49,
    "start_time": "2023-09-08T05:17:54.530Z"
   },
   {
    "duration": 1381,
    "start_time": "2023-09-08T05:17:54.581Z"
   },
   {
    "duration": 15,
    "start_time": "2023-09-08T05:17:55.965Z"
   },
   {
    "duration": 88,
    "start_time": "2023-09-08T05:17:55.981Z"
   },
   {
    "duration": 15,
    "start_time": "2023-09-08T05:17:56.075Z"
   },
   {
    "duration": 13,
    "start_time": "2023-09-08T05:17:56.095Z"
   },
   {
    "duration": 58,
    "start_time": "2023-09-08T05:17:56.110Z"
   },
   {
    "duration": 9,
    "start_time": "2023-09-08T05:17:56.170Z"
   },
   {
    "duration": 44,
    "start_time": "2023-09-08T05:17:56.181Z"
   },
   {
    "duration": 20,
    "start_time": "2023-09-08T05:17:56.228Z"
   },
   {
    "duration": 27,
    "start_time": "2023-09-08T05:17:56.251Z"
   },
   {
    "duration": 5,
    "start_time": "2023-09-08T05:17:56.280Z"
   },
   {
    "duration": 42,
    "start_time": "2023-09-08T05:17:56.286Z"
   },
   {
    "duration": 25,
    "start_time": "2023-09-08T05:17:56.330Z"
   },
   {
    "duration": 7,
    "start_time": "2023-09-08T05:17:56.358Z"
   },
   {
    "duration": 25,
    "start_time": "2023-09-08T05:17:56.368Z"
   },
   {
    "duration": 5,
    "start_time": "2023-09-08T05:17:56.395Z"
   },
   {
    "duration": 31,
    "start_time": "2023-09-08T05:17:56.401Z"
   },
   {
    "duration": 21,
    "start_time": "2023-09-08T05:17:56.434Z"
   },
   {
    "duration": 13,
    "start_time": "2023-09-08T05:17:56.458Z"
   },
   {
    "duration": 3,
    "start_time": "2023-09-08T05:17:56.473Z"
   },
   {
    "duration": 18,
    "start_time": "2023-09-08T05:17:56.478Z"
   },
   {
    "duration": 6,
    "start_time": "2023-09-08T05:17:56.497Z"
   },
   {
    "duration": 193,
    "start_time": "2023-09-08T05:17:56.509Z"
   },
   {
    "duration": 187,
    "start_time": "2023-09-08T05:17:56.703Z"
   },
   {
    "duration": 3,
    "start_time": "2023-09-08T05:17:56.892Z"
   },
   {
    "duration": 20,
    "start_time": "2023-09-08T05:17:56.897Z"
   },
   {
    "duration": 34,
    "start_time": "2023-09-08T05:17:56.919Z"
   },
   {
    "duration": 25,
    "start_time": "2023-09-08T05:17:56.956Z"
   },
   {
    "duration": 502,
    "start_time": "2023-09-08T05:17:56.982Z"
   },
   {
    "duration": 13,
    "start_time": "2023-09-08T05:17:57.485Z"
   },
   {
    "duration": 3,
    "start_time": "2023-09-08T05:17:57.500Z"
   },
   {
    "duration": 388,
    "start_time": "2023-09-08T05:17:57.505Z"
   },
   {
    "duration": 232,
    "start_time": "2023-09-08T05:17:57.895Z"
   },
   {
    "duration": 232,
    "start_time": "2023-09-08T05:17:58.129Z"
   },
   {
    "duration": 139,
    "start_time": "2023-09-08T05:17:58.362Z"
   },
   {
    "duration": 132,
    "start_time": "2023-09-08T05:17:58.503Z"
   },
   {
    "duration": 137,
    "start_time": "2023-09-08T05:17:58.647Z"
   },
   {
    "duration": 8,
    "start_time": "2023-09-08T05:17:58.785Z"
   },
   {
    "duration": 195,
    "start_time": "2023-09-08T05:17:58.794Z"
   },
   {
    "duration": 6,
    "start_time": "2023-09-08T05:17:58.991Z"
   },
   {
    "duration": 222,
    "start_time": "2023-09-08T05:17:58.999Z"
   },
   {
    "duration": 5,
    "start_time": "2023-09-08T05:17:59.222Z"
   },
   {
    "duration": 17,
    "start_time": "2023-09-08T05:17:59.229Z"
   },
   {
    "duration": 229,
    "start_time": "2023-09-08T05:17:59.248Z"
   },
   {
    "duration": 235,
    "start_time": "2023-09-08T05:17:59.479Z"
   },
   {
    "duration": 5,
    "start_time": "2023-09-08T05:17:59.715Z"
   },
   {
    "duration": 219,
    "start_time": "2023-09-08T05:17:59.722Z"
   },
   {
    "duration": 21,
    "start_time": "2023-09-08T05:17:59.942Z"
   },
   {
    "duration": 625,
    "start_time": "2023-09-08T05:17:59.966Z"
   },
   {
    "duration": 1154,
    "start_time": "2023-09-08T05:18:00.593Z"
   },
   {
    "duration": 13,
    "start_time": "2023-09-08T05:18:01.749Z"
   },
   {
    "duration": 49,
    "start_time": "2023-09-08T05:18:01.765Z"
   },
   {
    "duration": 52,
    "start_time": "2023-09-08T05:18:01.816Z"
   },
   {
    "duration": 52,
    "start_time": "2023-09-08T05:18:01.871Z"
   },
   {
    "duration": 317,
    "start_time": "2023-09-08T05:18:01.925Z"
   },
   {
    "duration": 25,
    "start_time": "2023-09-08T05:18:02.252Z"
   },
   {
    "duration": 21,
    "start_time": "2023-09-08T05:18:02.278Z"
   },
   {
    "duration": 325,
    "start_time": "2023-09-08T05:18:02.301Z"
   },
   {
    "duration": 25,
    "start_time": "2023-09-08T05:18:02.628Z"
   },
   {
    "duration": 61,
    "start_time": "2023-09-08T05:18:02.655Z"
   },
   {
    "duration": 236,
    "start_time": "2023-09-08T05:18:02.717Z"
   },
   {
    "duration": 36,
    "start_time": "2023-09-08T05:18:02.955Z"
   },
   {
    "duration": 24,
    "start_time": "2023-09-08T05:18:02.993Z"
   },
   {
    "duration": 17,
    "start_time": "2023-09-08T05:18:03.018Z"
   },
   {
    "duration": 13,
    "start_time": "2023-09-08T05:18:03.037Z"
   },
   {
    "duration": 18,
    "start_time": "2023-09-08T05:18:03.054Z"
   },
   {
    "duration": 13,
    "start_time": "2023-09-08T05:18:03.075Z"
   },
   {
    "duration": 10,
    "start_time": "2023-09-08T05:18:03.090Z"
   },
   {
    "duration": 17,
    "start_time": "2023-09-08T05:18:03.102Z"
   }
  ],
  "kernelspec": {
   "display_name": "Python 3 (ipykernel)",
   "language": "python",
   "name": "python3"
  },
  "language_info": {
   "codemirror_mode": {
    "name": "ipython",
    "version": 3
   },
   "file_extension": ".py",
   "mimetype": "text/x-python",
   "name": "python",
   "nbconvert_exporter": "python",
   "pygments_lexer": "ipython3",
   "version": "3.10.9"
  },
  "toc": {
   "base_numbering": 1,
   "nav_menu": {},
   "number_sections": true,
   "sideBar": true,
   "skip_h1_title": true,
   "title_cell": "Table of Contents",
   "title_sidebar": "Contents",
   "toc_cell": false,
   "toc_position": {},
   "toc_section_display": true,
   "toc_window_display": false
  }
 },
 "nbformat": 4,
 "nbformat_minor": 2
}
